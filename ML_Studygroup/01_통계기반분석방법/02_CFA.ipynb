{
 "cells": [
  {
   "cell_type": "code",
   "execution_count": 1,
   "metadata": {},
   "outputs": [],
   "source": [
    "import pandas as pd\n",
    "import pca\n",
    "import numpy as np\n",
    "D=pd.read_excel(\"https://data.hossam.kr/E04/diamonds.xlsx\")\n",
    "data=pd.DataFrame(D)\n",
    "clarity_rank='FL>IF>VVS1>VVS2>VS1>VS2>SI1>SI2>I1>I2>I3'\n",
    "clarity_rank=clarity_rank.split(\">\")\n",
    "clarity_rank={y:len(clarity_rank)-x for x,y in enumerate(clarity_rank)}\n",
    "numeric=['carat','x','y','z','depth','table']\n",
    "target=\"price\"\n",
    "category={'cut',\"clarity\",'color'}"
   ]
  },
  {
   "cell_type": "markdown",
   "metadata": {},
   "source": [
    "# CFA(Common factor analysis)"
   ]
  },
  {
   "cell_type": "markdown",
   "metadata": {},
   "source": [
    "앞서 말했다시피 PCA와 CFA의 방법의 차이를 알아야한다.           "
   ]
  },
  {
   "cell_type": "markdown",
   "metadata": {},
   "source": [
    "|방법|사용분산|\n",
    "|--|--|\n",
    "|PCA|전체분산|\n",
    "|CFA|공통분산|"
   ]
  },
  {
   "cell_type": "markdown",
   "metadata": {},
   "source": [
    "위에서 PCA를 이용하기 전 전체 분산(즉 공분산행렬)을 이용했음을 인지하자"
   ]
  },
  {
   "cell_type": "markdown",
   "metadata": {},
   "source": [
    "## 아래의 방법은 책에서 깊게 설명하지 않았지만 참고하자."
   ]
  },
  {
   "cell_type": "markdown",
   "metadata": {},
   "source": [
    "* 1. Barlett test(바틀렛 검정)          \n",
    "사용목적 : 다음 행렬이 원하는 행력인지를 검정(공분산행렬이 diagonal matrix인지를 알고싶어함)            \n",
    "diagonal matrix의 의미는 설명하지 않아도 알겠지..?"
   ]
  },
  {
   "cell_type": "code",
   "execution_count": 2,
   "metadata": {},
   "outputs": [
    {
     "data": {
      "text/html": [
       "<div>\n",
       "<style scoped>\n",
       "    .dataframe tbody tr th:only-of-type {\n",
       "        vertical-align: middle;\n",
       "    }\n",
       "\n",
       "    .dataframe tbody tr th {\n",
       "        vertical-align: top;\n",
       "    }\n",
       "\n",
       "    .dataframe thead th {\n",
       "        text-align: right;\n",
       "    }\n",
       "</style>\n",
       "<table border=\"1\" class=\"dataframe\">\n",
       "  <thead>\n",
       "    <tr style=\"text-align: right;\">\n",
       "      <th></th>\n",
       "      <th>carat</th>\n",
       "      <th>x</th>\n",
       "      <th>y</th>\n",
       "      <th>z</th>\n",
       "      <th>depth</th>\n",
       "      <th>table</th>\n",
       "    </tr>\n",
       "  </thead>\n",
       "  <tbody>\n",
       "    <tr>\n",
       "      <th>carat</th>\n",
       "      <td>1.000000</td>\n",
       "      <td>0.975094</td>\n",
       "      <td>0.951722</td>\n",
       "      <td>0.953387</td>\n",
       "      <td>0.028224</td>\n",
       "      <td>0.181618</td>\n",
       "    </tr>\n",
       "    <tr>\n",
       "      <th>x</th>\n",
       "      <td>0.975094</td>\n",
       "      <td>1.000000</td>\n",
       "      <td>0.974701</td>\n",
       "      <td>0.970772</td>\n",
       "      <td>-0.025289</td>\n",
       "      <td>0.195344</td>\n",
       "    </tr>\n",
       "    <tr>\n",
       "      <th>y</th>\n",
       "      <td>0.951722</td>\n",
       "      <td>0.974701</td>\n",
       "      <td>1.000000</td>\n",
       "      <td>0.952006</td>\n",
       "      <td>-0.029341</td>\n",
       "      <td>0.183760</td>\n",
       "    </tr>\n",
       "    <tr>\n",
       "      <th>z</th>\n",
       "      <td>0.953387</td>\n",
       "      <td>0.970772</td>\n",
       "      <td>0.952006</td>\n",
       "      <td>1.000000</td>\n",
       "      <td>0.094924</td>\n",
       "      <td>0.150929</td>\n",
       "    </tr>\n",
       "    <tr>\n",
       "      <th>depth</th>\n",
       "      <td>0.028224</td>\n",
       "      <td>-0.025289</td>\n",
       "      <td>-0.029341</td>\n",
       "      <td>0.094924</td>\n",
       "      <td>1.000000</td>\n",
       "      <td>-0.295779</td>\n",
       "    </tr>\n",
       "    <tr>\n",
       "      <th>table</th>\n",
       "      <td>0.181618</td>\n",
       "      <td>0.195344</td>\n",
       "      <td>0.183760</td>\n",
       "      <td>0.150929</td>\n",
       "      <td>-0.295779</td>\n",
       "      <td>1.000000</td>\n",
       "    </tr>\n",
       "  </tbody>\n",
       "</table>\n",
       "</div>"
      ],
      "text/plain": [
       "          carat         x         y         z     depth     table\n",
       "carat  1.000000  0.975094  0.951722  0.953387  0.028224  0.181618\n",
       "x      0.975094  1.000000  0.974701  0.970772 -0.025289  0.195344\n",
       "y      0.951722  0.974701  1.000000  0.952006 -0.029341  0.183760\n",
       "z      0.953387  0.970772  0.952006  1.000000  0.094924  0.150929\n",
       "depth  0.028224 -0.025289 -0.029341  0.094924  1.000000 -0.295779\n",
       "table  0.181618  0.195344  0.183760  0.150929 -0.295779  1.000000"
      ]
     },
     "execution_count": 2,
     "metadata": {},
     "output_type": "execute_result"
    }
   ],
   "source": [
    "# PCA와 비교하며 보자\n",
    "numer_data=data[numeric]\n",
    "numer_data.corr()"
   ]
  },
  {
   "cell_type": "markdown",
   "metadata": {},
   "source": [
    "#### 여기서 Bartlett test를 이용한다고 설명하지만,\n",
    "확인결과 너무 의견이 갈리는 방법인듯 하다.(좋은 방법은 아니라는)            \n",
    "공분산 행렬이 diagonal matrix 임을 보이는건데.."
   ]
  },
  {
   "cell_type": "markdown",
   "metadata": {},
   "source": [
    "### KMO "
   ]
  },
  {
   "cell_type": "markdown",
   "metadata": {},
   "source": [
    "$KMO = \\frac{\\sum(Sum of the Squares of the Correlation Matrix Elements)}{\\sum(Sum of the Squares of the Correlation Matrix Elements) + \\sum(Sum of the Squares of the Anti-diagonal Elements of the Correlation Matrix)}$\n"
   ]
  },
  {
   "cell_type": "markdown",
   "metadata": {},
   "source": [
    "KMO의 수식은 무엇을 이야기해주는가?"
   ]
  },
  {
   "cell_type": "markdown",
   "metadata": {},
   "source": [
    "- diagoanl matrix가 분모에 추가되어있음"
   ]
  },
  {
   "cell_type": "code",
   "execution_count": 3,
   "metadata": {},
   "outputs": [],
   "source": [
    "# 상관계수행렬=공분산행렬\n",
    "corr_matrix=data[numeric].T@data[numeric]"
   ]
  },
  {
   "cell_type": "code",
   "execution_count": 5,
   "metadata": {},
   "outputs": [
    {
     "data": {
      "text/html": [
       "<div>\n",
       "<style scoped>\n",
       "    .dataframe tbody tr th:only-of-type {\n",
       "        vertical-align: middle;\n",
       "    }\n",
       "\n",
       "    .dataframe tbody tr th {\n",
       "        vertical-align: top;\n",
       "    }\n",
       "\n",
       "    .dataframe thead th {\n",
       "        text-align: right;\n",
       "    }\n",
       "</style>\n",
       "<table border=\"1\" class=\"dataframe\">\n",
       "  <thead>\n",
       "    <tr style=\"text-align: right;\">\n",
       "      <th></th>\n",
       "      <th>carat</th>\n",
       "      <th>x</th>\n",
       "      <th>y</th>\n",
       "      <th>z</th>\n",
       "      <th>depth</th>\n",
       "      <th>table</th>\n",
       "    </tr>\n",
       "  </thead>\n",
       "  <tbody>\n",
       "    <tr>\n",
       "      <th>carat</th>\n",
       "      <td>4.646339e+04</td>\n",
       "      <td>2.746405e+05</td>\n",
       "      <td>2.746109e+05</td>\n",
       "      <td>1.695122e+05</td>\n",
       "      <td>2.658782e+06</td>\n",
       "      <td>2.483383e+06</td>\n",
       "    </tr>\n",
       "    <tr>\n",
       "      <th>x</th>\n",
       "      <td>2.746405e+05</td>\n",
       "      <td>1.839596e+06</td>\n",
       "      <td>1.840122e+06</td>\n",
       "      <td>1.135411e+06</td>\n",
       "      <td>1.908693e+07</td>\n",
       "      <td>1.778865e+07</td>\n",
       "    </tr>\n",
       "    <tr>\n",
       "      <th>y</th>\n",
       "      <td>2.746109e+05</td>\n",
       "      <td>1.840122e+06</td>\n",
       "      <td>1.844167e+06</td>\n",
       "      <td>1.135991e+06</td>\n",
       "      <td>1.909776e+07</td>\n",
       "      <td>1.779797e+07</td>\n",
       "    </tr>\n",
       "    <tr>\n",
       "      <th>z</th>\n",
       "      <td>1.695122e+05</td>\n",
       "      <td>1.135411e+06</td>\n",
       "      <td>1.135991e+06</td>\n",
       "      <td>7.023332e+05</td>\n",
       "      <td>1.179186e+07</td>\n",
       "      <td>1.098022e+07</td>\n",
       "    </tr>\n",
       "    <tr>\n",
       "      <th>depth</th>\n",
       "      <td>2.658782e+06</td>\n",
       "      <td>1.908693e+07</td>\n",
       "      <td>1.909776e+07</td>\n",
       "      <td>1.179186e+07</td>\n",
       "      <td>2.057833e+08</td>\n",
       "      <td>1.913252e+08</td>\n",
       "    </tr>\n",
       "    <tr>\n",
       "      <th>table</th>\n",
       "      <td>2.483383e+06</td>\n",
       "      <td>1.778865e+07</td>\n",
       "      <td>1.779797e+07</td>\n",
       "      <td>1.098022e+07</td>\n",
       "      <td>1.913252e+08</td>\n",
       "      <td>1.783429e+08</td>\n",
       "    </tr>\n",
       "  </tbody>\n",
       "</table>\n",
       "</div>"
      ],
      "text/plain": [
       "              carat             x             y             z         depth  \\\n",
       "carat  4.646339e+04  2.746405e+05  2.746109e+05  1.695122e+05  2.658782e+06   \n",
       "x      2.746405e+05  1.839596e+06  1.840122e+06  1.135411e+06  1.908693e+07   \n",
       "y      2.746109e+05  1.840122e+06  1.844167e+06  1.135991e+06  1.909776e+07   \n",
       "z      1.695122e+05  1.135411e+06  1.135991e+06  7.023332e+05  1.179186e+07   \n",
       "depth  2.658782e+06  1.908693e+07  1.909776e+07  1.179186e+07  2.057833e+08   \n",
       "table  2.483383e+06  1.778865e+07  1.779797e+07  1.098022e+07  1.913252e+08   \n",
       "\n",
       "              table  \n",
       "carat  2.483383e+06  \n",
       "x      1.778865e+07  \n",
       "y      1.779797e+07  \n",
       "z      1.098022e+07  \n",
       "depth  1.913252e+08  \n",
       "table  1.783429e+08  "
      ]
     },
     "execution_count": 5,
     "metadata": {},
     "output_type": "execute_result"
    }
   ],
   "source": [
    "corr_matrix"
   ]
  },
  {
   "cell_type": "markdown",
   "metadata": {},
   "source": [
    "* 여기를 잘 참고해야하는데 부분상관계수를 구해야함"
   ]
  },
  {
   "cell_type": "code",
   "execution_count": 12,
   "metadata": {},
   "outputs": [],
   "source": [
    "import pingouin"
   ]
  },
  {
   "cell_type": "markdown",
   "metadata": {},
   "source": [
    "$$\n",
    "\\rho(X, Y|Z) = \\frac{\\rho(X, Y) - (\\rho(X, Z) \\cdot \\rho(Y, Z))}{\\sqrt{(1 - \\rho^2(X, Z))(1 - \\rho^2(Y, Z))}}\n",
    "\n",
    "$$\n"
   ]
  },
  {
   "cell_type": "code",
   "execution_count": 17,
   "metadata": {},
   "outputs": [],
   "source": [
    "# 위의 모듈을 통해 부분 상관계수를 구할 수있으나, vif 계산에서 충분히 설명가능하니 넘어가겠다.."
   ]
  },
  {
   "cell_type": "code",
   "execution_count": null,
   "metadata": {},
   "outputs": [],
   "source": []
  }
 ],
 "metadata": {
  "kernelspec": {
   "display_name": "Python 3",
   "language": "python",
   "name": "python3"
  },
  "language_info": {
   "codemirror_mode": {
    "name": "ipython",
    "version": 3
   },
   "file_extension": ".py",
   "mimetype": "text/x-python",
   "name": "python",
   "nbconvert_exporter": "python",
   "pygments_lexer": "ipython3",
   "version": "3.11.3"
  },
  "orig_nbformat": 4
 },
 "nbformat": 4,
 "nbformat_minor": 2
}
