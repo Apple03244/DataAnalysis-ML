{
 "cells": [
  {
   "cell_type": "markdown",
   "metadata": {},
   "source": [
    "# T-test 2sample"
   ]
  },
  {
   "cell_type": "markdown",
   "metadata": {},
   "source": [
    "두 개의 그룹을 비교한다는 것은 굉장히 어려운 일이다.            \n",
    "이유는 두 그룹의 분산이 같아야 정확한 결과를 유추할 수 있기 떄문이다"
   ]
  },
  {
   "cell_type": "code",
   "execution_count": 1,
   "metadata": {},
   "outputs": [],
   "source": [
    "import pandas as pd\n",
    "import pca\n",
    "import numpy as np\n",
    "D=pd.read_csv(\"C:/Users/SAMSUNG/Desktop/공부파일들/excel/kaggle/smoking_driking_dataset_Ver01.csv\")\n",
    "data=pd.DataFrame(D)"
   ]
  },
  {
   "cell_type": "markdown",
   "metadata": {},
   "source": [
    "### 샘플"
   ]
  },
  {
   "cell_type": "code",
   "execution_count": 2,
   "metadata": {},
   "outputs": [],
   "source": [
    "import sklearn.model_selection as skmod"
   ]
  },
  {
   "cell_type": "code",
   "execution_count": 3,
   "metadata": {},
   "outputs": [],
   "source": [
    "sample,_=skmod.train_test_split(data,train_size=100,random_state=10)"
   ]
  },
  {
   "cell_type": "code",
   "execution_count": 4,
   "metadata": {},
   "outputs": [],
   "source": [
    "import matplotlib.pyplot as plt\n",
    "import seaborn as sb"
   ]
  },
  {
   "cell_type": "code",
   "execution_count": 5,
   "metadata": {},
   "outputs": [
    {
     "data": {
      "text/html": [
       "<div>\n",
       "<style scoped>\n",
       "    .dataframe tbody tr th:only-of-type {\n",
       "        vertical-align: middle;\n",
       "    }\n",
       "\n",
       "    .dataframe tbody tr th {\n",
       "        vertical-align: top;\n",
       "    }\n",
       "\n",
       "    .dataframe thead th {\n",
       "        text-align: right;\n",
       "    }\n",
       "</style>\n",
       "<table border=\"1\" class=\"dataframe\">\n",
       "  <thead>\n",
       "    <tr style=\"text-align: right;\">\n",
       "      <th></th>\n",
       "      <th>age</th>\n",
       "      <th>height</th>\n",
       "      <th>weight</th>\n",
       "      <th>waistline</th>\n",
       "      <th>sight_left</th>\n",
       "      <th>sight_right</th>\n",
       "      <th>hear_left</th>\n",
       "      <th>hear_right</th>\n",
       "      <th>SBP</th>\n",
       "      <th>DBP</th>\n",
       "      <th>...</th>\n",
       "      <th>HDL_chole</th>\n",
       "      <th>LDL_chole</th>\n",
       "      <th>triglyceride</th>\n",
       "      <th>hemoglobin</th>\n",
       "      <th>urine_protein</th>\n",
       "      <th>serum_creatinine</th>\n",
       "      <th>SGOT_AST</th>\n",
       "      <th>SGOT_ALT</th>\n",
       "      <th>gamma_GTP</th>\n",
       "      <th>SMK_stat_type_cd</th>\n",
       "    </tr>\n",
       "  </thead>\n",
       "  <tbody>\n",
       "    <tr>\n",
       "      <th>count</th>\n",
       "      <td>100.00000</td>\n",
       "      <td>100.000000</td>\n",
       "      <td>100.000000</td>\n",
       "      <td>100.000000</td>\n",
       "      <td>100.00000</td>\n",
       "      <td>100.000000</td>\n",
       "      <td>100.000000</td>\n",
       "      <td>100.000000</td>\n",
       "      <td>100.000000</td>\n",
       "      <td>100.000000</td>\n",
       "      <td>...</td>\n",
       "      <td>100.000000</td>\n",
       "      <td>100.000000</td>\n",
       "      <td>100.000000</td>\n",
       "      <td>100.000000</td>\n",
       "      <td>100.000000</td>\n",
       "      <td>100.000000</td>\n",
       "      <td>100.000000</td>\n",
       "      <td>100.00000</td>\n",
       "      <td>100.000000</td>\n",
       "      <td>100.000000</td>\n",
       "    </tr>\n",
       "    <tr>\n",
       "      <th>mean</th>\n",
       "      <td>47.05000</td>\n",
       "      <td>161.750000</td>\n",
       "      <td>63.750000</td>\n",
       "      <td>81.484000</td>\n",
       "      <td>0.92200</td>\n",
       "      <td>0.922000</td>\n",
       "      <td>1.040000</td>\n",
       "      <td>1.020000</td>\n",
       "      <td>121.880000</td>\n",
       "      <td>76.240000</td>\n",
       "      <td>...</td>\n",
       "      <td>58.180000</td>\n",
       "      <td>109.220000</td>\n",
       "      <td>123.800000</td>\n",
       "      <td>13.858000</td>\n",
       "      <td>1.060000</td>\n",
       "      <td>0.834000</td>\n",
       "      <td>24.810000</td>\n",
       "      <td>23.80000</td>\n",
       "      <td>29.930000</td>\n",
       "      <td>1.500000</td>\n",
       "    </tr>\n",
       "    <tr>\n",
       "      <th>std</th>\n",
       "      <td>13.76379</td>\n",
       "      <td>9.111404</td>\n",
       "      <td>13.472287</td>\n",
       "      <td>10.774659</td>\n",
       "      <td>0.34424</td>\n",
       "      <td>0.336824</td>\n",
       "      <td>0.196946</td>\n",
       "      <td>0.140705</td>\n",
       "      <td>13.893011</td>\n",
       "      <td>8.678454</td>\n",
       "      <td>...</td>\n",
       "      <td>16.515301</td>\n",
       "      <td>33.358045</td>\n",
       "      <td>104.794363</td>\n",
       "      <td>1.546464</td>\n",
       "      <td>0.277798</td>\n",
       "      <td>0.223028</td>\n",
       "      <td>10.196746</td>\n",
       "      <td>16.58221</td>\n",
       "      <td>25.266361</td>\n",
       "      <td>0.797724</td>\n",
       "    </tr>\n",
       "    <tr>\n",
       "      <th>min</th>\n",
       "      <td>20.00000</td>\n",
       "      <td>145.000000</td>\n",
       "      <td>45.000000</td>\n",
       "      <td>63.200000</td>\n",
       "      <td>0.10000</td>\n",
       "      <td>0.100000</td>\n",
       "      <td>1.000000</td>\n",
       "      <td>1.000000</td>\n",
       "      <td>96.000000</td>\n",
       "      <td>55.000000</td>\n",
       "      <td>...</td>\n",
       "      <td>29.000000</td>\n",
       "      <td>49.000000</td>\n",
       "      <td>30.000000</td>\n",
       "      <td>7.300000</td>\n",
       "      <td>1.000000</td>\n",
       "      <td>0.500000</td>\n",
       "      <td>9.000000</td>\n",
       "      <td>6.00000</td>\n",
       "      <td>7.000000</td>\n",
       "      <td>1.000000</td>\n",
       "    </tr>\n",
       "    <tr>\n",
       "      <th>25%</th>\n",
       "      <td>35.00000</td>\n",
       "      <td>155.000000</td>\n",
       "      <td>55.000000</td>\n",
       "      <td>71.900000</td>\n",
       "      <td>0.80000</td>\n",
       "      <td>0.700000</td>\n",
       "      <td>1.000000</td>\n",
       "      <td>1.000000</td>\n",
       "      <td>113.000000</td>\n",
       "      <td>70.000000</td>\n",
       "      <td>...</td>\n",
       "      <td>46.750000</td>\n",
       "      <td>88.500000</td>\n",
       "      <td>65.750000</td>\n",
       "      <td>12.975000</td>\n",
       "      <td>1.000000</td>\n",
       "      <td>0.700000</td>\n",
       "      <td>19.000000</td>\n",
       "      <td>14.00000</td>\n",
       "      <td>14.000000</td>\n",
       "      <td>1.000000</td>\n",
       "    </tr>\n",
       "    <tr>\n",
       "      <th>50%</th>\n",
       "      <td>45.00000</td>\n",
       "      <td>160.000000</td>\n",
       "      <td>60.000000</td>\n",
       "      <td>82.000000</td>\n",
       "      <td>0.90000</td>\n",
       "      <td>1.000000</td>\n",
       "      <td>1.000000</td>\n",
       "      <td>1.000000</td>\n",
       "      <td>120.500000</td>\n",
       "      <td>77.500000</td>\n",
       "      <td>...</td>\n",
       "      <td>56.000000</td>\n",
       "      <td>108.000000</td>\n",
       "      <td>96.500000</td>\n",
       "      <td>13.900000</td>\n",
       "      <td>1.000000</td>\n",
       "      <td>0.800000</td>\n",
       "      <td>22.000000</td>\n",
       "      <td>19.50000</td>\n",
       "      <td>22.000000</td>\n",
       "      <td>1.000000</td>\n",
       "    </tr>\n",
       "    <tr>\n",
       "      <th>75%</th>\n",
       "      <td>55.00000</td>\n",
       "      <td>170.000000</td>\n",
       "      <td>70.000000</td>\n",
       "      <td>88.175000</td>\n",
       "      <td>1.20000</td>\n",
       "      <td>1.200000</td>\n",
       "      <td>1.000000</td>\n",
       "      <td>1.000000</td>\n",
       "      <td>130.000000</td>\n",
       "      <td>81.000000</td>\n",
       "      <td>...</td>\n",
       "      <td>65.000000</td>\n",
       "      <td>126.250000</td>\n",
       "      <td>150.500000</td>\n",
       "      <td>14.825000</td>\n",
       "      <td>1.000000</td>\n",
       "      <td>1.000000</td>\n",
       "      <td>28.000000</td>\n",
       "      <td>26.50000</td>\n",
       "      <td>34.250000</td>\n",
       "      <td>2.000000</td>\n",
       "    </tr>\n",
       "    <tr>\n",
       "      <th>max</th>\n",
       "      <td>80.00000</td>\n",
       "      <td>185.000000</td>\n",
       "      <td>110.000000</td>\n",
       "      <td>110.000000</td>\n",
       "      <td>2.00000</td>\n",
       "      <td>2.000000</td>\n",
       "      <td>2.000000</td>\n",
       "      <td>2.000000</td>\n",
       "      <td>172.000000</td>\n",
       "      <td>96.000000</td>\n",
       "      <td>...</td>\n",
       "      <td>119.000000</td>\n",
       "      <td>279.000000</td>\n",
       "      <td>813.000000</td>\n",
       "      <td>17.600000</td>\n",
       "      <td>3.000000</td>\n",
       "      <td>1.800000</td>\n",
       "      <td>76.000000</td>\n",
       "      <td>122.00000</td>\n",
       "      <td>183.000000</td>\n",
       "      <td>3.000000</td>\n",
       "    </tr>\n",
       "  </tbody>\n",
       "</table>\n",
       "<p>8 rows × 22 columns</p>\n",
       "</div>"
      ],
      "text/plain": [
       "             age      height      weight   waistline  sight_left  sight_right  \\\n",
       "count  100.00000  100.000000  100.000000  100.000000   100.00000   100.000000   \n",
       "mean    47.05000  161.750000   63.750000   81.484000     0.92200     0.922000   \n",
       "std     13.76379    9.111404   13.472287   10.774659     0.34424     0.336824   \n",
       "min     20.00000  145.000000   45.000000   63.200000     0.10000     0.100000   \n",
       "25%     35.00000  155.000000   55.000000   71.900000     0.80000     0.700000   \n",
       "50%     45.00000  160.000000   60.000000   82.000000     0.90000     1.000000   \n",
       "75%     55.00000  170.000000   70.000000   88.175000     1.20000     1.200000   \n",
       "max     80.00000  185.000000  110.000000  110.000000     2.00000     2.000000   \n",
       "\n",
       "        hear_left  hear_right         SBP         DBP  ...   HDL_chole  \\\n",
       "count  100.000000  100.000000  100.000000  100.000000  ...  100.000000   \n",
       "mean     1.040000    1.020000  121.880000   76.240000  ...   58.180000   \n",
       "std      0.196946    0.140705   13.893011    8.678454  ...   16.515301   \n",
       "min      1.000000    1.000000   96.000000   55.000000  ...   29.000000   \n",
       "25%      1.000000    1.000000  113.000000   70.000000  ...   46.750000   \n",
       "50%      1.000000    1.000000  120.500000   77.500000  ...   56.000000   \n",
       "75%      1.000000    1.000000  130.000000   81.000000  ...   65.000000   \n",
       "max      2.000000    2.000000  172.000000   96.000000  ...  119.000000   \n",
       "\n",
       "        LDL_chole  triglyceride  hemoglobin  urine_protein  serum_creatinine  \\\n",
       "count  100.000000    100.000000  100.000000     100.000000        100.000000   \n",
       "mean   109.220000    123.800000   13.858000       1.060000          0.834000   \n",
       "std     33.358045    104.794363    1.546464       0.277798          0.223028   \n",
       "min     49.000000     30.000000    7.300000       1.000000          0.500000   \n",
       "25%     88.500000     65.750000   12.975000       1.000000          0.700000   \n",
       "50%    108.000000     96.500000   13.900000       1.000000          0.800000   \n",
       "75%    126.250000    150.500000   14.825000       1.000000          1.000000   \n",
       "max    279.000000    813.000000   17.600000       3.000000          1.800000   \n",
       "\n",
       "         SGOT_AST   SGOT_ALT   gamma_GTP  SMK_stat_type_cd  \n",
       "count  100.000000  100.00000  100.000000        100.000000  \n",
       "mean    24.810000   23.80000   29.930000          1.500000  \n",
       "std     10.196746   16.58221   25.266361          0.797724  \n",
       "min      9.000000    6.00000    7.000000          1.000000  \n",
       "25%     19.000000   14.00000   14.000000          1.000000  \n",
       "50%     22.000000   19.50000   22.000000          1.000000  \n",
       "75%     28.000000   26.50000   34.250000          2.000000  \n",
       "max     76.000000  122.00000  183.000000          3.000000  \n",
       "\n",
       "[8 rows x 22 columns]"
      ]
     },
     "execution_count": 5,
     "metadata": {},
     "output_type": "execute_result"
    }
   ],
   "source": [
    "sample.describe()"
   ]
  },
  {
   "cell_type": "code",
   "execution_count": 6,
   "metadata": {},
   "outputs": [
    {
     "data": {
      "image/png": "[encoded data removed]",
      "text/plain": [
       "<Figure size 800x300 with 2 Axes>"
      ]
     },
     "metadata": {},
     "output_type": "display_data"
    }
   ],
   "source": [
    "_,a=plt.subplots(1,2,figsize=(8,3))\n",
    "sb.boxenplot(data=sample[sample[\"sex\"]==\"Male\"],y='age',ax=a[0])\n",
    "a[0].set_title(\"Male\")\n",
    "sb.boxplot(data=sample[sample[\"sex\"]=='Female'],y='age',ax=a[1])\n",
    "a[1].set_title(\"Female\")\n",
    "plt.show()"
   ]
  },
  {
   "cell_type": "code",
   "execution_count": 7,
   "metadata": {},
   "outputs": [
    {
     "data": {
      "image/png": "[encoded data removed]",
      "text/plain": [
       "<Figure size 800x300 with 2 Axes>"
      ]
     },
     "metadata": {},
     "output_type": "display_data"
    }
   ],
   "source": [
    "_,a=plt.subplots(1,2,figsize=(8,3))\n",
    "sb.histplot(data=sample[sample[\"sex\"]==\"Male\"],x='age',bins=9,ax=a[0])\n",
    "a[0].set_title(\"Male\")\n",
    "sb.histplot(data=sample[sample[\"sex\"]=='Female'],x='age',ax=a[1])\n",
    "a[1].set_title(\"Female\")\n",
    "plt.show()"
   ]
  },
  {
   "cell_type": "markdown",
   "metadata": {},
   "source": [
    "### 정규성 확인"
   ]
  },
  {
   "cell_type": "code",
   "execution_count": 12,
   "metadata": {},
   "outputs": [],
   "source": [
    "import numpy as np\n",
    "import scipy.stats as sps"
   ]
  },
  {
   "cell_type": "code",
   "execution_count": 21,
   "metadata": {},
   "outputs": [
    {
     "data": {
      "image/png": "[encoded data removed]",
      "text/plain": [
       "<Figure size 800x300 with 2 Axes>"
      ]
     },
     "metadata": {},
     "output_type": "display_data"
    }
   ],
   "source": [
    "_,a=plt.subplots(1,2,figsize=(8,3))\n",
    "sps.probplot(sample[sample[\"sex\"]==\"Male\"][\"age\"],dist='norm',plot=a[1])\n",
    "sps.probplot(sample[sample[\"sex\"]==\"Female\"][\"age\"],dist='norm',plot=a[0])\n",
    "plt.show()"
   ]
  },
  {
   "cell_type": "code",
   "execution_count": 22,
   "metadata": {},
   "outputs": [
    {
     "data": {
      "text/plain": [
       "ShapiroResult(statistic=0.9520542621612549, pvalue=0.0656244084239006)"
      ]
     },
     "execution_count": 22,
     "metadata": {},
     "output_type": "execute_result"
    }
   ],
   "source": [
    "sps.shapiro(sample[sample[\"sex\"]==\"Male\"][\"age\"])"
   ]
  },
  {
   "cell_type": "code",
   "execution_count": 23,
   "metadata": {},
   "outputs": [
    {
     "data": {
      "text/plain": [
       "ShapiroResult(statistic=0.984012246131897, pvalue=0.6626017689704895)"
      ]
     },
     "execution_count": 23,
     "metadata": {},
     "output_type": "execute_result"
    }
   ],
   "source": [
    "sps.shapiro(sample[sample[\"sex\"]==\"Female\"][\"age\"])"
   ]
  },
  {
   "cell_type": "markdown",
   "metadata": {},
   "source": [
    "위의 결과 둘다 정규성을 따름을 알 수 있다"
   ]
  },
  {
   "cell_type": "markdown",
   "metadata": {},
   "source": [
    "#### 샤피로 윌크 검정(참고)\n",
    "Shapiro-Wilk 검정의 결과를 해석할 때, 두 가지 주요 값인 검정 통계량(statistic)과 p-value를 고려해야 합니다.\n",
    "\n",
    "검정 통계량(statistic):\n",
    "검정 통계량은 0과 1 사이의 값을 가지며, 1에 가까울수록 데이터가 정규 분포에 가깝다는 것을 나타냅니다. 여기서 검정 통계량은 0.952로, 1에 가깝다는 것을 나타냅니다. 따라서 이 결과로 봤을 때, 데이터가 정규 분포에 상당히 가깝다고 볼 수 있습니다.\n",
    "\n",
    "p-value:\n",
    "p-value는 검정의 유의수준과 관련이 있습니다. 주어진 데이터가 정규 분포를 따른다고 가정하고, Shapiro-Wilk 검정을 수행한 결과에서 나온 p-value는 해당 가설의 유의성을 나타냅니다. 일반적으로 0.05(5%) 유의수준을 사용합니다."
   ]
  },
  {
   "cell_type": "markdown",
   "metadata": {},
   "source": [
    "### 등분산성"
   ]
  },
  {
   "cell_type": "code",
   "execution_count": 25,
   "metadata": {},
   "outputs": [
    {
     "data": {
      "text/plain": [
       "BartlettResult(statistic=1.0610962013153415, pvalue=0.302965299982866)"
      ]
     },
     "execution_count": 25,
     "metadata": {},
     "output_type": "execute_result"
    }
   ],
   "source": [
    "sps.bartlett(sample[sample[\"sex\"]==\"Male\"][\"age\"],sample[sample[\"sex\"]==\"Female\"][\"age\"])"
   ]
  },
  {
   "cell_type": "markdown",
   "metadata": {},
   "source": [
    "위의 결과를 보아 그룹간 분산의 차이가 없다고 판단"
   ]
  },
  {
   "cell_type": "markdown",
   "metadata": {},
   "source": [
    "## T-test"
   ]
  },
  {
   "cell_type": "code",
   "execution_count": 27,
   "metadata": {},
   "outputs": [
    {
     "data": {
      "text/plain": [
       "Ttest_indResult(statistic=-2.480077935771487, pvalue=0.014840744930575992)"
      ]
     },
     "execution_count": 27,
     "metadata": {},
     "output_type": "execute_result"
    }
   ],
   "source": [
    "sps.ttest_ind(sample[sample[\"sex\"]==\"Male\"][\"age\"],sample[sample[\"sex\"]==\"Female\"][\"age\"],equal_var=True)"
   ]
  },
  {
   "cell_type": "markdown",
   "metadata": {},
   "source": [
    "위의 결과 두 그룹간 평균차이가 표본에서 우연히 발생했을 확률이 낮다.\n",
    "따라서 모집단의 평균차이가 있을 가능성이 있음"
   ]
  },
  {
   "cell_type": "code",
   "execution_count": 28,
   "metadata": {},
   "outputs": [
    {
     "data": {
      "text/plain": [
       "43.29545454545455"
      ]
     },
     "execution_count": 28,
     "metadata": {},
     "output_type": "execute_result"
    }
   ],
   "source": [
    "sample[sample[\"sex\"]==\"Male\"][\"age\"].mean()"
   ]
  },
  {
   "cell_type": "code",
   "execution_count": 29,
   "metadata": {},
   "outputs": [
    {
     "data": {
      "text/plain": [
       "50.0"
      ]
     },
     "execution_count": 29,
     "metadata": {},
     "output_type": "execute_result"
    }
   ],
   "source": [
    "sample[sample[\"sex\"]==\"Female\"][\"age\"].mean()"
   ]
  },
  {
   "cell_type": "code",
   "execution_count": 30,
   "metadata": {},
   "outputs": [
    {
     "data": {
      "text/plain": [
       "Ttest_indResult(statistic=-2.4361642419796534, pvalue=0.016927610686705705)"
      ]
     },
     "execution_count": 30,
     "metadata": {},
     "output_type": "execute_result"
    }
   ],
   "source": [
    "sps.ttest_ind(sample[sample[\"sex\"]==\"Male\"][\"age\"],sample[sample[\"sex\"]==\"Female\"][\"age\"],equal_var=False)"
   ]
  },
  {
   "cell_type": "markdown",
   "metadata": {},
   "source": [
    "### ANOVA"
   ]
  },
  {
   "cell_type": "code",
   "execution_count": 31,
   "metadata": {},
   "outputs": [
    {
     "data": {
      "text/plain": [
       "F_onewayResult(statistic=6.150786567500565, pvalue=0.014840744930575923)"
      ]
     },
     "execution_count": 31,
     "metadata": {},
     "output_type": "execute_result"
    }
   ],
   "source": [
    "sps.f_oneway(sample[sample[\"sex\"]==\"Male\"][\"age\"],sample[sample[\"sex\"]==\"Female\"][\"age\"])"
   ]
  },
  {
   "cell_type": "code",
   "execution_count": null,
   "metadata": {},
   "outputs": [],
   "source": []
  }
 ],
 "metadata": {
  "kernelspec": {
   "display_name": "Python 3",
   "language": "python",
   "name": "python3"
  },
  "language_info": {
   "codemirror_mode": {
    "name": "ipython",
    "version": 3
   },
   "file_extension": ".py",
   "mimetype": "text/x-python",
   "name": "python",
   "nbconvert_exporter": "python",
   "pygments_lexer": "ipython3",
   "version": "3.11.3"
  },
  "orig_nbformat": 4
 },
 "nbformat": 4,
 "nbformat_minor": 2
}
