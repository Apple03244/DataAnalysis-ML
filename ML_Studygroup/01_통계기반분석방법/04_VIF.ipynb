{
 "cells": [
  {
   "cell_type": "markdown",
   "metadata": {},
   "source": [
    "# VIF"
   ]
  },
  {
   "cell_type": "markdown",
   "metadata": {},
   "source": [
    "이 부분은 정말 많이 써오고 오랫동안 공부해서 충분히 이해했지만, 이김에 다시 정리해보자.         \n",
    "VIF 계산은 기본적으로 linear regression의 응용이다"
   ]
  },
  {
   "cell_type": "markdown",
   "metadata": {},
   "source": [
    "-------------"
   ]
  },
  {
   "cell_type": "markdown",
   "metadata": {},
   "source": [
    "$ R^2 = 1 - \\frac{\\text{SSR}}{\\text{SST}} $\n",
    "\n",
    "여기서:\n",
    "\n",
    "- $ \\text{SST} $ (총 제곱합, Total Sum of Squares): 종속 변수 \\( y \\)의 총 변동을 나타냅니다. 총 제곱합은 각 데이터 포인트의 관측값과 평균값 간의 차이를 제곱하여 합한 값입니다.\n",
    "\n",
    "$ \\text{SST} = \\sum_{i=1}^{n} (y_i - \\bar{y})^2 $\n",
    "\n",
    "- $ \\text{SSR} $ (회귀 제곱합, Sum of Squares of Regression): 회귀 모델에 의해 설명되는 종속 변수 \\( y \\)의 변동을 나타냅니다. 회귀 제곱합은 각 데이터 포인트의 모델 예측값과 평균값 간의 차이를 제곱하여 합한 값입니다.\n",
    "\n",
    "$ \\text{SSR} = \\sum_{i=1}^{n} (\\hat{y}_i - \\bar{y})^2 $\n",
    "\n",
    "여기서:\n",
    "\n",
    "- $ \\hat{y}_i $는 회귀 모델의 예측값입니다.\n",
    "- $ \\bar{y} $는 종속 변수 $ y $의 평균값입니다.\n",
    "\n",
    "따라서 $ R^2 $는 회귀 모델이 종속 변수의 변동 중에서 설명 가능한 비율을 나타내는 지표로, 분모가 SST(총 제곱합)이고 분자가 SSR(회귀 제곱합)입니다.\n"
   ]
  },
  {
   "cell_type": "markdown",
   "metadata": {},
   "source": [
    "--------------"
   ]
  },
  {
   "cell_type": "markdown",
   "metadata": {},
   "source": [
    "$ \\text{VIF(독립 변수 } X_i) = \\frac{1}{1 - R_{X_i}^2} $\n",
    "\n",
    "여기서:\n",
    "\n",
    "- $ \\text{VIF(독립 변수 } X_i) $는 독립 변수 $ X_i $의 VIF 값을 나타냅니다.\n",
    "- $ R_{X_i}^2 $는 독립 변수 $ X_i $를 나머지 독립 변수로 회귀한 $ R^2 $ 값입니다. 이 값은 $ X_i $를 다른 독립 변수들로 예측한 결과의 설명력을 나타냅니다.\n"
   ]
  },
  {
   "cell_type": "markdown",
   "metadata": {},
   "source": [
    "--------------"
   ]
  },
  {
   "cell_type": "markdown",
   "metadata": {},
   "source": [
    "위의 과정을 이해했다면 VIF는 SST/SSR 임을 알수있다.             \n",
    "위의 과정을 완벽히 이해하기 위해선 뒤의 OLS에 대한 고찰이 필요하므로 지금은 그저,           \n",
    "$R^2$가 클수록 설명력이 높아지고 이가 VIF값과 비례한다고 이해해두자."
   ]
  },
  {
   "cell_type": "markdown",
   "metadata": {},
   "source": [
    "### 실습"
   ]
  },
  {
   "cell_type": "code",
   "execution_count": 1,
   "metadata": {},
   "outputs": [],
   "source": [
    "import pandas as pd\n",
    "import pca\n",
    "import numpy as np\n",
    "D=pd.read_excel(\"https://data.hossam.kr/E04/diamonds.xlsx\")\n",
    "data=pd.DataFrame(D)\n",
    "clarity_rank='FL>IF>VVS1>VVS2>VS1>VS2>SI1>SI2>I1>I2>I3'\n",
    "clarity_rank=clarity_rank.split(\">\")\n",
    "clarity_rank={y:len(clarity_rank)-x for x,y in enumerate(clarity_rank)}\n",
    "numeric=['carat','x','y','z','depth','table']\n",
    "target=\"price\"\n",
    "category={'cut',\"clarity\",'color'}"
   ]
  },
  {
   "cell_type": "code",
   "execution_count": 2,
   "metadata": {},
   "outputs": [],
   "source": [
    "import statsmodels.api as sm"
   ]
  },
  {
   "cell_type": "code",
   "execution_count": 6,
   "metadata": {},
   "outputs": [],
   "source": [
    "VIF=[]\n",
    "for col in numeric:\n",
    "    other=[x for x in numeric if x!=col]\n",
    "    vif_ols=sm.OLS(endog=data[col],exog=data[other]).fit()\n",
    "    r_2=vif_ols.rsquared\n",
    "    VIF.append({'X':col,'VIF':1/(1-r_2)})"
   ]
  },
  {
   "cell_type": "code",
   "execution_count": 9,
   "metadata": {},
   "outputs": [
    {
     "data": {
      "text/html": [
       "<div>\n",
       "<style scoped>\n",
       "    .dataframe tbody tr th:only-of-type {\n",
       "        vertical-align: middle;\n",
       "    }\n",
       "\n",
       "    .dataframe tbody tr th {\n",
       "        vertical-align: top;\n",
       "    }\n",
       "\n",
       "    .dataframe thead th {\n",
       "        text-align: right;\n",
       "    }\n",
       "</style>\n",
       "<table border=\"1\" class=\"dataframe\">\n",
       "  <thead>\n",
       "    <tr style=\"text-align: right;\">\n",
       "      <th></th>\n",
       "      <th>X</th>\n",
       "      <th>VIF</th>\n",
       "    </tr>\n",
       "  </thead>\n",
       "  <tbody>\n",
       "    <tr>\n",
       "      <th>0</th>\n",
       "      <td>carat</td>\n",
       "      <td>70.132799</td>\n",
       "    </tr>\n",
       "    <tr>\n",
       "      <th>1</th>\n",
       "      <td>x</td>\n",
       "      <td>1284.949828</td>\n",
       "    </tr>\n",
       "    <tr>\n",
       "      <th>2</th>\n",
       "      <td>y</td>\n",
       "      <td>530.998218</td>\n",
       "    </tr>\n",
       "    <tr>\n",
       "      <th>3</th>\n",
       "      <td>z</td>\n",
       "      <td>540.677349</td>\n",
       "    </tr>\n",
       "    <tr>\n",
       "      <th>4</th>\n",
       "      <td>depth</td>\n",
       "      <td>515.146274</td>\n",
       "    </tr>\n",
       "    <tr>\n",
       "      <th>5</th>\n",
       "      <td>table</td>\n",
       "      <td>500.595341</td>\n",
       "    </tr>\n",
       "  </tbody>\n",
       "</table>\n",
       "</div>"
      ],
      "text/plain": [
       "       X          VIF\n",
       "0  carat    70.132799\n",
       "1      x  1284.949828\n",
       "2      y   530.998218\n",
       "3      z   540.677349\n",
       "4  depth   515.146274\n",
       "5  table   500.595341"
      ]
     },
     "execution_count": 9,
     "metadata": {},
     "output_type": "execute_result"
    }
   ],
   "source": [
    "pd.DataFrame(VIF)"
   ]
  },
  {
   "cell_type": "markdown",
   "metadata": {},
   "source": [
    "#### VIF 값이 5이상일 경우 다중공선성을 의심해야한다"
   ]
  },
  {
   "cell_type": "markdown",
   "metadata": {},
   "source": []
  }
 ],
 "metadata": {
  "kernelspec": {
   "display_name": "Python 3",
   "language": "python",
   "name": "python3"
  },
  "language_info": {
   "codemirror_mode": {
    "name": "ipython",
    "version": 3
   },
   "file_extension": ".py",
   "mimetype": "text/x-python",
   "name": "python",
   "nbconvert_exporter": "python",
   "pygments_lexer": "ipython3",
   "version": "3.11.3"
  },
  "orig_nbformat": 4
 },
 "nbformat": 4,
 "nbformat_minor": 2
}
