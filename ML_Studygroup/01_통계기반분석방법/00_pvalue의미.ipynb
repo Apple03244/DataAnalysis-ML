{
 "cells": [
  {
   "cell_type": "markdown",
   "metadata": {},
   "source": [
    "## P value의 의미"
   ]
  },
  {
   "cell_type": "markdown",
   "metadata": {},
   "source": [
    "1. 분포를 이해하고 있으면 더 쉽다\n",
    "2. t test의 예를 들어 설명하면\n",
    "    - 1. t-statistic 값을 구한뒤 해당 t value보다 높은 t value의 존재확률(극단치)을 구한다\n",
    "    - 2. 위의 과정을 통해 얻은 확률이 p value\n",
    "    - 3. 그렇다면 우리가 계산해 얻은 t value는 어떻게 해석되는가?\n",
    "        * 우리가 얻은 t value보다 극단적인 값의 존재확률 p value가 높다면, 우리가 얻은 t value는 해당 표본에서\n",
    "        우연히 얻었을 확률이 높다. 따라서 우리가 얻은 t value로 모집단의 성질을 설명하기엔 무리가 생긴다\n",
    "        * 반면, p value가 유의수준보다 작다면, 우리가 얻은 t value보다 극단적인 값의 존재 확률이 작다.\n",
    "        따라서 우리가 얻은 t value의 수치는 표본에서 우연히 발생했을 확률이 낮다고 판단할 수 있으므로,\n",
    "        모집단의 성질을 설명할 가능성이 생긴다"
   ]
  },
  {
   "cell_type": "markdown",
   "metadata": {},
   "source": []
  }
 ],
 "metadata": {
  "language_info": {
   "name": "python"
  },
  "orig_nbformat": 4
 },
 "nbformat": 4,
 "nbformat_minor": 2
}
