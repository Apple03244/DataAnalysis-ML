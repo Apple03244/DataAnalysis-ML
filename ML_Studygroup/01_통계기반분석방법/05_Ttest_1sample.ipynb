{
 "cells": [
  {
   "cell_type": "markdown",
   "metadata": {},
   "source": [
    "# T test"
   ]
  },
  {
   "cell_type": "markdown",
   "metadata": {},
   "source": [
    "T-통계량(T-statistic)은 다음과 같은 수식으로 표현됩니다:\n",
    "\n",
    "$ T = \\frac{{\\text{표본 평균} - \\text{모집단 평균}}}{{\\text{표준 오차}}} $\n",
    "\n",
    "여기서 각 항목은 다음과 같이 설명됩니다:\n",
    "\n",
    "- **표본 평균 (Sample Mean)**: 분석하려는 표본 데이터 집합의 평균 값입니다.\n",
    "\n",
    "- **모집단 평균 (Population Mean)**: 모집단에서 전체 모집단의 평균 값으로 가정되는 값입니다. 통계 검정의 귀무 가설에서 제시됩니다.\n",
    "\n",
    "- **표준 오차 (Standard Error)**: 표본 평균의 표준 편차(표본 표준 편차)를 표본 크기의 제곱근으로 나눈 값으로, 표본 평균의 표준 오차를 나타냅니다.\n",
    "\n"
   ]
  },
  {
   "cell_type": "markdown",
   "metadata": {},
   "source": [
    "위의 수식에서 알 수 있는것\n",
    "- 1. 간단한 아이디어다. 오차보다 작은 차이인지 큰 차이인지를 확인하는 단순한 식\n",
    "- 2. 이를 검증할 떈 정규분포가 필요할 것이다"
   ]
  },
  {
   "cell_type": "markdown",
   "metadata": {},
   "source": [
    "# 실습"
   ]
  },
  {
   "cell_type": "markdown",
   "metadata": {},
   "source": [
    "| Column          | Description(US)                                   | KR                  |\n",
    "|-----------------|---------------------------------------------------|---------------------|\n",
    "| Sex             | male, female                                      | 성별                |\n",
    "| Age             | round up to 5 years                              | 나이                |\n",
    "| Height          | round up to 5 cm [cm]                            | 키                  |\n",
    "| Weight          | [kg]                                              | 몸무게              |\n",
    "| Sight_left      | eyesight (left)                                  | 시력(좌)            |\n",
    "| Sight_right     | eyesight (right)                                 | 시력(우)            |\n",
    "| Hear_left       | hearing left, 1 (normal), 2 (abnormal)           | 청력                |\n",
    "| Hear_right      | hearing right, 1 (normal), 2 (abnormal)          | 청력                |\n",
    "| SBP             | Systolic blood pressure [mmHg]                   | 수축기 혈압         |\n",
    "| DBP             | Diastolic blood pressure [mmHg]                  | 이완기 혈압         |\n",
    "| BLDS            | BLDS or FSG (fasting blood glucose) [mg/dL]      | 공복혈당            |\n",
    "| Tot_chole       | total cholesterol [mg/dL]                        | 총 콜레스테롤       |\n",
    "| HDL_chole       | HDL cholesterol [mg/dL]                         | HDL 콜레스테롤     |\n",
    "| LDL_chole       | LDL cholesterol [mg/dL]                         | LDL 콜레스테롤     |\n",
    "| Triglyceride    | triglyceride [mg/dL]                            | 중성지방            |\n",
    "| Hemoglobin      | hemoglobin [g/dL]                                | 헤모글로빈          |\n",
    "| Urine_protein   | protein in urine, 1 (-), 2 (+/-), 3 (+1), 4 (+2), 5 (+3), 6 (+4) | 요단백 또는 단백뇨 |\n",
    "| Serum_creatinine| serum (blood) creatinine [mg/dL]                 | 혈청 크레아티닌     |\n",
    "| SGOT_AST        | SGOT (Glutamate-oxaloacetate transaminase) AST (Aspartate transaminase) [IU/L] | 혈청지오티 AST |\n",
    "| SGOT_ALT        | ALT (Alanine transaminase) [IU/L]                | 혈청지오티 ALT     |\n",
    "| Gamma_GTP       | γ-glutamyl transpeptidase [IU/L]                | 감마지티피          |\n",
    "| SMK_stat_type_cd| Smoking state, 1 (never), 2 (used to smoke but quit), 3 (still smoke) | 흡연상태 |\n",
    "| DRK_YN          | Drinker or Not                                   | 음주여부            |\n"
   ]
  },
  {
   "cell_type": "code",
   "execution_count": 1,
   "metadata": {},
   "outputs": [],
   "source": [
    "import pandas as pd\n",
    "import pca\n",
    "import numpy as np\n",
    "D=pd.read_csv(\"C:/Users/SAMSUNG/Desktop/공부파일들/excel/kaggle/smoking_driking_dataset_Ver01.csv\")\n",
    "data=pd.DataFrame(D)"
   ]
  },
  {
   "cell_type": "markdown",
   "metadata": {},
   "source": [
    "## 데이터 살펴보기"
   ]
  },
  {
   "cell_type": "code",
   "execution_count": 2,
   "metadata": {},
   "outputs": [
    {
     "name": "stdout",
     "output_type": "stream",
     "text": [
      "<class 'pandas.core.frame.DataFrame'>\n",
      "RangeIndex: 991346 entries, 0 to 991345\n",
      "Data columns (total 24 columns):\n",
      " #   Column            Non-Null Count   Dtype  \n",
      "---  ------            --------------   -----  \n",
      " 0   sex               991346 non-null  object \n",
      " 1   age               991346 non-null  int64  \n",
      " 2   height            991346 non-null  int64  \n",
      " 3   weight            991346 non-null  int64  \n",
      " 4   waistline         991346 non-null  float64\n",
      " 5   sight_left        991346 non-null  float64\n",
      " 6   sight_right       991346 non-null  float64\n",
      " 7   hear_left         991346 non-null  float64\n",
      " 8   hear_right        991346 non-null  float64\n",
      " 9   SBP               991346 non-null  float64\n",
      " 10  DBP               991346 non-null  float64\n",
      " 11  BLDS              991346 non-null  float64\n",
      " 12  tot_chole         991346 non-null  float64\n",
      " 13  HDL_chole         991346 non-null  float64\n",
      " 14  LDL_chole         991346 non-null  float64\n",
      " 15  triglyceride      991346 non-null  float64\n",
      " 16  hemoglobin        991346 non-null  float64\n",
      " 17  urine_protein     991346 non-null  float64\n",
      " 18  serum_creatinine  991346 non-null  float64\n",
      " 19  SGOT_AST          991346 non-null  float64\n",
      " 20  SGOT_ALT          991346 non-null  float64\n",
      " 21  gamma_GTP         991346 non-null  float64\n",
      " 22  SMK_stat_type_cd  991346 non-null  float64\n",
      " 23  DRK_YN            991346 non-null  object \n",
      "dtypes: float64(19), int64(3), object(2)\n",
      "memory usage: 181.5+ MB\n"
     ]
    }
   ],
   "source": [
    "data.info()"
   ]
  },
  {
   "cell_type": "markdown",
   "metadata": {},
   "source": [
    "우선 위의 정보를 보아 Nan값은 없음"
   ]
  },
  {
   "cell_type": "markdown",
   "metadata": {},
   "source": [
    "## T-test"
   ]
  },
  {
   "cell_type": "code",
   "execution_count": 3,
   "metadata": {},
   "outputs": [
    {
     "data": {
      "text/html": [
       "<div>\n",
       "<style scoped>\n",
       "    .dataframe tbody tr th:only-of-type {\n",
       "        vertical-align: middle;\n",
       "    }\n",
       "\n",
       "    .dataframe tbody tr th {\n",
       "        vertical-align: top;\n",
       "    }\n",
       "\n",
       "    .dataframe thead th {\n",
       "        text-align: right;\n",
       "    }\n",
       "</style>\n",
       "<table border=\"1\" class=\"dataframe\">\n",
       "  <thead>\n",
       "    <tr style=\"text-align: right;\">\n",
       "      <th></th>\n",
       "      <th>age</th>\n",
       "      <th>height</th>\n",
       "      <th>weight</th>\n",
       "      <th>waistline</th>\n",
       "      <th>sight_left</th>\n",
       "      <th>sight_right</th>\n",
       "      <th>hear_left</th>\n",
       "      <th>hear_right</th>\n",
       "      <th>SBP</th>\n",
       "      <th>DBP</th>\n",
       "      <th>...</th>\n",
       "      <th>HDL_chole</th>\n",
       "      <th>LDL_chole</th>\n",
       "      <th>triglyceride</th>\n",
       "      <th>hemoglobin</th>\n",
       "      <th>urine_protein</th>\n",
       "      <th>serum_creatinine</th>\n",
       "      <th>SGOT_AST</th>\n",
       "      <th>SGOT_ALT</th>\n",
       "      <th>gamma_GTP</th>\n",
       "      <th>SMK_stat_type_cd</th>\n",
       "    </tr>\n",
       "  </thead>\n",
       "  <tbody>\n",
       "    <tr>\n",
       "      <th>count</th>\n",
       "      <td>991346.000000</td>\n",
       "      <td>991346.000000</td>\n",
       "      <td>991346.000000</td>\n",
       "      <td>991346.000000</td>\n",
       "      <td>991346.000000</td>\n",
       "      <td>991346.000000</td>\n",
       "      <td>991346.000000</td>\n",
       "      <td>991346.000000</td>\n",
       "      <td>991346.000000</td>\n",
       "      <td>991346.000000</td>\n",
       "      <td>...</td>\n",
       "      <td>991346.000000</td>\n",
       "      <td>991346.000000</td>\n",
       "      <td>991346.000000</td>\n",
       "      <td>991346.000000</td>\n",
       "      <td>991346.000000</td>\n",
       "      <td>991346.000000</td>\n",
       "      <td>991346.000000</td>\n",
       "      <td>991346.000000</td>\n",
       "      <td>991346.000000</td>\n",
       "      <td>991346.000000</td>\n",
       "    </tr>\n",
       "    <tr>\n",
       "      <th>mean</th>\n",
       "      <td>47.614491</td>\n",
       "      <td>162.240625</td>\n",
       "      <td>63.284050</td>\n",
       "      <td>81.233358</td>\n",
       "      <td>0.980834</td>\n",
       "      <td>0.978429</td>\n",
       "      <td>1.031495</td>\n",
       "      <td>1.030476</td>\n",
       "      <td>122.432498</td>\n",
       "      <td>76.052627</td>\n",
       "      <td>...</td>\n",
       "      <td>56.936800</td>\n",
       "      <td>113.037692</td>\n",
       "      <td>132.141751</td>\n",
       "      <td>14.229824</td>\n",
       "      <td>1.094224</td>\n",
       "      <td>0.860467</td>\n",
       "      <td>25.989308</td>\n",
       "      <td>25.755051</td>\n",
       "      <td>37.136347</td>\n",
       "      <td>1.608122</td>\n",
       "    </tr>\n",
       "    <tr>\n",
       "      <th>std</th>\n",
       "      <td>14.181339</td>\n",
       "      <td>9.282957</td>\n",
       "      <td>12.514241</td>\n",
       "      <td>11.850323</td>\n",
       "      <td>0.605949</td>\n",
       "      <td>0.604774</td>\n",
       "      <td>0.174650</td>\n",
       "      <td>0.171892</td>\n",
       "      <td>14.543148</td>\n",
       "      <td>9.889365</td>\n",
       "      <td>...</td>\n",
       "      <td>17.238479</td>\n",
       "      <td>35.842812</td>\n",
       "      <td>102.196985</td>\n",
       "      <td>1.584929</td>\n",
       "      <td>0.437724</td>\n",
       "      <td>0.480530</td>\n",
       "      <td>23.493386</td>\n",
       "      <td>26.308599</td>\n",
       "      <td>50.424153</td>\n",
       "      <td>0.818507</td>\n",
       "    </tr>\n",
       "    <tr>\n",
       "      <th>min</th>\n",
       "      <td>20.000000</td>\n",
       "      <td>130.000000</td>\n",
       "      <td>25.000000</td>\n",
       "      <td>8.000000</td>\n",
       "      <td>0.100000</td>\n",
       "      <td>0.100000</td>\n",
       "      <td>1.000000</td>\n",
       "      <td>1.000000</td>\n",
       "      <td>67.000000</td>\n",
       "      <td>32.000000</td>\n",
       "      <td>...</td>\n",
       "      <td>1.000000</td>\n",
       "      <td>1.000000</td>\n",
       "      <td>1.000000</td>\n",
       "      <td>1.000000</td>\n",
       "      <td>1.000000</td>\n",
       "      <td>0.100000</td>\n",
       "      <td>1.000000</td>\n",
       "      <td>1.000000</td>\n",
       "      <td>1.000000</td>\n",
       "      <td>1.000000</td>\n",
       "    </tr>\n",
       "    <tr>\n",
       "      <th>25%</th>\n",
       "      <td>35.000000</td>\n",
       "      <td>155.000000</td>\n",
       "      <td>55.000000</td>\n",
       "      <td>74.100000</td>\n",
       "      <td>0.700000</td>\n",
       "      <td>0.700000</td>\n",
       "      <td>1.000000</td>\n",
       "      <td>1.000000</td>\n",
       "      <td>112.000000</td>\n",
       "      <td>70.000000</td>\n",
       "      <td>...</td>\n",
       "      <td>46.000000</td>\n",
       "      <td>89.000000</td>\n",
       "      <td>73.000000</td>\n",
       "      <td>13.200000</td>\n",
       "      <td>1.000000</td>\n",
       "      <td>0.700000</td>\n",
       "      <td>19.000000</td>\n",
       "      <td>15.000000</td>\n",
       "      <td>16.000000</td>\n",
       "      <td>1.000000</td>\n",
       "    </tr>\n",
       "    <tr>\n",
       "      <th>50%</th>\n",
       "      <td>45.000000</td>\n",
       "      <td>160.000000</td>\n",
       "      <td>60.000000</td>\n",
       "      <td>81.000000</td>\n",
       "      <td>1.000000</td>\n",
       "      <td>1.000000</td>\n",
       "      <td>1.000000</td>\n",
       "      <td>1.000000</td>\n",
       "      <td>120.000000</td>\n",
       "      <td>76.000000</td>\n",
       "      <td>...</td>\n",
       "      <td>55.000000</td>\n",
       "      <td>111.000000</td>\n",
       "      <td>106.000000</td>\n",
       "      <td>14.300000</td>\n",
       "      <td>1.000000</td>\n",
       "      <td>0.800000</td>\n",
       "      <td>23.000000</td>\n",
       "      <td>20.000000</td>\n",
       "      <td>23.000000</td>\n",
       "      <td>1.000000</td>\n",
       "    </tr>\n",
       "    <tr>\n",
       "      <th>75%</th>\n",
       "      <td>60.000000</td>\n",
       "      <td>170.000000</td>\n",
       "      <td>70.000000</td>\n",
       "      <td>87.800000</td>\n",
       "      <td>1.200000</td>\n",
       "      <td>1.200000</td>\n",
       "      <td>1.000000</td>\n",
       "      <td>1.000000</td>\n",
       "      <td>131.000000</td>\n",
       "      <td>82.000000</td>\n",
       "      <td>...</td>\n",
       "      <td>66.000000</td>\n",
       "      <td>135.000000</td>\n",
       "      <td>159.000000</td>\n",
       "      <td>15.400000</td>\n",
       "      <td>1.000000</td>\n",
       "      <td>1.000000</td>\n",
       "      <td>28.000000</td>\n",
       "      <td>29.000000</td>\n",
       "      <td>39.000000</td>\n",
       "      <td>2.000000</td>\n",
       "    </tr>\n",
       "    <tr>\n",
       "      <th>max</th>\n",
       "      <td>85.000000</td>\n",
       "      <td>190.000000</td>\n",
       "      <td>140.000000</td>\n",
       "      <td>999.000000</td>\n",
       "      <td>9.900000</td>\n",
       "      <td>9.900000</td>\n",
       "      <td>2.000000</td>\n",
       "      <td>2.000000</td>\n",
       "      <td>273.000000</td>\n",
       "      <td>185.000000</td>\n",
       "      <td>...</td>\n",
       "      <td>8110.000000</td>\n",
       "      <td>5119.000000</td>\n",
       "      <td>9490.000000</td>\n",
       "      <td>25.000000</td>\n",
       "      <td>6.000000</td>\n",
       "      <td>98.000000</td>\n",
       "      <td>9999.000000</td>\n",
       "      <td>7210.000000</td>\n",
       "      <td>999.000000</td>\n",
       "      <td>3.000000</td>\n",
       "    </tr>\n",
       "  </tbody>\n",
       "</table>\n",
       "<p>8 rows × 22 columns</p>\n",
       "</div>"
      ],
      "text/plain": [
       "                 age         height         weight      waistline  \\\n",
       "count  991346.000000  991346.000000  991346.000000  991346.000000   \n",
       "mean       47.614491     162.240625      63.284050      81.233358   \n",
       "std        14.181339       9.282957      12.514241      11.850323   \n",
       "min        20.000000     130.000000      25.000000       8.000000   \n",
       "25%        35.000000     155.000000      55.000000      74.100000   \n",
       "50%        45.000000     160.000000      60.000000      81.000000   \n",
       "75%        60.000000     170.000000      70.000000      87.800000   \n",
       "max        85.000000     190.000000     140.000000     999.000000   \n",
       "\n",
       "          sight_left    sight_right      hear_left     hear_right  \\\n",
       "count  991346.000000  991346.000000  991346.000000  991346.000000   \n",
       "mean        0.980834       0.978429       1.031495       1.030476   \n",
       "std         0.605949       0.604774       0.174650       0.171892   \n",
       "min         0.100000       0.100000       1.000000       1.000000   \n",
       "25%         0.700000       0.700000       1.000000       1.000000   \n",
       "50%         1.000000       1.000000       1.000000       1.000000   \n",
       "75%         1.200000       1.200000       1.000000       1.000000   \n",
       "max         9.900000       9.900000       2.000000       2.000000   \n",
       "\n",
       "                 SBP            DBP  ...      HDL_chole      LDL_chole  \\\n",
       "count  991346.000000  991346.000000  ...  991346.000000  991346.000000   \n",
       "mean      122.432498      76.052627  ...      56.936800     113.037692   \n",
       "std        14.543148       9.889365  ...      17.238479      35.842812   \n",
       "min        67.000000      32.000000  ...       1.000000       1.000000   \n",
       "25%       112.000000      70.000000  ...      46.000000      89.000000   \n",
       "50%       120.000000      76.000000  ...      55.000000     111.000000   \n",
       "75%       131.000000      82.000000  ...      66.000000     135.000000   \n",
       "max       273.000000     185.000000  ...    8110.000000    5119.000000   \n",
       "\n",
       "        triglyceride     hemoglobin  urine_protein  serum_creatinine  \\\n",
       "count  991346.000000  991346.000000  991346.000000     991346.000000   \n",
       "mean      132.141751      14.229824       1.094224          0.860467   \n",
       "std       102.196985       1.584929       0.437724          0.480530   \n",
       "min         1.000000       1.000000       1.000000          0.100000   \n",
       "25%        73.000000      13.200000       1.000000          0.700000   \n",
       "50%       106.000000      14.300000       1.000000          0.800000   \n",
       "75%       159.000000      15.400000       1.000000          1.000000   \n",
       "max      9490.000000      25.000000       6.000000         98.000000   \n",
       "\n",
       "            SGOT_AST       SGOT_ALT      gamma_GTP  SMK_stat_type_cd  \n",
       "count  991346.000000  991346.000000  991346.000000     991346.000000  \n",
       "mean       25.989308      25.755051      37.136347          1.608122  \n",
       "std        23.493386      26.308599      50.424153          0.818507  \n",
       "min         1.000000       1.000000       1.000000          1.000000  \n",
       "25%        19.000000      15.000000      16.000000          1.000000  \n",
       "50%        23.000000      20.000000      23.000000          1.000000  \n",
       "75%        28.000000      29.000000      39.000000          2.000000  \n",
       "max      9999.000000    7210.000000     999.000000          3.000000  \n",
       "\n",
       "[8 rows x 22 columns]"
      ]
     },
     "execution_count": 3,
     "metadata": {},
     "output_type": "execute_result"
    }
   ],
   "source": [
    "data.describe()"
   ]
  },
  {
   "cell_type": "markdown",
   "metadata": {},
   "source": [
    "### T-test 1_samp"
   ]
  },
  {
   "cell_type": "markdown",
   "metadata": {},
   "source": [
    "단일표본 T test는 무엇이냐?         \n",
    "위의 데이터를 볼때 age의 평균이 47이라고 보인다."
   ]
  },
  {
   "cell_type": "markdown",
   "metadata": {},
   "source": [
    "### 설명을 위한 표본 추출\n",
    "> 위의 데이터를 모집단으로 가정하고 진행하며, 따라서 모수를 아는 상황이라고 생각할 수 있다"
   ]
  },
  {
   "cell_type": "markdown",
   "metadata": {},
   "source": [
    "- 위와 같은 가정은 현실적이지 않지만, 구조를 이해하기 쉬우며, 현실적으론 모수의 신뢰구간을 추정하는 것이 현실적임"
   ]
  },
  {
   "cell_type": "code",
   "execution_count": 4,
   "metadata": {},
   "outputs": [],
   "source": [
    "# 표본\n",
    "import sklearn.preprocessing as skpre\n",
    "import sklearn.model_selection as skmod"
   ]
  },
  {
   "cell_type": "code",
   "execution_count": 5,
   "metadata": {},
   "outputs": [],
   "source": [
    "sample_dict={}\n",
    "for i in range(1,4):\n",
    "    sample_dict[i],_=skmod.train_test_split(data,train_size=50,random_state=i)"
   ]
  },
  {
   "cell_type": "code",
   "execution_count": 6,
   "metadata": {},
   "outputs": [],
   "source": [
    "import matplotlib.pyplot as plt\n",
    "import seaborn as sb"
   ]
  },
  {
   "cell_type": "markdown",
   "metadata": {},
   "source": [
    "### 시각화로 살펴보자"
   ]
  },
  {
   "cell_type": "code",
   "execution_count": 7,
   "metadata": {},
   "outputs": [
    {
     "data": {
      "image/png": "[encoded data removed]",
      "text/plain": [
       "<Figure size 900x300 with 3 Axes>"
      ]
     },
     "metadata": {},
     "output_type": "display_data"
    }
   ],
   "source": [
    "_,a=plt.subplots(1,3,figsize=(9,3))\n",
    "for i in range(1,4):\n",
    "    sb.boxenplot(y=sample_dict[i][\"age\"],ax=a[i-1])"
   ]
  },
  {
   "cell_type": "markdown",
   "metadata": {},
   "source": [
    "이상치는 존재하지만 중앙값이 40~50 근방에 존재함을 보인다"
   ]
  },
  {
   "cell_type": "markdown",
   "metadata": {},
   "source": [
    "- T-test를 수행하기 위해선 표본 데이터의 정규성이 필요하다"
   ]
  },
  {
   "cell_type": "code",
   "execution_count": 8,
   "metadata": {},
   "outputs": [
    {
     "data": {
      "text/plain": [
       "count    50.000000\n",
       "mean     49.500000\n",
       "std      13.785899\n",
       "min      20.000000\n",
       "25%      41.250000\n",
       "50%      50.000000\n",
       "75%      55.000000\n",
       "max      80.000000\n",
       "Name: age, dtype: float64"
      ]
     },
     "execution_count": 8,
     "metadata": {},
     "output_type": "execute_result"
    }
   ],
   "source": [
    "sample_dict[1][\"age\"].describe()"
   ]
  },
  {
   "cell_type": "markdown",
   "metadata": {},
   "source": [
    "#### 정규성을 확인하는 여러가지 방법"
   ]
  },
  {
   "cell_type": "markdown",
   "metadata": {},
   "source": [
    "- 1. QQ plot"
   ]
  },
  {
   "cell_type": "code",
   "execution_count": 9,
   "metadata": {},
   "outputs": [],
   "source": [
    "import scipy.stats as sps"
   ]
  },
  {
   "cell_type": "code",
   "execution_count": 10,
   "metadata": {},
   "outputs": [
    {
     "data": {
      "image/png": "[encoded data removed]",
      "text/plain": [
       "<Figure size 600x300 with 1 Axes>"
      ]
     },
     "metadata": {},
     "output_type": "display_data"
    }
   ],
   "source": [
    "plt.figure(figsize=(6,3))\n",
    "sps.probplot(sample_dict[1][\"age\"],dist='norm',plot=plt)\n",
    "plt.show()"
   ]
  },
  {
   "cell_type": "markdown",
   "metadata": {},
   "source": [
    "- 2. 정규성 테스트"
   ]
  },
  {
   "cell_type": "code",
   "execution_count": 11,
   "metadata": {},
   "outputs": [
    {
     "data": {
      "text/plain": [
       "ShapiroResult(statistic=0.9687645435333252, pvalue=0.20606505870819092)"
      ]
     },
     "execution_count": 11,
     "metadata": {},
     "output_type": "execute_result"
    }
   ],
   "source": [
    "sps.shapiro(sample_dict[1][\"age\"])"
   ]
  },
  {
   "cell_type": "markdown",
   "metadata": {},
   "source": [
    "위의 결과를 볼때, 정규분포를 따른다고 생각할 수 있다"
   ]
  },
  {
   "cell_type": "code",
   "execution_count": 12,
   "metadata": {},
   "outputs": [
    {
     "data": {
      "image/png": "[encoded data removed]",
      "text/plain": [
       "<Figure size 800x300 with 1 Axes>"
      ]
     },
     "metadata": {},
     "output_type": "display_data"
    }
   ],
   "source": [
    "plt.figure(figsize=(8,3))\n",
    "sb.histplot(sample_dict[1][\"age\"],bins=13)\n",
    "plt.show()"
   ]
  },
  {
   "cell_type": "markdown",
   "metadata": {},
   "source": [
    "### 단일 표본 T-test\n",
    "> 물론 표본의 수가 30을 넘어가므로 Z-test를 해도 괜찮다         \n",
    "> 어차피 n이 클수록 t분포는 z분포와 비슷해지므로 큰 상관이 없다"
   ]
  },
  {
   "cell_type": "code",
   "execution_count": 13,
   "metadata": {},
   "outputs": [
    {
     "data": {
      "text/plain": [
       "TtestResult(statistic=1.2823007845327954, pvalue=0.20577064353344188, df=49)"
      ]
     },
     "execution_count": 13,
     "metadata": {},
     "output_type": "execute_result"
    }
   ],
   "source": [
    "sps.ttest_1samp(sample_dict[1][\"age\"],47)"
   ]
  },
  {
   "cell_type": "markdown",
   "metadata": {},
   "source": [
    "- 시각자료(pvalue)\n",
    "https://westshine-data-analysis.tistory.com/133"
   ]
  },
  {
   "cell_type": "markdown",
   "metadata": {},
   "source": [
    "위의 해석은 다음과 같다.\n",
    "- 1. T_statistic 값이 다음 1.28보다 크거나 작은 값의 존재 확률이 20%(각각 10%)[pvalue의 해석]이다.\n",
    "- 2. T_statistic값이 위의 검증값보다 크거나 작다는 것은 모집단의 평균이 47보다 작거나 크다는 것이다."
   ]
  },
  {
   "cell_type": "markdown",
   "metadata": {},
   "source": [
    "### 신뢰구간을 구해보자 (유의수준 5%)"
   ]
  },
  {
   "cell_type": "code",
   "execution_count": 14,
   "metadata": {},
   "outputs": [],
   "source": [
    "import numpy as np"
   ]
  },
  {
   "cell_type": "code",
   "execution_count": 21,
   "metadata": {},
   "outputs": [],
   "source": [
    "interval=sps.t.interval(0.95,len(sample_dict[1])-1,loc=np.mean(sample_dict[1][\"age\"]),scale=sps.sem(sample_dict[1][\"age\"]))"
   ]
  },
  {
   "cell_type": "code",
   "execution_count": 22,
   "metadata": {},
   "outputs": [
    {
     "data": {
      "text/plain": [
       "(45.58209076464576, 53.41790923535424)"
      ]
     },
     "execution_count": 22,
     "metadata": {},
     "output_type": "execute_result"
    }
   ],
   "source": [
    "interval"
   ]
  },
  {
   "cell_type": "markdown",
   "metadata": {},
   "source": [
    "#### 해석\n",
    "- 1. 유의수준 5%에서 추정한 모수의 구간은 위와 같다"
   ]
  },
  {
   "cell_type": "markdown",
   "metadata": {},
   "source": [
    "### 시각화"
   ]
  },
  {
   "cell_type": "code",
   "execution_count": 28,
   "metadata": {},
   "outputs": [
    {
     "data": {
      "image/png": "[encoded data removed]",
      "text/plain": [
       "<Figure size 800x300 with 1 Axes>"
      ]
     },
     "metadata": {},
     "output_type": "display_data"
    }
   ],
   "source": [
    "plt.figure(figsize=(8,3))\n",
    "sb.kdeplot(data=sample_dict[1][\"age\"],color=\"Red\")\n",
    "sb.lineplot(x=[interval[0],interval[0]],y=[0,0.06],color=\"Blue\")\n",
    "sb.lineplot(x=[interval[1],interval[1]],y=[0,0.06],color=\"Blue\")\n",
    "plt.show()\n"
   ]
  },
  {
   "cell_type": "markdown",
   "metadata": {},
   "source": [
    "위의 그림을 해석하는데 굉장히 주의해야한다.         \n",
    "왜냐하면 모수의 신뢰구간이므로, 마치 표본에서 저 부분이 중요해보이는 그래프로 오해받기 쉽다.            \n",
    "오히려 반대로, 중심극한정리에 의해 해당 표본의 평균은 정규분포를 따를것이며, 헤딩사실로 모수는 저 구간사이에 존재할 것이라고 생각하는 것이다"
   ]
  },
  {
   "cell_type": "markdown",
   "metadata": {},
   "source": []
  }
 ],
 "metadata": {
  "kernelspec": {
   "display_name": "Python 3",
   "language": "python",
   "name": "python3"
  },
  "language_info": {
   "codemirror_mode": {
    "name": "ipython",
    "version": 3
   },
   "file_extension": ".py",
   "mimetype": "text/x-python",
   "name": "python",
   "nbconvert_exporter": "python",
   "pygments_lexer": "ipython3",
   "version": "3.11.3"
  },
  "orig_nbformat": 4
 },
 "nbformat": 4,
 "nbformat_minor": 2
}
