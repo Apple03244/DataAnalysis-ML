{
 "cells": [
  {
   "cell_type": "markdown",
   "metadata": {},
   "source": [
    "# 1장. 데이터 기초 체력 기르기\n",
    "## 1.1 왜 통계학을 배워야하나?"
   ]
  },
  {
   "cell_type": "markdown",
   "metadata": {},
   "source": [
    "### 요약\n",
    "+ statistics : 자료를 수집,분석하여 효율적인 의사결정을 하는 방법을 연구하는것 \n",
    "+ descriptive : 서술(묘사)하는, 사실에 근거한, 설명적인.."
   ]
  },
  {
   "cell_type": "markdown",
   "metadata": {},
   "source": [
    "## 2.1 모집단과 표본, 전수조사와 표본조사"
   ]
  },
  {
   "cell_type": "markdown",
   "metadata": {},
   "source": [
    "### 요약\n",
    "+ population(모집단)\n",
    "+ sample(표본)"
   ]
  },
  {
   "cell_type": "markdown",
   "metadata": {},
   "source": [
    "#### 표본조사 방법\n",
    "* 표지 재포획법(marking and recapture method)"
   ]
  },
  {
   "cell_type": "markdown",
   "metadata": {},
   "source": [
    "#### 표본추출에서 일어나는 편향의 종류\n",
    "* sampling error : 모집단과 표본 사이의 자연스러운 변동\n",
    "* non-samplig error : 그외의 변동값\n",
    "    + 발생원인 : 편향(bias)<br>"
   ]
  },
  {
   "cell_type": "markdown",
   "metadata": {},
   "source": [
    "#### 표본 추출시 발생하는 bias 종류\n",
    "\n",
    "|종류|설명|\n",
    "|---|---|\n",
    "|sampling selection bias|추출과정에서 체계적인 경향이 들어간 것|\n",
    "|household bias|부분집단 단위에서 하나의 관측치를 추출할때 큰 부분집단에서 더 많은 관측치 개수가 발생|\n",
    "|non-response bias|응답하지 않는 사람에게 체계적인 규칙이 있을 때|\n",
    "|response bias|그 번대|"
   ]
  },
  {
   "cell_type": "markdown",
   "metadata": {},
   "source": [
    "### 인지적 편항의 종류"
   ]
  },
  {
   "cell_type": "markdown",
   "metadata": {},
   "source": [
    "|종류|설명|\n",
    "|---|---|\n",
    "|confirmation bias|확증편향: 자신이 믿는대로 정보를 받아들이는 것|\n",
    "|anchoring bias|기준점 편향: 처음 수집한 정보에 매몰되는 것|\n",
    "|choice supportive bias|선택 지원 편향: 본인이 의사결정을 내리는 순간 그 선택의 긍정적인 부분위주로 생각하는 것|\n",
    "|demonitor bias|분모 편향: 분수전체가 아닌 분자에만 집중(즉 비율을 고려하지 않음)|\n",
    "|survivship bias|생존 편향: 소수의 성공사례에 집중|"
   ]
  },
  {
   "cell_type": "markdown",
   "metadata": {},
   "source": [
    "## 3. 척도(scale)"
   ]
  },
  {
   "cell_type": "markdown",
   "metadata": {},
   "source": [
    "|종류|세부분류|설명|\n",
    "|--|--|--|\n",
    "|질적척도|명목변수|nomal scale|\n",
    "||서열척도|ordinal scale|\n",
    "|양적척도|등간척도|intercal scale|\n",
    "||비율척도|rario scale|"
   ]
  },
  {
   "cell_type": "markdown",
   "metadata": {},
   "source": [
    "## 4. 중심 성향의 측정"
   ]
  },
  {
   "cell_type": "markdown",
   "metadata": {},
   "source": [
    "### 요약\n",
    "* degree of free : 자유도\n",
    "    - 자유롭게 선택할 수 있는 숫자의 개수<br>\n",
    "    - 예를 들어 평균이 10인 숫자 3개를 선택한다 했을 떄, 자유도는 2이다\n",
    "* 변동계수(coefficient of variance,CV)\n",
    "    - 표준편차를 산술평균으로 나눈 것.\n",
    "* skewness(왜도)\n",
    "    - $3(mean-median)/\\sigma$\n",
    "* kurtosis(첨도)(경우에 따라 $-3$을 추가로)\n",
    "    - $\\frac{\\sum(관측치-표본평균)^4}{전체관측수}\\over (표본분산)^2$"
   ]
  },
  {
   "cell_type": "markdown",
   "metadata": {},
   "source": [
    "## 5. 확률변수"
   ]
  },
  {
   "cell_type": "markdown",
   "metadata": {},
   "source": [
    "### 요약\n",
    "+ 베이지안 이론<br>\n",
    "    \"P(A)$와 $P(B|A)$를 알면 $P(A|B)$를 알수있다\""
   ]
  },
  {
   "cell_type": "markdown",
   "metadata": {},
   "source": [
    "## 6. 확률분포\n",
    "+ 확률분포 : 통계적 모델의 기본\n",
    "    + 이산확률 분포\n",
    "        - 균등(확률)분포<br>\n",
    "        $P(X=x)$=$x\\over n$ where n=총 실행횟수\n",
    "        - 이항 분포\n",
    "        - 초기하 분포\n",
    "        - 포아송 분포\n",
    "    + 연속확률 분포\n",
    "        - 정규분포\n",
    "        - t 분포\n",
    "        - 카이제곱 분포\n",
    "        - 지수 분포\n",
    "+ Centerial Limit Theorem(CLT)\n",
    " : 중심극정리"
   ]
  },
  {
   "cell_type": "markdown",
   "metadata": {},
   "source": [
    "# 7. 가설검정"
   ]
  },
  {
   "cell_type": "markdown",
   "metadata": {},
   "source": [
    "+ 가설(Hypothesis)\n",
    "    - Null Hypothesis ($H_0$)\n",
    "    - Alternative Hypothesis ($H_1$)\n",
    "+ Error\n",
    "    - Type 1 Error ($\\alpha$) : $H_0$가 참임에도 $H_1$을 채택할 확률\n",
    "    - Type 2 Error ($\\beta$)"
   ]
  },
  {
   "cell_type": "markdown",
   "metadata": {},
   "source": []
  }
 ],
 "metadata": {
  "language_info": {
   "name": "python"
  },
  "orig_nbformat": 4
 },
 "nbformat": 4,
 "nbformat_minor": 2
}
