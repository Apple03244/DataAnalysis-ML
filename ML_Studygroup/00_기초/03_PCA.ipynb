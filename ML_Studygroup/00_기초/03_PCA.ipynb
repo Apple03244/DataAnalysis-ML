{
 "cells": [
  {
   "cell_type": "markdown",
   "metadata": {},
   "source": [
    "Partical Component Analysis\n",
    "========"
   ]
  },
  {
   "cell_type": "code",
   "execution_count": 144,
   "metadata": {},
   "outputs": [],
   "source": [
    "import pandas as pd\n",
    "import numpy as np"
   ]
  },
  {
   "cell_type": "code",
   "execution_count": 145,
   "metadata": {},
   "outputs": [],
   "source": [
    "D=pd.read_excel(\"http://data.hossam.kr/E04/boston.xlsx\")"
   ]
  },
  {
   "cell_type": "code",
   "execution_count": 146,
   "metadata": {},
   "outputs": [
    {
     "name": "stdout",
     "output_type": "stream",
     "text": [
      "<class 'pandas.core.frame.DataFrame'>\n",
      "RangeIndex: 506 entries, 0 to 505\n",
      "Data columns (total 15 columns):\n",
      " #   Column     Non-Null Count  Dtype  \n",
      "---  ------     --------------  -----  \n",
      " 0   CRIM       506 non-null    float64\n",
      " 1   ZN         506 non-null    float64\n",
      " 2   INDUS      506 non-null    float64\n",
      " 3   CHAS       506 non-null    int64  \n",
      " 4   NOX        506 non-null    float64\n",
      " 5   RM         506 non-null    float64\n",
      " 6   AGE        506 non-null    float64\n",
      " 7   DIS        506 non-null    float64\n",
      " 8   RAD        506 non-null    int64  \n",
      " 9   TAX        506 non-null    int64  \n",
      " 10  PTRATIO    506 non-null    float64\n",
      " 11  B          506 non-null    float64\n",
      " 12  LSTAT      506 non-null    float64\n",
      " 13  MEDV       506 non-null    float64\n",
      " 14  CAT. MEDV  506 non-null    int64  \n",
      "dtypes: float64(11), int64(4)\n",
      "memory usage: 59.4 KB\n"
     ]
    }
   ],
   "source": [
    "D.info()"
   ]
  },
  {
   "cell_type": "markdown",
   "metadata": {},
   "source": [
    "## PCA 에 대한 과정에 대해 알아보자"
   ]
  },
  {
   "cell_type": "code",
   "execution_count": 147,
   "metadata": {},
   "outputs": [],
   "source": [
    "data=pd.DataFrame(D)\n",
    "y=data[\"MEDV\"]\n",
    "x=data[data.columns.difference([\"MEDV\"])]\n",
    "x=x.drop(columns=['CAT. MEDV',\"CHAS\"],axis=1)"
   ]
  },
  {
   "cell_type": "markdown",
   "metadata": {},
   "source": [
    "### step1. 공분산 행렬부터 구하기"
   ]
  },
  {
   "cell_type": "code",
   "execution_count": 148,
   "metadata": {},
   "outputs": [],
   "source": [
    "import numpy as np\n",
    "import scipy as sp\n",
    "import sklearn.preprocessing as skpre"
   ]
  },
  {
   "cell_type": "markdown",
   "metadata": {},
   "source": [
    "#### 공분산 행렬을 구하기 이전에 전부 min_max scale과 z-score scale을 진행하겠음"
   ]
  },
  {
   "cell_type": "code",
   "execution_count": 149,
   "metadata": {},
   "outputs": [],
   "source": [
    "# 여기서 주의할 점은 PCA 검사는 이상치에 영향을 많이 받을 수 밖에 없다\n",
    "pre_x=x.apply(skpre.minmax_scale) #min_max\n",
    "pre_x=x.apply(skpre.scale) #z-score"
   ]
  },
  {
   "cell_type": "markdown",
   "metadata": {},
   "source": [
    "#### 공분산 행렬 구하기"
   ]
  },
  {
   "cell_type": "code",
   "execution_count": 150,
   "metadata": {},
   "outputs": [],
   "source": [
    "# 직접계산\n",
    "corr_matrix=pre_x.T@pre_x/len(pre_x)"
   ]
  },
  {
   "cell_type": "code",
   "execution_count": 151,
   "metadata": {},
   "outputs": [
    {
     "data": {
      "text/html": [
       "<div>\n",
       "<style scoped>\n",
       "    .dataframe tbody tr th:only-of-type {\n",
       "        vertical-align: middle;\n",
       "    }\n",
       "\n",
       "    .dataframe tbody tr th {\n",
       "        vertical-align: top;\n",
       "    }\n",
       "\n",
       "    .dataframe thead th {\n",
       "        text-align: right;\n",
       "    }\n",
       "</style>\n",
       "<table border=\"1\" class=\"dataframe\">\n",
       "  <thead>\n",
       "    <tr style=\"text-align: right;\">\n",
       "      <th></th>\n",
       "      <th>AGE</th>\n",
       "      <th>B</th>\n",
       "      <th>CRIM</th>\n",
       "      <th>DIS</th>\n",
       "      <th>INDUS</th>\n",
       "      <th>LSTAT</th>\n",
       "      <th>NOX</th>\n",
       "      <th>PTRATIO</th>\n",
       "      <th>RAD</th>\n",
       "      <th>RM</th>\n",
       "      <th>TAX</th>\n",
       "      <th>ZN</th>\n",
       "    </tr>\n",
       "  </thead>\n",
       "  <tbody>\n",
       "    <tr>\n",
       "      <th>AGE</th>\n",
       "      <td>1.000000</td>\n",
       "      <td>-0.273534</td>\n",
       "      <td>0.352734</td>\n",
       "      <td>-0.747881</td>\n",
       "      <td>0.644779</td>\n",
       "      <td>0.602339</td>\n",
       "      <td>0.731470</td>\n",
       "      <td>0.261515</td>\n",
       "      <td>0.456022</td>\n",
       "      <td>-0.240265</td>\n",
       "      <td>0.506456</td>\n",
       "      <td>-0.569537</td>\n",
       "    </tr>\n",
       "    <tr>\n",
       "      <th>B</th>\n",
       "      <td>-0.273534</td>\n",
       "      <td>1.000000</td>\n",
       "      <td>-0.385064</td>\n",
       "      <td>0.291512</td>\n",
       "      <td>-0.356977</td>\n",
       "      <td>-0.366087</td>\n",
       "      <td>-0.380051</td>\n",
       "      <td>-0.177383</td>\n",
       "      <td>-0.444413</td>\n",
       "      <td>0.128069</td>\n",
       "      <td>-0.441808</td>\n",
       "      <td>0.175520</td>\n",
       "    </tr>\n",
       "    <tr>\n",
       "      <th>CRIM</th>\n",
       "      <td>0.352734</td>\n",
       "      <td>-0.385064</td>\n",
       "      <td>1.000000</td>\n",
       "      <td>-0.379670</td>\n",
       "      <td>0.406583</td>\n",
       "      <td>0.455621</td>\n",
       "      <td>0.420972</td>\n",
       "      <td>0.289946</td>\n",
       "      <td>0.625505</td>\n",
       "      <td>-0.219247</td>\n",
       "      <td>0.582764</td>\n",
       "      <td>-0.200469</td>\n",
       "    </tr>\n",
       "    <tr>\n",
       "      <th>DIS</th>\n",
       "      <td>-0.747881</td>\n",
       "      <td>0.291512</td>\n",
       "      <td>-0.379670</td>\n",
       "      <td>1.000000</td>\n",
       "      <td>-0.708027</td>\n",
       "      <td>-0.496996</td>\n",
       "      <td>-0.769230</td>\n",
       "      <td>-0.232471</td>\n",
       "      <td>-0.494588</td>\n",
       "      <td>0.205246</td>\n",
       "      <td>-0.534432</td>\n",
       "      <td>0.664408</td>\n",
       "    </tr>\n",
       "    <tr>\n",
       "      <th>INDUS</th>\n",
       "      <td>0.644779</td>\n",
       "      <td>-0.356977</td>\n",
       "      <td>0.406583</td>\n",
       "      <td>-0.708027</td>\n",
       "      <td>1.000000</td>\n",
       "      <td>0.603800</td>\n",
       "      <td>0.763651</td>\n",
       "      <td>0.383248</td>\n",
       "      <td>0.595129</td>\n",
       "      <td>-0.391676</td>\n",
       "      <td>0.720760</td>\n",
       "      <td>-0.533828</td>\n",
       "    </tr>\n",
       "    <tr>\n",
       "      <th>LSTAT</th>\n",
       "      <td>0.602339</td>\n",
       "      <td>-0.366087</td>\n",
       "      <td>0.455621</td>\n",
       "      <td>-0.496996</td>\n",
       "      <td>0.603800</td>\n",
       "      <td>1.000000</td>\n",
       "      <td>0.590879</td>\n",
       "      <td>0.374044</td>\n",
       "      <td>0.488676</td>\n",
       "      <td>-0.613808</td>\n",
       "      <td>0.543993</td>\n",
       "      <td>-0.412995</td>\n",
       "    </tr>\n",
       "    <tr>\n",
       "      <th>NOX</th>\n",
       "      <td>0.731470</td>\n",
       "      <td>-0.380051</td>\n",
       "      <td>0.420972</td>\n",
       "      <td>-0.769230</td>\n",
       "      <td>0.763651</td>\n",
       "      <td>0.590879</td>\n",
       "      <td>1.000000</td>\n",
       "      <td>0.188933</td>\n",
       "      <td>0.611441</td>\n",
       "      <td>-0.302188</td>\n",
       "      <td>0.668023</td>\n",
       "      <td>-0.516604</td>\n",
       "    </tr>\n",
       "    <tr>\n",
       "      <th>PTRATIO</th>\n",
       "      <td>0.261515</td>\n",
       "      <td>-0.177383</td>\n",
       "      <td>0.289946</td>\n",
       "      <td>-0.232471</td>\n",
       "      <td>0.383248</td>\n",
       "      <td>0.374044</td>\n",
       "      <td>0.188933</td>\n",
       "      <td>1.000000</td>\n",
       "      <td>0.464741</td>\n",
       "      <td>-0.355501</td>\n",
       "      <td>0.460853</td>\n",
       "      <td>-0.391679</td>\n",
       "    </tr>\n",
       "    <tr>\n",
       "      <th>RAD</th>\n",
       "      <td>0.456022</td>\n",
       "      <td>-0.444413</td>\n",
       "      <td>0.625505</td>\n",
       "      <td>-0.494588</td>\n",
       "      <td>0.595129</td>\n",
       "      <td>0.488676</td>\n",
       "      <td>0.611441</td>\n",
       "      <td>0.464741</td>\n",
       "      <td>1.000000</td>\n",
       "      <td>-0.209847</td>\n",
       "      <td>0.910228</td>\n",
       "      <td>-0.311948</td>\n",
       "    </tr>\n",
       "    <tr>\n",
       "      <th>RM</th>\n",
       "      <td>-0.240265</td>\n",
       "      <td>0.128069</td>\n",
       "      <td>-0.219247</td>\n",
       "      <td>0.205246</td>\n",
       "      <td>-0.391676</td>\n",
       "      <td>-0.613808</td>\n",
       "      <td>-0.302188</td>\n",
       "      <td>-0.355501</td>\n",
       "      <td>-0.209847</td>\n",
       "      <td>1.000000</td>\n",
       "      <td>-0.292048</td>\n",
       "      <td>0.311991</td>\n",
       "    </tr>\n",
       "    <tr>\n",
       "      <th>TAX</th>\n",
       "      <td>0.506456</td>\n",
       "      <td>-0.441808</td>\n",
       "      <td>0.582764</td>\n",
       "      <td>-0.534432</td>\n",
       "      <td>0.720760</td>\n",
       "      <td>0.543993</td>\n",
       "      <td>0.668023</td>\n",
       "      <td>0.460853</td>\n",
       "      <td>0.910228</td>\n",
       "      <td>-0.292048</td>\n",
       "      <td>1.000000</td>\n",
       "      <td>-0.314563</td>\n",
       "    </tr>\n",
       "    <tr>\n",
       "      <th>ZN</th>\n",
       "      <td>-0.569537</td>\n",
       "      <td>0.175520</td>\n",
       "      <td>-0.200469</td>\n",
       "      <td>0.664408</td>\n",
       "      <td>-0.533828</td>\n",
       "      <td>-0.412995</td>\n",
       "      <td>-0.516604</td>\n",
       "      <td>-0.391679</td>\n",
       "      <td>-0.311948</td>\n",
       "      <td>0.311991</td>\n",
       "      <td>-0.314563</td>\n",
       "      <td>1.000000</td>\n",
       "    </tr>\n",
       "  </tbody>\n",
       "</table>\n",
       "</div>"
      ],
      "text/plain": [
       "              AGE         B      CRIM       DIS     INDUS     LSTAT       NOX  \\\n",
       "AGE      1.000000 -0.273534  0.352734 -0.747881  0.644779  0.602339  0.731470   \n",
       "B       -0.273534  1.000000 -0.385064  0.291512 -0.356977 -0.366087 -0.380051   \n",
       "CRIM     0.352734 -0.385064  1.000000 -0.379670  0.406583  0.455621  0.420972   \n",
       "DIS     -0.747881  0.291512 -0.379670  1.000000 -0.708027 -0.496996 -0.769230   \n",
       "INDUS    0.644779 -0.356977  0.406583 -0.708027  1.000000  0.603800  0.763651   \n",
       "LSTAT    0.602339 -0.366087  0.455621 -0.496996  0.603800  1.000000  0.590879   \n",
       "NOX      0.731470 -0.380051  0.420972 -0.769230  0.763651  0.590879  1.000000   \n",
       "PTRATIO  0.261515 -0.177383  0.289946 -0.232471  0.383248  0.374044  0.188933   \n",
       "RAD      0.456022 -0.444413  0.625505 -0.494588  0.595129  0.488676  0.611441   \n",
       "RM      -0.240265  0.128069 -0.219247  0.205246 -0.391676 -0.613808 -0.302188   \n",
       "TAX      0.506456 -0.441808  0.582764 -0.534432  0.720760  0.543993  0.668023   \n",
       "ZN      -0.569537  0.175520 -0.200469  0.664408 -0.533828 -0.412995 -0.516604   \n",
       "\n",
       "          PTRATIO       RAD        RM       TAX        ZN  \n",
       "AGE      0.261515  0.456022 -0.240265  0.506456 -0.569537  \n",
       "B       -0.177383 -0.444413  0.128069 -0.441808  0.175520  \n",
       "CRIM     0.289946  0.625505 -0.219247  0.582764 -0.200469  \n",
       "DIS     -0.232471 -0.494588  0.205246 -0.534432  0.664408  \n",
       "INDUS    0.383248  0.595129 -0.391676  0.720760 -0.533828  \n",
       "LSTAT    0.374044  0.488676 -0.613808  0.543993 -0.412995  \n",
       "NOX      0.188933  0.611441 -0.302188  0.668023 -0.516604  \n",
       "PTRATIO  1.000000  0.464741 -0.355501  0.460853 -0.391679  \n",
       "RAD      0.464741  1.000000 -0.209847  0.910228 -0.311948  \n",
       "RM      -0.355501 -0.209847  1.000000 -0.292048  0.311991  \n",
       "TAX      0.460853  0.910228 -0.292048  1.000000 -0.314563  \n",
       "ZN      -0.391679 -0.311948  0.311991 -0.314563  1.000000  "
      ]
     },
     "execution_count": 151,
     "metadata": {},
     "output_type": "execute_result"
    }
   ],
   "source": [
    "pre_x.corr(method='pearson')"
   ]
  },
  {
   "cell_type": "markdown",
   "metadata": {},
   "source": [
    "#### 고유값 분해\n",
    "numpy 를 이용하면 쉽게 할 수 있음"
   ]
  },
  {
   "cell_type": "code",
   "execution_count": 152,
   "metadata": {},
   "outputs": [],
   "source": [
    "eigen_value,eigen_vector=np.linalg.eig(corr_matrix)"
   ]
  },
  {
   "cell_type": "markdown",
   "metadata": {},
   "source": [
    "#### eigen_value와 eigen_vactor 정렬"
   ]
  },
  {
   "cell_type": "code",
   "execution_count": 153,
   "metadata": {},
   "outputs": [
    {
     "data": {
      "text/plain": [
       "array([6.1267188 , 1.34247929, 1.17978483, 0.83506595, 0.66467141,\n",
       "       0.53740698, 0.39641745, 0.06464564, 0.27706753, 0.22026544,\n",
       "       0.1693152 , 0.18616148])"
      ]
     },
     "execution_count": 153,
     "metadata": {},
     "output_type": "execute_result"
    }
   ],
   "source": [
    "eigen_value"
   ]
  },
  {
   "cell_type": "code",
   "execution_count": 154,
   "metadata": {},
   "outputs": [
    {
     "data": {
      "text/plain": [
       "[(0, 6.126718796151475),\n",
       " (1, 1.342479287575696),\n",
       " (2, 1.179784833120062),\n",
       " (3, 0.8350659474013684),\n",
       " (4, 0.6646714055381014),\n",
       " (5, 0.5374069846919036),\n",
       " (6, 0.39641744958183045),\n",
       " (8, 0.2770675290521341),\n",
       " (9, 0.2202654428851525),\n",
       " (11, 0.18616147945240596),\n",
       " (10, 0.16931519958396934),\n",
       " (7, 0.06464564496590483)]"
      ]
     },
     "execution_count": 154,
     "metadata": {},
     "output_type": "execute_result"
    }
   ],
   "source": [
    "#정렬을 해줬다는걸 알수있지?\n",
    "sort_ls=[(x,y) for x,y  in enumerate(eigen_value)]\n",
    "sort_ls.sort(key=lambda x:x[1],reverse=True)\n",
    "sort_ls"
   ]
  },
  {
   "cell_type": "markdown",
   "metadata": {},
   "source": [
    "#### 위의 결과를 통한 주성분 결정"
   ]
  },
  {
   "cell_type": "markdown",
   "metadata": {},
   "source": [
    "#### 제 1 주성분"
   ]
  },
  {
   "cell_type": "code",
   "execution_count": 170,
   "metadata": {},
   "outputs": [
    {
     "data": {
      "text/plain": [
       "0     -2.973397\n",
       "1     -7.630666\n",
       "2     -9.317063\n",
       "3     -8.004482\n",
       "4     -8.830923\n",
       "         ...   \n",
       "501   -3.845866\n",
       "502   -3.054554\n",
       "503   -7.137883\n",
       "504   -6.250566\n",
       "505   -3.159797\n",
       "Length: 506, dtype: float64"
      ]
     },
     "execution_count": 170,
     "metadata": {},
     "output_type": "execute_result"
    }
   ],
   "source": [
    "pc1=pre_x@eigen_vector[0]*eigen_value[0]\n",
    "pc1"
   ]
  },
  {
   "cell_type": "code",
   "execution_count": 168,
   "metadata": {},
   "outputs": [
    {
     "data": {
      "text/plain": [
       "0      1.211675\n",
       "1      0.457248\n",
       "2      0.358049\n",
       "3      0.668794\n",
       "4      0.806971\n",
       "         ...   \n",
       "501    0.243842\n",
       "502    0.240031\n",
       "503    0.505200\n",
       "504    0.433823\n",
       "505    0.191780\n",
       "Length: 506, dtype: float64"
      ]
     },
     "execution_count": 168,
     "metadata": {},
     "output_type": "execute_result"
    }
   ],
   "source": [
    "pc2=pre_x@eigen_vector[1]*eigen_value[1]\n",
    "pc2"
   ]
  },
  {
   "cell_type": "markdown",
   "metadata": {},
   "source": [
    "### 모듈을 이용해 구해보자"
   ]
  },
  {
   "cell_type": "code",
   "execution_count": 157,
   "metadata": {},
   "outputs": [],
   "source": [
    "from sklearn.decomposition import PCA"
   ]
  },
  {
   "cell_type": "code",
   "execution_count": 158,
   "metadata": {},
   "outputs": [
    {
     "data": {
      "text/plain": [
       "12"
      ]
     },
     "execution_count": 158,
     "metadata": {},
     "output_type": "execute_result"
    }
   ],
   "source": [
    "len(pre_x.columns)"
   ]
  },
  {
   "cell_type": "code",
   "execution_count": 162,
   "metadata": {},
   "outputs": [],
   "source": [
    "model=PCA(n_components=2)"
   ]
  },
  {
   "cell_type": "code",
   "execution_count": 163,
   "metadata": {},
   "outputs": [],
   "source": [
    "fit=model.fit_transform(pre_x)"
   ]
  },
  {
   "cell_type": "code",
   "execution_count": 164,
   "metadata": {},
   "outputs": [
    {
     "data": {
      "text/plain": [
       "array([[-2.09723388, -0.72017904],\n",
       "       [-1.456003  , -0.94769427],\n",
       "       [-2.07345404, -0.62533575],\n",
       "       ...,\n",
       "       [-0.31128314, -1.39524641],\n",
       "       [-0.26939083, -1.35059004],\n",
       "       [-0.12452556, -1.34293829]])"
      ]
     },
     "execution_count": 164,
     "metadata": {},
     "output_type": "execute_result"
    }
   ],
   "source": [
    "fit"
   ]
  },
  {
   "cell_type": "code",
   "execution_count": null,
   "metadata": {},
   "outputs": [],
   "source": []
  }
 ],
 "metadata": {
  "kernelspec": {
   "display_name": "Python 3",
   "language": "python",
   "name": "python3"
  },
  "language_info": {
   "codemirror_mode": {
    "name": "ipython",
    "version": 3
   },
   "file_extension": ".py",
   "mimetype": "text/x-python",
   "name": "python",
   "nbconvert_exporter": "python",
   "pygments_lexer": "ipython3",
   "version": "3.11.3"
  },
  "orig_nbformat": 4
 },
 "nbformat": 4,
 "nbformat_minor": 2
}
