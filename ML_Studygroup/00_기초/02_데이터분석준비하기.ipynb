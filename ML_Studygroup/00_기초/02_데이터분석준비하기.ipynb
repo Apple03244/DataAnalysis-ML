{
 "cells": [
  {
   "cell_type": "markdown",
   "metadata": {},
   "source": [
    "# 데이터 시각화 및 탐색적 데이터 분석(EDA)"
   ]
  },
  {
   "cell_type": "code",
   "execution_count": 1,
   "metadata": {},
   "outputs": [],
   "source": [
    "import pandas as pd\n",
    "import matplotlib.pyplot as plt\n",
    "import seaborn as sb"
   ]
  },
  {
   "cell_type": "markdown",
   "metadata": {},
   "source": [
    "## 데이터 불러오기"
   ]
  },
  {
   "cell_type": "code",
   "execution_count": 2,
   "metadata": {},
   "outputs": [],
   "source": [
    "# Data=pd.read_excel(r\"C:\\Users\\SAMSUNG\\Desktop\\koweps_2022\\컬렴명_전처리_가구용.xlsx\")\n",
    "# data=pd.DataFrame(Data)"
   ]
  },
  {
   "cell_type": "code",
   "execution_count": 3,
   "metadata": {},
   "outputs": [
    {
     "ename": "NameError",
     "evalue": "name 'data' is not defined",
     "output_type": "error",
     "traceback": [
      "\u001b[1;31m---------------------------------------------------------------------------\u001b[0m",
      "\u001b[1;31mNameError\u001b[0m                                 Traceback (most recent call last)",
      "Cell \u001b[1;32mIn[3], line 1\u001b[0m\n\u001b[1;32m----> 1\u001b[0m data\u001b[39m.\u001b[39mcolumns\u001b[39m=\u001b[39mdata\u001b[39m.\u001b[39mloc[\u001b[39m0\u001b[39m]\n\u001b[0;32m      2\u001b[0m data\u001b[39m.\u001b[39mdrop(index\u001b[39m=\u001b[39m[\u001b[39m0\u001b[39m,\u001b[39m1\u001b[39m],inplace\u001b[39m=\u001b[39m\u001b[39mTrue\u001b[39;00m)\n\u001b[0;32m      3\u001b[0m data\u001b[39m.\u001b[39mindex\u001b[39m=\u001b[39m\u001b[39mrange\u001b[39m(\u001b[39mlen\u001b[39m(data))\n",
      "\u001b[1;31mNameError\u001b[0m: name 'data' is not defined"
     ]
    }
   ],
   "source": [
    "data.columns=data.loc[0]\n",
    "data.drop(index=[0,1],inplace=True)\n",
    "data.index=range(len(data))"
   ]
  },
  {
   "cell_type": "markdown",
   "metadata": {},
   "source": [
    "### Sample Data 는 아래와 같다"
   ]
  },
  {
   "cell_type": "code",
   "execution_count": null,
   "metadata": {},
   "outputs": [],
   "source": [
    "sample=data[['가구원수','광열수도비']]"
   ]
  },
  {
   "cell_type": "code",
   "execution_count": null,
   "metadata": {},
   "outputs": [],
   "source": [
    "# 30개의 표본 추출\n",
    "test=sample.loc[:30]\n",
    "test=test.astype('int')"
   ]
  },
  {
   "cell_type": "markdown",
   "metadata": {},
   "source": [
    "## 공분산과 상관계수\n",
    "$COV(X_1,X_2)$ = $\\sum (X_i-\\bar X_i)(Y_i-\\bar Y_i)\\over n-1$\n",
    "- 자유도 : n-1"
   ]
  },
  {
   "cell_type": "markdown",
   "metadata": {},
   "source": [
    "### 직접 구하기"
   ]
  },
  {
   "cell_type": "code",
   "execution_count": null,
   "metadata": {},
   "outputs": [],
   "source": [
    "cov=pd.DataFrame({\"가구원수\":test[\"가구원수\"]-test[\"가구원수\"].mean(),\n",
    "                    \"광열수도비\":test[\"광열수도비\"]-test[\"광열수도비\"].mean()})"
   ]
  },
  {
   "cell_type": "code",
   "execution_count": null,
   "metadata": {},
   "outputs": [],
   "source": [
    "cov[\"cov_step1\"]=cov[\"가구원수\"]*cov[\"광열수도비\"]"
   ]
  },
  {
   "cell_type": "code",
   "execution_count": null,
   "metadata": {},
   "outputs": [
    {
     "data": {
      "text/plain": [
       "4.1430107526881725"
      ]
     },
     "execution_count": 8,
     "metadata": {},
     "output_type": "execute_result"
    }
   ],
   "source": [
    "cov[\"cov_step1\"].sum()/(len(cov)-1)"
   ]
  },
  {
   "cell_type": "markdown",
   "metadata": {},
   "source": [
    "### 모듈로 확인해보자"
   ]
  },
  {
   "cell_type": "code",
   "execution_count": null,
   "metadata": {},
   "outputs": [],
   "source": [
    "import numpy as np"
   ]
  },
  {
   "cell_type": "code",
   "execution_count": null,
   "metadata": {},
   "outputs": [
    {
     "data": {
      "text/plain": [
       "array([[ 1.76129032,  4.14301075],\n",
       "       [ 4.14301075, 27.32258065]])"
      ]
     },
     "execution_count": 10,
     "metadata": {},
     "output_type": "execute_result"
    }
   ],
   "source": [
    "np.cov(test[\"가구원수\"],test[\"광열수도비\"])"
   ]
  },
  {
   "cell_type": "markdown",
   "metadata": {},
   "source": [
    "+ 여기서 잠깐 확인할 것."
   ]
  },
  {
   "cell_type": "code",
   "execution_count": null,
   "metadata": {},
   "outputs": [
    {
     "data": {
      "text/plain": [
       "(1.7612903225806449, 27.322580645161292)"
      ]
     },
     "execution_count": 11,
     "metadata": {},
     "output_type": "execute_result"
    }
   ],
   "source": [
    "test[\"가구원수\"].var(),test[\"광열수도비\"].var()"
   ]
  },
  {
   "cell_type": "markdown",
   "metadata": {},
   "source": [
    "### 상관계수 : 공분산의 수치에 상대성을 더하기 위한 것\n",
    "    - 1. Pearson : 그들의 편차의 곱으로 나눈것"
   ]
  },
  {
   "cell_type": "markdown",
   "metadata": {},
   "source": [
    "#### 직접 구하기"
   ]
  },
  {
   "cell_type": "code",
   "execution_count": null,
   "metadata": {},
   "outputs": [],
   "source": [
    "pearson=(cov[\"cov_step1\"].sum()/(len(cov)-1))/(cov[\"가구원수\"].std()*cov[\"광열수도비\"].std())"
   ]
  },
  {
   "cell_type": "code",
   "execution_count": null,
   "metadata": {},
   "outputs": [
    {
     "data": {
      "text/plain": [
       "0.5972274046913278"
      ]
     },
     "execution_count": 13,
     "metadata": {},
     "output_type": "execute_result"
    }
   ],
   "source": [
    "pearson"
   ]
  },
  {
   "cell_type": "markdown",
   "metadata": {},
   "source": [
    "#### 모듈로 구헤보자"
   ]
  },
  {
   "cell_type": "code",
   "execution_count": null,
   "metadata": {},
   "outputs": [],
   "source": [
    "import scipy as sp"
   ]
  },
  {
   "cell_type": "code",
   "execution_count": null,
   "metadata": {},
   "outputs": [
    {
     "data": {
      "text/plain": [
       "PearsonRResult(statistic=0.597227404691328, pvalue=0.000389529221470018)"
      ]
     },
     "execution_count": 15,
     "metadata": {},
     "output_type": "execute_result"
    }
   ],
   "source": [
    "sp.stats.pearsonr(test[\"가구원수\"],test[\"광열수도비\"])"
   ]
  },
  {
   "cell_type": "markdown",
   "metadata": {},
   "source": [
    "* 참고로 알고가자       \n",
    "데이터 프레임에서 바로 알수 있다.. "
   ]
  },
  {
   "cell_type": "code",
   "execution_count": null,
   "metadata": {},
   "outputs": [
    {
     "data": {
      "text/html": [
       "<div>\n",
       "<style scoped>\n",
       "    .dataframe tbody tr th:only-of-type {\n",
       "        vertical-align: middle;\n",
       "    }\n",
       "\n",
       "    .dataframe tbody tr th {\n",
       "        vertical-align: top;\n",
       "    }\n",
       "\n",
       "    .dataframe thead th {\n",
       "        text-align: right;\n",
       "    }\n",
       "</style>\n",
       "<table border=\"1\" class=\"dataframe\">\n",
       "  <thead>\n",
       "    <tr style=\"text-align: right;\">\n",
       "      <th></th>\n",
       "      <th>가구원수</th>\n",
       "      <th>광열수도비</th>\n",
       "    </tr>\n",
       "    <tr>\n",
       "      <th>0</th>\n",
       "      <th></th>\n",
       "      <th></th>\n",
       "    </tr>\n",
       "  </thead>\n",
       "  <tbody>\n",
       "    <tr>\n",
       "      <th>가구원수</th>\n",
       "      <td>1.761290</td>\n",
       "      <td>4.143011</td>\n",
       "    </tr>\n",
       "    <tr>\n",
       "      <th>광열수도비</th>\n",
       "      <td>4.143011</td>\n",
       "      <td>27.322581</td>\n",
       "    </tr>\n",
       "  </tbody>\n",
       "</table>\n",
       "</div>"
      ],
      "text/plain": [
       "0          가구원수      광열수도비\n",
       "0                         \n",
       "가구원수   1.761290   4.143011\n",
       "광열수도비  4.143011  27.322581"
      ]
     },
     "execution_count": 16,
     "metadata": {},
     "output_type": "execute_result"
    }
   ],
   "source": [
    "test.cov()"
   ]
  },
  {
   "cell_type": "code",
   "execution_count": null,
   "metadata": {},
   "outputs": [
    {
     "data": {
      "text/html": [
       "<div>\n",
       "<style scoped>\n",
       "    .dataframe tbody tr th:only-of-type {\n",
       "        vertical-align: middle;\n",
       "    }\n",
       "\n",
       "    .dataframe tbody tr th {\n",
       "        vertical-align: top;\n",
       "    }\n",
       "\n",
       "    .dataframe thead th {\n",
       "        text-align: right;\n",
       "    }\n",
       "</style>\n",
       "<table border=\"1\" class=\"dataframe\">\n",
       "  <thead>\n",
       "    <tr style=\"text-align: right;\">\n",
       "      <th></th>\n",
       "      <th>가구원수</th>\n",
       "      <th>광열수도비</th>\n",
       "    </tr>\n",
       "    <tr>\n",
       "      <th>0</th>\n",
       "      <th></th>\n",
       "      <th></th>\n",
       "    </tr>\n",
       "  </thead>\n",
       "  <tbody>\n",
       "    <tr>\n",
       "      <th>가구원수</th>\n",
       "      <td>1.000000</td>\n",
       "      <td>0.597227</td>\n",
       "    </tr>\n",
       "    <tr>\n",
       "      <th>광열수도비</th>\n",
       "      <td>0.597227</td>\n",
       "      <td>1.000000</td>\n",
       "    </tr>\n",
       "  </tbody>\n",
       "</table>\n",
       "</div>"
      ],
      "text/plain": [
       "0          가구원수     광열수도비\n",
       "0                        \n",
       "가구원수   1.000000  0.597227\n",
       "광열수도비  0.597227  1.000000"
      ]
     },
     "execution_count": 17,
     "metadata": {},
     "output_type": "execute_result"
    }
   ],
   "source": [
    "test.corr(method=\"pearson\")"
   ]
  },
  {
   "cell_type": "markdown",
   "metadata": {},
   "source": [
    "##  변수 구간화(Binning)"
   ]
  },
  {
   "cell_type": "markdown",
   "metadata": {},
   "source": [
    "### Binning의 방법\n",
    "    - 1. 동일폭\n",
    "    - 2. 동일 빈도\n",
    "### Binning의 유효성을 검정\n",
    "    -1. WOE(Weight of Evidence)\n",
    "    -2. IV(Information Value)"
   ]
  },
  {
   "cell_type": "markdown",
   "metadata": {},
   "source": [
    "#### 수식"
   ]
  },
  {
   "cell_type": "markdown",
   "metadata": {},
   "source": [
    "$WoE$=$ln({distribution(goods)\\over distribution(bads)})$"
   ]
  },
  {
   "cell_type": "markdown",
   "metadata": {},
   "source": [
    "$IV$=$\\sum (distriburtion(goods)-distribution(bads)) *WoE$"
   ]
  },
  {
   "cell_type": "markdown",
   "metadata": {},
   "source": [
    "### 직접해보자"
   ]
  },
  {
   "cell_type": "code",
   "execution_count": null,
   "metadata": {},
   "outputs": [],
   "source": [
    "D=pd.read_excel('https://data.hossam.kr/E05/titanic.xlsx')\n",
    "data=pd.DataFrame(D)"
   ]
  },
  {
   "cell_type": "code",
   "execution_count": null,
   "metadata": {},
   "outputs": [],
   "source": [
    "test=data.filter([\"Age\"])"
   ]
  },
  {
   "cell_type": "markdown",
   "metadata": {},
   "source": [
    "#### Step1. 임의로 나누기"
   ]
  },
  {
   "cell_type": "code",
   "execution_count": null,
   "metadata": {},
   "outputs": [],
   "source": [
    "test[\"bin1\"]=pd.cut(data[\"Age\"],bins=[0,10,20,30,40,50,60,70,80],\n",
    "       labels=['유아',\"10대\",\"20대\",'30대','40대','50대','60대','70대'])"
   ]
  },
  {
   "cell_type": "code",
   "execution_count": null,
   "metadata": {},
   "outputs": [
    {
     "data": {
      "text/html": [
       "<style type=\"text/css\">\n",
       "#T_d8687_row0_col0 {\n",
       "  background-color: #08306b;\n",
       "  color: #f1f1f1;\n",
       "}\n",
       "#T_d8687_row1_col0 {\n",
       "  background-color: #3787c0;\n",
       "  color: #f1f1f1;\n",
       "}\n",
       "#T_d8687_row2_col0 {\n",
       "  background-color: #6fb0d7;\n",
       "  color: #f1f1f1;\n",
       "}\n",
       "#T_d8687_row3_col0 {\n",
       "  background-color: #a3cce3;\n",
       "  color: #000000;\n",
       "}\n",
       "#T_d8687_row4_col0 {\n",
       "  background-color: #c2d9ee;\n",
       "  color: #000000;\n",
       "}\n",
       "#T_d8687_row5_col0 {\n",
       "  background-color: #d6e6f4;\n",
       "  color: #000000;\n",
       "}\n",
       "#T_d8687_row6_col0 {\n",
       "  background-color: #edf4fc;\n",
       "  color: #000000;\n",
       "}\n",
       "#T_d8687_row7_col0 {\n",
       "  background-color: #f7fbff;\n",
       "  color: #000000;\n",
       "}\n",
       "</style>\n",
       "<table id=\"T_d8687\">\n",
       "  <thead>\n",
       "    <tr>\n",
       "      <th class=\"blank level0\" >&nbsp;</th>\n",
       "      <th id=\"T_d8687_level0_col0\" class=\"col_heading level0 col0\" >count</th>\n",
       "    </tr>\n",
       "    <tr>\n",
       "      <th class=\"index_name level0\" >bin1</th>\n",
       "      <th class=\"blank col0\" >&nbsp;</th>\n",
       "    </tr>\n",
       "  </thead>\n",
       "  <tbody>\n",
       "    <tr>\n",
       "      <th id=\"T_d8687_level0_row0\" class=\"row_heading level0 row0\" >20대</th>\n",
       "      <td id=\"T_d8687_row0_col0\" class=\"data row0 col0\" >230</td>\n",
       "    </tr>\n",
       "    <tr>\n",
       "      <th id=\"T_d8687_level0_row1\" class=\"row_heading level0 row1\" >30대</th>\n",
       "      <td id=\"T_d8687_row1_col0\" class=\"data row1 col0\" >155</td>\n",
       "    </tr>\n",
       "    <tr>\n",
       "      <th id=\"T_d8687_level0_row2\" class=\"row_heading level0 row2\" >10대</th>\n",
       "      <td id=\"T_d8687_row2_col0\" class=\"data row2 col0\" >115</td>\n",
       "    </tr>\n",
       "    <tr>\n",
       "      <th id=\"T_d8687_level0_row3\" class=\"row_heading level0 row3\" >40대</th>\n",
       "      <td id=\"T_d8687_row3_col0\" class=\"data row3 col0\" >86</td>\n",
       "    </tr>\n",
       "    <tr>\n",
       "      <th id=\"T_d8687_level0_row4\" class=\"row_heading level0 row4\" >유아</th>\n",
       "      <td id=\"T_d8687_row4_col0\" class=\"data row4 col0\" >64</td>\n",
       "    </tr>\n",
       "    <tr>\n",
       "      <th id=\"T_d8687_level0_row5\" class=\"row_heading level0 row5\" >50대</th>\n",
       "      <td id=\"T_d8687_row5_col0\" class=\"data row5 col0\" >42</td>\n",
       "    </tr>\n",
       "    <tr>\n",
       "      <th id=\"T_d8687_level0_row6\" class=\"row_heading level0 row6\" >60대</th>\n",
       "      <td id=\"T_d8687_row6_col0\" class=\"data row6 col0\" >17</td>\n",
       "    </tr>\n",
       "    <tr>\n",
       "      <th id=\"T_d8687_level0_row7\" class=\"row_heading level0 row7\" >70대</th>\n",
       "      <td id=\"T_d8687_row7_col0\" class=\"data row7 col0\" >5</td>\n",
       "    </tr>\n",
       "  </tbody>\n",
       "</table>\n"
      ],
      "text/plain": [
       "<pandas.io.formats.style.Styler at 0x1c26dd57510>"
      ]
     },
     "execution_count": 6,
     "metadata": {},
     "output_type": "execute_result"
    }
   ],
   "source": [
    "test[\"bin1\"].value_counts().to_frame().style.background_gradient(cmap=\"Blues\")"
   ]
  },
  {
   "cell_type": "markdown",
   "metadata": {},
   "source": [
    "#### Step2. 관측치의 갯수가 비슷하기 나누기"
   ]
  },
  {
   "cell_type": "code",
   "execution_count": null,
   "metadata": {},
   "outputs": [],
   "source": [
    "test[\"bin2\"]=pd.qcut(data[\"Age\"],q=8,labels=list(map(lambda x: chr(x+97),range(8))))"
   ]
  },
  {
   "cell_type": "code",
   "execution_count": null,
   "metadata": {},
   "outputs": [
    {
     "data": {
      "text/html": [
       "<style type=\"text/css\">\n",
       "#T_4fe25_row0_col0 {\n",
       "  background-color: #08306b;\n",
       "  color: #f1f1f1;\n",
       "}\n",
       "#T_4fe25_row1_col0 {\n",
       "  background-color: #084990;\n",
       "  color: #f1f1f1;\n",
       "}\n",
       "#T_4fe25_row2_col0 {\n",
       "  background-color: #539ecd;\n",
       "  color: #f1f1f1;\n",
       "}\n",
       "#T_4fe25_row3_col0 {\n",
       "  background-color: #75b4d8;\n",
       "  color: #000000;\n",
       "}\n",
       "#T_4fe25_row4_col0 {\n",
       "  background-color: #89bedc;\n",
       "  color: #000000;\n",
       "}\n",
       "#T_4fe25_row5_col0 {\n",
       "  background-color: #bad6eb;\n",
       "  color: #000000;\n",
       "}\n",
       "#T_4fe25_row6_col0 {\n",
       "  background-color: #c9ddf0;\n",
       "  color: #000000;\n",
       "}\n",
       "#T_4fe25_row7_col0 {\n",
       "  background-color: #f7fbff;\n",
       "  color: #000000;\n",
       "}\n",
       "</style>\n",
       "<table id=\"T_4fe25\">\n",
       "  <thead>\n",
       "    <tr>\n",
       "      <th class=\"blank level0\" >&nbsp;</th>\n",
       "      <th id=\"T_4fe25_level0_col0\" class=\"col_heading level0 col0\" >count</th>\n",
       "    </tr>\n",
       "    <tr>\n",
       "      <th class=\"index_name level0\" >bin2</th>\n",
       "      <th class=\"blank col0\" >&nbsp;</th>\n",
       "    </tr>\n",
       "  </thead>\n",
       "  <tbody>\n",
       "    <tr>\n",
       "      <th id=\"T_4fe25_level0_row0\" class=\"row_heading level0 row0\" >a</th>\n",
       "      <td id=\"T_4fe25_row0_col0\" class=\"data row0 col0\" >100</td>\n",
       "    </tr>\n",
       "    <tr>\n",
       "      <th id=\"T_4fe25_level0_row1\" class=\"row_heading level0 row1\" >c</th>\n",
       "      <td id=\"T_4fe25_row1_col0\" class=\"data row1 col0\" >98</td>\n",
       "    </tr>\n",
       "    <tr>\n",
       "      <th id=\"T_4fe25_level0_row2\" class=\"row_heading level0 row2\" >f</th>\n",
       "      <td id=\"T_4fe25_row2_col0\" class=\"data row2 col0\" >91</td>\n",
       "    </tr>\n",
       "    <tr>\n",
       "      <th id=\"T_4fe25_level0_row3\" class=\"row_heading level0 row3\" >h</th>\n",
       "      <td id=\"T_4fe25_row3_col0\" class=\"data row3 col0\" >89</td>\n",
       "    </tr>\n",
       "    <tr>\n",
       "      <th id=\"T_4fe25_level0_row4\" class=\"row_heading level0 row4\" >g</th>\n",
       "      <td id=\"T_4fe25_row4_col0\" class=\"data row4 col0\" >88</td>\n",
       "    </tr>\n",
       "    <tr>\n",
       "      <th id=\"T_4fe25_level0_row5\" class=\"row_heading level0 row5\" >d</th>\n",
       "      <td id=\"T_4fe25_row5_col0\" class=\"data row5 col0\" >85</td>\n",
       "    </tr>\n",
       "    <tr>\n",
       "      <th id=\"T_4fe25_level0_row6\" class=\"row_heading level0 row6\" >e</th>\n",
       "      <td id=\"T_4fe25_row6_col0\" class=\"data row6 col0\" >84</td>\n",
       "    </tr>\n",
       "    <tr>\n",
       "      <th id=\"T_4fe25_level0_row7\" class=\"row_heading level0 row7\" >b</th>\n",
       "      <td id=\"T_4fe25_row7_col0\" class=\"data row7 col0\" >79</td>\n",
       "    </tr>\n",
       "  </tbody>\n",
       "</table>\n"
      ],
      "text/plain": [
       "<pandas.io.formats.style.Styler at 0x1c26e744410>"
      ]
     },
     "execution_count": 8,
     "metadata": {},
     "output_type": "execute_result"
    }
   ],
   "source": [
    "test[\"bin2\"].value_counts().to_frame().style.background_gradient(cmap='Blues')"
   ]
  },
  {
   "cell_type": "markdown",
   "metadata": {},
   "source": [
    "#### Step3. 시각화해서 비교해보기"
   ]
  },
  {
   "cell_type": "code",
   "execution_count": null,
   "metadata": {},
   "outputs": [
    {
     "data": {
      "image/png": "[encoded data removed]",
      "text/plain": [
       "<Figure size 1500x300 with 3 Axes>"
      ]
     },
     "metadata": {},
     "output_type": "display_data"
    }
   ],
   "source": [
    "plt.rcParams[\"figure.figsize\"]=(15,3)\n",
    "plt.rcParams[\"font.family\"]=\"BM YEONSUNG\"\n",
    "f,x=plt.subplots(1,3)\n",
    "for i in range(len(x)):\n",
    "    sb.countplot(data=test,x=test.columns[i],ax=x[i])\n",
    "plt.show()\n",
    "plt.close()"
   ]
  },
  {
   "cell_type": "markdown",
   "metadata": {},
   "source": [
    "### WoE를 이용한 구간 지정\n",
    "<b>종속변수에 대한 독립변수가 최적의 예측력을 가질수 있게 구간화를 한다.</b>\n",
    "* 종속변수의 가변수 처리가 필요함\n",
    "* 모델이 말을 안들으니 다시 알아볼것.\n"
   ]
  },
  {
   "cell_type": "code",
   "execution_count": null,
   "metadata": {},
   "outputs": [],
   "source": [
    "test2=data[[\"Survived\",\"Fare\"]]\n",
    "test2=test2.dropna()"
   ]
  },
  {
   "cell_type": "markdown",
   "metadata": {},
   "source": [
    "# 데이터 표준화와 정규화"
   ]
  },
  {
   "cell_type": "markdown",
   "metadata": {},
   "source": [
    "|구분|설명|수식|\n",
    "|--|--|--|\n",
    "|표준화(Z-score)|각 관측치의 값이 전체 평균으로어느정도 떨어져있는지 나타낼때|$z $= $x-평균 \\over 표준편차$|\n",
    "|정규화(min_max scale)|데이터의 범위를 0~1사이로 변환할떄|$x $= $x-x_min \\over x_max - x_min$|"
   ]
  },
  {
   "cell_type": "markdown",
   "metadata": {},
   "source": [
    "## 데이터 불러오기"
   ]
  },
  {
   "cell_type": "code",
   "execution_count": 2,
   "metadata": {},
   "outputs": [],
   "source": [
    "Data=pd.read_excel(r\"C:\\Users\\SAMSUNG\\Desktop\\koweps_2022\\혼또끝.xlsx\")\n",
    "data=pd.DataFrame(Data)\n",
    "data=data[['식료품비-가정식비','식료품비-외식비',]]"
   ]
  },
  {
   "cell_type": "markdown",
   "metadata": {},
   "source": [
    "### Z score"
   ]
  },
  {
   "cell_type": "code",
   "execution_count": 3,
   "metadata": {},
   "outputs": [],
   "source": [
    "import sklearn.preprocessing as skpre\n",
    "scale_df=pd.DataFrame(data[\"식료품비-가정식비\"])"
   ]
  },
  {
   "cell_type": "code",
   "execution_count": 4,
   "metadata": {},
   "outputs": [],
   "source": [
    "std_scaler=skpre.StandardScaler() # 객체\n",
    "scale_df[\"Z-score\"]=std_scaler.fit_transform(data[[\"식료품비-가정식비\"]])"
   ]
  },
  {
   "cell_type": "code",
   "execution_count": 5,
   "metadata": {},
   "outputs": [],
   "source": [
    "scale_df[\"Z-score\"]=skpre.scale(X=data)"
   ]
  },
  {
   "cell_type": "markdown",
   "metadata": {},
   "source": [
    "### Min-Max scaler"
   ]
  },
  {
   "cell_type": "code",
   "execution_count": 6,
   "metadata": {},
   "outputs": [],
   "source": [
    "scale_df[\"minmax-score\"]=skpre.minmax_scale(data[[\"식료품비-가정식비\"]])"
   ]
  },
  {
   "cell_type": "markdown",
   "metadata": {},
   "source": [
    "### Robust scale"
   ]
  },
  {
   "cell_type": "code",
   "execution_count": 7,
   "metadata": {},
   "outputs": [],
   "source": [
    "scale_df[\"Robust-score\"]=skpre.robust_scale(data[[\"식료품비-가정식비\"]])"
   ]
  },
  {
   "cell_type": "markdown",
   "metadata": {},
   "source": [
    "## 직접해보자"
   ]
  },
  {
   "cell_type": "markdown",
   "metadata": {},
   "source": [
    "### Z-score"
   ]
  },
  {
   "cell_type": "code",
   "execution_count": 8,
   "metadata": {},
   "outputs": [],
   "source": [
    "mean=scale_df[[\"식료품비-가정식비\"]].mean().squeeze()\n",
    "std=scale_df[[\"식료품비-가정식비\"]].std().squeeze()"
   ]
  },
  {
   "cell_type": "code",
   "execution_count": 9,
   "metadata": {},
   "outputs": [],
   "source": [
    "scale_df[\"Z-score(real)\"]=scale_df[[\"식료품비-가정식비\"]].apply(lambda x: (x-mean)/std)"
   ]
  },
  {
   "cell_type": "markdown",
   "metadata": {},
   "source": [
    "### MinMax-scale "
   ]
  },
  {
   "cell_type": "code",
   "execution_count": 10,
   "metadata": {},
   "outputs": [],
   "source": [
    "min=scale_df[[\"식료품비-가정식비\"]].min().squeeze()\n",
    "max=scale_df[[\"식료품비-가정식비\"]].max().squeeze()"
   ]
  },
  {
   "cell_type": "code",
   "execution_count": 11,
   "metadata": {},
   "outputs": [],
   "source": [
    "scale_df[\"minmax-score(real)\"]=scale_df[[\"식료품비-가정식비\"]].apply(lambda x: (x-min)/(max-min))"
   ]
  },
  {
   "cell_type": "code",
   "execution_count": 12,
   "metadata": {},
   "outputs": [
    {
     "data": {
      "text/html": [
       "<div>\n",
       "<style scoped>\n",
       "    .dataframe tbody tr th:only-of-type {\n",
       "        vertical-align: middle;\n",
       "    }\n",
       "\n",
       "    .dataframe tbody tr th {\n",
       "        vertical-align: top;\n",
       "    }\n",
       "\n",
       "    .dataframe thead th {\n",
       "        text-align: right;\n",
       "    }\n",
       "</style>\n",
       "<table border=\"1\" class=\"dataframe\">\n",
       "  <thead>\n",
       "    <tr style=\"text-align: right;\">\n",
       "      <th></th>\n",
       "      <th>식료품비-가정식비</th>\n",
       "      <th>Z-score</th>\n",
       "      <th>minmax-score</th>\n",
       "      <th>Robust-score</th>\n",
       "      <th>Z-score(real)</th>\n",
       "      <th>minmax-score(real)</th>\n",
       "    </tr>\n",
       "  </thead>\n",
       "  <tbody>\n",
       "    <tr>\n",
       "      <th>0</th>\n",
       "      <td>50.0</td>\n",
       "      <td>-0.351910</td>\n",
       "      <td>0.151515</td>\n",
       "      <td>-0.142857</td>\n",
       "      <td>-0.351902</td>\n",
       "      <td>0.151515</td>\n",
       "    </tr>\n",
       "    <tr>\n",
       "      <th>1</th>\n",
       "      <td>40.0</td>\n",
       "      <td>-0.712750</td>\n",
       "      <td>0.121212</td>\n",
       "      <td>-0.428571</td>\n",
       "      <td>-0.712733</td>\n",
       "      <td>0.121212</td>\n",
       "    </tr>\n",
       "    <tr>\n",
       "      <th>2</th>\n",
       "      <td>40.0</td>\n",
       "      <td>-0.712750</td>\n",
       "      <td>0.121212</td>\n",
       "      <td>-0.428571</td>\n",
       "      <td>-0.712733</td>\n",
       "      <td>0.121212</td>\n",
       "    </tr>\n",
       "    <tr>\n",
       "      <th>3</th>\n",
       "      <td>80.0</td>\n",
       "      <td>0.730607</td>\n",
       "      <td>0.242424</td>\n",
       "      <td>0.714286</td>\n",
       "      <td>0.730590</td>\n",
       "      <td>0.242424</td>\n",
       "    </tr>\n",
       "    <tr>\n",
       "      <th>4</th>\n",
       "      <td>80.0</td>\n",
       "      <td>0.730607</td>\n",
       "      <td>0.242424</td>\n",
       "      <td>0.714286</td>\n",
       "      <td>0.730590</td>\n",
       "      <td>0.242424</td>\n",
       "    </tr>\n",
       "    <tr>\n",
       "      <th>...</th>\n",
       "      <td>...</td>\n",
       "      <td>...</td>\n",
       "      <td>...</td>\n",
       "      <td>...</td>\n",
       "      <td>...</td>\n",
       "      <td>...</td>\n",
       "    </tr>\n",
       "    <tr>\n",
       "      <th>21448</th>\n",
       "      <td>100.0</td>\n",
       "      <td>1.452285</td>\n",
       "      <td>0.303030</td>\n",
       "      <td>1.285714</td>\n",
       "      <td>1.452251</td>\n",
       "      <td>0.303030</td>\n",
       "    </tr>\n",
       "    <tr>\n",
       "      <th>21449</th>\n",
       "      <td>100.0</td>\n",
       "      <td>1.452285</td>\n",
       "      <td>0.303030</td>\n",
       "      <td>1.285714</td>\n",
       "      <td>1.452251</td>\n",
       "      <td>0.303030</td>\n",
       "    </tr>\n",
       "    <tr>\n",
       "      <th>21450</th>\n",
       "      <td>100.0</td>\n",
       "      <td>1.452285</td>\n",
       "      <td>0.303030</td>\n",
       "      <td>1.285714</td>\n",
       "      <td>1.452251</td>\n",
       "      <td>0.303030</td>\n",
       "    </tr>\n",
       "    <tr>\n",
       "      <th>21451</th>\n",
       "      <td>53.0</td>\n",
       "      <td>-0.243659</td>\n",
       "      <td>0.160606</td>\n",
       "      <td>-0.057143</td>\n",
       "      <td>-0.243653</td>\n",
       "      <td>0.160606</td>\n",
       "    </tr>\n",
       "    <tr>\n",
       "      <th>21452</th>\n",
       "      <td>53.0</td>\n",
       "      <td>-0.243659</td>\n",
       "      <td>0.160606</td>\n",
       "      <td>-0.057143</td>\n",
       "      <td>-0.243653</td>\n",
       "      <td>0.160606</td>\n",
       "    </tr>\n",
       "  </tbody>\n",
       "</table>\n",
       "<p>21453 rows × 6 columns</p>\n",
       "</div>"
      ],
      "text/plain": [
       "       식료품비-가정식비   Z-score  minmax-score  Robust-score  Z-score(real)  \\\n",
       "0           50.0 -0.351910      0.151515     -0.142857      -0.351902   \n",
       "1           40.0 -0.712750      0.121212     -0.428571      -0.712733   \n",
       "2           40.0 -0.712750      0.121212     -0.428571      -0.712733   \n",
       "3           80.0  0.730607      0.242424      0.714286       0.730590   \n",
       "4           80.0  0.730607      0.242424      0.714286       0.730590   \n",
       "...          ...       ...           ...           ...            ...   \n",
       "21448      100.0  1.452285      0.303030      1.285714       1.452251   \n",
       "21449      100.0  1.452285      0.303030      1.285714       1.452251   \n",
       "21450      100.0  1.452285      0.303030      1.285714       1.452251   \n",
       "21451       53.0 -0.243659      0.160606     -0.057143      -0.243653   \n",
       "21452       53.0 -0.243659      0.160606     -0.057143      -0.243653   \n",
       "\n",
       "       minmax-score(real)  \n",
       "0                0.151515  \n",
       "1                0.121212  \n",
       "2                0.121212  \n",
       "3                0.242424  \n",
       "4                0.242424  \n",
       "...                   ...  \n",
       "21448            0.303030  \n",
       "21449            0.303030  \n",
       "21450            0.303030  \n",
       "21451            0.160606  \n",
       "21452            0.160606  \n",
       "\n",
       "[21453 rows x 6 columns]"
      ]
     },
     "execution_count": 12,
     "metadata": {},
     "output_type": "execute_result"
    }
   ],
   "source": [
    "scale_df"
   ]
  },
  {
   "cell_type": "markdown",
   "metadata": {},
   "source": [
    "### Robust scale"
   ]
  },
  {
   "cell_type": "code",
   "execution_count": 13,
   "metadata": {},
   "outputs": [],
   "source": [
    "median=scale_df[[\"식료품비-가정식비\"]].median().squeeze()\n",
    "q3=scale_df[[\"식료품비-가정식비\"]].quantile(0.75)\n",
    "q1=scale_df[[\"식료품비-가정식비\"]].quantile(0.25)\n",
    "iqr=(q3-q1).squeeze()"
   ]
  },
  {
   "cell_type": "code",
   "execution_count": 14,
   "metadata": {},
   "outputs": [],
   "source": [
    "scale_df[\"Robust-score(real)\"]=scale_df[[\"식료품비-가정식비\"]].apply(lambda x: (x-median)/(iqr))"
   ]
  },
  {
   "cell_type": "markdown",
   "metadata": {},
   "source": [
    "### 확인하기"
   ]
  },
  {
   "cell_type": "code",
   "execution_count": 15,
   "metadata": {},
   "outputs": [
    {
     "data": {
      "text/html": [
       "<div>\n",
       "<style scoped>\n",
       "    .dataframe tbody tr th:only-of-type {\n",
       "        vertical-align: middle;\n",
       "    }\n",
       "\n",
       "    .dataframe tbody tr th {\n",
       "        vertical-align: top;\n",
       "    }\n",
       "\n",
       "    .dataframe thead th {\n",
       "        text-align: right;\n",
       "    }\n",
       "</style>\n",
       "<table border=\"1\" class=\"dataframe\">\n",
       "  <thead>\n",
       "    <tr style=\"text-align: right;\">\n",
       "      <th></th>\n",
       "      <th>식료품비-가정식비</th>\n",
       "      <th>Z-score</th>\n",
       "      <th>minmax-score</th>\n",
       "      <th>Robust-score</th>\n",
       "      <th>Z-score(real)</th>\n",
       "      <th>minmax-score(real)</th>\n",
       "      <th>Robust-score(real)</th>\n",
       "    </tr>\n",
       "  </thead>\n",
       "  <tbody>\n",
       "    <tr>\n",
       "      <th>0</th>\n",
       "      <td>50.0</td>\n",
       "      <td>-0.351910</td>\n",
       "      <td>0.151515</td>\n",
       "      <td>-0.142857</td>\n",
       "      <td>-0.351902</td>\n",
       "      <td>0.151515</td>\n",
       "      <td>-0.142857</td>\n",
       "    </tr>\n",
       "    <tr>\n",
       "      <th>1</th>\n",
       "      <td>40.0</td>\n",
       "      <td>-0.712750</td>\n",
       "      <td>0.121212</td>\n",
       "      <td>-0.428571</td>\n",
       "      <td>-0.712733</td>\n",
       "      <td>0.121212</td>\n",
       "      <td>-0.428571</td>\n",
       "    </tr>\n",
       "    <tr>\n",
       "      <th>2</th>\n",
       "      <td>40.0</td>\n",
       "      <td>-0.712750</td>\n",
       "      <td>0.121212</td>\n",
       "      <td>-0.428571</td>\n",
       "      <td>-0.712733</td>\n",
       "      <td>0.121212</td>\n",
       "      <td>-0.428571</td>\n",
       "    </tr>\n",
       "    <tr>\n",
       "      <th>3</th>\n",
       "      <td>80.0</td>\n",
       "      <td>0.730607</td>\n",
       "      <td>0.242424</td>\n",
       "      <td>0.714286</td>\n",
       "      <td>0.730590</td>\n",
       "      <td>0.242424</td>\n",
       "      <td>0.714286</td>\n",
       "    </tr>\n",
       "    <tr>\n",
       "      <th>4</th>\n",
       "      <td>80.0</td>\n",
       "      <td>0.730607</td>\n",
       "      <td>0.242424</td>\n",
       "      <td>0.714286</td>\n",
       "      <td>0.730590</td>\n",
       "      <td>0.242424</td>\n",
       "      <td>0.714286</td>\n",
       "    </tr>\n",
       "  </tbody>\n",
       "</table>\n",
       "</div>"
      ],
      "text/plain": [
       "   식료품비-가정식비   Z-score  minmax-score  Robust-score  Z-score(real)  \\\n",
       "0       50.0 -0.351910      0.151515     -0.142857      -0.351902   \n",
       "1       40.0 -0.712750      0.121212     -0.428571      -0.712733   \n",
       "2       40.0 -0.712750      0.121212     -0.428571      -0.712733   \n",
       "3       80.0  0.730607      0.242424      0.714286       0.730590   \n",
       "4       80.0  0.730607      0.242424      0.714286       0.730590   \n",
       "\n",
       "   minmax-score(real)  Robust-score(real)  \n",
       "0            0.151515           -0.142857  \n",
       "1            0.121212           -0.428571  \n",
       "2            0.121212           -0.428571  \n",
       "3            0.242424            0.714286  \n",
       "4            0.242424            0.714286  "
      ]
     },
     "execution_count": 15,
     "metadata": {},
     "output_type": "execute_result"
    }
   ],
   "source": [
    "scale_df.head(5)"
   ]
  },
  {
   "cell_type": "markdown",
   "metadata": {},
   "source": [
    "#### 그래프로 확인하기"
   ]
  },
  {
   "cell_type": "code",
   "execution_count": 59,
   "metadata": {},
   "outputs": [
    {
     "data": {
      "image/png": "[encoded data removed]",
      "text/plain": [
       "<Figure size 1500x300 with 3 Axes>"
      ]
     },
     "metadata": {},
     "output_type": "display_data"
    }
   ],
   "source": [
    "plt.rcParams[\"figure.figsize\"]=(15,3)\n",
    "_,a=plt.subplots(1,3)\n",
    "cols=[x for x in scale_df.columns if x.find(\"real\")!=-1]\n",
    "for i in range(len(cols)):\n",
    "    sb.countplot(pd.cut(scale_df[cols[i]],bins=10).to_frame(),x=cols[i],ax=a[i])"
   ]
  },
  {
   "cell_type": "markdown",
   "metadata": {},
   "source": [
    "## 파생변수(Derived Variable)\n",
    "> 기존변수를 활용하기 때문에 다중공산성 문제가 발생할 수 있음"
   ]
  },
  {
   "cell_type": "markdown",
   "metadata": {},
   "source": [
    "## 슬라이싱 윈도우 데이터\n",
    "데이터를 겹쳐 나눔으로써 전체 데이터의 양을 증가시키는 원리를 차용한 것"
   ]
  },
  {
   "cell_type": "markdown",
   "metadata": {},
   "source": [
    "## 클래스 불균형을 해결하기 위한 Under Sampling, Over Sampling"
   ]
  },
  {
   "cell_type": "markdown",
   "metadata": {},
   "source": [
    "### Under Sampling\n",
    "#### 비중이 작은 클래스의 관측치 수와 동일해지도록 비중이 큰 클래스의 관측치를 줄이는 과정"
   ]
  },
  {
   "cell_type": "markdown",
   "metadata": {},
   "source": [
    "* 1. Random Under Sampling : 무작위 제거를 통해 비중이 큰 클래스 관측치를 제거\n",
    "* 2. EasyEnsemble : 비중이 큰 클래스를 비중이 작은 클래스 만큼 쪼갠 후 (예를 들어 N(비중이 큰 클래스의 관측수)/m(비중이 작은 클래스의 관측수)개) 그만큼의\n",
    "                    클래스로 학습 후 종합시켜 최종 학습모델을 이용\n",
    "* 3. Condensed Nearest Neighbor(CNN) : K-Nearest Neighbor 모델을 차용(뒤에서 자세히 다룰 예정)"
   ]
  },
  {
   "cell_type": "markdown",
   "metadata": {},
   "source": [
    "### Over Sampling\n",
    "#### 비중이 큰 클래스의 관측치 수와 동일해지도록 비중이 작은 클래스의 관측치를 증가시키는 과정"
   ]
  },
  {
   "cell_type": "markdown",
   "metadata": {},
   "source": [
    "* 1. Random Over Sampling : 무작위 복사를 통해 비중이 작은 클래스 관측치 증가(과적합의 문제가 발생하기 쉬움)\n",
    "* 2. Synthetic Minority Over-Sampling Technique(SMOTE) : 아래 이미지 참조"
   ]
  },
  {
   "cell_type": "markdown",
   "metadata": {},
   "source": [
    "<img sec='C:/Users/SAMSUNG/Desktop/Private_Space/데이터분석가가알아야할/이미지/SMOTE.png' width=\"100%\" height=50% title='SMOTE'></img> "
   ]
  },
  {
   "cell_type": "markdown",
   "metadata": {},
   "source": [
    "### 각각 해보자"
   ]
  },
  {
   "cell_type": "code",
   "execution_count": 3,
   "metadata": {},
   "outputs": [],
   "source": [
    "test=Data[[\"성별\",\"삶의 사다리 점수\"]]"
   ]
  },
  {
   "cell_type": "code",
   "execution_count": 6,
   "metadata": {},
   "outputs": [],
   "source": [
    "import seaborn as sns\n",
    "import matplotlib.pyplot as plt\n",
    "plt.rcParams[\"font.family\"]=\"BM YEONSUNG\""
   ]
  },
  {
   "cell_type": "code",
   "execution_count": 12,
   "metadata": {},
   "outputs": [
    {
     "data": {
      "image/png": "[encoded data removed]",
      "text/plain": [
       "<Figure size 600x200 with 1 Axes>"
      ]
     },
     "metadata": {},
     "output_type": "display_data"
    }
   ],
   "source": [
    "plt.figure(figsize=(6,2))\n",
    "sns.countplot(x=test[\"성별\"])\n",
    "plt.show()\n",
    "plt.close()"
   ]
  },
  {
   "cell_type": "code",
   "execution_count": null,
   "metadata": {},
   "outputs": [],
   "source": []
  }
 ],
 "metadata": {
  "kernelspec": {
   "display_name": "Python 3",
   "language": "python",
   "name": "python3"
  },
  "language_info": {
   "codemirror_mode": {
    "name": "ipython",
    "version": 3
   },
   "file_extension": ".py",
   "mimetype": "text/x-python",
   "name": "python",
   "nbconvert_exporter": "python",
   "pygments_lexer": "ipython3",
   "version": "3.11.3"
  },
  "orig_nbformat": 4
 },
 "nbformat": 4,
 "nbformat_minor": 2
}
