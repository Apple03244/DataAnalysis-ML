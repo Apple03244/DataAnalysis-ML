{
 "cells": [
  {
   "cell_type": "markdown",
   "metadata": {},
   "source": [
    "# SVD(Singular Value Decomposition)"
   ]
  },
  {
   "cell_type": "markdown",
   "metadata": {},
   "source": [
    "$A=U \\Sigma V^T$, where\n",
    "\n",
    "$U: m*m$ othoginal matrix\n",
    "\n",
    "$V: n*n$ othoginal matrix\n",
    "\n",
    "$\\Sigma : m*n$ diagonal matrix"
   ]
  },
  {
   "cell_type": "markdown",
   "metadata": {},
   "source": [
    "## Othogoanl matrix"
   ]
  },
  {
   "cell_type": "markdown",
   "metadata": {},
   "source": [
    "If a matrix A is a `Othogonal`, then \n",
    "\n",
    "$AA^T=E$"
   ]
  },
  {
   "cell_type": "markdown",
   "metadata": {},
   "source": [
    "# Pseudo inverese"
   ]
  },
  {
   "cell_type": "markdown",
   "metadata": {},
   "source": [
    "최소자승법(least square로 생각하면 도움됌)"
   ]
  },
  {
   "cell_type": "markdown",
   "metadata": {},
   "source": [
    "$A^+=V \\Sigma ^+ U^T$"
   ]
  },
  {
   "cell_type": "markdown",
   "metadata": {},
   "source": [
    "- 참고사항\n",
    "\n",
    "특이값이 0에 가까운 경우 0으로 바꾸고 최소자승법을 사용하는 것이 일반적"
   ]
  },
  {
   "cell_type": "markdown",
   "metadata": {},
   "source": [
    "위의 0으로 바꾸는 기준을 `tolerance`이라 한다"
   ]
  },
  {
   "cell_type": "markdown",
   "metadata": {},
   "source": []
  }
 ],
 "metadata": {
  "kernelspec": {
   "display_name": "Python 3",
   "language": "python",
   "name": "python3"
  },
  "language_info": {
   "name": "python",
   "version": "3.12.1"
  }
 },
 "nbformat": 4,
 "nbformat_minor": 2
}
