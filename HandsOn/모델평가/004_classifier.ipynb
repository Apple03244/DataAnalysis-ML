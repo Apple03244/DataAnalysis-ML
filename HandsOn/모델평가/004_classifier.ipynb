{
  "cells": [
    {
      "cell_type": "markdown",
      "metadata": {
        "colab_type": "text",
        "id": "view-in-github"
      },
      "source": [
        "<a href=\"https://colab.research.google.com/github/Apple03244/DataAnalysis-ML/blob/main/003_classifier.ipynb\" target=\"_parent\"><img src=\"https://colab.research.google.com/assets/colab-badge.svg\" alt=\"Open In Colab\"/></a>"
      ]
    },
    {
      "cell_type": "code",
      "execution_count": 5,
      "metadata": {
        "id": "RekwpieCeCrj"
      },
      "outputs": [],
      "source": [
        "# colab에서 진행했으므로 주석처리\n",
        "\n",
        "# import google.colab as colab\n",
        "# f=colab.files"
      ]
    },
    {
      "cell_type": "code",
      "execution_count": 6,
      "metadata": {
        "colab": {
          "base_uri": "https://localhost:8080/",
          "height": 185
        },
        "id": "kYctw7KpeLR6",
        "outputId": "93dd013e-d170-4c76-b34f-a275e473b78f"
      },
      "outputs": [],
      "source": [
        "#files=f.upload()"
      ]
    },
    {
      "cell_type": "code",
      "execution_count": 7,
      "metadata": {
        "id": "k2jIwNwqeRmY"
      },
      "outputs": [],
      "source": [
        "# import pandas as pd\n",
        "# train=pd.read_csv('/content/train.csv')\n",
        "# test=pd.read_csv('/content/test.csv')\n",
        "# submission=pd.read_csv('/content/sample_submission.csv')\n",
        "# datainfo=pd.read_csv('/content/data_info.csv')"
      ]
    },
    {
      "cell_type": "code",
      "execution_count": 8,
      "metadata": {},
      "outputs": [],
      "source": [
        "import pandas as pd\n",
        "train=pd.read_csv(r\"C:\\Users\\SAMSUNG\\Desktop\\공부파일들\\데이콘\\학습플랫폼갱신\\train.csv\")\n",
        "test=pd.read_csv(r\"C:\\Users\\SAMSUNG\\Desktop\\공부파일들\\데이콘\\학습플랫폼갱신\\test.csv\")"
      ]
    },
    {
      "cell_type": "markdown",
      "metadata": {
        "id": "le11YlrTew1z"
      },
      "source": [
        "## 데이터 출처\n",
        "데이콘\n",
        "이탈고객 예측"
      ]
    },
    {
      "cell_type": "markdown",
      "metadata": {
        "id": "Py5ttRYcfnpw"
      },
      "source": [
        "### step.1 예측모델을 먼저 만들자"
      ]
    },
    {
      "cell_type": "code",
      "execution_count": 9,
      "metadata": {
        "id": "7a1N37Q9lXMy"
      },
      "outputs": [],
      "source": [
        "import sklearn.impute as skimp\n",
        "import sklearn.pipeline as skpip\n",
        "import sklearn.model_selection as skmod\n",
        "import sklearn.compose as skcom\n",
        "import sklearn.metrics as skmet\n",
        "import sklearn.preprocessing as skpre\n",
        "import sklearn.discriminant_analysis as skdis\n",
        "import numpy as np\n",
        "np.random.seed(10)\n",
        "import scipy as sp"
      ]
    },
    {
      "cell_type": "code",
      "execution_count": 10,
      "metadata": {
        "id": "p4JVr0RSnDHk"
      },
      "outputs": [],
      "source": [
        "use_train=train.drop('user_id',axis=1)"
      ]
    },
    {
      "cell_type": "code",
      "execution_count": 11,
      "metadata": {
        "id": "zeBu_4GBnQOL"
      },
      "outputs": [],
      "source": [
        "num_cols=use_train.select_dtypes(np.number).columns.difference([\"target\"])\n",
        "cate_cols=use_train.select_dtypes(\"object\").columns\n",
        "target=\"target\""
      ]
    },
    {
      "cell_type": "code",
      "execution_count": 12,
      "metadata": {
        "colab": {
          "base_uri": "https://localhost:8080/",
          "height": 320
        },
        "id": "sSluOyBiFtSK",
        "outputId": "0e3205e1-27fb-4a7f-e703-27574b980076"
      },
      "outputs": [
        {
          "data": {
            "text/html": [
              "<div>\n",
              "<style scoped>\n",
              "    .dataframe tbody tr th:only-of-type {\n",
              "        vertical-align: middle;\n",
              "    }\n",
              "\n",
              "    .dataframe tbody tr th {\n",
              "        vertical-align: top;\n",
              "    }\n",
              "\n",
              "    .dataframe thead th {\n",
              "        text-align: right;\n",
              "    }\n",
              "</style>\n",
              "<table border=\"1\" class=\"dataframe\">\n",
              "  <thead>\n",
              "    <tr style=\"text-align: right;\">\n",
              "      <th></th>\n",
              "      <th>subscription_duration</th>\n",
              "      <th>recent_login_time</th>\n",
              "      <th>average_login_time</th>\n",
              "      <th>average_time_per_learning_session</th>\n",
              "      <th>monthly_active_learning_days</th>\n",
              "      <th>total_completed_courses</th>\n",
              "      <th>recent_learning_achievement</th>\n",
              "      <th>abandoned_learning_sessions</th>\n",
              "      <th>community_engagement_level</th>\n",
              "      <th>customer_inquiry_history</th>\n",
              "      <th>payment_pattern</th>\n",
              "      <th>target</th>\n",
              "    </tr>\n",
              "  </thead>\n",
              "  <tbody>\n",
              "    <tr>\n",
              "      <th>count</th>\n",
              "      <td>10000.000000</td>\n",
              "      <td>10000.000000</td>\n",
              "      <td>10000.000000</td>\n",
              "      <td>10000.000000</td>\n",
              "      <td>10000.000000</td>\n",
              "      <td>10000.000000</td>\n",
              "      <td>10000.000000</td>\n",
              "      <td>10000.000000</td>\n",
              "      <td>10000.000000</td>\n",
              "      <td>10000.000000</td>\n",
              "      <td>10000.000000</td>\n",
              "      <td>10000.000000</td>\n",
              "    </tr>\n",
              "    <tr>\n",
              "      <th>mean</th>\n",
              "      <td>11.897400</td>\n",
              "      <td>15.013200</td>\n",
              "      <td>14.994076</td>\n",
              "      <td>54.917720</td>\n",
              "      <td>12.545400</td>\n",
              "      <td>12.227500</td>\n",
              "      <td>75.029513</td>\n",
              "      <td>3.043600</td>\n",
              "      <td>3.886100</td>\n",
              "      <td>2.010500</td>\n",
              "      <td>3.502900</td>\n",
              "      <td>0.619900</td>\n",
              "    </tr>\n",
              "    <tr>\n",
              "      <th>std</th>\n",
              "      <td>6.600896</td>\n",
              "      <td>8.362573</td>\n",
              "      <td>3.001869</td>\n",
              "      <td>56.024310</td>\n",
              "      <td>6.932239</td>\n",
              "      <td>3.634125</td>\n",
              "      <td>9.968529</td>\n",
              "      <td>1.755052</td>\n",
              "      <td>1.262175</td>\n",
              "      <td>1.420983</td>\n",
              "      <td>2.311261</td>\n",
              "      <td>0.485435</td>\n",
              "    </tr>\n",
              "    <tr>\n",
              "      <th>min</th>\n",
              "      <td>1.000000</td>\n",
              "      <td>1.000000</td>\n",
              "      <td>2.366189</td>\n",
              "      <td>0.011515</td>\n",
              "      <td>1.000000</td>\n",
              "      <td>1.000000</td>\n",
              "      <td>35.941755</td>\n",
              "      <td>0.000000</td>\n",
              "      <td>1.000000</td>\n",
              "      <td>0.000000</td>\n",
              "      <td>0.000000</td>\n",
              "      <td>0.000000</td>\n",
              "    </tr>\n",
              "    <tr>\n",
              "      <th>25%</th>\n",
              "      <td>6.000000</td>\n",
              "      <td>8.000000</td>\n",
              "      <td>13.025597</td>\n",
              "      <td>15.276611</td>\n",
              "      <td>7.000000</td>\n",
              "      <td>10.000000</td>\n",
              "      <td>68.278054</td>\n",
              "      <td>2.000000</td>\n",
              "      <td>3.000000</td>\n",
              "      <td>1.000000</td>\n",
              "      <td>1.000000</td>\n",
              "      <td>0.000000</td>\n",
              "    </tr>\n",
              "    <tr>\n",
              "      <th>50%</th>\n",
              "      <td>12.000000</td>\n",
              "      <td>15.000000</td>\n",
              "      <td>14.979228</td>\n",
              "      <td>37.578818</td>\n",
              "      <td>13.000000</td>\n",
              "      <td>12.000000</td>\n",
              "      <td>75.126061</td>\n",
              "      <td>3.000000</td>\n",
              "      <td>4.000000</td>\n",
              "      <td>2.000000</td>\n",
              "      <td>4.000000</td>\n",
              "      <td>1.000000</td>\n",
              "    </tr>\n",
              "    <tr>\n",
              "      <th>75%</th>\n",
              "      <td>18.000000</td>\n",
              "      <td>22.000000</td>\n",
              "      <td>16.995340</td>\n",
              "      <td>75.584200</td>\n",
              "      <td>19.000000</td>\n",
              "      <td>15.000000</td>\n",
              "      <td>81.718976</td>\n",
              "      <td>4.000000</td>\n",
              "      <td>5.000000</td>\n",
              "      <td>3.000000</td>\n",
              "      <td>6.000000</td>\n",
              "      <td>1.000000</td>\n",
              "    </tr>\n",
              "    <tr>\n",
              "      <th>max</th>\n",
              "      <td>23.000000</td>\n",
              "      <td>29.000000</td>\n",
              "      <td>26.998490</td>\n",
              "      <td>503.372616</td>\n",
              "      <td>24.000000</td>\n",
              "      <td>27.000000</td>\n",
              "      <td>112.643828</td>\n",
              "      <td>12.000000</td>\n",
              "      <td>5.000000</td>\n",
              "      <td>10.000000</td>\n",
              "      <td>7.000000</td>\n",
              "      <td>1.000000</td>\n",
              "    </tr>\n",
              "  </tbody>\n",
              "</table>\n",
              "</div>"
            ],
            "text/plain": [
              "       subscription_duration  recent_login_time  average_login_time  \\\n",
              "count           10000.000000       10000.000000        10000.000000   \n",
              "mean               11.897400          15.013200           14.994076   \n",
              "std                 6.600896           8.362573            3.001869   \n",
              "min                 1.000000           1.000000            2.366189   \n",
              "25%                 6.000000           8.000000           13.025597   \n",
              "50%                12.000000          15.000000           14.979228   \n",
              "75%                18.000000          22.000000           16.995340   \n",
              "max                23.000000          29.000000           26.998490   \n",
              "\n",
              "       average_time_per_learning_session  monthly_active_learning_days  \\\n",
              "count                       10000.000000                  10000.000000   \n",
              "mean                           54.917720                     12.545400   \n",
              "std                            56.024310                      6.932239   \n",
              "min                             0.011515                      1.000000   \n",
              "25%                            15.276611                      7.000000   \n",
              "50%                            37.578818                     13.000000   \n",
              "75%                            75.584200                     19.000000   \n",
              "max                           503.372616                     24.000000   \n",
              "\n",
              "       total_completed_courses  recent_learning_achievement  \\\n",
              "count             10000.000000                 10000.000000   \n",
              "mean                 12.227500                    75.029513   \n",
              "std                   3.634125                     9.968529   \n",
              "min                   1.000000                    35.941755   \n",
              "25%                  10.000000                    68.278054   \n",
              "50%                  12.000000                    75.126061   \n",
              "75%                  15.000000                    81.718976   \n",
              "max                  27.000000                   112.643828   \n",
              "\n",
              "       abandoned_learning_sessions  community_engagement_level  \\\n",
              "count                 10000.000000                10000.000000   \n",
              "mean                      3.043600                    3.886100   \n",
              "std                       1.755052                    1.262175   \n",
              "min                       0.000000                    1.000000   \n",
              "25%                       2.000000                    3.000000   \n",
              "50%                       3.000000                    4.000000   \n",
              "75%                       4.000000                    5.000000   \n",
              "max                      12.000000                    5.000000   \n",
              "\n",
              "       customer_inquiry_history  payment_pattern        target  \n",
              "count              10000.000000     10000.000000  10000.000000  \n",
              "mean                   2.010500         3.502900      0.619900  \n",
              "std                    1.420983         2.311261      0.485435  \n",
              "min                    0.000000         0.000000      0.000000  \n",
              "25%                    1.000000         1.000000      0.000000  \n",
              "50%                    2.000000         4.000000      1.000000  \n",
              "75%                    3.000000         6.000000      1.000000  \n",
              "max                   10.000000         7.000000      1.000000  "
            ]
          },
          "execution_count": 12,
          "metadata": {},
          "output_type": "execute_result"
        }
      ],
      "source": [
        "use_train.describe()"
      ]
    },
    {
      "cell_type": "code",
      "execution_count": 13,
      "metadata": {
        "id": "BBD0bMpPpGR-"
      },
      "outputs": [],
      "source": [
        "# 우선 nan값이 없으므로\n",
        "num_pip=skpip.make_pipeline(skpre.MinMaxScaler())\n",
        "cate_pip=skpip.make_pipeline(skpre.OneHotEncoder(handle_unknown='ignore'))\n",
        "column_trans=skcom.make_column_transformer((num_pip,num_cols),(cate_pip,cate_cols))\n",
        "\n",
        "# 모델\n",
        "LD_model=skdis.LinearDiscriminantAnalysis(store_covariance=True)\n",
        "\n",
        "Total_process=skpip.make_pipeline(column_trans,LD_model)"
      ]
    },
    {
      "cell_type": "markdown",
      "metadata": {
        "id": "pqXi2GRUgAb-"
      },
      "source": [
        "### step2. 교차검증"
      ]
    },
    {
      "cell_type": "code",
      "execution_count": 14,
      "metadata": {
        "id": "CdQku_78Sdgv"
      },
      "outputs": [],
      "source": [
        "val_results=skmod.cross_val_score(estimator=Total_process,X=use_train,y=use_train[target],scoring=\"accuracy\",cv=3,n_jobs=-1)"
      ]
    },
    {
      "cell_type": "code",
      "execution_count": 15,
      "metadata": {
        "colab": {
          "base_uri": "https://localhost:8080/"
        },
        "id": "bk3RsBewSeDK",
        "outputId": "c8fedf9b-bcaf-4709-8bad-5ea63b2cb5ee"
      },
      "outputs": [
        {
          "data": {
            "text/plain": [
              "array([0.62027594, 0.61986199, 0.61986199])"
            ]
          },
          "execution_count": 15,
          "metadata": {},
          "output_type": "execute_result"
        }
      ],
      "source": [
        "val_results"
      ]
    },
    {
      "cell_type": "markdown",
      "metadata": {
        "id": "mrw3IL99HGnA"
      },
      "source": [
        "정확도 60%는 어떤 의미가 있는지 확인해보자  \n",
        "아래 `dummy_model`은 항상 단순한 값은(아래의 경우 최빈값을 뱉어낼것이다) 추출하는 분류 모델이다"
      ]
    },
    {
      "cell_type": "code",
      "execution_count": 16,
      "metadata": {
        "colab": {
          "base_uri": "https://localhost:8080/",
          "height": 74
        },
        "id": "VaOUHGLMT2m5",
        "outputId": "c88906ac-d919-4157-f74a-f5eb5df0e2bd"
      },
      "outputs": [
        {
          "data": {
            "text/html": [
              "<style>#sk-container-id-1 {color: black;}#sk-container-id-1 pre{padding: 0;}#sk-container-id-1 div.sk-toggleable {background-color: white;}#sk-container-id-1 label.sk-toggleable__label {cursor: pointer;display: block;width: 100%;margin-bottom: 0;padding: 0.3em;box-sizing: border-box;text-align: center;}#sk-container-id-1 label.sk-toggleable__label-arrow:before {content: \"▸\";float: left;margin-right: 0.25em;color: #696969;}#sk-container-id-1 label.sk-toggleable__label-arrow:hover:before {color: black;}#sk-container-id-1 div.sk-estimator:hover label.sk-toggleable__label-arrow:before {color: black;}#sk-container-id-1 div.sk-toggleable__content {max-height: 0;max-width: 0;overflow: hidden;text-align: left;background-color: #f0f8ff;}#sk-container-id-1 div.sk-toggleable__content pre {margin: 0.2em;color: black;border-radius: 0.25em;background-color: #f0f8ff;}#sk-container-id-1 input.sk-toggleable__control:checked~div.sk-toggleable__content {max-height: 200px;max-width: 100%;overflow: auto;}#sk-container-id-1 input.sk-toggleable__control:checked~label.sk-toggleable__label-arrow:before {content: \"▾\";}#sk-container-id-1 div.sk-estimator input.sk-toggleable__control:checked~label.sk-toggleable__label {background-color: #d4ebff;}#sk-container-id-1 div.sk-label input.sk-toggleable__control:checked~label.sk-toggleable__label {background-color: #d4ebff;}#sk-container-id-1 input.sk-hidden--visually {border: 0;clip: rect(1px 1px 1px 1px);clip: rect(1px, 1px, 1px, 1px);height: 1px;margin: -1px;overflow: hidden;padding: 0;position: absolute;width: 1px;}#sk-container-id-1 div.sk-estimator {font-family: monospace;background-color: #f0f8ff;border: 1px dotted black;border-radius: 0.25em;box-sizing: border-box;margin-bottom: 0.5em;}#sk-container-id-1 div.sk-estimator:hover {background-color: #d4ebff;}#sk-container-id-1 div.sk-parallel-item::after {content: \"\";width: 100%;border-bottom: 1px solid gray;flex-grow: 1;}#sk-container-id-1 div.sk-label:hover label.sk-toggleable__label {background-color: #d4ebff;}#sk-container-id-1 div.sk-serial::before {content: \"\";position: absolute;border-left: 1px solid gray;box-sizing: border-box;top: 0;bottom: 0;left: 50%;z-index: 0;}#sk-container-id-1 div.sk-serial {display: flex;flex-direction: column;align-items: center;background-color: white;padding-right: 0.2em;padding-left: 0.2em;position: relative;}#sk-container-id-1 div.sk-item {position: relative;z-index: 1;}#sk-container-id-1 div.sk-parallel {display: flex;align-items: stretch;justify-content: center;background-color: white;position: relative;}#sk-container-id-1 div.sk-item::before, #sk-container-id-1 div.sk-parallel-item::before {content: \"\";position: absolute;border-left: 1px solid gray;box-sizing: border-box;top: 0;bottom: 0;left: 50%;z-index: -1;}#sk-container-id-1 div.sk-parallel-item {display: flex;flex-direction: column;z-index: 1;position: relative;background-color: white;}#sk-container-id-1 div.sk-parallel-item:first-child::after {align-self: flex-end;width: 50%;}#sk-container-id-1 div.sk-parallel-item:last-child::after {align-self: flex-start;width: 50%;}#sk-container-id-1 div.sk-parallel-item:only-child::after {width: 0;}#sk-container-id-1 div.sk-dashed-wrapped {border: 1px dashed gray;margin: 0 0.4em 0.5em 0.4em;box-sizing: border-box;padding-bottom: 0.4em;background-color: white;}#sk-container-id-1 div.sk-label label {font-family: monospace;font-weight: bold;display: inline-block;line-height: 1.2em;}#sk-container-id-1 div.sk-label-container {text-align: center;}#sk-container-id-1 div.sk-container {/* jupyter's `normalize.less` sets `[hidden] { display: none; }` but bootstrap.min.css set `[hidden] { display: none !important; }` so we also need the `!important` here to be able to override the default hidden behavior on the sphinx rendered scikit-learn.org. See: https://github.com/scikit-learn/scikit-learn/issues/21755 */display: inline-block !important;position: relative;}#sk-container-id-1 div.sk-text-repr-fallback {display: none;}</style><div id=\"sk-container-id-1\" class=\"sk-top-container\"><div class=\"sk-text-repr-fallback\"><pre>DummyClassifier()</pre><b>In a Jupyter environment, please rerun this cell to show the HTML representation or trust the notebook. <br />On GitHub, the HTML representation is unable to render, please try loading this page with nbviewer.org.</b></div><div class=\"sk-container\" hidden><div class=\"sk-item\"><div class=\"sk-estimator sk-toggleable\"><input class=\"sk-toggleable__control sk-hidden--visually\" id=\"sk-estimator-id-1\" type=\"checkbox\" checked><label for=\"sk-estimator-id-1\" class=\"sk-toggleable__label sk-toggleable__label-arrow\">DummyClassifier</label><div class=\"sk-toggleable__content\"><pre>DummyClassifier()</pre></div></div></div></div></div>"
            ],
            "text/plain": [
              "DummyClassifier()"
            ]
          },
          "execution_count": 16,
          "metadata": {},
          "output_type": "execute_result"
        }
      ],
      "source": [
        "import sklearn.dummy as skdum\n",
        "dummy_model=skdum.DummyClassifier()\n",
        "dummy_model.fit(X=use_train[use_train.columns.difference([target])],y=use_train[target])"
      ]
    },
    {
      "cell_type": "code",
      "execution_count": 17,
      "metadata": {
        "colab": {
          "base_uri": "https://localhost:8080/"
        },
        "id": "iBJMbWPcVMS4",
        "outputId": "833ce144-b4cf-480b-ba8b-77117e6815f8"
      },
      "outputs": [
        {
          "name": "stdout",
          "output_type": "stream",
          "text": [
            "[1 1 1 ... 1 1 1]\n"
          ]
        }
      ],
      "source": [
        "print(dummy_model.predict(use_train[use_train.columns.difference([target])]))"
      ]
    },
    {
      "cell_type": "code",
      "execution_count": 18,
      "metadata": {
        "id": "EYkkKiqBUJ0D"
      },
      "outputs": [],
      "source": [
        "dummy_results=skmod.cross_val_score(estimator=dummy_model,X=use_train[use_train.columns.difference([target])],\n",
        "                                    y=use_train[target],cv=3,n_jobs=-1)"
      ]
    },
    {
      "cell_type": "code",
      "execution_count": 19,
      "metadata": {
        "colab": {
          "base_uri": "https://localhost:8080/"
        },
        "id": "kPrHpqeKVq3T",
        "outputId": "a742774a-314c-4fa7-8aab-cccd179287eb"
      },
      "outputs": [
        {
          "data": {
            "text/plain": [
              "array([0.619976  , 0.61986199, 0.61986199])"
            ]
          },
          "execution_count": 19,
          "metadata": {},
          "output_type": "execute_result"
        }
      ],
      "source": [
        "dummy_results"
      ]
    },
    {
      "cell_type": "markdown",
      "metadata": {
        "id": "6ekD7HjJVtDk"
      },
      "source": [
        "### step3. 해석\n",
        "위와 같이 정확도 60%는 굉장히 의미없는 숫자임을 우리는 알수있다.  \n",
        "`dummy_model`을 통해 모두 최빈값으로 예측해도 60%의 정확도를 기대할 수 있기 때문"
      ]
    },
    {
      "cell_type": "markdown",
      "metadata": {
        "id": "zqVWy7_LWLhb"
      },
      "source": [
        "### step4. confusion matirx\n",
        "오차 행렬을 살펴보자"
      ]
    },
    {
      "cell_type": "code",
      "execution_count": 20,
      "metadata": {
        "id": "zNBn2KlFYBgI"
      },
      "outputs": [],
      "source": [
        "predict_matrix=skmod.cross_val_predict(estimator=Total_process,X=use_train,y=use_train[target],cv=3,n_jobs=-1)"
      ]
    },
    {
      "cell_type": "code",
      "execution_count": 21,
      "metadata": {
        "colab": {
          "base_uri": "https://localhost:8080/"
        },
        "id": "jnJxGkTRYs17",
        "outputId": "622cd9b9-260e-4209-ab50-bd142595cb0c"
      },
      "outputs": [
        {
          "data": {
            "text/plain": [
              "array([[   2, 3799],\n",
              "       [   1, 6198]], dtype=int64)"
            ]
          },
          "execution_count": 21,
          "metadata": {},
          "output_type": "execute_result"
        }
      ],
      "source": [
        "skmet.confusion_matrix(y_pred=predict_matrix,y_true=use_train[target])"
      ]
    },
    {
      "cell_type": "markdown",
      "metadata": {
        "id": "JZ5LxfhUYybZ"
      },
      "source": [
        "|구조||\n",
        "|--|--|\n",
        "|행|실제|\n",
        "|열|예측|\n"
      ]
    },
    {
      "cell_type": "code",
      "execution_count": 22,
      "metadata": {
        "colab": {
          "base_uri": "https://localhost:8080/"
        },
        "id": "09_JWkPYaJyj",
        "outputId": "39e6b08b-b6b6-4050-b9e1-ef8307220372"
      },
      "outputs": [
        {
          "data": {
            "text/plain": [
              "0\n",
              "1    9997\n",
              "0       3\n",
              "Name: count, dtype: int64"
            ]
          },
          "execution_count": 22,
          "metadata": {},
          "output_type": "execute_result"
        }
      ],
      "source": [
        "pd.DataFrame(predict_matrix)[0].value_counts()"
      ]
    },
    {
      "cell_type": "markdown",
      "metadata": {
        "id": "OJGXzAuCaZ3M"
      },
      "source": [
        "### 재현율, 정밀도의 필요성\n",
        "\n",
        "|수치|설명|\n",
        "|--|--|\n",
        "|정밀도|y_pred==True 중 y_true==True값의 비중|\n",
        "|재현율|y_true==True 중 y_pred==True값의 비중|\n",
        "|f1-score|둘의 조화평균|\n",
        "\n",
        "### 오차 행렬\n",
        "|구분|pred=0|pred=1|\n",
        "|--|--|--|\n",
        "|**true=0**|True_Negative|False_Positive|\n",
        "|**true=1**|False_Negative|True_Positive|"
      ]
    },
    {
      "cell_type": "markdown",
      "metadata": {},
      "source": [
        "### 참고.직접 계산해보면서 알아보자"
      ]
    },
    {
      "cell_type": "markdown",
      "metadata": {},
      "source": [
        "1. 정확도"
      ]
    },
    {
      "cell_type": "code",
      "execution_count": 31,
      "metadata": {},
      "outputs": [
        {
          "data": {
            "text/plain": [
              "0.62"
            ]
          },
          "execution_count": 31,
          "metadata": {},
          "output_type": "execute_result"
        }
      ],
      "source": [
        "confu_mtx=skmet.confusion_matrix(y_pred=predict_matrix,y_true=use_train[target])\n",
        "(confu_mtx[0,0]+confu_mtx[1,1])/np.sum(confu_mtx)"
      ]
    },
    {
      "cell_type": "code",
      "execution_count": 30,
      "metadata": {
        "id": "oEom9Pg7hbTh"
      },
      "outputs": [
        {
          "data": {
            "text/plain": [
              "0.62"
            ]
          },
          "execution_count": 30,
          "metadata": {},
          "output_type": "execute_result"
        }
      ],
      "source": [
        "skmet.accuracy_score(y_true=use_train[target],y_pred=predict_matrix)"
      ]
    },
    {
      "cell_type": "markdown",
      "metadata": {},
      "source": [
        "2. 정밀도"
      ]
    },
    {
      "cell_type": "code",
      "execution_count": 33,
      "metadata": {},
      "outputs": [
        {
          "data": {
            "text/plain": [
              "0.6199859957987396"
            ]
          },
          "execution_count": 33,
          "metadata": {},
          "output_type": "execute_result"
        }
      ],
      "source": [
        "confu_mtx[1,1]/(confu_mtx[0,1]+confu_mtx[1,1])"
      ]
    },
    {
      "cell_type": "code",
      "execution_count": 34,
      "metadata": {},
      "outputs": [
        {
          "data": {
            "text/plain": [
              "0.6199859957987396"
            ]
          },
          "execution_count": 34,
          "metadata": {},
          "output_type": "execute_result"
        }
      ],
      "source": [
        "skmet.precision_score(y_true=use_train[target],y_pred=predict_matrix)"
      ]
    },
    {
      "cell_type": "markdown",
      "metadata": {},
      "source": [
        "3.재현율"
      ]
    },
    {
      "cell_type": "code",
      "execution_count": 35,
      "metadata": {},
      "outputs": [
        {
          "data": {
            "text/plain": [
              "0.9998386836586546"
            ]
          },
          "execution_count": 35,
          "metadata": {},
          "output_type": "execute_result"
        }
      ],
      "source": [
        "confu_mtx[1,1]/(confu_mtx[1,0]+confu_mtx[1,1])"
      ]
    },
    {
      "cell_type": "code",
      "execution_count": 36,
      "metadata": {},
      "outputs": [
        {
          "data": {
            "text/plain": [
              "0.9998386836586546"
            ]
          },
          "execution_count": 36,
          "metadata": {},
          "output_type": "execute_result"
        }
      ],
      "source": [
        "skmet.recall_score(y_true=use_train[target],y_pred=predict_matrix)"
      ]
    },
    {
      "cell_type": "markdown",
      "metadata": {},
      "source": [
        "4.f1 score : 재현율과 정밀도의 조화평균"
      ]
    },
    {
      "cell_type": "code",
      "execution_count": 37,
      "metadata": {},
      "outputs": [
        {
          "data": {
            "text/plain": [
              "0.7653741664608544"
            ]
          },
          "execution_count": 37,
          "metadata": {},
          "output_type": "execute_result"
        }
      ],
      "source": [
        "skmet.f1_score(y_true=use_train[target],y_pred=predict_matrix)"
      ]
    },
    {
      "cell_type": "code",
      "execution_count": 38,
      "metadata": {},
      "outputs": [
        {
          "data": {
            "text/plain": [
              "0.7653741664608545"
            ]
          },
          "execution_count": 38,
          "metadata": {},
          "output_type": "execute_result"
        }
      ],
      "source": [
        "2/(1/skmet.precision_score(y_true=use_train[target],y_pred=predict_matrix)+1/skmet.recall_score(y_true=use_train[target],y_pred=predict_matrix))"
      ]
    },
    {
      "cell_type": "code",
      "execution_count": null,
      "metadata": {},
      "outputs": [],
      "source": []
    }
  ],
  "metadata": {
    "accelerator": "TPU",
    "colab": {
      "authorship_tag": "ABX9TyNllm5oXOsWB12x2kL2bNzI",
      "include_colab_link": true,
      "provenance": []
    },
    "kernelspec": {
      "display_name": "Python 3",
      "name": "python3"
    },
    "language_info": {
      "codemirror_mode": {
        "name": "ipython",
        "version": 3
      },
      "file_extension": ".py",
      "mimetype": "text/x-python",
      "name": "python",
      "nbconvert_exporter": "python",
      "pygments_lexer": "ipython3",
      "version": "3.12.0"
    }
  },
  "nbformat": 4,
  "nbformat_minor": 0
}
