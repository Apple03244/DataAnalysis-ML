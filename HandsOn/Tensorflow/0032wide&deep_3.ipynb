{
  "nbformat": 4,
  "nbformat_minor": 0,
  "metadata": {
    "colab": {
      "provenance": [],
      "authorship_tag": "ABX9TyOlG/4XAMdgNtKHlY+n3zWC",
      "include_colab_link": true
    },
    "kernelspec": {
      "name": "python3",
      "display_name": "Python 3"
    },
    "language_info": {
      "name": "python"
    },
    "accelerator": "TPU"
  },
  "cells": [
    {
      "cell_type": "markdown",
      "metadata": {
        "id": "view-in-github",
        "colab_type": "text"
      },
      "source": [
        "<a href=\"https://colab.research.google.com/github/Apple03244/Colaboratory/blob/main/wide%26deep_3.ipynb\" target=\"_parent\"><img src=\"https://colab.research.google.com/assets/colab-badge.svg\" alt=\"Open In Colab\"/></a>"
      ]
    },
    {
      "cell_type": "code",
      "execution_count": 2,
      "metadata": {
        "colab": {
          "base_uri": "https://localhost:8080/",
          "height": 74
        },
        "id": "3xIQB28mfRAq",
        "outputId": "78e666ef-d7c3-4a97-c310-c86d61ddf6ef"
      },
      "outputs": [
        {
          "output_type": "display_data",
          "data": {
            "text/plain": [
              "<IPython.core.display.HTML object>"
            ],
            "text/html": [
              "\n",
              "     <input type=\"file\" id=\"files-1c2426d5-66af-4f92-8ac5-d44cbf8a5926\" name=\"files[]\" multiple disabled\n",
              "        style=\"border:none\" />\n",
              "     <output id=\"result-1c2426d5-66af-4f92-8ac5-d44cbf8a5926\">\n",
              "      Upload widget is only available when the cell has been executed in the\n",
              "      current browser session. Please rerun this cell to enable.\n",
              "      </output>\n",
              "      <script>// Copyright 2017 Google LLC\n",
              "//\n",
              "// Licensed under the Apache License, Version 2.0 (the \"License\");\n",
              "// you may not use this file except in compliance with the License.\n",
              "// You may obtain a copy of the License at\n",
              "//\n",
              "//      http://www.apache.org/licenses/LICENSE-2.0\n",
              "//\n",
              "// Unless required by applicable law or agreed to in writing, software\n",
              "// distributed under the License is distributed on an \"AS IS\" BASIS,\n",
              "// WITHOUT WARRANTIES OR CONDITIONS OF ANY KIND, either express or implied.\n",
              "// See the License for the specific language governing permissions and\n",
              "// limitations under the License.\n",
              "\n",
              "/**\n",
              " * @fileoverview Helpers for google.colab Python module.\n",
              " */\n",
              "(function(scope) {\n",
              "function span(text, styleAttributes = {}) {\n",
              "  const element = document.createElement('span');\n",
              "  element.textContent = text;\n",
              "  for (const key of Object.keys(styleAttributes)) {\n",
              "    element.style[key] = styleAttributes[key];\n",
              "  }\n",
              "  return element;\n",
              "}\n",
              "\n",
              "// Max number of bytes which will be uploaded at a time.\n",
              "const MAX_PAYLOAD_SIZE = 100 * 1024;\n",
              "\n",
              "function _uploadFiles(inputId, outputId) {\n",
              "  const steps = uploadFilesStep(inputId, outputId);\n",
              "  const outputElement = document.getElementById(outputId);\n",
              "  // Cache steps on the outputElement to make it available for the next call\n",
              "  // to uploadFilesContinue from Python.\n",
              "  outputElement.steps = steps;\n",
              "\n",
              "  return _uploadFilesContinue(outputId);\n",
              "}\n",
              "\n",
              "// This is roughly an async generator (not supported in the browser yet),\n",
              "// where there are multiple asynchronous steps and the Python side is going\n",
              "// to poll for completion of each step.\n",
              "// This uses a Promise to block the python side on completion of each step,\n",
              "// then passes the result of the previous step as the input to the next step.\n",
              "function _uploadFilesContinue(outputId) {\n",
              "  const outputElement = document.getElementById(outputId);\n",
              "  const steps = outputElement.steps;\n",
              "\n",
              "  const next = steps.next(outputElement.lastPromiseValue);\n",
              "  return Promise.resolve(next.value.promise).then((value) => {\n",
              "    // Cache the last promise value to make it available to the next\n",
              "    // step of the generator.\n",
              "    outputElement.lastPromiseValue = value;\n",
              "    return next.value.response;\n",
              "  });\n",
              "}\n",
              "\n",
              "/**\n",
              " * Generator function which is called between each async step of the upload\n",
              " * process.\n",
              " * @param {string} inputId Element ID of the input file picker element.\n",
              " * @param {string} outputId Element ID of the output display.\n",
              " * @return {!Iterable<!Object>} Iterable of next steps.\n",
              " */\n",
              "function* uploadFilesStep(inputId, outputId) {\n",
              "  const inputElement = document.getElementById(inputId);\n",
              "  inputElement.disabled = false;\n",
              "\n",
              "  const outputElement = document.getElementById(outputId);\n",
              "  outputElement.innerHTML = '';\n",
              "\n",
              "  const pickedPromise = new Promise((resolve) => {\n",
              "    inputElement.addEventListener('change', (e) => {\n",
              "      resolve(e.target.files);\n",
              "    });\n",
              "  });\n",
              "\n",
              "  const cancel = document.createElement('button');\n",
              "  inputElement.parentElement.appendChild(cancel);\n",
              "  cancel.textContent = 'Cancel upload';\n",
              "  const cancelPromise = new Promise((resolve) => {\n",
              "    cancel.onclick = () => {\n",
              "      resolve(null);\n",
              "    };\n",
              "  });\n",
              "\n",
              "  // Wait for the user to pick the files.\n",
              "  const files = yield {\n",
              "    promise: Promise.race([pickedPromise, cancelPromise]),\n",
              "    response: {\n",
              "      action: 'starting',\n",
              "    }\n",
              "  };\n",
              "\n",
              "  cancel.remove();\n",
              "\n",
              "  // Disable the input element since further picks are not allowed.\n",
              "  inputElement.disabled = true;\n",
              "\n",
              "  if (!files) {\n",
              "    return {\n",
              "      response: {\n",
              "        action: 'complete',\n",
              "      }\n",
              "    };\n",
              "  }\n",
              "\n",
              "  for (const file of files) {\n",
              "    const li = document.createElement('li');\n",
              "    li.append(span(file.name, {fontWeight: 'bold'}));\n",
              "    li.append(span(\n",
              "        `(${file.type || 'n/a'}) - ${file.size} bytes, ` +\n",
              "        `last modified: ${\n",
              "            file.lastModifiedDate ? file.lastModifiedDate.toLocaleDateString() :\n",
              "                                    'n/a'} - `));\n",
              "    const percent = span('0% done');\n",
              "    li.appendChild(percent);\n",
              "\n",
              "    outputElement.appendChild(li);\n",
              "\n",
              "    const fileDataPromise = new Promise((resolve) => {\n",
              "      const reader = new FileReader();\n",
              "      reader.onload = (e) => {\n",
              "        resolve(e.target.result);\n",
              "      };\n",
              "      reader.readAsArrayBuffer(file);\n",
              "    });\n",
              "    // Wait for the data to be ready.\n",
              "    let fileData = yield {\n",
              "      promise: fileDataPromise,\n",
              "      response: {\n",
              "        action: 'continue',\n",
              "      }\n",
              "    };\n",
              "\n",
              "    // Use a chunked sending to avoid message size limits. See b/62115660.\n",
              "    let position = 0;\n",
              "    do {\n",
              "      const length = Math.min(fileData.byteLength - position, MAX_PAYLOAD_SIZE);\n",
              "      const chunk = new Uint8Array(fileData, position, length);\n",
              "      position += length;\n",
              "\n",
              "      const base64 = btoa(String.fromCharCode.apply(null, chunk));\n",
              "      yield {\n",
              "        response: {\n",
              "          action: 'append',\n",
              "          file: file.name,\n",
              "          data: base64,\n",
              "        },\n",
              "      };\n",
              "\n",
              "      let percentDone = fileData.byteLength === 0 ?\n",
              "          100 :\n",
              "          Math.round((position / fileData.byteLength) * 100);\n",
              "      percent.textContent = `${percentDone}% done`;\n",
              "\n",
              "    } while (position < fileData.byteLength);\n",
              "  }\n",
              "\n",
              "  // All done.\n",
              "  yield {\n",
              "    response: {\n",
              "      action: 'complete',\n",
              "    }\n",
              "  };\n",
              "}\n",
              "\n",
              "scope.google = scope.google || {};\n",
              "scope.google.colab = scope.google.colab || {};\n",
              "scope.google.colab._files = {\n",
              "  _uploadFiles,\n",
              "  _uploadFilesContinue,\n",
              "};\n",
              "})(self);\n",
              "</script> "
            ]
          },
          "metadata": {}
        },
        {
          "output_type": "stream",
          "name": "stdout",
          "text": [
            "Saving train.csv to train.csv\n"
          ]
        }
      ],
      "source": [
        "import google.colab as colab\n",
        "import pandas as pd\n",
        "f=colab.files\n",
        "files=f.upload()"
      ]
    },
    {
      "cell_type": "code",
      "source": [
        "  data=pd.read_csv(\"/content/train.csv\")"
      ],
      "metadata": {
        "id": "ZQ2zO-DufhqV"
      },
      "execution_count": 3,
      "outputs": []
    },
    {
      "cell_type": "markdown",
      "source": [
        "## step 1. 전처리\n",
        "이전과 같으므로 설명 생략"
      ],
      "metadata": {
        "id": "Ybx-eBlTfwtb"
      }
    },
    {
      "cell_type": "code",
      "source": [
        "import sklearn.preprocessing as skpre\n",
        "import sklearn.pipeline as skpip\n",
        "import sklearn.model_selection as skmod\n",
        "import sklearn.impute as skimp\n",
        "import sklearn.compose as skcomp\n",
        "import tensorflow as ts\n",
        "import tensorflow.keras as tk\n",
        "data[\"일시\"]=data[\"일시\"].apply(lambda x:pd.to_datetime(x))\n",
        "ts.random.set_seed(10)\n",
        "target='평균기온'\n",
        "wide_feature=[\"최고기온\",\"최저기온\"]\n",
        "deep_feature=data.columns.difference([target,\"일시\"]+wide_feature)"
      ],
      "metadata": {
        "id": "7X5HMO4lgocs"
      },
      "execution_count": 4,
      "outputs": []
    },
    {
      "cell_type": "code",
      "source": [
        "fill_na=skpip.make_pipeline(skimp.SimpleImputer(strategy=\"constant\",fill_value=0))\n",
        "preprocess=skcomp.make_column_transformer((fill_na,data.columns.difference([\"일시\",target])),remainder='passthrough')\n",
        "def drop_(x):\n",
        "  for t in [\"pipeline__\",\"remainder__\"]:\n",
        "    x=x.replace(t,\"\")\n",
        "  return x\n",
        "preprocess.fit(X=data)\n",
        "columns_name=list(map(drop_,preprocess.get_feature_names_out()))\n",
        "trans_data=pd.DataFrame(preprocess.transform(X=data)\n",
        ",columns=columns_name)\n",
        "trans_data[trans_data.select_dtypes(\"object\").columns]=trans_data.select_dtypes(\"object\").astype('float')"
      ],
      "metadata": {
        "id": "pzhyaSfBgvzB"
      },
      "execution_count": 5,
      "outputs": []
    },
    {
      "cell_type": "markdown",
      "source": [
        "## step 2. wide & deep model type 3"
      ],
      "metadata": {
        "id": "_7oLxH-yhA2V"
      }
    },
    {
      "cell_type": "markdown",
      "source": [
        "### 모델 구조 생성"
      ],
      "metadata": {
        "id": "JhMuoxUXiu6K"
      }
    },
    {
      "cell_type": "code",
      "source": [
        "# 1-1. input 2개\n",
        "input_wide_layer=tk.Input(shape=trans_data[wide_feature].shape[1:])\n",
        "input_deep_layer=tk.Input(shape=trans_data[deep_feature].shape[1:])\n",
        "# 2-1. 정규화\n",
        "normal_wide_layer=tk.layers.Normalization()\n",
        "normal_deep_layer=tk.layers.Normalization()\n",
        "# 2-2. 정규화 진행\n",
        "normal_wide=normal_wide_layer(input_wide_layer)\n",
        "normal_deep=normal_deep_layer(input_deep_layer)\n",
        "# 3-1. 경로 생성\n",
        "deep_1=tk.layers.Dense(units=30,activation='sigmoid')(normal_deep)\n",
        "deep_2=tk.layers.Dense(units=30,activation='sigmoid')(deep_1)\n",
        "# 4-1. concate\n",
        "concate=tk.layers.Concatenate()([normal_wide,deep_2])\n",
        "# 5-1. output\n",
        "output=tk.layers.Dense(1)(concate)\n",
        "sub_output=tk.layers.Dense(1)(deep_2)"
      ],
      "metadata": {
        "id": "6Zx1P5yThyhS"
      },
      "execution_count": 6,
      "outputs": []
    },
    {
      "cell_type": "markdown",
      "source": [
        "위의 모델은 input 2& output 2개로 이루어진 모델임을 알 수 있다"
      ],
      "metadata": {
        "id": "WTpvTv4BrFvf"
      }
    },
    {
      "cell_type": "code",
      "source": [
        "# 6-1. make model\n",
        "type_3_model=tk.Model(inputs=(input_wide_layer,input_deep_layer),outputs=(output,sub_output))"
      ],
      "metadata": {
        "id": "i7ryKQxTroPG"
      },
      "execution_count": 7,
      "outputs": []
    },
    {
      "cell_type": "code",
      "source": [
        "# 7-1. compile\n",
        "optimizer=tk.optimizers.SGD(learning_rate=0.01)\n",
        "loss=tk.losses.mae\n",
        "type_3_model.compile(optimizer=optimizer,loss=(loss,loss),metrics=[\"RootMeanSquaredError\"],loss_weights=(0.9,0.1),run_eagerly=True)"
      ],
      "metadata": {
        "id": "UlIrGNuluQG-"
      },
      "execution_count": 8,
      "outputs": []
    },
    {
      "cell_type": "code",
      "source": [
        "import numpy as np\n",
        "np.random.seed(10)\n",
        "train,test=skmod.train_test_split(trans_data,train_size=0.7,random_state=10)"
      ],
      "metadata": {
        "id": "txxaPIWvykDF"
      },
      "execution_count": 9,
      "outputs": []
    },
    {
      "cell_type": "code",
      "source": [
        "# 8-1. model fitting\n",
        "normal_wide_layer.adapt(train[wide_feature])\n",
        "normal_deep_layer.adapt(train[deep_feature])\n",
        "train_x=(train[wide_feature],train[deep_feature])\n",
        "test_x=(test[wide_feature],test[deep_feature])\n",
        "run_history=type_3_model.fit(x=train_x,y=train[target],epochs=10,validation_data=(test_x,test[target]),workers=-1)"
      ],
      "metadata": {
        "colab": {
          "base_uri": "https://localhost:8080/"
        },
        "id": "m00bLrV0voS_",
        "outputId": "45548807-b298-43cc-f8cf-9e8c99ed3f9f"
      },
      "execution_count": 10,
      "outputs": [
        {
          "output_type": "stream",
          "name": "stdout",
          "text": [
            "Epoch 1/10\n",
            "504/504 [==============================] - 25s 50ms/step - loss: 7.7031 - dense_2_loss: 7.1879 - dense_3_loss: 12.3400 - dense_2_root_mean_squared_error: 9.0230 - dense_3_root_mean_squared_error: 14.7188 - val_loss: 3.9105 - val_dense_2_loss: 3.0891 - val_dense_3_loss: 11.3035 - val_dense_2_root_mean_squared_error: 3.6121 - val_dense_3_root_mean_squared_error: 13.3949\n",
            "Epoch 2/10\n",
            "504/504 [==============================] - 24s 47ms/step - loss: 1.9790 - dense_2_loss: 1.0136 - dense_3_loss: 10.6681 - dense_2_root_mean_squared_error: 1.5497 - dense_3_root_mean_squared_error: 12.5433 - val_loss: 1.3917 - val_dense_2_loss: 0.4243 - val_dense_3_loss: 10.0991 - val_dense_2_root_mean_squared_error: 0.5693 - val_dense_3_root_mean_squared_error: 11.7488\n",
            "Epoch 3/10\n",
            "504/504 [==============================] - 23s 46ms/step - loss: 1.3555 - dense_2_loss: 0.4157 - dense_3_loss: 9.8139 - dense_2_root_mean_squared_error: 0.5562 - dense_3_root_mean_squared_error: 11.3280 - val_loss: 1.3177 - val_dense_2_loss: 0.4104 - val_dense_3_loss: 9.4827 - val_dense_2_root_mean_squared_error: 0.5539 - val_dense_3_root_mean_squared_error: 10.8853\n",
            "Epoch 4/10\n",
            "504/504 [==============================] - 24s 48ms/step - loss: 1.3030 - dense_2_loss: 0.4046 - dense_3_loss: 9.3886 - dense_2_root_mean_squared_error: 0.5434 - dense_3_root_mean_squared_error: 10.7415 - val_loss: 1.2790 - val_dense_2_loss: 0.4020 - val_dense_3_loss: 9.1726 - val_dense_2_root_mean_squared_error: 0.5452 - val_dense_3_root_mean_squared_error: 10.5026\n",
            "Epoch 5/10\n",
            "504/504 [==============================] - 23s 45ms/step - loss: 1.2784 - dense_2_loss: 0.3992 - dense_3_loss: 9.1909 - dense_2_root_mean_squared_error: 0.5376 - dense_3_root_mean_squared_error: 10.5112 - val_loss: 1.2611 - val_dense_2_loss: 0.3980 - val_dense_3_loss: 9.0286 - val_dense_2_root_mean_squared_error: 0.5403 - val_dense_3_root_mean_squared_error: 10.3675\n",
            "Epoch 6/10\n",
            "504/504 [==============================] - 25s 50ms/step - loss: 1.2666 - dense_2_loss: 0.3961 - dense_3_loss: 9.1012 - dense_2_root_mean_squared_error: 0.5342 - dense_3_root_mean_squared_error: 10.4462 - val_loss: 1.2536 - val_dense_2_loss: 0.3969 - val_dense_3_loss: 8.9640 - val_dense_2_root_mean_squared_error: 0.5377 - val_dense_3_root_mean_squared_error: 10.3405\n",
            "Epoch 7/10\n",
            "504/504 [==============================] - 25s 50ms/step - loss: 1.2611 - dense_2_loss: 0.3941 - dense_3_loss: 9.0635 - dense_2_root_mean_squared_error: 0.5316 - dense_3_root_mean_squared_error: 10.4436 - val_loss: 1.2491 - val_dense_2_loss: 0.3952 - val_dense_3_loss: 8.9344 - val_dense_2_root_mean_squared_error: 0.5374 - val_dense_3_root_mean_squared_error: 10.3492\n",
            "Epoch 8/10\n",
            "504/504 [==============================] - 24s 48ms/step - loss: 1.2582 - dense_2_loss: 0.3927 - dense_3_loss: 9.0478 - dense_2_root_mean_squared_error: 0.5304 - dense_3_root_mean_squared_error: 10.4614 - val_loss: 1.2464 - val_dense_2_loss: 0.3938 - val_dense_3_loss: 8.9199 - val_dense_2_root_mean_squared_error: 0.5364 - val_dense_3_root_mean_squared_error: 10.3664\n",
            "Epoch 9/10\n",
            "504/504 [==============================] - 23s 46ms/step - loss: 1.2565 - dense_2_loss: 0.3917 - dense_3_loss: 9.0401 - dense_2_root_mean_squared_error: 0.5297 - dense_3_root_mean_squared_error: 10.4814 - val_loss: 1.2503 - val_dense_2_loss: 0.3989 - val_dense_3_loss: 8.9135 - val_dense_2_root_mean_squared_error: 0.5425 - val_dense_3_root_mean_squared_error: 10.3779\n",
            "Epoch 10/10\n",
            "504/504 [==============================] - 23s 46ms/step - loss: 1.2560 - dense_2_loss: 0.3916 - dense_3_loss: 9.0357 - dense_2_root_mean_squared_error: 0.5289 - dense_3_root_mean_squared_error: 10.4930 - val_loss: 1.2453 - val_dense_2_loss: 0.3939 - val_dense_3_loss: 8.9077 - val_dense_2_root_mean_squared_error: 0.5364 - val_dense_3_root_mean_squared_error: 10.3887\n"
          ]
        }
      ]
    },
    {
      "cell_type": "code",
      "source": [
        "import matplotlib.pyplot as plt\n",
        "import seaborn as sb\n",
        "his_data=pd.DataFrame(run_history.history)"
      ],
      "metadata": {
        "id": "0YOvGvzx0Ld3"
      },
      "execution_count": 13,
      "outputs": []
    },
    {
      "cell_type": "code",
      "source": [
        "plt.figure()\n",
        "for col in his_data.columns:\n",
        "  sb.lineplot(x=his_data.index,y=his_data[col],label=col)\n",
        "plt.grid()"
      ],
      "metadata": {
        "colab": {
          "base_uri": "https://localhost:8080/",
          "height": 430
        },
        "id": "3adg7iyR-cf5",
        "outputId": "365eec35-f7bb-47e6-cd93-fb44ddfbb50c"
      },
      "execution_count": 15,
      "outputs": [
        {
          "output_type": "display_data",
          "data": {
            "text/plain": [
              "<Figure size 640x480 with 1 Axes>"
            ],
            "image/png": "[encoded data removed]"
          },
          "metadata": {}
        }
      ]
    },
    {
      "cell_type": "code",
      "source": [],
      "metadata": {
        "id": "uGa8Pu9S-qMD"
      },
      "execution_count": null,
      "outputs": []
    }
  ]
}