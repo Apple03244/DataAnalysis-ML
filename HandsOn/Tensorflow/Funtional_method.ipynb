{
  "nbformat": 4,
  "nbformat_minor": 0,
  "metadata": {
    "colab": {
      "provenance": [],
      "authorship_tag": "ABX9TyN37znJ0X/DbhqnvmwwgICX",
      "include_colab_link": true
    },
    "kernelspec": {
      "name": "python3",
      "display_name": "Python 3"
    },
    "language_info": {
      "name": "python"
    },
    "accelerator": "TPU"
  },
  "cells": [
    {
      "cell_type": "markdown",
      "metadata": {
        "id": "view-in-github",
        "colab_type": "text"
      },
      "source": [
        "<a href=\"https://colab.research.google.com/github/Apple03244/Colaboratory/blob/main/Funtional_method.ipynb\" target=\"_parent\"><img src=\"https://colab.research.google.com/assets/colab-badge.svg\" alt=\"Open In Colab\"/></a>"
      ]
    },
    {
      "cell_type": "code",
      "execution_count": 44,
      "metadata": {
        "colab": {
          "base_uri": "https://localhost:8080/",
          "height": 74
        },
        "id": "xPVv_GiINLqq",
        "outputId": "43295cfb-c090-429f-bd3a-95b1c1541d9f"
      },
      "outputs": [
        {
          "output_type": "display_data",
          "data": {
            "text/plain": [
              "<IPython.core.display.HTML object>"
            ],
            "text/html": [
              "\n",
              "     <input type=\"file\" id=\"files-059cde4f-5609-4b7d-a162-886ec59fc1aa\" name=\"files[]\" multiple disabled\n",
              "        style=\"border:none\" />\n",
              "     <output id=\"result-059cde4f-5609-4b7d-a162-886ec59fc1aa\">\n",
              "      Upload widget is only available when the cell has been executed in the\n",
              "      current browser session. Please rerun this cell to enable.\n",
              "      </output>\n",
              "      <script>// Copyright 2017 Google LLC\n",
              "//\n",
              "// Licensed under the Apache License, Version 2.0 (the \"License\");\n",
              "// you may not use this file except in compliance with the License.\n",
              "// You may obtain a copy of the License at\n",
              "//\n",
              "//      http://www.apache.org/licenses/LICENSE-2.0\n",
              "//\n",
              "// Unless required by applicable law or agreed to in writing, software\n",
              "// distributed under the License is distributed on an \"AS IS\" BASIS,\n",
              "// WITHOUT WARRANTIES OR CONDITIONS OF ANY KIND, either express or implied.\n",
              "// See the License for the specific language governing permissions and\n",
              "// limitations under the License.\n",
              "\n",
              "/**\n",
              " * @fileoverview Helpers for google.colab Python module.\n",
              " */\n",
              "(function(scope) {\n",
              "function span(text, styleAttributes = {}) {\n",
              "  const element = document.createElement('span');\n",
              "  element.textContent = text;\n",
              "  for (const key of Object.keys(styleAttributes)) {\n",
              "    element.style[key] = styleAttributes[key];\n",
              "  }\n",
              "  return element;\n",
              "}\n",
              "\n",
              "// Max number of bytes which will be uploaded at a time.\n",
              "const MAX_PAYLOAD_SIZE = 100 * 1024;\n",
              "\n",
              "function _uploadFiles(inputId, outputId) {\n",
              "  const steps = uploadFilesStep(inputId, outputId);\n",
              "  const outputElement = document.getElementById(outputId);\n",
              "  // Cache steps on the outputElement to make it available for the next call\n",
              "  // to uploadFilesContinue from Python.\n",
              "  outputElement.steps = steps;\n",
              "\n",
              "  return _uploadFilesContinue(outputId);\n",
              "}\n",
              "\n",
              "// This is roughly an async generator (not supported in the browser yet),\n",
              "// where there are multiple asynchronous steps and the Python side is going\n",
              "// to poll for completion of each step.\n",
              "// This uses a Promise to block the python side on completion of each step,\n",
              "// then passes the result of the previous step as the input to the next step.\n",
              "function _uploadFilesContinue(outputId) {\n",
              "  const outputElement = document.getElementById(outputId);\n",
              "  const steps = outputElement.steps;\n",
              "\n",
              "  const next = steps.next(outputElement.lastPromiseValue);\n",
              "  return Promise.resolve(next.value.promise).then((value) => {\n",
              "    // Cache the last promise value to make it available to the next\n",
              "    // step of the generator.\n",
              "    outputElement.lastPromiseValue = value;\n",
              "    return next.value.response;\n",
              "  });\n",
              "}\n",
              "\n",
              "/**\n",
              " * Generator function which is called between each async step of the upload\n",
              " * process.\n",
              " * @param {string} inputId Element ID of the input file picker element.\n",
              " * @param {string} outputId Element ID of the output display.\n",
              " * @return {!Iterable<!Object>} Iterable of next steps.\n",
              " */\n",
              "function* uploadFilesStep(inputId, outputId) {\n",
              "  const inputElement = document.getElementById(inputId);\n",
              "  inputElement.disabled = false;\n",
              "\n",
              "  const outputElement = document.getElementById(outputId);\n",
              "  outputElement.innerHTML = '';\n",
              "\n",
              "  const pickedPromise = new Promise((resolve) => {\n",
              "    inputElement.addEventListener('change', (e) => {\n",
              "      resolve(e.target.files);\n",
              "    });\n",
              "  });\n",
              "\n",
              "  const cancel = document.createElement('button');\n",
              "  inputElement.parentElement.appendChild(cancel);\n",
              "  cancel.textContent = 'Cancel upload';\n",
              "  const cancelPromise = new Promise((resolve) => {\n",
              "    cancel.onclick = () => {\n",
              "      resolve(null);\n",
              "    };\n",
              "  });\n",
              "\n",
              "  // Wait for the user to pick the files.\n",
              "  const files = yield {\n",
              "    promise: Promise.race([pickedPromise, cancelPromise]),\n",
              "    response: {\n",
              "      action: 'starting',\n",
              "    }\n",
              "  };\n",
              "\n",
              "  cancel.remove();\n",
              "\n",
              "  // Disable the input element since further picks are not allowed.\n",
              "  inputElement.disabled = true;\n",
              "\n",
              "  if (!files) {\n",
              "    return {\n",
              "      response: {\n",
              "        action: 'complete',\n",
              "      }\n",
              "    };\n",
              "  }\n",
              "\n",
              "  for (const file of files) {\n",
              "    const li = document.createElement('li');\n",
              "    li.append(span(file.name, {fontWeight: 'bold'}));\n",
              "    li.append(span(\n",
              "        `(${file.type || 'n/a'}) - ${file.size} bytes, ` +\n",
              "        `last modified: ${\n",
              "            file.lastModifiedDate ? file.lastModifiedDate.toLocaleDateString() :\n",
              "                                    'n/a'} - `));\n",
              "    const percent = span('0% done');\n",
              "    li.appendChild(percent);\n",
              "\n",
              "    outputElement.appendChild(li);\n",
              "\n",
              "    const fileDataPromise = new Promise((resolve) => {\n",
              "      const reader = new FileReader();\n",
              "      reader.onload = (e) => {\n",
              "        resolve(e.target.result);\n",
              "      };\n",
              "      reader.readAsArrayBuffer(file);\n",
              "    });\n",
              "    // Wait for the data to be ready.\n",
              "    let fileData = yield {\n",
              "      promise: fileDataPromise,\n",
              "      response: {\n",
              "        action: 'continue',\n",
              "      }\n",
              "    };\n",
              "\n",
              "    // Use a chunked sending to avoid message size limits. See b/62115660.\n",
              "    let position = 0;\n",
              "    do {\n",
              "      const length = Math.min(fileData.byteLength - position, MAX_PAYLOAD_SIZE);\n",
              "      const chunk = new Uint8Array(fileData, position, length);\n",
              "      position += length;\n",
              "\n",
              "      const base64 = btoa(String.fromCharCode.apply(null, chunk));\n",
              "      yield {\n",
              "        response: {\n",
              "          action: 'append',\n",
              "          file: file.name,\n",
              "          data: base64,\n",
              "        },\n",
              "      };\n",
              "\n",
              "      let percentDone = fileData.byteLength === 0 ?\n",
              "          100 :\n",
              "          Math.round((position / fileData.byteLength) * 100);\n",
              "      percent.textContent = `${percentDone}% done`;\n",
              "\n",
              "    } while (position < fileData.byteLength);\n",
              "  }\n",
              "\n",
              "  // All done.\n",
              "  yield {\n",
              "    response: {\n",
              "      action: 'complete',\n",
              "    }\n",
              "  };\n",
              "}\n",
              "\n",
              "scope.google = scope.google || {};\n",
              "scope.google.colab = scope.google.colab || {};\n",
              "scope.google.colab._files = {\n",
              "  _uploadFiles,\n",
              "  _uploadFilesContinue,\n",
              "};\n",
              "})(self);\n",
              "</script> "
            ]
          },
          "metadata": {}
        },
        {
          "output_type": "stream",
          "name": "stdout",
          "text": [
            "Saving train.csv to train (1).csv\n"
          ]
        }
      ],
      "source": [
        "import google.colab as colab\n",
        "fm=colab.files\n",
        "files_=fm.upload()"
      ]
    },
    {
      "cell_type": "code",
      "source": [
        "import pandas as pd\n",
        "data=pd.read_csv('/content/train.csv')"
      ],
      "metadata": {
        "id": "4T68E7BfNV63"
      },
      "execution_count": 45,
      "outputs": []
    },
    {
      "cell_type": "code",
      "source": [
        "import sklearn.model_selection as skmod\n",
        "import sklearn.compose as skcom\n",
        "import sklearn.impute as skimp\n",
        "import sklearn.preprocessing as skpre\n",
        "import sklearn.pipeline as skpip\n",
        "import numpy as np"
      ],
      "metadata": {
        "id": "g6K5V8f2Ns3L"
      },
      "execution_count": 46,
      "outputs": []
    },
    {
      "cell_type": "markdown",
      "source": [
        "## Funtional method\n",
        "- 이전 방법들은 \"정적인\" 방법으로 모델의 구조를 이해하고 copy하기 쉽다는 장점이 있다.\n",
        "- 하지만 동적인 method 와 달리 모델을 변경하기 어려우므로 아해의 방법을 이해해두자"
      ],
      "metadata": {
        "id": "Dmy8y2L4eMhP"
      }
    },
    {
      "cell_type": "code",
      "source": [
        "data[\"일시\"]=data[\"일시\"].apply(lambda x:pd.to_datetime(x))"
      ],
      "metadata": {
        "id": "XNyAnNFQOH1K"
      },
      "execution_count": 47,
      "outputs": []
    },
    {
      "cell_type": "code",
      "source": [
        "imp=skimp.SimpleImputer(strategy=\"constant\",fill_value=0)\n",
        "data[data.columns.difference([\"일시\",\"평균기온\"])]=imp.fit_transform(data[data.columns.difference([\"일시\",\"평균기온\"])])"
      ],
      "metadata": {
        "id": "_ezNCBwpfoRJ"
      },
      "execution_count": 48,
      "outputs": []
    },
    {
      "cell_type": "markdown",
      "source": [
        "### 모델 만들기"
      ],
      "metadata": {
        "id": "cRxBy0Xmxd2X"
      }
    },
    {
      "cell_type": "code",
      "source": [
        "import tensorflow as ts\n",
        "import tensorflow.keras as tk"
      ],
      "metadata": {
        "id": "-NB3Br8HHOfQ"
      },
      "execution_count": 49,
      "outputs": []
    },
    {
      "cell_type": "code",
      "source": [
        "class WideAndDeepModel(tk.Model):\n",
        "  def __init__(self,units=30,activation='relu',**kwargs):\n",
        "    super().__init__(**kwargs) # 모델에 이름을 부여하기 위해 필요\n",
        "    self.norm_layer_wide=tk.layers.Normalization()\n",
        "    self.norm_layer_deep=tk.layers.Normalization()\n",
        "    self.deep_1_layer=tk.layers.Dense(units,activation=activation)\n",
        "    self.deep_2_layer=tk.layers.Dense(units,activation=activation)\n",
        "    self.output_layer=tk.layers.Dense(1)\n",
        "    self.sub_output_layer=tk.layers.Dense(1)\n",
        "\n",
        "  def call(self,inputs):\n",
        "    wide_input,deep_input=inputs\n",
        "    norm_wide=self.norm_layer_wide(wide_input)\n",
        "    norm_deep=self.norm_layer_deep(deep_input)\n",
        "    deep_1=self.deep_1_layer(norm_deep)\n",
        "    deep_2=self.deep_2_layer(deep_1)\n",
        "    concate=tk.layers.concatenate([norm_wide,deep_2])\n",
        "    output=self.output_layer(concate)\n",
        "    sub_output=self.sub_output_layer(concate)\n",
        "    return (output,sub_output)"
      ],
      "metadata": {
        "id": "FdRUAsLcIvim"
      },
      "execution_count": 62,
      "outputs": []
    },
    {
      "cell_type": "code",
      "source": [
        "MyModel=WideAndDeepModel(30,activation=\"relu\",name=\"MyFirstModel\")"
      ],
      "metadata": {
        "id": "RTBQdy7jpVfw"
      },
      "execution_count": 63,
      "outputs": []
    },
    {
      "cell_type": "markdown",
      "source": [
        "### 모델 학습하기"
      ],
      "metadata": {
        "id": "svXLjUgapgUm"
      }
    },
    {
      "cell_type": "code",
      "source": [
        "input_wide=data[[\"최고기온\",\"최저기온\"]]\n",
        "input_deep=data[data.columns.difference([\"최고기온\",\"최저기온\",\"평균기온\",\"일시\"])]\n",
        "inputs=(input_wide,input_deep)"
      ],
      "metadata": {
        "id": "oM6M_IH6q_0A"
      },
      "execution_count": 64,
      "outputs": []
    },
    {
      "cell_type": "code",
      "source": [
        "MyModel.norm_layer_wide.adapt(input_wide)\n",
        "MyModel.norm_layer_deep.adapt(input_deep)"
      ],
      "metadata": {
        "id": "iSS9FBPNrkzQ"
      },
      "execution_count": 65,
      "outputs": []
    },
    {
      "cell_type": "code",
      "source": [
        "# compile\n",
        "MyModel.compile(optimizer=tk.optimizers.Adam(learning_rate=0.01),\n",
        "                loss=tk.losses.mae,\n",
        "                metrics=[\"RootMeanSquaredError\"])"
      ],
      "metadata": {
        "id": "0Xr4BrEmtiuL"
      },
      "execution_count": 66,
      "outputs": []
    },
    {
      "cell_type": "code",
      "source": [
        "test_output=MyModel.call(inputs=(input_wide,input_deep))"
      ],
      "metadata": {
        "id": "qUrig-TcuH0x"
      },
      "execution_count": 71,
      "outputs": []
    },
    {
      "cell_type": "code",
      "source": [],
      "metadata": {
        "id": "Oej1Ll0Wwgdg"
      },
      "execution_count": null,
      "outputs": []
    }
  ]
}