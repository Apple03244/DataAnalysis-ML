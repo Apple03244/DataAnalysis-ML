{
  "nbformat": 4,
  "nbformat_minor": 0,
  "metadata": {
    "colab": {
      "provenance": [],
      "authorship_tag": "ABX9TyM2q6TvgXMWnN1k4t+U/fP1",
      "include_colab_link": true
    },
    "kernelspec": {
      "name": "python3",
      "display_name": "Python 3"
    },
    "language_info": {
      "name": "python"
    },
    "accelerator": "TPU"
  },
  "cells": [
    {
      "cell_type": "markdown",
      "metadata": {
        "id": "view-in-github",
        "colab_type": "text"
      },
      "source": [
        "<a href=\"https://colab.research.google.com/github/Apple03244/Colaboratory/blob/main/%EB%8B%A4%EC%A4%91%ED%8D%BC%EC%85%89%ED%8A%B8%EB%A1%A0.ipynb\" target=\"_parent\"><img src=\"https://colab.research.google.com/assets/colab-badge.svg\" alt=\"Open In Colab\"/></a>"
      ]
    },
    {
      "cell_type": "code",
      "execution_count": 136,
      "metadata": {
        "id": "fnks_Ydt24CO"
      },
      "outputs": [],
      "source": [
        "import google.colab as colab"
      ]
    },
    {
      "cell_type": "code",
      "source": [
        "module=colab.files"
      ],
      "metadata": {
        "id": "a8sR82QWzt9-"
      },
      "execution_count": 137,
      "outputs": []
    },
    {
      "cell_type": "code",
      "source": [
        "#file_data=module.upload()"
      ],
      "metadata": {
        "id": "_WbLt5C8z0V3"
      },
      "execution_count": 138,
      "outputs": []
    },
    {
      "cell_type": "code",
      "source": [
        "import pandas as pd\n",
        "data=pd.read_csv('/content/train.csv')"
      ],
      "metadata": {
        "id": "Al26H_OAz6Eb"
      },
      "execution_count": 139,
      "outputs": []
    },
    {
      "cell_type": "code",
      "source": [
        "use_data=data.dropna(axis=0)\n",
        "use_data[\"일시\"]=pd.to_datetime(use_data[\"일시\"])"
      ],
      "metadata": {
        "colab": {
          "base_uri": "https://localhost:8080/"
        },
        "id": "2VnFzZPE0G-2",
        "outputId": "c4627806-4db9-4f6d-9d8e-d5f012f9acf5"
      },
      "execution_count": 140,
      "outputs": [
        {
          "output_type": "stream",
          "name": "stderr",
          "text": [
            "<ipython-input-140-089be084eef0>:2: SettingWithCopyWarning: \n",
            "A value is trying to be set on a copy of a slice from a DataFrame.\n",
            "Try using .loc[row_indexer,col_indexer] = value instead\n",
            "\n",
            "See the caveats in the documentation: https://pandas.pydata.org/pandas-docs/stable/user_guide/indexing.html#returning-a-view-versus-a-copy\n",
            "  use_data[\"일시\"]=pd.to_datetime(use_data[\"일시\"])\n"
          ]
        }
      ]
    },
    {
      "cell_type": "code",
      "source": [
        "target='평균기온'"
      ],
      "metadata": {
        "id": "n3eIn2DU0I-C"
      },
      "execution_count": 141,
      "outputs": []
    },
    {
      "cell_type": "markdown",
      "source": [
        "## 1. 회귀를 위한 다중퍼셉트론(사이킷런)"
      ],
      "metadata": {
        "id": "iv0iBCDf0q9p"
      }
    },
    {
      "cell_type": "code",
      "source": [
        "import sklearn.neural_network as skneu\n",
        "import sklearn.preprocessing as skpre\n",
        "import sklearn.model_selection as skmod\n",
        "import numpy as np\n",
        "np.random.seed(10)\n",
        "import sklearn.pipeline as skpip"
      ],
      "metadata": {
        "id": "fE4I4hY-1USD"
      },
      "execution_count": 142,
      "outputs": []
    },
    {
      "cell_type": "code",
      "source": [
        "mlp_model=skneu.MLPRegressor(hidden_layer_sizes=(50,50,50),random_state=10)\n",
        "mlp_reg=skpip.make_pipeline(skpre.StandardScaler(),mlp_model)"
      ],
      "metadata": {
        "id": "S0umsrIT2Yek"
      },
      "execution_count": 143,
      "outputs": []
    },
    {
      "cell_type": "code",
      "source": [
        "train_data=use_data[use_data[\"일시\"].apply(lambda x:x.year)<=2020]\n",
        "test_data=use_data[use_data[\"일시\"].apply(lambda x:x.year)>2020]"
      ],
      "metadata": {
        "id": "SYrh2zz56W9h"
      },
      "execution_count": 144,
      "outputs": []
    },
    {
      "cell_type": "code",
      "source": [
        "mlp_reg.fit(X=train_data[train_data.columns.difference([\"일시\",target])],y=train_data[target])"
      ],
      "metadata": {
        "colab": {
          "base_uri": "https://localhost:8080/",
          "height": 124
        },
        "id": "8dPrpW8h6w6a",
        "outputId": "52a495a9-6f02-4727-a67e-d647e1217e37"
      },
      "execution_count": 145,
      "outputs": [
        {
          "output_type": "execute_result",
          "data": {
            "text/plain": [
              "Pipeline(steps=[('standardscaler', StandardScaler()),\n",
              "                ('mlpregressor',\n",
              "                 MLPRegressor(hidden_layer_sizes=(50, 50, 50),\n",
              "                              random_state=10))])"
            ],
            "text/html": [
              "<style>#sk-container-id-4 {color: black;background-color: white;}#sk-container-id-4 pre{padding: 0;}#sk-container-id-4 div.sk-toggleable {background-color: white;}#sk-container-id-4 label.sk-toggleable__label {cursor: pointer;display: block;width: 100%;margin-bottom: 0;padding: 0.3em;box-sizing: border-box;text-align: center;}#sk-container-id-4 label.sk-toggleable__label-arrow:before {content: \"▸\";float: left;margin-right: 0.25em;color: #696969;}#sk-container-id-4 label.sk-toggleable__label-arrow:hover:before {color: black;}#sk-container-id-4 div.sk-estimator:hover label.sk-toggleable__label-arrow:before {color: black;}#sk-container-id-4 div.sk-toggleable__content {max-height: 0;max-width: 0;overflow: hidden;text-align: left;background-color: #f0f8ff;}#sk-container-id-4 div.sk-toggleable__content pre {margin: 0.2em;color: black;border-radius: 0.25em;background-color: #f0f8ff;}#sk-container-id-4 input.sk-toggleable__control:checked~div.sk-toggleable__content {max-height: 200px;max-width: 100%;overflow: auto;}#sk-container-id-4 input.sk-toggleable__control:checked~label.sk-toggleable__label-arrow:before {content: \"▾\";}#sk-container-id-4 div.sk-estimator input.sk-toggleable__control:checked~label.sk-toggleable__label {background-color: #d4ebff;}#sk-container-id-4 div.sk-label input.sk-toggleable__control:checked~label.sk-toggleable__label {background-color: #d4ebff;}#sk-container-id-4 input.sk-hidden--visually {border: 0;clip: rect(1px 1px 1px 1px);clip: rect(1px, 1px, 1px, 1px);height: 1px;margin: -1px;overflow: hidden;padding: 0;position: absolute;width: 1px;}#sk-container-id-4 div.sk-estimator {font-family: monospace;background-color: #f0f8ff;border: 1px dotted black;border-radius: 0.25em;box-sizing: border-box;margin-bottom: 0.5em;}#sk-container-id-4 div.sk-estimator:hover {background-color: #d4ebff;}#sk-container-id-4 div.sk-parallel-item::after {content: \"\";width: 100%;border-bottom: 1px solid gray;flex-grow: 1;}#sk-container-id-4 div.sk-label:hover label.sk-toggleable__label {background-color: #d4ebff;}#sk-container-id-4 div.sk-serial::before {content: \"\";position: absolute;border-left: 1px solid gray;box-sizing: border-box;top: 0;bottom: 0;left: 50%;z-index: 0;}#sk-container-id-4 div.sk-serial {display: flex;flex-direction: column;align-items: center;background-color: white;padding-right: 0.2em;padding-left: 0.2em;position: relative;}#sk-container-id-4 div.sk-item {position: relative;z-index: 1;}#sk-container-id-4 div.sk-parallel {display: flex;align-items: stretch;justify-content: center;background-color: white;position: relative;}#sk-container-id-4 div.sk-item::before, #sk-container-id-4 div.sk-parallel-item::before {content: \"\";position: absolute;border-left: 1px solid gray;box-sizing: border-box;top: 0;bottom: 0;left: 50%;z-index: -1;}#sk-container-id-4 div.sk-parallel-item {display: flex;flex-direction: column;z-index: 1;position: relative;background-color: white;}#sk-container-id-4 div.sk-parallel-item:first-child::after {align-self: flex-end;width: 50%;}#sk-container-id-4 div.sk-parallel-item:last-child::after {align-self: flex-start;width: 50%;}#sk-container-id-4 div.sk-parallel-item:only-child::after {width: 0;}#sk-container-id-4 div.sk-dashed-wrapped {border: 1px dashed gray;margin: 0 0.4em 0.5em 0.4em;box-sizing: border-box;padding-bottom: 0.4em;background-color: white;}#sk-container-id-4 div.sk-label label {font-family: monospace;font-weight: bold;display: inline-block;line-height: 1.2em;}#sk-container-id-4 div.sk-label-container {text-align: center;}#sk-container-id-4 div.sk-container {/* jupyter's `normalize.less` sets `[hidden] { display: none; }` but bootstrap.min.css set `[hidden] { display: none !important; }` so we also need the `!important` here to be able to override the default hidden behavior on the sphinx rendered scikit-learn.org. See: https://github.com/scikit-learn/scikit-learn/issues/21755 */display: inline-block !important;position: relative;}#sk-container-id-4 div.sk-text-repr-fallback {display: none;}</style><div id=\"sk-container-id-4\" class=\"sk-top-container\"><div class=\"sk-text-repr-fallback\"><pre>Pipeline(steps=[(&#x27;standardscaler&#x27;, StandardScaler()),\n",
              "                (&#x27;mlpregressor&#x27;,\n",
              "                 MLPRegressor(hidden_layer_sizes=(50, 50, 50),\n",
              "                              random_state=10))])</pre><b>In a Jupyter environment, please rerun this cell to show the HTML representation or trust the notebook. <br />On GitHub, the HTML representation is unable to render, please try loading this page with nbviewer.org.</b></div><div class=\"sk-container\" hidden><div class=\"sk-item sk-dashed-wrapped\"><div class=\"sk-label-container\"><div class=\"sk-label sk-toggleable\"><input class=\"sk-toggleable__control sk-hidden--visually\" id=\"sk-estimator-id-10\" type=\"checkbox\" ><label for=\"sk-estimator-id-10\" class=\"sk-toggleable__label sk-toggleable__label-arrow\">Pipeline</label><div class=\"sk-toggleable__content\"><pre>Pipeline(steps=[(&#x27;standardscaler&#x27;, StandardScaler()),\n",
              "                (&#x27;mlpregressor&#x27;,\n",
              "                 MLPRegressor(hidden_layer_sizes=(50, 50, 50),\n",
              "                              random_state=10))])</pre></div></div></div><div class=\"sk-serial\"><div class=\"sk-item\"><div class=\"sk-estimator sk-toggleable\"><input class=\"sk-toggleable__control sk-hidden--visually\" id=\"sk-estimator-id-11\" type=\"checkbox\" ><label for=\"sk-estimator-id-11\" class=\"sk-toggleable__label sk-toggleable__label-arrow\">StandardScaler</label><div class=\"sk-toggleable__content\"><pre>StandardScaler()</pre></div></div></div><div class=\"sk-item\"><div class=\"sk-estimator sk-toggleable\"><input class=\"sk-toggleable__control sk-hidden--visually\" id=\"sk-estimator-id-12\" type=\"checkbox\" ><label for=\"sk-estimator-id-12\" class=\"sk-toggleable__label sk-toggleable__label-arrow\">MLPRegressor</label><div class=\"sk-toggleable__content\"><pre>MLPRegressor(hidden_layer_sizes=(50, 50, 50), random_state=10)</pre></div></div></div></div></div></div></div>"
            ]
          },
          "metadata": {},
          "execution_count": 145
        }
      ]
    },
    {
      "cell_type": "code",
      "source": [
        "import sklearn.metrics as skmet\n",
        "pred_y=mlp_reg.predict(X=test_data[test_data.columns.difference([\"일시\",target])])\n",
        "skmet.mean_squared_error(y_true=test_data[target],y_pred=pred_y,squared=False)"
      ],
      "metadata": {
        "colab": {
          "base_uri": "https://localhost:8080/"
        },
        "id": "LasrxdF1-3Ux",
        "outputId": "dbd949ce-adb6-4fec-b93d-af7e174e1405"
      },
      "execution_count": 146,
      "outputs": [
        {
          "output_type": "execute_result",
          "data": {
            "text/plain": [
              "0.5648677372050859"
            ]
          },
          "metadata": {},
          "execution_count": 146
        }
      ]
    },
    {
      "cell_type": "markdown",
      "source": [
        "## 2. 케라스를 이용한 다중 퍼셉트론"
      ],
      "metadata": {
        "id": "Kw7k_Yqm_SdD"
      }
    },
    {
      "cell_type": "code",
      "source": [
        "import tensorflow as ts"
      ],
      "metadata": {
        "id": "fhIFvbe7EPOo"
      },
      "execution_count": 147,
      "outputs": []
    },
    {
      "cell_type": "code",
      "source": [
        "# 랜덤시드 고정\n",
        "ts.random.set_seed(10)"
      ],
      "metadata": {
        "id": "XBnTeadFGwWj"
      },
      "execution_count": 148,
      "outputs": []
    },
    {
      "cell_type": "markdown",
      "source": [
        "### step 1. 모델 생성"
      ],
      "metadata": {
        "id": "_hPRHQQlOCzn"
      }
    },
    {
      "cell_type": "code",
      "source": [
        "train_data[train_data.columns.difference([\"일시\",target])].shape[1:]"
      ],
      "metadata": {
        "colab": {
          "base_uri": "https://localhost:8080/"
        },
        "id": "tUajuReGg_PB",
        "outputId": "c6716adc-c88e-4ef5-f720-9d2776e28089"
      },
      "execution_count": 149,
      "outputs": [
        {
          "output_type": "execute_result",
          "data": {
            "text/plain": [
              "(9,)"
            ]
          },
          "metadata": {},
          "execution_count": 149
        }
      ]
    },
    {
      "cell_type": "code",
      "source": [
        "nomal_layer=ts.keras.layers.Normalization(input_shape=train_data[train_data.columns.difference([\"일시\",target])].shape[1:])\n",
        "model=ts.keras.Sequential() # 간단한 Sequential 모델을 만들거라 선언\n",
        "#model.add(ts.keras.layers.Input(shape=(9,))) # input shape 는 초기 데이터 형태\n",
        "#ts.keras.Flatten 은 이미지를 1차원으로 전처리 해주는 충\n",
        "model.add(nomal_layer)\n",
        "model.add(ts.keras.layers.Dense(300,activation='sigmoid'))\n",
        "model.add(ts.keras.layers.Dense(100,activation='sigmoid'))\n",
        "model.add(ts.keras.layers.Dense(10,activation=\"sigmoid\"))\n",
        "model.add(ts.keras.layers.Dense(1,activation=\"tanh\"))"
      ],
      "metadata": {
        "id": "jmOrHBxSHTAV"
      },
      "execution_count": 150,
      "outputs": []
    },
    {
      "cell_type": "code",
      "source": [
        "model.summary()"
      ],
      "metadata": {
        "colab": {
          "base_uri": "https://localhost:8080/"
        },
        "id": "ZCqFbwVVKw8C",
        "outputId": "eafe11d9-646f-4dd9-985d-b9e666d05876"
      },
      "execution_count": 151,
      "outputs": [
        {
          "output_type": "stream",
          "name": "stdout",
          "text": [
            "Model: \"sequential_12\"\n",
            "_________________________________________________________________\n",
            " Layer (type)                Output Shape              Param #   \n",
            "=================================================================\n",
            " normalization_1 (Normalizat  (None, 9)                19        \n",
            " ion)                                                            \n",
            "                                                                 \n",
            " dense_30 (Dense)            (None, 300)               3000      \n",
            "                                                                 \n",
            " dense_31 (Dense)            (None, 100)               30100     \n",
            "                                                                 \n",
            " dense_32 (Dense)            (None, 10)                1010      \n",
            "                                                                 \n",
            " dense_33 (Dense)            (None, 1)                 11        \n",
            "                                                                 \n",
            "=================================================================\n",
            "Total params: 34,140\n",
            "Trainable params: 34,121\n",
            "Non-trainable params: 19\n",
            "_________________________________________________________________\n"
          ]
        }
      ]
    },
    {
      "cell_type": "code",
      "source": [
        "model.layers"
      ],
      "metadata": {
        "colab": {
          "base_uri": "https://localhost:8080/"
        },
        "id": "sRb-VhKOMKU5",
        "outputId": "ca1d26f8-aa5f-4fe9-fab6-61ba73700d93"
      },
      "execution_count": 152,
      "outputs": [
        {
          "output_type": "execute_result",
          "data": {
            "text/plain": [
              "[<keras.layers.preprocessing.normalization.Normalization at 0x7f950b4b2c50>,\n",
              " <keras.layers.core.dense.Dense at 0x7f950b470f40>,\n",
              " <keras.layers.core.dense.Dense at 0x7f950b471c30>,\n",
              " <keras.layers.core.dense.Dense at 0x7f950b471540>,\n",
              " <keras.layers.core.dense.Dense at 0x7f950b472f20>]"
            ]
          },
          "metadata": {},
          "execution_count": 152
        }
      ]
    },
    {
      "cell_type": "markdown",
      "source": [
        "### step 2. 모델 컴파일(평가기준)"
      ],
      "metadata": {
        "id": "UeFkUCRmN8YG"
      }
    },
    {
      "cell_type": "code",
      "source": [
        "model.compile(optimizer=ts.keras.optimizers.SGD(learning_rate=1e-3),\n",
        "              loss=ts.keras.metrics.mean_squared_error,\n",
        "              metrics=[\"mae\"]) #Adam은 역전파 알고리즘의 변형"
      ],
      "metadata": {
        "id": "LAuMe5dsPLUf"
      },
      "execution_count": 153,
      "outputs": []
    },
    {
      "cell_type": "markdown",
      "source": [
        "### step 3. 모델 훈련 및 평가"
      ],
      "metadata": {
        "id": "x_LXTk9yPB0G"
      }
    },
    {
      "cell_type": "code",
      "source": [
        "train_feature=train_data.columns.difference([\"일시\",target])\n",
        "train_history=model.fit(x=train_data[train_feature],y=train_data[target]\n",
        "                        ,epochs=30,validation_split=0.1) #이처럼 검증에 수치를 넣으면 받은 데이터의 끝부터 해당 %만큼을 검증데이터로 사용한다\n",
        "          #epochs=30,validation_data=[test_data[train_feature],test_data[target]]) #이처럼 검증데이터를 직접주는것도 가능하다"
      ],
      "metadata": {
        "colab": {
          "base_uri": "https://localhost:8080/"
        },
        "id": "gSZ1Cm2uQDnL",
        "outputId": "ded524b3-ab6a-42db-ee71-7140e9bc6ba9"
      },
      "execution_count": 154,
      "outputs": [
        {
          "output_type": "stream",
          "name": "stdout",
          "text": [
            "Epoch 1/30\n",
            "191/191 [==============================] - 1s 4ms/step - loss: 268.7175 - mae: 14.0180 - val_loss: 311.5430 - val_mae: 15.1991\n",
            "Epoch 2/30\n",
            "191/191 [==============================] - 1s 3ms/step - loss: 267.5354 - mae: 13.9841 - val_loss: 311.4241 - val_mae: 15.1958\n",
            "Epoch 3/30\n",
            "191/191 [==============================] - 1s 4ms/step - loss: 267.4743 - mae: 13.9824 - val_loss: 311.3846 - val_mae: 15.1947\n",
            "Epoch 4/30\n",
            "191/191 [==============================] - 1s 4ms/step - loss: 267.4494 - mae: 13.9816 - val_loss: 311.3649 - val_mae: 15.1942\n",
            "Epoch 5/30\n",
            "191/191 [==============================] - 1s 5ms/step - loss: 267.4360 - mae: 13.9813 - val_loss: 311.3531 - val_mae: 15.1939\n",
            "Epoch 6/30\n",
            "191/191 [==============================] - 1s 5ms/step - loss: 267.4273 - mae: 13.9810 - val_loss: 311.3454 - val_mae: 15.1937\n",
            "Epoch 7/30\n",
            "191/191 [==============================] - 1s 3ms/step - loss: 267.4215 - mae: 13.9808 - val_loss: 311.3398 - val_mae: 15.1935\n",
            "Epoch 8/30\n",
            "191/191 [==============================] - 1s 3ms/step - loss: 267.4174 - mae: 13.9807 - val_loss: 311.3356 - val_mae: 15.1934\n",
            "Epoch 9/30\n",
            "191/191 [==============================] - 1s 3ms/step - loss: 267.4140 - mae: 13.9806 - val_loss: 311.3324 - val_mae: 15.1933\n",
            "Epoch 10/30\n",
            "191/191 [==============================] - 0s 3ms/step - loss: 267.4115 - mae: 13.9806 - val_loss: 311.3298 - val_mae: 15.1933\n",
            "Epoch 11/30\n",
            "191/191 [==============================] - 1s 3ms/step - loss: 267.4094 - mae: 13.9805 - val_loss: 311.3277 - val_mae: 15.1932\n",
            "Epoch 12/30\n",
            "191/191 [==============================] - 1s 3ms/step - loss: 267.4077 - mae: 13.9805 - val_loss: 311.3260 - val_mae: 15.1931\n",
            "Epoch 13/30\n",
            "191/191 [==============================] - 1s 3ms/step - loss: 267.4063 - mae: 13.9804 - val_loss: 311.3244 - val_mae: 15.1931\n",
            "Epoch 14/30\n",
            "191/191 [==============================] - 0s 3ms/step - loss: 267.4051 - mae: 13.9804 - val_loss: 311.3232 - val_mae: 15.1931\n",
            "Epoch 15/30\n",
            "191/191 [==============================] - 1s 3ms/step - loss: 267.4040 - mae: 13.9804 - val_loss: 311.3221 - val_mae: 15.1930\n",
            "Epoch 16/30\n",
            "191/191 [==============================] - 1s 3ms/step - loss: 267.4030 - mae: 13.9803 - val_loss: 311.3212 - val_mae: 15.1930\n",
            "Epoch 17/30\n",
            "191/191 [==============================] - 1s 3ms/step - loss: 267.4023 - mae: 13.9803 - val_loss: 311.3203 - val_mae: 15.1930\n",
            "Epoch 18/30\n",
            "191/191 [==============================] - 1s 3ms/step - loss: 267.4016 - mae: 13.9803 - val_loss: 311.3197 - val_mae: 15.1930\n",
            "Epoch 19/30\n",
            "191/191 [==============================] - 1s 3ms/step - loss: 267.4010 - mae: 13.9803 - val_loss: 311.3189 - val_mae: 15.1930\n",
            "Epoch 20/30\n",
            "191/191 [==============================] - 0s 3ms/step - loss: 267.4004 - mae: 13.9803 - val_loss: 311.3183 - val_mae: 15.1929\n",
            "Epoch 21/30\n",
            "191/191 [==============================] - 1s 3ms/step - loss: 267.3998 - mae: 13.9802 - val_loss: 311.3177 - val_mae: 15.1929\n",
            "Epoch 22/30\n",
            "191/191 [==============================] - 1s 3ms/step - loss: 267.3996 - mae: 13.9802 - val_loss: 311.3172 - val_mae: 15.1929\n",
            "Epoch 23/30\n",
            "191/191 [==============================] - 1s 3ms/step - loss: 267.3990 - mae: 13.9802 - val_loss: 311.3169 - val_mae: 15.1929\n",
            "Epoch 24/30\n",
            "191/191 [==============================] - 1s 3ms/step - loss: 267.3987 - mae: 13.9802 - val_loss: 311.3164 - val_mae: 15.1929\n",
            "Epoch 25/30\n",
            "191/191 [==============================] - 1s 4ms/step - loss: 267.3982 - mae: 13.9802 - val_loss: 311.3160 - val_mae: 15.1929\n",
            "Epoch 26/30\n",
            "191/191 [==============================] - 1s 4ms/step - loss: 267.3980 - mae: 13.9802 - val_loss: 311.3157 - val_mae: 15.1929\n",
            "Epoch 27/30\n",
            "191/191 [==============================] - 1s 4ms/step - loss: 267.3977 - mae: 13.9802 - val_loss: 311.3153 - val_mae: 15.1929\n",
            "Epoch 28/30\n",
            "191/191 [==============================] - 1s 4ms/step - loss: 267.3974 - mae: 13.9802 - val_loss: 311.3151 - val_mae: 15.1929\n",
            "Epoch 29/30\n",
            "191/191 [==============================] - 1s 4ms/step - loss: 267.3972 - mae: 13.9802 - val_loss: 311.3148 - val_mae: 15.1928\n",
            "Epoch 30/30\n",
            "191/191 [==============================] - 1s 3ms/step - loss: 267.3969 - mae: 13.9802 - val_loss: 311.3145 - val_mae: 15.1928\n"
          ]
        }
      ]
    },
    {
      "cell_type": "markdown",
      "source": [
        "### step 4. 평가를 위한 시각화"
      ],
      "metadata": {
        "id": "FG2B441OXREW"
      }
    },
    {
      "cell_type": "code",
      "source": [
        "import matplotlib.pyplot as plt\n",
        "import seaborn as sb\n",
        "history_data=pd.DataFrame(train_history.history)\n",
        "plt.figure(figsize=(8,4))\n",
        "for col in history_data.columns:\n",
        "  sb.lineplot(x=history_data.index,y=history_data[col],label=col)\n",
        "plt.grid()\n",
        "plt.show()"
      ],
      "metadata": {
        "colab": {
          "base_uri": "https://localhost:8080/",
          "height": 368
        },
        "id": "5CyYkZtvVjRV",
        "outputId": "652f3fd5-5a68-41b9-c72d-c551c4fb1b24"
      },
      "execution_count": 155,
      "outputs": [
        {
          "output_type": "display_data",
          "data": {
            "text/plain": [
              "<Figure size 800x400 with 1 Axes>"
            ],
            "image/png": "[encoded data removed]"
          },
          "metadata": {}
        }
      ]
    },
    {
      "cell_type": "markdown",
      "source": [
        "굉장히 안좋은 모델이지만 뒤에서 파라미터 튜닝을 배우며 모델을 성장시켜보자"
      ],
      "metadata": {
        "id": "goxE2nk3XM4I"
      }
    },
    {
      "cell_type": "code",
      "source": [],
      "metadata": {
        "id": "JjnsBYEVcgeP"
      },
      "execution_count": 155,
      "outputs": []
    }
  ]
}