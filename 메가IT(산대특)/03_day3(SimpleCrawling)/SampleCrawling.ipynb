{
 "cells": [
  {
   "attachments": {},
   "cell_type": "markdown",
   "metadata": {},
   "source": [
    "### 데이터 수집"
   ]
  },
  {
   "cell_type": "code",
   "execution_count": 2,
   "metadata": {},
   "outputs": [],
   "source": [
    "import requests\n",
    "from bs4 import BeautifulSoup"
   ]
  },
  {
   "cell_type": "code",
   "execution_count": 4,
   "metadata": {},
   "outputs": [],
   "source": [
    "#클래스 생성\n",
    "Session=requests.Session()"
   ]
  },
  {
   "cell_type": "code",
   "execution_count": 5,
   "metadata": {},
   "outputs": [],
   "source": [
    "#header 정보 갱신\n",
    "Session.headers.update({\n",
    "                        \"Refer\":\"\",\n",
    "                        \"User_Agent\":\"Mozilla/5.0 (Windows NT 10.0; Win64; x64) AppleWebKit/537.36 (KHTML, like Gecko) Chrome/114.0.0.0 Safari/537.36\"})"
   ]
  },
  {
   "cell_type": "code",
   "execution_count": 12,
   "metadata": {},
   "outputs": [],
   "source": [
    "#수집할 컨텐츠가 있는 웹페이지 주소\n",
    "url =\" https://data.hossam.kr/sample.html\""
   ]
  },
  {
   "cell_type": "code",
   "execution_count": 13,
   "metadata": {},
   "outputs": [],
   "source": [
    "#객체 생성\n",
    "rq=Session.get(url)\n",
    "if rq.status_code!=200:\n",
    "    raise Exception(f\"{rq.status_code} {rq.reason}\")"
   ]
  },
  {
   "cell_type": "code",
   "execution_count": 15,
   "metadata": {},
   "outputs": [],
   "source": [
    "#인코딩 설정\n",
    "rq.encoding=\"utf-8\""
   ]
  },
  {
   "cell_type": "code",
   "execution_count": 21,
   "metadata": {},
   "outputs": [],
   "source": [
    "#Beatifulsoup 클래스 사용 하여 객체 만들기\n",
    "soup=BeautifulSoup(rq.text) #이러면 day1에서 봤던 것처럼 http 문서가 들어올거임"
   ]
  },
  {
   "cell_type": "code",
   "execution_count": 22,
   "metadata": {},
   "outputs": [
    {
     "name": "stdout",
     "output_type": "stream",
     "text": [
      "<class 'bs4.BeautifulSoup'>\n",
      "<!DOCTYPE html>\n",
      "\n",
      "<html lang=\"en\">\n",
      "<head>\n",
      "<meta charset=\"utf-8\"/>\n",
      "<meta content=\"width=device-width, initial-scale=1.0\" name=\"viewport\"/>\n",
      "<title>Document</title>\n",
      "<style>\n",
      "        /* HTML 태그 방식 */\n",
      "        h1 { color: #f0f; }\n",
      "        h2 { color: #06f; }\n",
      "\n",
      "        /** Class 방식 */\n",
      "        .myclass { color: #f00; }\n",
      "\n",
      "        /** id 방식 */\n",
      "        #myid { color: #f60; }\n",
      "\n",
      "        /** 자식 선택자  */\n",
      "        .syllabus > li > ol > li {\n",
      "            text-decoration: underline;\n",
      "        }\n",
      "\n",
      "        /** 자손 선택자 */\n",
      "        .syllabus ol {\n",
      "            font-weight: bold;\n",
      "        }\n",
      "\n",
      "        .part1 {\n",
      "            background-color: #eeeeee;\n",
      "        }\n",
      "\n",
      "        .part2 {\n",
      "            background-color: #d5d5d5;\n",
      "        }\n",
      "\n",
      "        /** 특정 대상을 구체적으로 명시  */\n",
      "        div.sub.part1 {\n",
      "            border: 1px dotted #000;\n",
      "        }\n",
      "\n",
      "        div.sub.part2#hello {\n",
      "            border: 1px solid #555;\n",
      "        }\n",
      "\n",
      "        /** 특정 속성을 갖고 있는 요소  */\n",
      "        a[href] {\n",
      "            font-size: 20px;\n",
      "        }\n",
      "\n",
      "        /** 특정 속성 값에 대한 적용  */\n",
      "        a[href='#'] {\n",
      "            color: green;\n",
      "        }\n",
      "    </style>\n",
      "</head>\n",
      "<body>\n",
      "<h1>Hello World</h1>\n",
      "<a>link0</a>\n",
      "<a href=\"#\">link1</a>\n",
      "<a href=\"https://www.naver.com\">link2</a>\n",
      "<h2 id=\"myid\">Python</h2>\n",
      "<div class=\"sub part1\">\n",
      "<ul class=\"syllabus\">\n",
      "<li>변수와 데이터 타입</li>\n",
      "<li class=\"myclass\">연산자</li>\n",
      "<li>\n",
      "                연속성 자료형\n",
      "                <ol>\n",
      "<li>리스트(list)</li>\n",
      "<li>딕셔너리(dict)</li>\n",
      "<li>집합(set)</li>\n",
      "</ol>\n",
      "</li>\n",
      "<li>프로그램 흐름제어</li>\n",
      "<li>함수</li>\n",
      "</ul>\n",
      "</div>\n",
      "<h2>Data Analysis</h2>\n",
      "<div class=\"sub part2\" id=\"hello\">\n",
      "<ul>\n",
      "<li>데이터 수집</li>\n",
      "<li class=\"myclass\">데이터 전처리</li>\n",
      "<li>\n",
      "                탐색적 데이터 분석\n",
      "                <ol class=\"myclass\">\n",
      "<li>기초통계</li>\n",
      "<li>데이터 시각화</li>\n",
      "</ol>\n",
      "</li>\n",
      "<li>확증적 데이터 분석</li>\n",
      "<li>데이터 마이닝</li>\n",
      "</ul>\n",
      "</div>\n",
      "</body>\n",
      "</html>\n"
     ]
    }
   ],
   "source": [
    "#데이터 확인\n",
    "print(type(soup))\n",
    "print(soup)"
   ]
  },
  {
   "attachments": {},
   "cell_type": "markdown",
   "metadata": {},
   "source": [
    "### Soup 객체 사용"
   ]
  },
  {
   "attachments": {},
   "cell_type": "markdown",
   "metadata": {},
   "source": [
    "##### 1. HTML태그로 select"
   ]
  },
  {
   "cell_type": "code",
   "execution_count": 24,
   "metadata": {},
   "outputs": [
    {
     "name": "stdout",
     "output_type": "stream",
     "text": [
      "[<h1>Hello World</h1>]\n"
     ]
    }
   ],
   "source": [
    "h1_test=soup.select(\"h1\")\n",
    "print(h1_tes)"
   ]
  },
  {
   "cell_type": "code",
   "execution_count": 28,
   "metadata": {},
   "outputs": [
    {
     "data": {
      "text/plain": [
       "['Hello World']"
      ]
     },
     "execution_count": 28,
     "metadata": {},
     "output_type": "execute_result"
    }
   ],
   "source": [
    "#외부 html에서의 수집에서 strip은 필수적으로 하자^^\n",
    "result1=[h1_test[0].text.strip()]\n",
    "result1"
   ]
  },
  {
   "attachments": {},
   "cell_type": "markdown",
   "metadata": {},
   "source": [
    "##### 2. Class로 select"
   ]
  },
  {
   "cell_type": "code",
   "execution_count": 33,
   "metadata": {},
   "outputs": [
    {
     "data": {
      "text/plain": [
       "[<div class=\"sub part1\">\n",
       " <ul class=\"syllabus\">\n",
       " <li>변수와 데이터 타입</li>\n",
       " <li class=\"myclass\">연산자</li>\n",
       " <li>\n",
       "                 연속성 자료형\n",
       "                 <ol>\n",
       " <li>리스트(list)</li>\n",
       " <li>딕셔너리(dict)</li>\n",
       " <li>집합(set)</li>\n",
       " </ol>\n",
       " </li>\n",
       " <li>프로그램 흐름제어</li>\n",
       " <li>함수</li>\n",
       " </ul>\n",
       " </div>]"
      ]
     },
     "execution_count": 33,
     "metadata": {},
     "output_type": "execute_result"
    }
   ],
   "source": [
    "class_test=soup.select(\".part1\")\n",
    "class_test"
   ]
  },
  {
   "cell_type": "code",
   "execution_count": 53,
   "metadata": {},
   "outputs": [],
   "source": [
    "#여기서부턴 for문을 돌리자\n",
    "result2=[]"
   ]
  },
  {
   "cell_type": "code",
   "execution_count": null,
   "metadata": {},
   "outputs": [],
   "source": [
    "for i,v in enumerate(class_test):\n",
    "    result2.append([i,v.text.strip()])\n",
    "print(result2)"
   ]
  },
  {
   "attachments": {},
   "cell_type": "markdown",
   "metadata": {},
   "source": [
    "##### 2_1.class 하위 태그가 있는 경우"
   ]
  },
  {
   "cell_type": "code",
   "execution_count": 71,
   "metadata": {},
   "outputs": [],
   "source": [
    "class_test=soup.select(\".myclass\")"
   ]
  },
  {
   "cell_type": "code",
   "execution_count": 72,
   "metadata": {},
   "outputs": [],
   "source": [
    "#결과를 담을 곳을 만들자.\n",
    "rs_dic={'.myclass':[]}\n",
    "result2=[]"
   ]
  },
  {
   "cell_type": "code",
   "execution_count": 73,
   "metadata": {},
   "outputs": [
    {
     "name": "stdout",
     "output_type": "stream",
     "text": [
      "0번쨰 : 연산자\n",
      "1번쨰 : 데이터 전처리\n",
      "2번쨰 : 기초통계\n",
      "데이터 시각화\n"
     ]
    }
   ],
   "source": [
    "#2번쨰에서 하위태그가 발견됌\n",
    "for i,v in enumerate(class_test):\n",
    "    print(f\"{i}번쨰 : {v.text.strip()}\")\n",
    "    if \"\\n\" not in v.text.strip():\n",
    "        rs_dic['.myclass'].append(v.text.strip())\n",
    "    else:\n",
    "        result2.append(v)"
   ]
  },
  {
   "cell_type": "code",
   "execution_count": 74,
   "metadata": {},
   "outputs": [
    {
     "name": "stdout",
     "output_type": "stream",
     "text": [
      "{'.myclass': ['연산자', '데이터 전처리']}\n",
      "[<ol class=\"myclass\">\n",
      "<li>기초통계</li>\n",
      "<li>데이터 시각화</li>\n",
      "</ol>]\n"
     ]
    }
   ],
   "source": [
    "print(rs_dic)\n",
    "print(result2)"
   ]
  },
  {
   "cell_type": "code",
   "execution_count": 75,
   "metadata": {},
   "outputs": [],
   "source": [
    "li_test=class_test[2].select(\"li\")\n",
    "rs_dic[\".myclass/li\"]=[result.text.strip() for result in li_test]"
   ]
  },
  {
   "cell_type": "code",
   "execution_count": 76,
   "metadata": {},
   "outputs": [
    {
     "data": {
      "text/plain": [
       "{'.myclass': ['연산자', '데이터 전처리'], '.myclass/li': ['기초통계', '데이터 시각화']}"
      ]
     },
     "execution_count": 76,
     "metadata": {},
     "output_type": "execute_result"
    }
   ],
   "source": [
    "rs_dic"
   ]
  },
  {
   "attachments": {},
   "cell_type": "markdown",
   "metadata": {},
   "source": [
    "##### 3.id에 의한 추출"
   ]
  },
  {
   "cell_type": "code",
   "execution_count": 80,
   "metadata": {},
   "outputs": [
    {
     "data": {
      "text/plain": [
       "[<h2 id=\"myid\">Python</h2>]"
      ]
     },
     "execution_count": 80,
     "metadata": {},
     "output_type": "execute_result"
    }
   ],
   "source": [
    "id_test=soup.select('#myid')\n",
    "id_test"
   ]
  },
  {
   "cell_type": "code",
   "execution_count": 81,
   "metadata": {},
   "outputs": [
    {
     "name": "stdout",
     "output_type": "stream",
     "text": [
      "Python\n"
     ]
    }
   ],
   "source": [
    "print(id_test[0].text.strip())"
   ]
  },
  {
   "attachments": {},
   "cell_type": "markdown",
   "metadata": {},
   "source": [
    "##### 4.속성값 추출"
   ]
  },
  {
   "cell_type": "code",
   "execution_count": 91,
   "metadata": {},
   "outputs": [
    {
     "data": {
      "text/plain": [
       "[<a>link0</a>,\n",
       " <a href=\"#\">link1</a>,\n",
       " <a href=\"https://www.naver.com\">link2</a>]"
      ]
     },
     "execution_count": 91,
     "metadata": {},
     "output_type": "execute_result"
    }
   ],
   "source": [
    "attrs_test=soup.select(\"a\")\n",
    "attrs_test"
   ]
  },
  {
   "cell_type": "code",
   "execution_count": 94,
   "metadata": {},
   "outputs": [
    {
     "name": "stdout",
     "output_type": "stream",
     "text": [
      "0 {}\n",
      "1 {'href': '#'}\n",
      "2 {'href': 'https://www.naver.com'}\n"
     ]
    }
   ],
   "source": [
    "for i,v in enumerate(attrs_test):\n",
    "    print(f\"{i} {v.attrs}\")"
   ]
  }
 ],
 "metadata": {
  "kernelspec": {
   "display_name": "Python 3",
   "language": "python",
   "name": "python3"
  },
  "language_info": {
   "codemirror_mode": {
    "name": "ipython",
    "version": 3
   },
   "file_extension": ".py",
   "mimetype": "text/x-python",
   "name": "python",
   "nbconvert_exporter": "python",
   "pygments_lexer": "ipython3",
   "version": "3.11.3"
  },
  "orig_nbformat": 4
 },
 "nbformat": 4,
 "nbformat_minor": 2
}
