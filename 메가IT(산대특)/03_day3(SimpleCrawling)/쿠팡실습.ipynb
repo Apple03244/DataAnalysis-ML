{
 "cells": [
  {
   "attachments": {},
   "cell_type": "markdown",
   "metadata": {},
   "source": [
    "### 데이터 로드"
   ]
  },
  {
   "cell_type": "code",
   "execution_count": 2,
   "metadata": {},
   "outputs": [],
   "source": [
    "import bs4\n",
    "import pandas as pd\n",
    "import requests as rq"
   ]
  },
  {
   "cell_type": "code",
   "execution_count": 3,
   "metadata": {},
   "outputs": [],
   "source": [
    "Session=rq.Session()\n",
    "Session.headers.update({\n",
    "                        \"Refer\":\"\",\n",
    "                        \"User_Agent\":\"Mozilla/5.0 (Windows NT 10.0; Win64; x64) AppleWebKit/537.36 (KHTML, like Gecko) Chrome/114.0.0.0 Safari/537.36\",\n",
    "                        \"Accept-Language\": \"ko-KR,ko;q=0.8,en-US;q=0.5,en;q=0.3\"})"
   ]
  },
  {
   "cell_type": "code",
   "execution_count": 4,
   "metadata": {},
   "outputs": [],
   "source": [
    "url=\"https://www.coupang.com/np/search?q=%EB%85%B8%ED%8A%B8%EB%B6%81&listSize=72&channel=user\""
   ]
  },
  {
   "attachments": {},
   "cell_type": "markdown",
   "metadata": {},
   "source": [
    "### 문제\n",
    "단톡방에 주어진 URL은 쿠팡에서 \"노트북\" 키워드로 검색된\n",
    "상품 목록에 대한 주소이다.\n",
    "\n",
    "이 주소의 웹 페이지로부터\n",
    "상품의 이름, 가격, 할인율, 할인가, 별점, 리뷰수, 상품이미지의 경로를\n",
    "수집하여 엑셀 파일로 저장하시오.\n",
    "\n",
    "제한시간: 4:30분~ 5시15분 (45분)"
   ]
  },
  {
   "cell_type": "code",
   "execution_count": 5,
   "metadata": {},
   "outputs": [],
   "source": [
    "# div : search prodict wrap > discription-inner > name, instance-discount-rage , base-price, price-value , rating\n",
    "# 이름 div class=\"name\"\n",
    "# 할인률  .price-info\n",
    "\n",
    "#이미지 경로 image > src"
   ]
  },
  {
   "cell_type": "code",
   "execution_count": 5,
   "metadata": {},
   "outputs": [],
   "source": [
    "rq=Session.get(url)\n",
    "if rq.status_code!=200:\n",
    "    raise Exception(f'{rq.status_code},{rq.reason}')\n",
    "rq.encoding='utf-8'"
   ]
  },
  {
   "cell_type": "code",
   "execution_count": null,
   "metadata": {},
   "outputs": [],
   "source": [
    "soup=bs4.BeautifulSoup(rq.text)\n",
    "dataset=soup.select(\".search-product-wrap\")"
   ]
  },
  {
   "cell_type": "code",
   "execution_count": null,
   "metadata": {},
   "outputs": [
    {
     "data": {
      "text/plain": [
       "<dl class=\"search-product-wrap\"><dt class=\"image\"> <img alt=\"베이직스 2022 베이직북 14 3세대, BB1422SS, 256GB, 화이트, WIN11 Pro, 셀러론, 8GB\" class=\"search-product-wrap-img\" data-src=\"data:image/gif;base64,R0lGODlhAQABAAAAACH5BAEKAAEALAAAAAABAAEAAAICTAEAOw==\" height=\"230\" onerror=\"this.src='//img2a.coupangcdn.com/image/coupang/common/no_img_1000_1000.png'\" onload=\"logTime(this);logImageLoadTime(this);\" src=\"//thumbnail9.coupangcdn.com/thumbnails/remote/230x230ex/image/retail/images/3205128823935169-9b961481-e75f-4737-87e0-40d36d9d5e98.png\" width=\"230\"/> </dt><dd class=\"descriptions\"><div class=\"descriptions-inner\"><div class=\"badges\"> </div><div class=\"name\">베이직스 2022 베이직북 14 3세대, BB1422SS, 256GB, 화이트, WIN11 Pro, 셀러론, 8GB</div> <div class=\"price-area\"> <div class=\"price-wrap\"><div class=\"price\"> <em class=\"sale\"> <strong class=\"price-value\">398,000</strong>원    <span class=\"badge rocket\"> <img alt=\"로켓배송\" height=\"16\" src=\"//image6.coupangcdn.com/image/cmg/icon/ios/logo_rocket_large@3x.png\"/> </span> </em> </div>\n",
       "<!-- Free Shipping Badge -->\n",
       "<div class=\"delivery\"><span class=\"arrival-info\"> <em style=\"color:#008C00\">내일(수)  </em> <em style=\"color:#008C00\">도착 보장 </em> </span></div> </div> </div><div class=\"other-info\"><div class=\"rating-star\"><span class=\"star\"><em class=\"rating\" style=\"width:90%\">4.5</em></span> <span class=\"rating-total-count\">(1127)</span></div></div><div class=\"benefit-badges\"> <div class=\"reward-cash-badge\"><div class=\"reward-cash-badge__inr\"><img alt=\"\" class=\"reward-cash-ico\" src=\"//image6.coupangcdn.com/image/badges/cashback/web/list-cash-icon@2x.png\"/> <span class=\"reward-cash-txt\">최대 19,900원 적립</span></div></div></div> <span class=\"ad-badge ad-position-D\" data-adsplatform='{\"clickLogUri\":\"https://mercury.coupang.com/e.gif?r=okST8luAPxDA1cqKcmQSg7OA8x%2FCo0NH34BowraDNAyOZD8BVhrlsa7%2BpqoDUqCfbNyz0cO6Qja0fDeedKey1iTPANeWZK1XNgu%2FeDc%2FLVT%2Bq3kfWJd0OFzDR9WwllEWwJ%2BxtCCg3PUtoxIWSyDyHU2QPm4t%2B0g8IOa8GXWkrDDzk%2BuSeyZajJD%2Fwc%2FMr%2FDIhCPGK%2Fwb5KtNCx1MZj984Aw%2FokbI2odo49IAxc6iiuNP%2BA%2Fws12ykeLv4FLa2fF3iwhD%2FEICumw1%2B9Ol%2BzqJ12q79b9dw%2F3%2FsKfYgtEahTAuynfM4ewGdIU3yZaQdzUo3DJJaJSEVclKlTZZJUQMx2QiOmnIy1q28E666PNHGu46YGDu1f0cD23Vi2cKEyQheeGm796Co7B7SzP5NMv8eYozfexRAbZi1eu2lW2GpUFILIq3kKU8ErFuz55xi4NCPrpt6wDGmbkinHk7K9839u67zEww9yEi2MYoKr0KkRsw%2Fq%2FrvzQizJeSCkMchkyTF7L3eMeLETPY9LCJji4FJWCgc%2BAqkQGnRAZKt1tSfACLRLt7KkHmKgh1gT83LAVzq1Vhzk3CaGUsiuMvzpVcRMjEGpW53R%2BWB2tYM9toILoRkF%2Bh95d%2BKS8dHafbEdof4qeVq9eSdF%2BN5TZLXKP5xPIeY2ZeIGVYKUMY%2FodCiJPJxE7NYJkrEb6VN%2FYlZGFvGaGwTjk3cN1CPCmDuAlF4HO3c6w%2F3Zdh2i2rUzGRCCldVeqOSQUYXvTInmK%2BG5Bt95rXuiJ8GMPqA58grsPC4GybkSew2orPK4ESMblGADsN9VYv8cwKYQuXvI%2FOhqb9&amp;korePlacement=15&amp;koreSubPlacement=1\", \"impressionLogUri\":\"https://mercury.coupang.com/e.gif?r=okST8luAPxDA1cqKcmQSg7OA8x%2FCo0NH34BowraDNAyOZD8BVhrlsa7%2BpqoDUqCfbNyz0cO6Qja0fDeedKey1iTPANeWZK1XNgu%2FeDc%2FLVT%2Bq3kfWJd0OFzDR9WwllEWwJ%2BxtCCg3PUtoxIWSyDyHU2QPm4t%2B0g8IOa8GXWkrDDzk%2BuSeyZajJD%2Fwc%2FMr%2FDIhCPGK%2Fwb5KtNCx1MZj984Aw%2FokbI2odo49IAxc6iiuNP%2BA%2Fws12ykeLv4FLa2fF3iwhD%2FEICumw1%2B9Ol%2BzqJ12q79b9dw%2F3%2FsKfYgtEahTAuynfM4ewGdIU3yZaQdzUo3DJJaJSEVclKlTZZJUQMx2QiOmnIy1q28E666PNHGu46YGDu1f0cD23Vi2cKEyQheeGm796Co7B7SzP5NMv8eYozfexRAbZi1eu2lW2GpUFILIq3kKU8ErFuz55xi4NCPrpt6wDGmbkinHk7K9839u67zEww9yEi2MYoKr0KkRsw%2Fq%2FrvzQizJeSCkMchkyTF7L3eMeLETPY9LCJji4FJWCgc%2BAqkQGnRAZKt1tSfACLRLt7KkHmKgh1gT83LAVzq1Vhzk3CaGUsiuMvzpVcRMjEGpW53R%2BWB2tYM9toILoRkF%2Bh95d%2BKS8dHafbEdof4qeVq9eSdF%2BN5TZLXKP5xPIeY2ZeIGVYKUMY%2FodCiJPJxE7NYJkrEb6VN%2FYlZGFvGaGwTjk3cN1CPCmDuAlF4HO3c6w%2F3Zdh2i2rUzGRCCldVeqOSQUYXvTInmK%2BG5Bt95rXuiJ8GMPqA58grsPC4AtQOayAAGnyySNg4aUNih%2FymmpWTUEMy4e3hQvEtYcV&amp;korePlacement=15&amp;koreSubPlacement=1\", \"viewImpression\":\"https://mercury.coupang.com/e.gif?r=okST8luAPxDA1cqKcmQSg7OA8x%2FCo0NH34BowraDNAyOZD8BVhrlsa7%2BpqoDUqCfbNyz0cO6Qja0fDeedKey1iTPANeWZK1XNgu%2FeDc%2FLVT%2Bq3kfWJd0OFzDR9WwllEWwJ%2BxtCCg3PUtoxIWSyDyHU2QPm4t%2B0g8IOa8GXWkrDDzk%2BuSeyZajJD%2Fwc%2FMr%2FDIhCPGK%2Fwb5KtNCx1MZj984Aw%2FokbI2odo49IAxc6iiuNP%2BA%2Fws12ykeLv4FLa2fF3iwhD%2FEICumw1%2B9Ol%2BzqJ12q79b9dw%2F3%2FsKfYgtEahTAuynfM4ewGdIU3yZaQdzUo3DJJaJSEVclKlTZZJUQMx2QiOmnIy1q28E666PNHGu46YGDu1f0cD23Vi2cKEyQheeGm796Co7B7SzP5NMv8eYozfexRAbZi1eu2lW2GpUFILIq3kKU8ErFuz55xi4NCPrpt6wDGmbkinHk7K9839u67zEww9yEi2MYoKr0KkRsw%2Fq%2FrvzQizJeSCkMchkyTF7L3eMeLETPY9LCJji4FJWCgc%2BAqkQGnRAZKt1tSfACLRLt7KkHmKgh1gT83LAVzq1Vhzk3CaGUsiuMvzpVcRMjEGpW53R%2BWB2tYM9toILoRkF%2Bh95d%2BKS8dHafbEdof4qeVq9eSdF%2BN5TZLXKP5xPIeY2ZeIGVYKUMY%2FodCiJPJxE7NYJkrEb6VN%2FYlZGFvGaGwTjk3cN1CPCmDuAlF4HO3c6w%2F3Zdh2i2rUzGRCCldVeqOSQUYXvTInmK%2BG5Bt95rXuiJ8GMPqA58grsPC4NhlXxnScxqILOCUyLckK9I%3D&amp;korePlacement=15&amp;koreSubPlacement=1\"}' data-event-id=\"724a2cf8-aaa8-4979-901a-56e880e65988\"> <span class=\"ad-badge-text\">AD</span> <span class=\"ad-badge-icon\"><svg class=\"ad-badge-svg\" height=\"12\" viewbox=\"0 0 12 12\" width=\"12\" xmlns=\"http://www.w3.org/2000/svg\"><g fill=\"none\" fill-rule=\"evenodd\" opacity=\".3\"><path d=\"M0 12L12 12 12 0 0 0z\" fill=\"#000\" fill-opacity=\"0\" transform=\"translate(-1537 -743) translate(1537 743)\"></path><path d=\"M6 11.5c3.038 0 5.5-2.462 5.5-5.5S9.038.5 6 .5.5 2.962.5 6s2.462 5.5 5.5 5.5zm0 .5c-3.314 0-6-2.686-6-6s2.686-6 6-6 6 2.686 6 6-2.686 6-6 6zm.5-7v3.667L7.5 9h-3l1-.333V5.4l-1-.4h2zm-.625-2c.345 0 .625.28.625.625s-.28.625-.625.625-.625-.28-.625-.625S5.53 3 5.875 3z\" fill=\"#111\" fill-rule=\"nonzero\" transform=\"translate(-1537 -743) translate(1537 743)\"></path></g></svg> </span> </span> </div></dd></dl>"
      ]
     },
     "execution_count": 30,
     "metadata": {},
     "output_type": "execute_result"
    }
   ],
   "source": [
    "dataset[0]"
   ]
  },
  {
   "cell_type": "code",
   "execution_count": null,
   "metadata": {},
   "outputs": [],
   "source": [
    "result=[]"
   ]
  },
  {
   "cell_type": "code",
   "execution_count": null,
   "metadata": {},
   "outputs": [],
   "source": [
    "result=[]\n",
    "for info in dataset:\n",
    "    data=dict.fromkeys([\"name\",\"instant-discount-rate\",\"base-price\",\"price-value\",\"rating\",\"rating-total-count\"],None)\n",
    "    for x in data:\n",
    "        if info.select(\".\"+x)==[]:\n",
    "            data[x]=None\n",
    "        else:\n",
    "            data[x]=info.select(\".\"+x)[0].text.strip()\n",
    "        # print(data)\n",
    "    result.append(data)\n",
    "df=pd.DataFrame(result)"
   ]
  },
  {
   "cell_type": "code",
   "execution_count": null,
   "metadata": {},
   "outputs": [],
   "source": []
  }
 ],
 "metadata": {
  "kernelspec": {
   "display_name": "Python 3",
   "language": "python",
   "name": "python3"
  },
  "language_info": {
   "codemirror_mode": {
    "name": "ipython",
    "version": 3
   },
   "file_extension": ".py",
   "mimetype": "text/x-python",
   "name": "python",
   "nbconvert_exporter": "python",
   "pygments_lexer": "ipython3",
   "version": "3.11.3"
  },
  "orig_nbformat": 4
 },
 "nbformat": 4,
 "nbformat_minor": 2
}
