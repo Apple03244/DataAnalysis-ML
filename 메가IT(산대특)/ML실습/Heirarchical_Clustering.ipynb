{
 "cells": [
  {
   "cell_type": "code",
   "execution_count": 1,
   "metadata": {},
   "outputs": [],
   "source": [
    "import pandas as pd\n",
    "data=pd.read_excel(\"https://data.hossam.kr/G02/customer.xlsx\")"
   ]
  },
  {
   "cell_type": "markdown",
   "metadata": {},
   "source": [
    "# Heigrarchical_Clustering"
   ]
  },
  {
   "cell_type": "markdown",
   "metadata": {},
   "source": [
    "DBSCAN에서 씌였던 데이터를 그대로 이용하겠다"
   ]
  },
  {
   "cell_type": "code",
   "execution_count": 3,
   "metadata": {},
   "outputs": [],
   "source": [
    "import sklearn.preprocessing as skpre\n",
    "import sklearn.model_selection\n",
    "import scipy as sp"
   ]
  },
  {
   "cell_type": "markdown",
   "metadata": {},
   "source": [
    "불필요 feature 제거"
   ]
  },
  {
   "cell_type": "code",
   "execution_count": 5,
   "metadata": {},
   "outputs": [],
   "source": [
    "data.drop(\"고객ID\",axis=1,inplace=True)"
   ]
  },
  {
   "cell_type": "markdown",
   "metadata": {},
   "source": [
    "성별 encoding           \n",
    "Male : 1            \n",
    "Female : 0"
   ]
  },
  {
   "cell_type": "code",
   "execution_count": 7,
   "metadata": {},
   "outputs": [],
   "source": [
    "data[\"성별\"]=data[\"성별\"].apply(lambda x:1 if x==\"Male\" else 0)"
   ]
  },
  {
   "cell_type": "markdown",
   "metadata": {},
   "source": [
    "MinMax_scale"
   ]
  },
  {
   "cell_type": "code",
   "execution_count": 14,
   "metadata": {},
   "outputs": [],
   "source": [
    "use_data=pd.merge(data[\"성별\"],pd.DataFrame(skpre.minmax_scale(X=data[data.columns.difference([\"성별\"])]),columns=data.columns.difference([\"성별\"]))\n",
    "         ,left_index=True,right_index=True)"
   ]
  },
  {
   "cell_type": "markdown",
   "metadata": {},
   "source": [
    "## 모델 생성"
   ]
  },
  {
   "cell_type": "markdown",
   "metadata": {},
   "source": [
    "시각화는 `scipy`가 더 편하다(단 데이터가 너무 많으면 좋은 방법은 아님)"
   ]
  },
  {
   "cell_type": "markdown",
   "metadata": {},
   "source": [
    "* 방법 과 거리에 대한 설명이 필요하나, 뒤의 `sklearn` 파트에서 하겠음"
   ]
  },
  {
   "cell_type": "code",
   "execution_count": 20,
   "metadata": {},
   "outputs": [],
   "source": [
    "model=sp.cluster.hierarchy.linkage(use_data,method=\"ward\")"
   ]
  },
  {
   "cell_type": "markdown",
   "metadata": {},
   "source": [
    "### 결과 시각화"
   ]
  },
  {
   "cell_type": "code",
   "execution_count": 25,
   "metadata": {},
   "outputs": [],
   "source": [
    "import matplotlib.pyplot as plt"
   ]
  },
  {
   "cell_type": "code",
   "execution_count": 26,
   "metadata": {},
   "outputs": [
    {
     "data": {
      "image/png": "[encoded data removed]",
      "text/plain": [
       "<Figure size 640x480 with 1 Axes>"
      ]
     },
     "metadata": {},
     "output_type": "display_data"
    }
   ],
   "source": [
    "plt.figure()\n",
    "sp.cluster.hierarchy.dendrogram(model)\n",
    "plt.show()\n",
    "plt.close()"
   ]
  },
  {
   "cell_type": "markdown",
   "metadata": {},
   "source": [
    "위의 과정으로 쉽게 AgglomerativeClusering의 과정을 볼 수 있으나 사용하기에 어려움 -> 결과를 추출하기 어려움"
   ]
  },
  {
   "cell_type": "markdown",
   "metadata": {},
   "source": [
    "## 모델생성(scikit-learn)"
   ]
  },
  {
   "cell_type": "code",
   "execution_count": 27,
   "metadata": {},
   "outputs": [],
   "source": [
    "import sklearn.cluster as skclu"
   ]
  },
  {
   "cell_type": "markdown",
   "metadata": {},
   "source": [
    "* 파라미터\n",
    "\n",
    "|para|설명|\n",
    "|--|--|\n",
    "|n_clusters=2|언제까지 합칠것인가|\n",
    "|metric=\"euclidean\"|거리측정방법|\n",
    "|distance_therehold|거리의 제한, 이를 넘어가면 더 이상 merge하지않음|\n",
    "|compute_full_tree|실제로 n_cluster까지만 계산하게 만듬|\n",
    "|linkage=\"ward\"|클러스터 간의 거리 측정방법|\n",
    "|compute_distance|시각화하고싶으면 True|"
   ]
  },
  {
   "cell_type": "code",
   "execution_count": 35,
   "metadata": {},
   "outputs": [],
   "source": [
    "model2=skclu.AgglomerativeClustering(n_clusters=2,metric=\"euclidean\",linkage=\"ward\",compute_distances=True,distance_threshold=None)"
   ]
  },
  {
   "cell_type": "code",
   "execution_count": 38,
   "metadata": {},
   "outputs": [],
   "source": [
    "result=model2.fit(X=use_data)"
   ]
  },
  {
   "cell_type": "code",
   "execution_count": 44,
   "metadata": {},
   "outputs": [],
   "source": [
    "import numpy as np"
   ]
  },
  {
   "cell_type": "code",
   "execution_count": 50,
   "metadata": {},
   "outputs": [
    {
     "data": {
      "text/plain": [
       "array([[129, 131],\n",
       "       [ 65,  68],\n",
       "       [  3,   5],\n",
       "       [ 60,  70],\n",
       "       [114, 115],\n",
       "       [112, 121],\n",
       "       [117, 119],\n",
       "       [ 11,  19],\n",
       "       [ 84,  87],\n",
       "       [ 48,  49],\n",
       "       [ 46,  50],\n",
       "       [100, 105],\n",
       "       [147, 159],\n",
       "       [ 96, 101],\n",
       "       [ 99, 113],\n",
       "       [109, 110],\n",
       "       [ 62,  67],\n",
       "       [176, 178],\n",
       "       [103, 120],\n",
       "       [ 13, 202],\n",
       "       [123, 127],\n",
       "       [ 71,  83],\n",
       "       [  1,  15],\n",
       "       [ 61, 201],\n",
       "       [141, 149],\n",
       "       [134, 138],\n",
       "       [ 54,  56],\n",
       "       [157, 161],\n",
       "       [ 89, 213],\n",
       "       [ 74,  80],\n",
       "       [173, 179],\n",
       "       [135, 155],\n",
       "       [156, 158],\n",
       "       [ 85,  92],\n",
       "       [ 78, 208],\n",
       "       [163, 167],\n",
       "       [133, 212],\n",
       "       [ 79, 221],\n",
       "       [181, 183],\n",
       "       [111, 204],\n",
       "       [ 42,  55],\n",
       "       [ 31,  39],\n",
       "       [ 47,  58],\n",
       "       [171, 177],\n",
       "       [ 75,  95],\n",
       "       [124, 132],\n",
       "       [ 93, 205],\n",
       "       [ 66,  76],\n",
       "       [153, 165],\n",
       "       [152, 154],\n",
       "       [ 72,  73],\n",
       "       [ 90, 106],\n",
       "       [150, 166],\n",
       "       [ 98, 233],\n",
       "       [162, 225],\n",
       "       [125, 236],\n",
       "       [ 43,  52],\n",
       "       [ 82, 108],\n",
       "       [ 29,  35],\n",
       "       [ 77,  81],\n",
       "       [170, 172],\n",
       "       [ 63,  86],\n",
       "       [ 91, 214],\n",
       "       [143, 231],\n",
       "       [175, 238],\n",
       "       [139, 248],\n",
       "       [210, 226],\n",
       "       [151, 220],\n",
       "       [ 26,  28],\n",
       "       [148, 168],\n",
       "       [  4,  16],\n",
       "       [ 12,  24],\n",
       "       [118, 228],\n",
       "       [ 23,  25],\n",
       "       [218, 244],\n",
       "       [ 69, 209],\n",
       "       [180, 184],\n",
       "       [126, 146],\n",
       "       [189, 193],\n",
       "       [102, 215],\n",
       "       [ 57, 203],\n",
       "       [  8,  30],\n",
       "       [ 27,  51],\n",
       "       [ 17,  21],\n",
       "       [ 33,  41],\n",
       "       [  9,  37],\n",
       "       [227, 263],\n",
       "       [ 94,  97],\n",
       "       [ 53,  64],\n",
       "       [ 22,  34],\n",
       "       [107, 229],\n",
       "       [145, 224],\n",
       "       [197, 199],\n",
       "       [104, 253],\n",
       "       [187, 243],\n",
       "       [194, 196],\n",
       "       [242, 275],\n",
       "       [ 45, 241],\n",
       "       [136, 249],\n",
       "       [142, 245],\n",
       "       [ 59, 290],\n",
       "       [137, 200],\n",
       "       [116, 251],\n",
       "       [ 88, 122],\n",
       "       [188, 190],\n",
       "       [169, 294],\n",
       "       [ 36,  38],\n",
       "       [144, 254],\n",
       "       [174, 186],\n",
       "       [195, 278],\n",
       "       [222, 283],\n",
       "       [185, 230],\n",
       "       [252, 260],\n",
       "       [237, 272],\n",
       "       [  7, 258],\n",
       "       [164, 182],\n",
       "       [ 10, 281],\n",
       "       [250, 261],\n",
       "       [211, 239],\n",
       "       [ 44, 268],\n",
       "       [235, 264],\n",
       "       [257, 279],\n",
       "       [128, 217],\n",
       "       [216, 302],\n",
       "       [255, 265],\n",
       "       [256, 296],\n",
       "       [234, 318],\n",
       "       [247, 313],\n",
       "       [192, 198],\n",
       "       [306, 319],\n",
       "       [ 18, 240],\n",
       "       [219, 314],\n",
       "       [130, 312],\n",
       "       [ 14,  20],\n",
       "       [276, 304],\n",
       "       [191, 309],\n",
       "       [288, 300],\n",
       "       [291, 311],\n",
       "       [271, 289],\n",
       "       [160, 308],\n",
       "       [287, 325],\n",
       "       [269, 334],\n",
       "       [280, 321],\n",
       "       [273, 310],\n",
       "       [286, 320],\n",
       "       [206, 327],\n",
       "       [315, 332],\n",
       "       [285, 297],\n",
       "       [ 32, 316],\n",
       "       [ 40, 323],\n",
       "       [140, 339],\n",
       "       [  2,   6],\n",
       "       [259, 282],\n",
       "       [262, 274],\n",
       "       [246, 303],\n",
       "       [277, 293],\n",
       "       [267, 301],\n",
       "       [223, 353],\n",
       "       [331, 347],\n",
       "       [266, 317],\n",
       "       [284, 343],\n",
       "       [298, 350],\n",
       "       [232, 346],\n",
       "       [270, 329],\n",
       "       [  0, 333],\n",
       "       [299, 326],\n",
       "       [337, 356],\n",
       "       [324, 344],\n",
       "       [345, 359],\n",
       "       [295, 341],\n",
       "       [330, 355],\n",
       "       [336, 342],\n",
       "       [340, 354],\n",
       "       [207, 358],\n",
       "       [292, 305],\n",
       "       [351, 363],\n",
       "       [335, 367],\n",
       "       [352, 370],\n",
       "       [322, 362],\n",
       "       [338, 375],\n",
       "       [307, 328],\n",
       "       [361, 369],\n",
       "       [365, 372],\n",
       "       [366, 374],\n",
       "       [364, 377],\n",
       "       [349, 368],\n",
       "       [357, 360],\n",
       "       [378, 380],\n",
       "       [348, 371],\n",
       "       [384, 388],\n",
       "       [373, 382],\n",
       "       [379, 385],\n",
       "       [383, 386],\n",
       "       [381, 391],\n",
       "       [376, 390],\n",
       "       [387, 389],\n",
       "       [393, 394],\n",
       "       [392, 395],\n",
       "       [396, 397]], dtype=int64)"
      ]
     },
     "execution_count": 50,
     "metadata": {},
     "output_type": "execute_result"
    }
   ],
   "source": [
    "result.children_"
   ]
  },
  {
   "cell_type": "code",
   "execution_count": 53,
   "metadata": {},
   "outputs": [
    {
     "data": {
      "text/plain": [
       "199"
      ]
     },
     "execution_count": 53,
     "metadata": {},
     "output_type": "execute_result"
    }
   ],
   "source": [
    "len(result.children_)"
   ]
  },
  {
   "cell_type": "code",
   "execution_count": 52,
   "metadata": {},
   "outputs": [
    {
     "data": {
      "text/plain": [
       "199"
      ]
     },
     "execution_count": 52,
     "metadata": {},
     "output_type": "execute_result"
    }
   ],
   "source": [
    "len(result.distances_)"
   ]
  },
  {
   "cell_type": "code",
   "execution_count": 57,
   "metadata": {},
   "outputs": [
    {
     "data": {
      "image/png": "[encoded data removed]",
      "text/plain": [
       "<Figure size 1000x500 with 1 Axes>"
      ]
     },
     "metadata": {},
     "output_type": "display_data"
    }
   ],
   "source": [
    "import numpy as np\n",
    "from sklearn.cluster import AgglomerativeClustering\n",
    "import matplotlib.pyplot as plt\n",
    "from scipy.cluster.hierarchy import dendrogram\n",
    "\n",
    "# 예제 데이터 생성\n",
    "data = np.array([[1, 2], [2, 3], [2, 4], [4, 2], [5, 5]])\n",
    "\n",
    "# Agglomerative Clustering 모델 생성\n",
    "clustering = AgglomerativeClustering(n_clusters=None, distance_threshold=0)  # distance_threshold를 사용하여 덴드로그램을 그리기 위해 n_clusters를 None으로 설정\n",
    "\n",
    "# 군집화 수행\n",
    "clustering.fit(data)\n",
    "\n",
    "# 덴드로그램 그리기\n",
    "def plot_dendrogram(model, **kwargs):\n",
    "    # Children of hierarchical clustering\n",
    "    children = model.children_\n",
    "\n",
    "    # 계층적 군집에서 군집 레벨과 거리를 추출\n",
    "    distance = np.arange(children.shape[0])\n",
    "\n",
    "    # 각 군집 병합 지점에 대한 덴드로그램 그리기\n",
    "    no_of_observations = np.arange(2, children.shape[0] + 2)\n",
    "    linkage_matrix = np.column_stack([children, distance, no_of_observations]).astype(float)\n",
    "\n",
    "    # 덴드로그램 그리기\n",
    "    dendrogram(linkage_matrix, **kwargs)\n",
    "\n",
    "plt.figure(figsize=(10, 5))\n",
    "plt.title('Hierarchical Clustering Dendrogram')\n",
    "plot_dendrogram(clustering, labels=clustering.labels_)\n",
    "plt.show()"
   ]
  },
  {
   "cell_type": "code",
   "execution_count": 58,
   "metadata": {},
   "outputs": [
    {
     "ename": "AttributeError",
     "evalue": "'numpy.ndarray' object has no attribute 'children_'",
     "output_type": "error",
     "traceback": [
      "\u001b[1;31m---------------------------------------------------------------------------\u001b[0m",
      "\u001b[1;31mAttributeError\u001b[0m                            Traceback (most recent call last)",
      "\u001b[1;32mc:\\Users\\SAMSUNG\\DataAnalysis\\ML실습\\Heirarchical_Clustering.ipynb Cell 29\u001b[0m line \u001b[0;36m1\n\u001b[1;32m----> <a href='vscode-notebook-cell:/c%3A/Users/SAMSUNG/DataAnalysis/ML%EC%8B%A4%EC%8A%B5/Heirarchical_Clustering.ipynb#X61sZmlsZQ%3D%3D?line=0'>1</a>\u001b[0m model\u001b[39m.\u001b[39;49mchildren_\n",
      "\u001b[1;31mAttributeError\u001b[0m: 'numpy.ndarray' object has no attribute 'children_'"
     ]
    }
   ],
   "source": [
    "model.children_"
   ]
  },
  {
   "cell_type": "code",
   "execution_count": null,
   "metadata": {},
   "outputs": [],
   "source": []
  }
 ],
 "metadata": {
  "kernelspec": {
   "display_name": "Python 3",
   "language": "python",
   "name": "python3"
  },
  "language_info": {
   "codemirror_mode": {
    "name": "ipython",
    "version": 3
   },
   "file_extension": ".py",
   "mimetype": "text/x-python",
   "name": "python",
   "nbconvert_exporter": "python",
   "pygments_lexer": "ipython3",
   "version": "3.12.0"
  }
 },
 "nbformat": 4,
 "nbformat_minor": 2
}
