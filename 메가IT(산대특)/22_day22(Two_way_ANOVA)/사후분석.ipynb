{
 "cells": [
  {
   "cell_type": "markdown",
   "metadata": {},
   "source": [
    "# 사후분석"
   ]
  },
  {
   "cell_type": "markdown",
   "metadata": {},
   "source": [
    "### ANOVA 검증결과 유의미하다는 결론이 전제"
   ]
  },
  {
   "cell_type": "markdown",
   "metadata": {},
   "source": [
    "> 반복을 진행할 수록 FWER(Familywise Error Rate)값이 증가함. 따라서 이를 조정해주는 방법이 요구됨"
   ]
  },
  {
   "cell_type": "markdown",
   "metadata": {},
   "source": [
    "1. 봉페르니 교정\n",
    "2. 투키의  HSD\n",
    "3. 피셔의 LSD : 실제 보정을 하진 않음\n",
    "4. 세페의 method : 지나치게 보수적"
   ]
  },
  {
   "cell_type": "code",
   "execution_count": 5,
   "metadata": {},
   "outputs": [],
   "source": [
    "import pandas as pd\n",
    "\n",
    "# 분산분석을 위한 라이브러리\n",
    "import  statsmodels.formula.api as sf\n",
    "import  statsmodels.stats.anova as anova\n",
    "\n",
    "# 사후분석을 위한 라이브러리\n",
    "from statsmodels.sandbox.stats.multicomp import MultiComparison\n",
    "from statsmodels.stats.multicomp import pairwise_tukeyhsd\n",
    "import scipy.stats as scst\n",
    "\n",
    "# helper 참조\n",
    "import sys\n",
    "import os\n",
    "sys.path.append('../my_Funtions/')\n",
    "import helper #import normality_test, equal_variance_test, independence_test, all_test"
   ]
  },
  {
   "cell_type": "code",
   "execution_count": 6,
   "metadata": {},
   "outputs": [],
   "source": [
    "D=pd.read_excel(\"https://data.hossam.kr/E02/tree_weight.xlsx\")"
   ]
  },
  {
   "cell_type": "code",
   "execution_count": 7,
   "metadata": {},
   "outputs": [],
   "source": [
    "data=pd.DataFrame(D)"
   ]
  },
  {
   "cell_type": "code",
   "execution_count": 8,
   "metadata": {},
   "outputs": [
    {
     "data": {
      "text/html": [
       "<div>\n",
       "<style scoped>\n",
       "    .dataframe tbody tr th:only-of-type {\n",
       "        vertical-align: middle;\n",
       "    }\n",
       "\n",
       "    .dataframe tbody tr th {\n",
       "        vertical-align: top;\n",
       "    }\n",
       "\n",
       "    .dataframe thead th {\n",
       "        text-align: right;\n",
       "    }\n",
       "</style>\n",
       "<table border=\"1\" class=\"dataframe\">\n",
       "  <thead>\n",
       "    <tr style=\"text-align: right;\">\n",
       "      <th></th>\n",
       "      <th>weight</th>\n",
       "      <th>group</th>\n",
       "    </tr>\n",
       "  </thead>\n",
       "  <tbody>\n",
       "    <tr>\n",
       "      <th>0</th>\n",
       "      <td>4.17</td>\n",
       "      <td>A</td>\n",
       "    </tr>\n",
       "    <tr>\n",
       "      <th>1</th>\n",
       "      <td>5.58</td>\n",
       "      <td>A</td>\n",
       "    </tr>\n",
       "  </tbody>\n",
       "</table>\n",
       "</div>"
      ],
      "text/plain": [
       "   weight group\n",
       "0    4.17     A\n",
       "1    5.58     A"
      ]
     },
     "execution_count": 8,
     "metadata": {},
     "output_type": "execute_result"
    }
   ],
   "source": [
    "data.head(2)"
   ]
  },
  {
   "cell_type": "code",
   "execution_count": 10,
   "metadata": {},
   "outputs": [],
   "source": [
    "data[\"group\"]=data[\"group\"].apply(lambda x:ord(x)-64)"
   ]
  },
  {
   "cell_type": "code",
   "execution_count": 12,
   "metadata": {},
   "outputs": [
    {
     "data": {
      "text/html": [
       "<div>\n",
       "<style scoped>\n",
       "    .dataframe tbody tr th:only-of-type {\n",
       "        vertical-align: middle;\n",
       "    }\n",
       "\n",
       "    .dataframe tbody tr th {\n",
       "        vertical-align: top;\n",
       "    }\n",
       "\n",
       "    .dataframe thead th {\n",
       "        text-align: right;\n",
       "    }\n",
       "</style>\n",
       "<table border=\"1\" class=\"dataframe\">\n",
       "  <thead>\n",
       "    <tr style=\"text-align: right;\">\n",
       "      <th></th>\n",
       "      <th></th>\n",
       "      <th></th>\n",
       "      <th>statistic</th>\n",
       "      <th>p-value</th>\n",
       "      <th>result</th>\n",
       "    </tr>\n",
       "    <tr>\n",
       "      <th>condition</th>\n",
       "      <th>test</th>\n",
       "      <th>field</th>\n",
       "      <th></th>\n",
       "      <th></th>\n",
       "      <th></th>\n",
       "    </tr>\n",
       "  </thead>\n",
       "  <tbody>\n",
       "    <tr>\n",
       "      <th rowspan=\"6\" valign=\"top\">정규성</th>\n",
       "      <th rowspan=\"2\" valign=\"top\">shapiro</th>\n",
       "      <th>group</th>\n",
       "      <td>0.795503</td>\n",
       "      <td>5.434527e-05</td>\n",
       "      <td>False</td>\n",
       "    </tr>\n",
       "    <tr>\n",
       "      <th>weight</th>\n",
       "      <td>0.982683</td>\n",
       "      <td>8.915055e-01</td>\n",
       "      <td>True</td>\n",
       "    </tr>\n",
       "    <tr>\n",
       "      <th rowspan=\"2\" valign=\"top\">normaltest</th>\n",
       "      <th>group</th>\n",
       "      <td>17.211505</td>\n",
       "      <td>1.830498e-04</td>\n",
       "      <td>False</td>\n",
       "    </tr>\n",
       "    <tr>\n",
       "      <th>weight</th>\n",
       "      <td>0.568335</td>\n",
       "      <td>7.526404e-01</td>\n",
       "      <td>True</td>\n",
       "    </tr>\n",
       "    <tr>\n",
       "      <th rowspan=\"2\" valign=\"top\">ks_2samp</th>\n",
       "      <th>group vs weight</th>\n",
       "      <td>1.000000</td>\n",
       "      <td>1.691123e-17</td>\n",
       "      <td>False</td>\n",
       "    </tr>\n",
       "    <tr>\n",
       "      <th>weight vs group</th>\n",
       "      <td>1.000000</td>\n",
       "      <td>1.691123e-17</td>\n",
       "      <td>False</td>\n",
       "    </tr>\n",
       "    <tr>\n",
       "      <th rowspan=\"3\" valign=\"top\">등분산성</th>\n",
       "      <th>Bartlett</th>\n",
       "      <th>group vs weight</th>\n",
       "      <td>0.812217</td>\n",
       "      <td>3.674655e-01</td>\n",
       "      <td>True</td>\n",
       "    </tr>\n",
       "    <tr>\n",
       "      <th>Fligner</th>\n",
       "      <th>group vs weight</th>\n",
       "      <td>1.419281</td>\n",
       "      <td>2.335219e-01</td>\n",
       "      <td>True</td>\n",
       "    </tr>\n",
       "    <tr>\n",
       "      <th>Levene</th>\n",
       "      <th>group vs weight</th>\n",
       "      <td>0.849158</td>\n",
       "      <td>3.606080e-01</td>\n",
       "      <td>True</td>\n",
       "    </tr>\n",
       "    <tr>\n",
       "      <th>독립성</th>\n",
       "      <th>Chi2</th>\n",
       "      <th>group vs weight</th>\n",
       "      <td>6.734629</td>\n",
       "      <td>9.999942e-01</td>\n",
       "      <td>True</td>\n",
       "    </tr>\n",
       "  </tbody>\n",
       "</table>\n",
       "</div>"
      ],
      "text/plain": [
       "                                      statistic       p-value  result\n",
       "condition test       field                                           \n",
       "정규성       shapiro    group             0.795503  5.434527e-05   False\n",
       "                     weight            0.982683  8.915055e-01    True\n",
       "          normaltest group            17.211505  1.830498e-04   False\n",
       "                     weight            0.568335  7.526404e-01    True\n",
       "          ks_2samp   group vs weight   1.000000  1.691123e-17   False\n",
       "                     weight vs group   1.000000  1.691123e-17   False\n",
       "등분산성      Bartlett   group vs weight   0.812217  3.674655e-01    True\n",
       "          Fligner    group vs weight   1.419281  2.335219e-01    True\n",
       "          Levene     group vs weight   0.849158  3.606080e-01    True\n",
       "독립성       Chi2       group vs weight   6.734629  9.999942e-01    True"
      ]
     },
     "execution_count": 12,
     "metadata": {},
     "output_type": "execute_result"
    }
   ],
   "source": [
    "helper.all_test(data['group'],data[\"weight\"])"
   ]
  },
  {
   "cell_type": "code",
   "execution_count": 14,
   "metadata": {},
   "outputs": [],
   "source": [
    "model=sf.ols(\"weight~C(group)\",data=data).fit()"
   ]
  },
  {
   "cell_type": "code",
   "execution_count": 16,
   "metadata": {},
   "outputs": [
    {
     "data": {
      "text/html": [
       "<div>\n",
       "<style scoped>\n",
       "    .dataframe tbody tr th:only-of-type {\n",
       "        vertical-align: middle;\n",
       "    }\n",
       "\n",
       "    .dataframe tbody tr th {\n",
       "        vertical-align: top;\n",
       "    }\n",
       "\n",
       "    .dataframe thead th {\n",
       "        text-align: right;\n",
       "    }\n",
       "</style>\n",
       "<table border=\"1\" class=\"dataframe\">\n",
       "  <thead>\n",
       "    <tr style=\"text-align: right;\">\n",
       "      <th></th>\n",
       "      <th>df</th>\n",
       "      <th>sum_sq</th>\n",
       "      <th>mean_sq</th>\n",
       "      <th>F</th>\n",
       "      <th>PR(&gt;F)</th>\n",
       "    </tr>\n",
       "  </thead>\n",
       "  <tbody>\n",
       "    <tr>\n",
       "      <th>C(group)</th>\n",
       "      <td>2.0</td>\n",
       "      <td>3.76634</td>\n",
       "      <td>1.883170</td>\n",
       "      <td>4.846088</td>\n",
       "      <td>0.01591</td>\n",
       "    </tr>\n",
       "    <tr>\n",
       "      <th>Residual</th>\n",
       "      <td>27.0</td>\n",
       "      <td>10.49209</td>\n",
       "      <td>0.388596</td>\n",
       "      <td>NaN</td>\n",
       "      <td>NaN</td>\n",
       "    </tr>\n",
       "  </tbody>\n",
       "</table>\n",
       "</div>"
      ],
      "text/plain": [
       "            df    sum_sq   mean_sq         F   PR(>F)\n",
       "C(group)   2.0   3.76634  1.883170  4.846088  0.01591\n",
       "Residual  27.0  10.49209  0.388596       NaN      NaN"
      ]
     },
     "execution_count": 16,
     "metadata": {},
     "output_type": "execute_result"
    }
   ],
   "source": [
    "anova.anova_lm(model)"
   ]
  },
  {
   "cell_type": "code",
   "execution_count": 18,
   "metadata": {},
   "outputs": [
    {
     "data": {
      "text/html": [
       "<table class=\"simpletable\">\n",
       "<caption>Test Multiple Comparison ttest_ind \n",
       "FWER=0.05 method=bonf\n",
       "alphacSidak=0.02, alphacBonf=0.017</caption>\n",
       "<tr>\n",
       "  <th>group1</th> <th>group2</th>  <th>stat</th>    <th>pval</th>  <th>pval_corr</th> <th>reject</th>\n",
       "</tr>\n",
       "<tr>\n",
       "     <td>1</td>      <td>2</td>   <td>1.1913</td>   <td>0.249</td>  <td>0.7471</td>    <td>False</td>\n",
       "</tr>\n",
       "<tr>\n",
       "     <td>1</td>      <td>3</td>   <td>-2.134</td>  <td>0.0469</td>  <td>0.1406</td>    <td>False</td>\n",
       "</tr>\n",
       "<tr>\n",
       "     <td>2</td>      <td>3</td>   <td>-3.0101</td> <td>0.0075</td>  <td>0.0226</td>    <td>True</td> \n",
       "</tr>\n",
       "</table>"
      ],
      "text/latex": [
       "\\begin{center}\n",
       "\\begin{tabular}{cccccc}\n",
       "\\toprule\n",
       "\\textbf{group1} & \\textbf{group2} & \\textbf{stat} & \\textbf{pval} & \\textbf{pval\\_corr} & \\textbf{reject}  \\\\\n",
       "\\midrule\n",
       "       1        &        2        &     1.1913    &     0.249     &        0.7471       &      False       \\\\\n",
       "       1        &        3        &     -2.134    &     0.0469    &        0.1406       &      False       \\\\\n",
       "       2        &        3        &    -3.0101    &     0.0075    &        0.0226       &       True       \\\\\n",
       "\\bottomrule\n",
       "\\end{tabular}\n",
       "%\\caption{Test Multiple Comparison ttest_ind \n",
       "FWER=0.05 method=bonf\n",
       "alphacSidak=0.02, alphacBonf=0.017}\n",
       "\\end{center}"
      ],
      "text/plain": [
       "<class 'statsmodels.iolib.table.SimpleTable'>"
      ]
     },
     "execution_count": 18,
     "metadata": {},
     "output_type": "execute_result"
    }
   ],
   "source": [
    "comp=MultiComparison(data[\"weight\"],data[\"group\"])\n",
    "comp.allpairtest(scst.ttest_ind,method=\"bonf\")[0]"
   ]
  },
  {
   "cell_type": "markdown",
   "metadata": {},
   "source": [
    "### 투키의 HSD"
   ]
  },
  {
   "cell_type": "code",
   "execution_count": 21,
   "metadata": {},
   "outputs": [],
   "source": [
    "hsd=pairwise_tukeyhsd(data[\"weight\"],data[\"group\"],alpha=0.5)"
   ]
  },
  {
   "cell_type": "code",
   "execution_count": 22,
   "metadata": {},
   "outputs": [
    {
     "data": {
      "text/html": [
       "<table class=\"simpletable\">\n",
       "<caption>Multiple Comparison of Means - Tukey HSD, FWER=0.50</caption>\n",
       "<tr>\n",
       "  <th>group1</th> <th>group2</th> <th>meandiff</th>  <th>p-adj</th>  <th>lower</th>   <th>upper</th>  <th>reject</th>\n",
       "</tr>\n",
       "<tr>\n",
       "     <td>1</td>      <td>2</td>    <td>-0.371</td>  <td>0.3909</td> <td>-0.6881</td> <td>-0.0539</td>  <td>True</td> \n",
       "</tr>\n",
       "<tr>\n",
       "     <td>1</td>      <td>3</td>     <td>0.494</td>   <td>0.198</td> <td>0.1769</td>  <td>0.8111</td>   <td>True</td> \n",
       "</tr>\n",
       "<tr>\n",
       "     <td>2</td>      <td>3</td>     <td>0.865</td>   <td>0.012</td> <td>0.5479</td>  <td>1.1821</td>   <td>True</td> \n",
       "</tr>\n",
       "</table>"
      ],
      "text/latex": [
       "\\begin{center}\n",
       "\\begin{tabular}{ccccccc}\n",
       "\\toprule\n",
       "\\textbf{group1} & \\textbf{group2} & \\textbf{meandiff} & \\textbf{p-adj} & \\textbf{lower} & \\textbf{upper} & \\textbf{reject}  \\\\\n",
       "\\midrule\n",
       "       1        &        2        &       -0.371      &     0.3909     &    -0.6881     &    -0.0539     &       True       \\\\\n",
       "       1        &        3        &       0.494       &     0.198      &     0.1769     &     0.8111     &       True       \\\\\n",
       "       2        &        3        &       0.865       &     0.012      &     0.5479     &     1.1821     &       True       \\\\\n",
       "\\bottomrule\n",
       "\\end{tabular}\n",
       "%\\caption{Multiple Comparison of Means - Tukey HSD, FWER=0.50}\n",
       "\\end{center}"
      ],
      "text/plain": [
       "<class 'statsmodels.iolib.table.SimpleTable'>"
      ]
     },
     "execution_count": 22,
     "metadata": {},
     "output_type": "execute_result"
    }
   ],
   "source": [
    "hsd.summary()"
   ]
  },
  {
   "cell_type": "code",
   "execution_count": null,
   "metadata": {},
   "outputs": [],
   "source": []
  }
 ],
 "metadata": {
  "kernelspec": {
   "display_name": "Python 3",
   "language": "python",
   "name": "python3"
  },
  "language_info": {
   "codemirror_mode": {
    "name": "ipython",
    "version": 3
   },
   "file_extension": ".py",
   "mimetype": "text/x-python",
   "name": "python",
   "nbconvert_exporter": "python",
   "pygments_lexer": "ipython3",
   "version": "3.11.3"
  },
  "orig_nbformat": 4
 },
 "nbformat": 4,
 "nbformat_minor": 2
}
