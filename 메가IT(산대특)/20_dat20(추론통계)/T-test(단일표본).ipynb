{
 "cells": [
  {
   "cell_type": "markdown",
   "metadata": {},
   "source": [
    "## T-statistic(T-value)\n",
    ": 계산된 차이를 표준 오차단위로 나타낸 것으로 T의 크기가 클수록 귀무가설 반증에 대한 증거가 크다.<br>\n",
    ": 0에 가까울수록 0에 대한 유믜미한 차이가 없을 확률이 높음"
   ]
  },
  {
   "cell_type": "code",
   "execution_count": 1,
   "metadata": {},
   "outputs": [],
   "source": [
    "import pandas as pd\n",
    "import scipy as sp"
   ]
  },
  {
   "cell_type": "code",
   "execution_count": 4,
   "metadata": {},
   "outputs": [
    {
     "data": {
      "text/html": [
       "<div>\n",
       "<style scoped>\n",
       "    .dataframe tbody tr th:only-of-type {\n",
       "        vertical-align: middle;\n",
       "    }\n",
       "\n",
       "    .dataframe tbody tr th {\n",
       "        vertical-align: top;\n",
       "    }\n",
       "\n",
       "    .dataframe thead th {\n",
       "        text-align: right;\n",
       "    }\n",
       "</style>\n",
       "<table border=\"1\" class=\"dataframe\">\n",
       "  <thead>\n",
       "    <tr style=\"text-align: right;\">\n",
       "      <th></th>\n",
       "      <th>직업</th>\n",
       "      <th>교육수준</th>\n",
       "      <th>성별</th>\n",
       "      <th>나이</th>\n",
       "      <th>가입금액</th>\n",
       "      <th>월수입</th>\n",
       "    </tr>\n",
       "  </thead>\n",
       "  <tbody>\n",
       "    <tr>\n",
       "      <th>0</th>\n",
       "      <td>1</td>\n",
       "      <td>2</td>\n",
       "      <td>1</td>\n",
       "      <td>35</td>\n",
       "      <td>15.0</td>\n",
       "      <td>100</td>\n",
       "    </tr>\n",
       "    <tr>\n",
       "      <th>1</th>\n",
       "      <td>2</td>\n",
       "      <td>3</td>\n",
       "      <td>1</td>\n",
       "      <td>40</td>\n",
       "      <td>10.0</td>\n",
       "      <td>150</td>\n",
       "    </tr>\n",
       "  </tbody>\n",
       "</table>\n",
       "</div>"
      ],
      "text/plain": [
       "   직업  교육수준  성별  나이  가입금액  월수입\n",
       "0   1     2   1  35  15.0  100\n",
       "1   2     3   1  40  10.0  150"
      ]
     },
     "execution_count": 4,
     "metadata": {},
     "output_type": "execute_result"
    }
   ],
   "source": [
    "data=pd.read_excel(\"https://data.hossam.kr/E02/insur.xlsx\")\n",
    "data.head(2)"
   ]
  },
  {
   "cell_type": "markdown",
   "metadata": {},
   "source": [
    "#### 가설 설정(1)\n",
    "가입금액 : $\\mu$<br>\n",
    "$H_0$ : $\\mu = 10$<br>\n",
    "$H_1$ : $\\mu \\neq 10$"
   ]
  },
  {
   "cell_type": "code",
   "execution_count": 5,
   "metadata": {},
   "outputs": [
    {
     "name": "stdout",
     "output_type": "stream",
     "text": [
      "1.201193447239071 0.2393950968482102\n"
     ]
    }
   ],
   "source": [
    "t,p=sp.stats.ttest_1samp(data[\"가입금액\"],10)\n",
    "print(t,p)"
   ]
  },
  {
   "cell_type": "markdown",
   "metadata": {},
   "source": [
    "결과<br>\n",
    "p_value(0.2393)>0.05 이므로 귀무가설을 기각할 수 없음."
   ]
  },
  {
   "cell_type": "markdown",
   "metadata": {},
   "source": [
    "#### 가설 설정(2)\n",
    "$H_0$ : $\\mu < 10$<br>\n",
    "$H_1$ : $\\mu \\geq 10$"
   ]
  },
  {
   "cell_type": "code",
   "execution_count": 7,
   "metadata": {},
   "outputs": [
    {
     "name": "stdout",
     "output_type": "stream",
     "text": [
      "1.201193447239071 0.8803024515758949\n"
     ]
    }
   ],
   "source": [
    "t,p=sp.stats.ttest_1samp(data[\"가입금액\"],10,alternative=\"less\")\n",
    "print(t,p)"
   ]
  },
  {
   "cell_type": "markdown",
   "metadata": {},
   "source": [
    "#### 가설 설정(3)\n",
    "$H_0$ : $\\mu > 10$<br>\n",
    "$H_1$ : $\\mu \\leq 10$"
   ]
  },
  {
   "cell_type": "code",
   "execution_count": 8,
   "metadata": {},
   "outputs": [
    {
     "name": "stdout",
     "output_type": "stream",
     "text": [
      "1.201193447239071 0.8803024515758949\n"
     ]
    }
   ],
   "source": [
    "t,p=sp.stats.ttest_1samp(data[\"가입금액\"],10,alternative=\"less\")\n",
    "print(t,p)"
   ]
  },
  {
   "cell_type": "code",
   "execution_count": null,
   "metadata": {},
   "outputs": [],
   "source": []
  }
 ],
 "metadata": {
  "kernelspec": {
   "display_name": "Python 3",
   "language": "python",
   "name": "python3"
  },
  "language_info": {
   "codemirror_mode": {
    "name": "ipython",
    "version": 3
   },
   "file_extension": ".py",
   "mimetype": "text/x-python",
   "name": "python",
   "nbconvert_exporter": "python",
   "pygments_lexer": "ipython3",
   "version": "3.11.3"
  },
  "orig_nbformat": 4
 },
 "nbformat": 4,
 "nbformat_minor": 2
}
