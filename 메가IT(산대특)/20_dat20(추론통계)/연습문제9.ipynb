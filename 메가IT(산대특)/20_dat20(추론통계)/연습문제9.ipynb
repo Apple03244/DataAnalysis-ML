{
 "cells": [
  {
   "cell_type": "code",
   "execution_count": 74,
   "metadata": {},
   "outputs": [],
   "source": [
    "import pandas as pd\n",
    "import scipy as sp\n",
    "import matplotlib.pyplot as plt\n",
    "import seaborn as sb\n",
    "import numpy as np"
   ]
  },
  {
   "cell_type": "code",
   "execution_count": 75,
   "metadata": {},
   "outputs": [],
   "source": [
    "plt.rcParams[\"font.family\"] = 'BM YEONSUNG'\n",
    "#plt.rcParams[\"font.family\"] = 'AppleGothic'\n",
    "plt.rcParams[\"font.size\"] = 10\n",
    "plt.rcParams[\"figure.figsize\"] = (5, 3)\n",
    "plt.rcParams[\"axes.unicode_minus\"] = False"
   ]
  },
  {
   "cell_type": "markdown",
   "metadata": {},
   "source": [
    "## 문제1\n",
    "#### 데이터"
   ]
  },
  {
   "cell_type": "code",
   "execution_count": 76,
   "metadata": {},
   "outputs": [],
   "source": [
    "D=pd.read_excel('https://data.hossam.kr/E02/material.xlsx')\n",
    "data=pd.DataFrame(D)"
   ]
  },
  {
   "cell_type": "code",
   "execution_count": 77,
   "metadata": {},
   "outputs": [],
   "source": [
    "data.dropna(inplace=True)"
   ]
  },
  {
   "cell_type": "markdown",
   "metadata": {},
   "source": [
    "1. 각 표본의 분산부터 확인해보자"
   ]
  },
  {
   "cell_type": "code",
   "execution_count": 78,
   "metadata": {},
   "outputs": [
    {
     "name": "stdout",
     "output_type": "stream",
     "text": [
      "1.9494728632234029 1.6594845250525514\n"
     ]
    }
   ],
   "source": [
    "print(data[\"상표1\"].std(),data[\"상표2\"].std())"
   ]
  },
  {
   "cell_type": "markdown",
   "metadata": {},
   "source": [
    "#### 2. 독립표본 T_test\n",
    "$H_1$ : 두 표본의 평군값에 차이가 있다"
   ]
  },
  {
   "cell_type": "code",
   "execution_count": 79,
   "metadata": {},
   "outputs": [
    {
     "data": {
      "text/plain": [
       "Ttest_indResult(statistic=1.3710671216714043, pvalue=0.1876309249524432)"
      ]
     },
     "execution_count": 79,
     "metadata": {},
     "output_type": "execute_result"
    }
   ],
   "source": [
    "sp.stats.ttest_ind(data[\"상표1\"],data[\"상표2\"],equal_var=False)"
   ]
  },
  {
   "cell_type": "markdown",
   "metadata": {},
   "source": [
    "결론 : 두 원료의 주성분 A의 함량이 다르다고 말하기 어렵다(유의수준 5%미만에서)"
   ]
  },
  {
   "cell_type": "code",
   "execution_count": 80,
   "metadata": {},
   "outputs": [
    {
     "data": {
      "image/png": "[encoded data removed]",
      "text/plain": [
       "<Figure size 500x300 with 1 Axes>"
      ]
     },
     "metadata": {},
     "output_type": "display_data"
    }
   ],
   "source": [
    "plt.figure()\n",
    "sb.kdeplot(data=data[\"상표1\"])\n",
    "sb.kdeplot(data=data[\"상표2\"])\n",
    "plt.show()"
   ]
  },
  {
   "cell_type": "markdown",
   "metadata": {},
   "source": [
    "## 문제2\n",
    "#### 데이터"
   ]
  },
  {
   "cell_type": "code",
   "execution_count": 81,
   "metadata": {},
   "outputs": [],
   "source": [
    "Data=pd.read_excel('https://data.hossam.kr/E02/blood_pressure.xlsx')\n",
    "data=pd.DataFrame(Data)"
   ]
  },
  {
   "cell_type": "code",
   "execution_count": 82,
   "metadata": {},
   "outputs": [
    {
     "data": {
      "text/html": [
       "<div>\n",
       "<style scoped>\n",
       "    .dataframe tbody tr th:only-of-type {\n",
       "        vertical-align: middle;\n",
       "    }\n",
       "\n",
       "    .dataframe tbody tr th {\n",
       "        vertical-align: top;\n",
       "    }\n",
       "\n",
       "    .dataframe thead th {\n",
       "        text-align: right;\n",
       "    }\n",
       "</style>\n",
       "<table border=\"1\" class=\"dataframe\">\n",
       "  <thead>\n",
       "    <tr style=\"text-align: right;\">\n",
       "      <th></th>\n",
       "      <th>복용전</th>\n",
       "      <th>복용후</th>\n",
       "    </tr>\n",
       "  </thead>\n",
       "  <tbody>\n",
       "    <tr>\n",
       "      <th>0</th>\n",
       "      <td>70</td>\n",
       "      <td>68</td>\n",
       "    </tr>\n",
       "    <tr>\n",
       "      <th>1</th>\n",
       "      <td>80</td>\n",
       "      <td>72</td>\n",
       "    </tr>\n",
       "  </tbody>\n",
       "</table>\n",
       "</div>"
      ],
      "text/plain": [
       "   복용전  복용후\n",
       "0   70   68\n",
       "1   80   72"
      ]
     },
     "execution_count": 82,
     "metadata": {},
     "output_type": "execute_result"
    }
   ],
   "source": [
    "data.head(2)"
   ]
  },
  {
   "cell_type": "code",
   "execution_count": 103,
   "metadata": {},
   "outputs": [],
   "source": [
    "test=data.T.reset_index().melt(id_vars=\"index\")"
   ]
  },
  {
   "cell_type": "markdown",
   "metadata": {},
   "source": [
    "#### 대응표본 T test\n",
    "$H_1$ : 피임약은 혈압에 영향을 준다"
   ]
  },
  {
   "cell_type": "code",
   "execution_count": 83,
   "metadata": {},
   "outputs": [
    {
     "data": {
      "text/plain": [
       "TtestResult(statistic=3.105360487466109, pvalue=0.007749436106654119, df=14)"
      ]
     },
     "execution_count": 83,
     "metadata": {},
     "output_type": "execute_result"
    }
   ],
   "source": [
    "sp.stats.ttest_rel(data[\"복용전\"],data[\"복용후\"])"
   ]
  },
  {
   "cell_type": "markdown",
   "metadata": {},
   "source": [
    "P-value 값이 0.05보다 작으므로 $H_1$ 채택"
   ]
  },
  {
   "cell_type": "markdown",
   "metadata": {},
   "source": [
    ">그렇다면 어떤 식으로 영향을 줄까"
   ]
  },
  {
   "cell_type": "markdown",
   "metadata": {},
   "source": [
    "$H_1$ : 피임약은 혈압을 높인다"
   ]
  },
  {
   "cell_type": "code",
   "execution_count": 84,
   "metadata": {},
   "outputs": [
    {
     "data": {
      "text/plain": [
       "TtestResult(statistic=3.105360487466109, pvalue=0.9961252819466729, df=14)"
      ]
     },
     "execution_count": 84,
     "metadata": {},
     "output_type": "execute_result"
    }
   ],
   "source": [
    "sp.stats.ttest_rel(data[\"복용전\"],data[\"복용후\"],alternative=\"less\")"
   ]
  },
  {
   "cell_type": "markdown",
   "metadata": {},
   "source": [
    "$H_1$ : 피임약은 혈압을 낮춘다"
   ]
  },
  {
   "cell_type": "code",
   "execution_count": 85,
   "metadata": {},
   "outputs": [
    {
     "data": {
      "text/plain": [
       "TtestResult(statistic=3.105360487466109, pvalue=0.0038747180533270594, df=14)"
      ]
     },
     "execution_count": 85,
     "metadata": {},
     "output_type": "execute_result"
    }
   ],
   "source": [
    "sp.stats.ttest_rel(data[\"복용전\"],data[\"복용후\"],alternative=\"greater\")"
   ]
  },
  {
   "cell_type": "markdown",
   "metadata": {},
   "source": [
    "결론 : 피임약은 신뢰도 95%에서 혈압을 낮춘다."
   ]
  },
  {
   "cell_type": "code",
   "execution_count": 86,
   "metadata": {},
   "outputs": [],
   "source": [
    "x,y=np.histogram(data[\"복용전\"],bins=7)\n",
    "z,w=np.histogram(data[\"복용후\"],bins=7)"
   ]
  },
  {
   "cell_type": "code",
   "execution_count": 111,
   "metadata": {},
   "outputs": [
    {
     "data": {
      "image/png": "[encoded data removed]",
      "text/plain": [
       "<Figure size 800x500 with 1 Axes>"
      ]
     },
     "metadata": {},
     "output_type": "display_data"
    }
   ],
   "source": [
    "plt.rcParams[\"figure.figsize\"]=(8,5)\n",
    "plt.figure()\n",
    "sb.barplot(data=test,\n",
    "           x=test[\"variable\"],\n",
    "           y=test[\"value\"],\n",
    "           hue=\"index\")\n",
    "plt.show()"
   ]
  },
  {
   "cell_type": "markdown",
   "metadata": {},
   "source": [
    "## 문제4\n",
    "#### 데이터"
   ]
  },
  {
   "cell_type": "code",
   "execution_count": 114,
   "metadata": {},
   "outputs": [],
   "source": [
    "Data=pd.read_excel('https://data.hossam.kr/E02/wrestler_diet.xlsx')\n",
    "data=pd.DataFrame(Data)\n",
    "datas=[]\n",
    "for col in [list(data.columns[1:])[2*i:2*(i+1)] for i in range(3)]:\n",
    "    datas.append(data[[\"이름\"]+col])"
   ]
  },
  {
   "cell_type": "code",
   "execution_count": 170,
   "metadata": {},
   "outputs": [
    {
     "data": {
      "text/plain": [
       "[['감량전 악력', '감량후 악력'], ['감량전 윗몸일으키기', '감량후 윗몸일으키기'], ['감량전 턱걸이', '감량후 턱걸이']]"
      ]
     },
     "execution_count": 170,
     "metadata": {},
     "output_type": "execute_result"
    }
   ],
   "source": [
    "[list(data.columns[1:])[2*i:2*(i+1)] for i in range(3)]"
   ]
  },
  {
   "cell_type": "code",
   "execution_count": 129,
   "metadata": {},
   "outputs": [],
   "source": [
    "subject=dict(zip(['악력',\"윗몸일으키기\",\"턱걸이\"],datas))"
   ]
  },
  {
   "cell_type": "code",
   "execution_count": 167,
   "metadata": {},
   "outputs": [],
   "source": [
    "H_1={\n",
    "    \"two-sided\" : f'감량전 후 {sub}의 차이가 있다',\n",
    "    \"greater\" : f'감량전 {sub}값이 감량후 {sub}값보다 크다',\n",
    "    \"less\" : f'감량전 {sub}값이 감량후 {sub}값보다 작다'\n",
    "}"
   ]
  },
  {
   "cell_type": "code",
   "execution_count": 169,
   "metadata": {},
   "outputs": [
    {
     "name": "stdout",
     "output_type": "stream",
     "text": [
      "==============================\n",
      "악력 과목에 대한 분석입니다\n",
      "==============================\n",
      " p-value : 0.037454446305019644 \n",
      " t-value : 2.3654081485744824\n",
      "\n",
      "\n",
      "감량전 후 악력의 차이가 있다\n",
      "------------------------------\n",
      " p-value : 0.018727223152509822 \n",
      " t-value : 2.3654081485744824\n",
      "\n",
      "\n",
      "감량전 악력값이 감량후 악력값보다 크다\n",
      "------------------------------\n",
      "==============================\n",
      "윗몸일으키기 과목에 대한 분석입니다\n",
      "==============================\n",
      " p-value : 1.798236117030195e-05 \n",
      " t-value : -7.179926973956724\n",
      "\n",
      "\n",
      "감량전 후 윗몸일으키기의 차이가 있다\n",
      "------------------------------\n",
      " p-value : 8.991180585150975e-06 \n",
      " t-value : -7.179926973956724\n",
      "\n",
      "\n",
      "감량전 윗몸일으키기값이 감량후 윗몸일으키기값보다 작다\n",
      "------------------------------\n",
      "==============================\n",
      "턱걸이 과목에 대한 분석입니다\n",
      "==============================\n",
      " p-value : 2.7937021187235204e-05 \n",
      " t-value : -6.841977654731714\n",
      "\n",
      "\n",
      "감량전 후 턱걸이의 차이가 있다\n",
      "------------------------------\n",
      " p-value : 1.3968510593617602e-05 \n",
      " t-value : -6.841977654731714\n",
      "\n",
      "\n",
      "감량전 턱걸이값이 감량후 턱걸이값보다 작다\n",
      "------------------------------\n"
     ]
    }
   ],
   "source": [
    "for sub in subject:\n",
    "    print(\"=\"*30)\n",
    "    print(sub,\"과목에 대한 분석입니다\")\n",
    "    print(\"=\"*30)\n",
    "    H_1={\n",
    "    \"two-sided\" : f'감량전 후 {sub}의 차이가 있다',\n",
    "    \"greater\" : f'감량전 {sub}값이 감량후 {sub}값보다 크다',\n",
    "    \"less\" : f'감량전 {sub}값이 감량후 {sub}값보다 작다'\n",
    "    }\n",
    "    for method in H_1:\n",
    "        t,p=sp.stats.ttest_rel(subject[sub][subject[sub].columns[1]],subject[sub][subject[sub].columns[2]],alternative=method)\n",
    "        if p<0.05:\n",
    "            print(\" p-value :\",p,\"\\n\",\"t-value :\",t)\n",
    "            print(\"\\n\")\n",
    "            print(H_1[method])\n",
    "            print(\"-\"*30)"
   ]
  },
  {
   "cell_type": "code",
   "execution_count": 206,
   "metadata": {},
   "outputs": [
    {
     "data": {
      "image/png": "[encoded data removed]",
      "text/plain": [
       "<Figure size 1000x1500 with 3 Axes>"
      ]
     },
     "metadata": {},
     "output_type": "display_data"
    }
   ],
   "source": [
    "plt.rcParams[\"figure.figsize\"]=(10,15)\n",
    "f,a=plt.subplots(3,1)\n",
    "ax=dict(zip(subject.keys(),a))\n",
    "for sub in subject:\n",
    "    sb.barplot(data=subject[sub].melt(id_vars=\"이름\"),\n",
    "           x=\"이름\",y=\"value\",hue=\"variable\",ax=ax[sub],palette='YlGnBu')\n",
    "    ax[sub].legend().remove()\n",
    "    ax[sub].set_title(sub)"
   ]
  },
  {
   "cell_type": "code",
   "execution_count": 187,
   "metadata": {},
   "outputs": [
    {
     "data": {
      "text/plain": [
       "<Axes: >"
      ]
     },
     "execution_count": 187,
     "metadata": {},
     "output_type": "execute_result"
    }
   ],
   "source": []
  }
 ],
 "metadata": {
  "kernelspec": {
   "display_name": "Python 3",
   "language": "python",
   "name": "python3"
  },
  "language_info": {
   "codemirror_mode": {
    "name": "ipython",
    "version": 3
   },
   "file_extension": ".py",
   "mimetype": "text/x-python",
   "name": "python",
   "nbconvert_exporter": "python",
   "pygments_lexer": "ipython3",
   "version": "3.11.3"
  },
  "orig_nbformat": 4
 },
 "nbformat": 4,
 "nbformat_minor": 2
}
