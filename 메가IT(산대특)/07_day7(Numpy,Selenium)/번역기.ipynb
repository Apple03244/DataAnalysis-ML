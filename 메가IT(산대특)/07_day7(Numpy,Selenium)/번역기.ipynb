{
 "cells": [
  {
   "cell_type": "code",
   "execution_count": 1,
   "metadata": {},
   "outputs": [],
   "source": [
    "import chromedriver_autoinstaller\n",
    "from selenium import webdriver\n",
    "from selenium.webdriver.support.ui import WebDriverWait\n",
    "from selenium.webdriver.common.by import By\n",
    "import bs4\n",
    "import pandas as pd\n",
    "import time\n",
    "import datetime as dt"
   ]
  },
  {
   "cell_type": "code",
   "execution_count": 2,
   "metadata": {},
   "outputs": [],
   "source": [
    "#번역할 txt 열기\n",
    "with open(\"news.txt\",\"r\", encoding=\"utf-8\") as f:\n",
    "    data=f.readlines()"
   ]
  },
  {
   "cell_type": "code",
   "execution_count": 3,
   "metadata": {},
   "outputs": [
    {
     "name": "stdout",
     "output_type": "stream",
     "text": [
      "End\n",
      "시작 : 2023-06-26 18:55:38.273714 \n",
      "끝 : 2023-06-26 18:57:03.999347 \n",
      "걸린시간(성능) :  0:01:25.725633\n"
     ]
    }
   ],
   "source": [
    "#무조건 다시 시작해야되네\n",
    "driver=webdriver.Chrome()\n",
    "driver.implicitly_wait(5)\n",
    "driver.get(\"https://papago.naver.com/\")\n",
    "time.sleep(3)\n",
    "start=dt.datetime.now()\n",
    "#결과 저장소\n",
    "current=None\n",
    "fileName=dt.datetime.now().strftime(\"%y%m%d_%H%M%S.md\")\n",
    "with open(fileName,\"w\",encoding='utf-8') as f:\n",
    "    for sentence in data:\n",
    "        sentence=sentence.strip()\n",
    "        if not sentence:\n",
    "            continue\n",
    "        txt=WebDriverWait(driver,3).until(\n",
    "            lambda x:x.find_element(By.CSS_SELECTOR,'#txtSource')\n",
    "        )\n",
    "        txt.clear()\n",
    "        txt.send_keys(sentence)\n",
    "#---------번역할 내용 보내기------------\n",
    "        btn=WebDriverWait(driver,3).until(\n",
    "            lambda x:x.find_element(By.CSS_SELECTOR,'#btnTranslate')\n",
    "        )\n",
    "        btn.click()\n",
    "#---------렉 걸리면 어떡하지------------\n",
    "        while current==WebDriverWait(driver,3).until(\n",
    "            lambda x:x.find_element(By.CSS_SELECTOR,'#txtTarget')).text.strip():\n",
    "            time.sleep(0.5)\n",
    "        current=WebDriverWait(driver,3).until(\n",
    "            lambda x:x.find_element(By.CSS_SELECTOR,'#txtTarget')).text.strip()\n",
    "#---------CPU 점유율 생각해서 time.sleep()아의 파라미터를 조정해보자 ^^---------------------        \n",
    "        f.write(sentence)\n",
    "        f.write(\"\\n\\n\")\n",
    "        f.write(\">\"+current)\n",
    "        f.write(\"\\n\\n\")\n",
    "    print(\"End\")\n",
    "    finish=dt.datetime.now()\n",
    "    print(\"시작 :\",start,\"\\n끝 :\",finish,\"\\n걸린시간(성능) : \",finish-start)\n",
    "\n"
   ]
  },
  {
   "cell_type": "code",
   "execution_count": 17,
   "metadata": {},
   "outputs": [
    {
     "data": {
      "text/plain": [
       "15"
      ]
     },
     "execution_count": 17,
     "metadata": {},
     "output_type": "execute_result"
    }
   ],
   "source": [
    "dt.datetime.now()"
   ]
  },
  {
   "cell_type": "code",
   "execution_count": null,
   "metadata": {},
   "outputs": [],
   "source": []
  }
 ],
 "metadata": {
  "kernelspec": {
   "display_name": "Python 3",
   "language": "python",
   "name": "python3"
  },
  "language_info": {
   "codemirror_mode": {
    "name": "ipython",
    "version": 3
   },
   "file_extension": ".py",
   "mimetype": "text/x-python",
   "name": "python",
   "nbconvert_exporter": "python",
   "pygments_lexer": "ipython3",
   "version": "3.11.3"
  },
  "orig_nbformat": 4
 },
 "nbformat": 4,
 "nbformat_minor": 2
}
