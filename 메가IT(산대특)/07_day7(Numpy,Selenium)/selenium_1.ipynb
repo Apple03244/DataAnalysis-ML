{
 "cells": [
  {
   "cell_type": "code",
   "execution_count": 10,
   "metadata": {},
   "outputs": [],
   "source": [
    "import chromedriver_autoinstaller\n",
    "from selenium import webdriver\n",
    "from selenium.webdriver.support.ui import WebDriverWait\n",
    "import bs4\n",
    "import time\n",
    "import pandas as pd"
   ]
  },
  {
   "cell_type": "code",
   "execution_count": 11,
   "metadata": {},
   "outputs": [
    {
     "data": {
      "text/plain": [
       "'c:\\\\Users\\\\SAMSUNG\\\\AppData\\\\Local\\\\Programs\\\\Python\\\\Python311\\\\Lib\\\\site-packages\\\\chromedriver_autoinstaller\\\\114\\\\chromedriver.exe'"
      ]
     },
     "execution_count": 11,
     "metadata": {},
     "output_type": "execute_result"
    }
   ],
   "source": [
    "#크롬드라이버 설치\n",
    "chromedriver_autoinstaller.install()"
   ]
  },
  {
   "cell_type": "code",
   "execution_count": 12,
   "metadata": {},
   "outputs": [],
   "source": [
    "driver=webdriver.Chrome()"
   ]
  },
  {
   "cell_type": "code",
   "execution_count": 13,
   "metadata": {},
   "outputs": [],
   "source": [
    "params=[\"mon\",\"tue\",'wed','thu','fri','sat','sun','dailyPlus']\n",
    "# day=None\n",
    "# naverWebtoonUrl=f'https://comic.naver.com/webtoon?tab={day}'"
   ]
  },
  {
   "cell_type": "code",
   "execution_count": 49,
   "metadata": {},
   "outputs": [],
   "source": [
    "naverWebtoonData=[]"
   ]
  },
  {
   "cell_type": "code",
   "execution_count": 53,
   "metadata": {},
   "outputs": [],
   "source": [
    "for day in params:\n",
    "    url=f'https://comic.naver.com/webtoon?tab={day}'\n",
    "    driver.get(url)\n",
    "    time.sleep(1)\n",
    "\n",
    "    soup=bs4.BeautifulSoup(driver.page_source)\n",
    "    webtoonls=soup.select(\".ContentList__content_list--q5KXY .item\")\n",
    "    for w in webtoonls:\n",
    "        data={\"day\":day}\n",
    "        poster=w.select(\".Poster__image--d9XTI\")\n",
    "        if poster and (\"src\" in poster[0].attrs):\n",
    "            data[\"poster_url\"]=poster[0].attrs[\"src\"]\n",
    "        else:\n",
    "            data[\"poster_url\"]=None\n",
    "\n",
    "        url=w.select(\".Poster__link--sopnC\")\n",
    "        if url and (\"href\" in url[0].attrs):\n",
    "            if 'https://comic.naver.com' in url[0].attrs[\"href\"]:\n",
    "                data[\"url\"]=url[0].attrs[\"href\"]\n",
    "            else:\n",
    "                data['url']='https://comic.naver.com'+url[0].attrs[\"href\"]\n",
    "        else:\n",
    "            data[\"url\"]=None\n",
    "        \n",
    "        if w.select(\".ContentTitle__title--e3qXt > .text\"):    \n",
    "            data[\"title\"]=w.select(\".ContentTitle__title--e3qXt > .text\")[0].text.strip()\n",
    "        else:\n",
    "            data[\"title\"]=None\n",
    "    \n",
    "        if w.select(\".ContentAuthor__author--CTAAP\"):    \n",
    "            data[\"author\"]=w.select('.ContentAuthor__author--CTAAP')[0].text.strip()\n",
    "        else:\n",
    "            data[\"author\"]=None\n",
    "\n",
    "        if w.select(\".Rating__star_area--dFzsb > .text\"):\n",
    "            data[\"rate\"]=float(w.select(\".Rating__star_area--dFzsb > .text\")[0].text.strip())\n",
    "        else:\n",
    "            data[\"rate\"]=None    \n",
    "            \n",
    "        naverWebtoonData.append(data)        "
   ]
  },
  {
   "cell_type": "code",
   "execution_count": 54,
   "metadata": {},
   "outputs": [],
   "source": [
    "result=pd.DataFrame(naverWebtoonData)"
   ]
  },
  {
   "cell_type": "code",
   "execution_count": 63,
   "metadata": {},
   "outputs": [
    {
     "data": {
      "text/plain": [
       "'https://comic.naver.com/webtoon/list?titleId=764480'"
      ]
     },
     "execution_count": 63,
     "metadata": {},
     "output_type": "execute_result"
    }
   ],
   "source": [
    "result.loc[result[\"day\"]==\"mon\"].loc[96][\"url\"]"
   ]
  },
  {
   "cell_type": "code",
   "execution_count": 71,
   "metadata": {},
   "outputs": [
    {
     "data": {
      "text/html": [
       "<div>\n",
       "<style scoped>\n",
       "    .dataframe tbody tr th:only-of-type {\n",
       "        vertical-align: middle;\n",
       "    }\n",
       "\n",
       "    .dataframe tbody tr th {\n",
       "        vertical-align: top;\n",
       "    }\n",
       "\n",
       "    .dataframe thead th {\n",
       "        text-align: right;\n",
       "    }\n",
       "</style>\n",
       "<table border=\"1\" class=\"dataframe\">\n",
       "  <thead>\n",
       "    <tr style=\"text-align: right;\">\n",
       "      <th></th>\n",
       "      <th>day</th>\n",
       "      <th>poster_url</th>\n",
       "      <th>url</th>\n",
       "      <th>title</th>\n",
       "      <th>author</th>\n",
       "      <th>rate</th>\n",
       "    </tr>\n",
       "  </thead>\n",
       "  <tbody>\n",
       "    <tr>\n",
       "      <th>0</th>\n",
       "      <td>mon</td>\n",
       "      <td>https://image-comic.pstatic.net/webtoon/648419...</td>\n",
       "      <td>https://comic.naver.com/webtoon/list?titleId=6...</td>\n",
       "      <td>뷰티풀 군바리</td>\n",
       "      <td>설이 / 윤성원</td>\n",
       "      <td>9.81</td>\n",
       "    </tr>\n",
       "    <tr>\n",
       "      <th>1</th>\n",
       "      <td>tue</td>\n",
       "      <td>https://image-comic.pstatic.net/webtoon/783053...</td>\n",
       "      <td>https://comic.naver.com/webtoon/list?titleId=7...</td>\n",
       "      <td>김부장</td>\n",
       "      <td>박태준 만화회사 / 정종택</td>\n",
       "      <td>9.45</td>\n",
       "    </tr>\n",
       "    <tr>\n",
       "      <th>2</th>\n",
       "      <td>wed</td>\n",
       "      <td>https://image-comic.pstatic.net/webtoon/769209...</td>\n",
       "      <td>https://comic.naver.com/webtoon/list?titleId=7...</td>\n",
       "      <td>화산귀환</td>\n",
       "      <td>LICO / 비가</td>\n",
       "      <td>9.92</td>\n",
       "    </tr>\n",
       "    <tr>\n",
       "      <th>3</th>\n",
       "      <td>thu</td>\n",
       "      <td>https://image-comic.pstatic.net/webtoon/802293...</td>\n",
       "      <td>https://comic.naver.com/webtoon/list?titleId=8...</td>\n",
       "      <td>앞집나리</td>\n",
       "      <td>민송아</td>\n",
       "      <td>9.92</td>\n",
       "    </tr>\n",
       "    <tr>\n",
       "      <th>4</th>\n",
       "      <td>fri</td>\n",
       "      <td>https://image-comic.pstatic.net/webtoon/641253...</td>\n",
       "      <td>https://comic.naver.com/webtoon/list?titleId=6...</td>\n",
       "      <td>외모지상주의</td>\n",
       "      <td>박태준</td>\n",
       "      <td>9.47</td>\n",
       "    </tr>\n",
       "    <tr>\n",
       "      <th>...</th>\n",
       "      <td>...</td>\n",
       "      <td>...</td>\n",
       "      <td>...</td>\n",
       "      <td>...</td>\n",
       "      <td>...</td>\n",
       "      <td>...</td>\n",
       "    </tr>\n",
       "    <tr>\n",
       "      <th>729</th>\n",
       "      <td>dailyPlus</td>\n",
       "      <td>None</td>\n",
       "      <td>https://comic.naver.com/webtoon/list?titleId=8...</td>\n",
       "      <td>후드</td>\n",
       "      <td>후렛샤 / 심규호</td>\n",
       "      <td>8.39</td>\n",
       "    </tr>\n",
       "    <tr>\n",
       "      <th>730</th>\n",
       "      <td>dailyPlus</td>\n",
       "      <td>None</td>\n",
       "      <td>https://comic.naver.com/webtoon/list?titleId=7...</td>\n",
       "      <td>실버벨</td>\n",
       "      <td>노떼</td>\n",
       "      <td>9.53</td>\n",
       "    </tr>\n",
       "    <tr>\n",
       "      <th>731</th>\n",
       "      <td>dailyPlus</td>\n",
       "      <td>None</td>\n",
       "      <td>https://comic.naver.com/webtoon/list?titleId=8...</td>\n",
       "      <td>씨앗의 정원</td>\n",
       "      <td>백희</td>\n",
       "      <td>9.69</td>\n",
       "    </tr>\n",
       "    <tr>\n",
       "      <th>732</th>\n",
       "      <td>dailyPlus</td>\n",
       "      <td>None</td>\n",
       "      <td>https://comic.naver.com/webtoon/list?titleId=7...</td>\n",
       "      <td>도와줘우주</td>\n",
       "      <td>설레임 / 한겨울</td>\n",
       "      <td>9.33</td>\n",
       "    </tr>\n",
       "    <tr>\n",
       "      <th>733</th>\n",
       "      <td>dailyPlus</td>\n",
       "      <td>None</td>\n",
       "      <td>https://comic.naver.com/webtoon/list?titleId=7...</td>\n",
       "      <td>투 두 리스트</td>\n",
       "      <td>RYO / FLEWing</td>\n",
       "      <td>9.76</td>\n",
       "    </tr>\n",
       "  </tbody>\n",
       "</table>\n",
       "<p>734 rows × 6 columns</p>\n",
       "</div>"
      ],
      "text/plain": [
       "           day                                         poster_url  \\\n",
       "0          mon  https://image-comic.pstatic.net/webtoon/648419...   \n",
       "1          tue  https://image-comic.pstatic.net/webtoon/783053...   \n",
       "2          wed  https://image-comic.pstatic.net/webtoon/769209...   \n",
       "3          thu  https://image-comic.pstatic.net/webtoon/802293...   \n",
       "4          fri  https://image-comic.pstatic.net/webtoon/641253...   \n",
       "..         ...                                                ...   \n",
       "729  dailyPlus                                               None   \n",
       "730  dailyPlus                                               None   \n",
       "731  dailyPlus                                               None   \n",
       "732  dailyPlus                                               None   \n",
       "733  dailyPlus                                               None   \n",
       "\n",
       "                                                   url    title  \\\n",
       "0    https://comic.naver.com/webtoon/list?titleId=6...  뷰티풀 군바리   \n",
       "1    https://comic.naver.com/webtoon/list?titleId=7...      김부장   \n",
       "2    https://comic.naver.com/webtoon/list?titleId=7...     화산귀환   \n",
       "3    https://comic.naver.com/webtoon/list?titleId=8...     앞집나리   \n",
       "4    https://comic.naver.com/webtoon/list?titleId=6...   외모지상주의   \n",
       "..                                                 ...      ...   \n",
       "729  https://comic.naver.com/webtoon/list?titleId=8...       후드   \n",
       "730  https://comic.naver.com/webtoon/list?titleId=7...      실버벨   \n",
       "731  https://comic.naver.com/webtoon/list?titleId=8...   씨앗의 정원   \n",
       "732  https://comic.naver.com/webtoon/list?titleId=7...    도와줘우주   \n",
       "733  https://comic.naver.com/webtoon/list?titleId=7...  투 두 리스트   \n",
       "\n",
       "             author  rate  \n",
       "0          설이 / 윤성원  9.81  \n",
       "1    박태준 만화회사 / 정종택  9.45  \n",
       "2         LICO / 비가  9.92  \n",
       "3               민송아  9.92  \n",
       "4               박태준  9.47  \n",
       "..              ...   ...  \n",
       "729       후렛샤 / 심규호  8.39  \n",
       "730              노떼  9.53  \n",
       "731              백희  9.69  \n",
       "732       설레임 / 한겨울  9.33  \n",
       "733   RYO / FLEWing  9.76  \n",
       "\n",
       "[734 rows x 6 columns]"
      ]
     },
     "execution_count": 71,
     "metadata": {},
     "output_type": "execute_result"
    }
   ],
   "source": [
    "result"
   ]
  },
  {
   "cell_type": "code",
   "execution_count": null,
   "metadata": {},
   "outputs": [],
   "source": []
  }
 ],
 "metadata": {
  "kernelspec": {
   "display_name": "Python 3",
   "language": "python",
   "name": "python3"
  },
  "language_info": {
   "codemirror_mode": {
    "name": "ipython",
    "version": 3
   },
   "file_extension": ".py",
   "mimetype": "text/x-python",
   "name": "python",
   "nbconvert_exporter": "python",
   "pygments_lexer": "ipython3",
   "version": "3.11.3"
  },
  "orig_nbformat": 4
 },
 "nbformat": 4,
 "nbformat_minor": 2
}
