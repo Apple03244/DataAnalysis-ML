{
 "cells": [
  {
   "cell_type": "markdown",
   "metadata": {},
   "source": [
    "#### 데이터 시각화"
   ]
  },
  {
   "attachments": {},
   "cell_type": "markdown",
   "metadata": {},
   "source": [
    "1. line plot\n",
    "2. bar chart\n",
    "3. box plot\n",
    "4. pie chart\n",
    "5. scatter plot\n",
    "6. histogram"
   ]
  },
  {
   "cell_type": "code",
   "execution_count": null,
   "metadata": {},
   "outputs": [],
   "source": [
    "import matplotlib as mlt"
   ]
  },
  {
   "attachments": {},
   "cell_type": "markdown",
   "metadata": {},
   "source": [
    "라인 플롯(Line plot)"
   ]
  },
  {
   "cell_type": "code",
   "execution_count": null,
   "metadata": {},
   "outputs": [],
   "source": [
    "from matplotlib import pyplot"
   ]
  },
  {
   "cell_type": "code",
   "execution_count": null,
   "metadata": {},
   "outputs": [],
   "source": [
    "mlt.pyplot.Figure()\n",
    "mlt.pyplot.title(\"test1\")\n",
    "mlt.pyplot.plot([1,2,3,4,5],[1,3,5,7,9])\n",
    "mlt.pyplot.xlabel(\"x\")\n",
    "mlt.pyplot.ylabel(\"y\")\n",
    "mlt.pyplot.show()\n",
    "mlt.pyplot.close()"
   ]
  },
  {
   "attachments": {},
   "cell_type": "markdown",
   "metadata": {},
   "source": [
    "한글 사용하기"
   ]
  },
  {
   "cell_type": "code",
   "execution_count": null,
   "metadata": {},
   "outputs": [],
   "source": [
    "import os\n",
    "import sys"
   ]
  },
  {
   "cell_type": "code",
   "execution_count": null,
   "metadata": {},
   "outputs": [],
   "source": [
    "font_list=mlt.font_manager.findSystemFonts()\n",
    "font_list.sort()"
   ]
  },
  {
   "cell_type": "code",
   "execution_count": null,
   "metadata": {},
   "outputs": [],
   "source": [
    "for font in font_list:\n",
    "    ft=mlt.font_manager.FontProperties(fname=font)\n",
    "    try:\n",
    "        font_name=ft.get_name()\n",
    "        print(font_name)\n",
    "    except:\n",
    "        pass"
   ]
  },
  {
   "attachments": {},
   "cell_type": "markdown",
   "metadata": {},
   "source": [
    "글꼴 적용하기"
   ]
  },
  {
   "cell_type": "code",
   "execution_count": null,
   "metadata": {},
   "outputs": [],
   "source": [
    "mlt.pyplot.rcParams[\"font.family\"]=\"BM YEONSUNG\"\n",
    "mlt.pyplot.rcParams[\"font.size\"]=12\n",
    "mlt.pyplot.rcParams[\"figure.figsize\"]=(10,5) #맵크기\n",
    "mlt.pyplot.rcParams[\"axes.unicode_minus\"]=False #유니코드 해제하여 \"-\" 가 제대로 보이게 하기"
   ]
  },
  {
   "cell_type": "code",
   "execution_count": null,
   "metadata": {},
   "outputs": [],
   "source": [
    "mlt.pyplot.Figure()\n",
    "mlt.pyplot.title(\"테스트2\")\n",
    "mlt.pyplot.plot([-3,-2,3,4,5],[1,3,5,7,9])\n",
    "mlt.pyplot.xlabel(\"x\")\n",
    "mlt.pyplot.ylabel(\"y\")\n",
    "mlt.pyplot.show()\n",
    "mlt.pyplot.close()"
   ]
  },
  {
   "attachments": {},
   "cell_type": "markdown",
   "metadata": {},
   "source": [
    "영역별 font 스타일 지정"
   ]
  },
  {
   "cell_type": "code",
   "execution_count": null,
   "metadata": {},
   "outputs": [],
   "source": [
    "font1={\n",
    "    \"family\":\"Batang\",\n",
    "    \"size\":20,\n",
    "    \"color\": '#2aa2c9',\n",
    "    'weight':'bold'\n",
    "}\n",
    "font2={\n",
    "    \"family\":\"Batang\",\n",
    "    \"size\":20,\n",
    "    \"color\": '#2aa2c9',\n",
    "    'weight':'light'\n",
    "}"
   ]
  },
  {
   "cell_type": "code",
   "execution_count": null,
   "metadata": {},
   "outputs": [],
   "source": [
    "mlt.pyplot.Figure()\n",
    "mlt.pyplot.title(\"test1\",fontdict=font1)\n",
    "mlt.pyplot.plot([1,2,3,4,5],[1,3,5,7,9])\n",
    "mlt.pyplot.xlabel(\"x\",fontdict=font2)\n",
    "mlt.pyplot.ylabel(\"y\")\n",
    "mlt.pyplot.show()\n",
    "mlt.pyplot.close()"
   ]
  },
  {
   "attachments": {},
   "cell_type": "markdown",
   "metadata": {},
   "source": [
    "#### 스타일 지정하기\n",
    "\n",
    "선 스타일 문자열\t의미\n",
    "-\t실선(solid)\n",
    "--\t대시선(dashed)\n",
    ":\t점선(dotted)\n",
    "-.\t대시-점선(dash-dit)"
   ]
  },
  {
   "cell_type": "code",
   "execution_count": null,
   "metadata": {},
   "outputs": [],
   "source": [
    "mlt.pyplot.Figure()\n",
    "mlt.pyplot.title(\"테스트2\")\n",
    "mlt.pyplot.plot([-3,-2,3,4,5],[1,3,5,7,9], linestyle=\"-.\", marker=\"^\")\n",
    "mlt.pyplot.grid() #그리드 표시\n",
    "mlt.pyplot.xlabel(\"x\")\n",
    "mlt.pyplot.ylabel(\"y\")\n",
    "mlt.pyplot.show()\n",
    "mlt.pyplot.close()"
   ]
  },
  {
   "cell_type": "markdown",
   "metadata": {},
   "source": [
    "기타 스타일 참조\n",
    "\n",
    "스타일 문자열\t약자\t의미\n",
    "color\tc\t선 색깔\n",
    "linestyle\tls\t선 스타일\n",
    "linewidth\tlw\t선 굵기\n",
    "marker\t\t마커 종류\n",
    "markersize\tms\t마커 크기\n",
    "markerfacecolor\tmfc\t마커 내부 색깔\n",
    "markeredgecolor\tmec\t마커 선 색깔\n",
    "markeredgewidth\tmew\t마커 선 굵기"
   ]
  },
  {
   "attachments": {},
   "cell_type": "markdown",
   "metadata": {},
   "source": [
    "#### 축 길이 설정"
   ]
  },
  {
   "cell_type": "code",
   "execution_count": null,
   "metadata": {},
   "outputs": [],
   "source": [
    "mlt.pyplot.Figure()\n",
    "mlt.pyplot.title(\"테스트2\")\n",
    "mlt.pyplot.plot([-3,-2,3,4,5],[1,3,5,7,9], linestyle=\"-.\", marker=\"^\")\n",
    "mlt.pyplot.grid() #그리드 표시\n",
    "mlt.pyplot.xlim(-10,10)\n",
    "mlt.pyplot.xlabel(\"x\")\n",
    "mlt.pyplot.ylabel(\"y\")\n",
    "mlt.pyplot.show()\n",
    "mlt.pyplot.close()"
   ]
  },
  {
   "cell_type": "code",
   "execution_count": null,
   "metadata": {},
   "outputs": [],
   "source": [
    "mlt.pyplot.Figure()\n",
    "mlt.pyplot.title(\"테스트2\")\n",
    "mlt.pyplot.plot([-3,-2,3,4,5],[1,3,5,7,9], linestyle=\"-.\", marker=\"^\")\n",
    "mlt.pyplot.grid() #그리드 표시\n",
    "mlt.pyplot.xticks([-3,-2,3,4,5],['기준1','기준2','기준3','기준4','시준5'])\n",
    "mlt.pyplot.ylabel(\"y\")\n",
    "mlt.pyplot.show()\n",
    "mlt.pyplot.close()"
   ]
  },
  {
   "attachments": {},
   "cell_type": "markdown",
   "metadata": {},
   "source": [
    "#### 겹쳐그리기."
   ]
  },
  {
   "cell_type": "code",
   "execution_count": 71,
   "metadata": {},
   "outputs": [
    {
     "data": {
      "image/png": "[encoded data removed]",
      "text/plain": [
       "<Figure size 1000x500 with 1 Axes>"
      ]
     },
     "metadata": {},
     "output_type": "display_data"
    }
   ],
   "source": [
    "mlt.pyplot.Figure()\n",
    "mlt.pyplot.title(\"테스트2\")\n",
    "mlt.pyplot.plot([-3,-2,3,4,5],[1,3,5,7,9], linestyle=\"-.\", marker=\"^\", label=\"그래프1\")\n",
    "mlt.pyplot.plot([1,2,3,4,5],label=\"그래프2\")\n",
    "mlt.pyplot.grid() #그리드 표시\n",
    "mlt.pyplot.xticks([-3,-2,3,4,5],['기준1','기준2','기준3','기준4','시준5'])\n",
    "mlt.pyplot.legend(loc=\"upper left\")\n",
    "mlt.pyplot.ylabel(\"y\")\n",
    "mlt.pyplot.show()\n",
    "mlt.pyplot.close()"
   ]
  },
  {
   "cell_type": "code",
   "execution_count": null,
   "metadata": {},
   "outputs": [],
   "source": []
  }
 ],
 "metadata": {
  "kernelspec": {
   "display_name": "Python 3",
   "language": "python",
   "name": "python3"
  },
  "language_info": {
   "codemirror_mode": {
    "name": "ipython",
    "version": 3
   },
   "file_extension": ".py",
   "mimetype": "text/x-python",
   "name": "python",
   "nbconvert_exporter": "python",
   "pygments_lexer": "ipython3",
   "version": "3.11.3"
  },
  "orig_nbformat": 4
 },
 "nbformat": 4,
 "nbformat_minor": 2
}
