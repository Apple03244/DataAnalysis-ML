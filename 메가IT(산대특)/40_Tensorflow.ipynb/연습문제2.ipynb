{
 "cells": [
  {
   "cell_type": "markdown",
   "metadata": {},
   "source": [
    "# 데이터 설명"
   ]
  },
  {
   "cell_type": "markdown",
   "metadata": {},
   "source": [
    "| 필드명        | 설명                  | 비고                                       |\n",
    "|--------------|-----------------------|------------------------------------------|\n",
    "| id           | 교유번호              |                                            |\n",
    "| age          | 나이                  |                                            |\n",
    "| sex          | 성별                  | 0=여성, 1=남성                            |\n",
    "| weight       | 체중                  |                                            |\n",
    "| OP_date      | 수술 날짜             |                                            |\n",
    "| Recur        | 재발 여부             | 1=재발, 0=마지막 관찰시점까지 재발 안함   |\n",
    "| Recur_1y     | 1년 내 재발 여부     | 1=1년 내 재발, 0=1년 내 재발 안함         |\n",
    "| Recur_date   | 재발 날짜             | 재발하지 않은 환자의 경우 마지막 검사 날짜 |\n",
    "| SBP          | 수축기 혈압           |                                            |\n",
    "| CA19.9       | 종양표지자 CA19-9값   |                                            |\n",
    "| CRP          | C-반응 단백질 수치   |                                            |\n",
    "| CEA          | 종용표지자 CEA 값     |                                            |\n",
    "| post.CEA     | 수술 직후 CEA 값     |                                            |\n",
    "| stage        | 암의 병기            | 1, 2, 3                                   |\n",
    "| smoking      | 흡연 여부            | 1=흡연, 0=비흡연                          |\n",
    "| obesity      | 비만 여부            | 1=비만, 0=정상                            |\n",
    "| post.CA19.9  | 수술 직후 CA19-9값  |                                            |\n",
    "| post.CA19.9.binary | post.CA19.9가 37 초과이면 1, 37 이하이면 0  | |\n",
    "| post.CA19.9.3grp  | post.CA19.9가 37 이하이면 1, 37초과 100 이히면 2, 70 초과이면 3  | |\n"
   ]
  },
  {
   "cell_type": "code",
   "execution_count": 471,
   "metadata": {},
   "outputs": [],
   "source": [
    "import pandas as pd\n",
    "import tensorflow.keras as keras\n",
    "D=pd.read_excel(\"https://data.hossam.kr/F03/biostat.xlsx\")\n",
    "data=pd.DataFrame(D)"
   ]
  },
  {
   "cell_type": "markdown",
   "metadata": {},
   "source": [
    "## 데이터 확인 및 이상치 처리(간단한)"
   ]
  },
  {
   "cell_type": "code",
   "execution_count": 472,
   "metadata": {},
   "outputs": [
    {
     "name": "stdout",
     "output_type": "stream",
     "text": [
      "<class 'pandas.core.frame.DataFrame'>\n",
      "RangeIndex: 156 entries, 0 to 155\n",
      "Data columns (total 19 columns):\n",
      " #   Column              Non-Null Count  Dtype         \n",
      "---  ------              --------------  -----         \n",
      " 0   id                  156 non-null    int64         \n",
      " 1   age                 156 non-null    int64         \n",
      " 2   sex                 156 non-null    int64         \n",
      " 3   weight              156 non-null    float64       \n",
      " 4   OP_date             156 non-null    datetime64[ns]\n",
      " 5   Recur               156 non-null    int64         \n",
      " 6   Recur_1y            156 non-null    int64         \n",
      " 7   Recur_date          156 non-null    datetime64[ns]\n",
      " 8   SBP                 156 non-null    float64       \n",
      " 9   CA19.9              156 non-null    float64       \n",
      " 10  CRP                 156 non-null    float64       \n",
      " 11  CEA                 156 non-null    float64       \n",
      " 12  post.CEA            156 non-null    float64       \n",
      " 13  stage               156 non-null    int64         \n",
      " 14  smoking             156 non-null    int64         \n",
      " 15  obesity             156 non-null    int64         \n",
      " 16  post.CA19.9         156 non-null    float64       \n",
      " 17  post.CA19.9.binary  156 non-null    int64         \n",
      " 18  post.CA19.9.3grp    156 non-null    int64         \n",
      "dtypes: datetime64[ns](2), float64(7), int64(10)\n",
      "memory usage: 23.3 KB\n"
     ]
    }
   ],
   "source": [
    "data.info()\n",
    "data.drop(columns=[\"id\"],inplace=True)"
   ]
  },
  {
   "cell_type": "markdown",
   "metadata": {},
   "source": [
    "## 데이터 구분과 분포확인을 위한 시각화"
   ]
  },
  {
   "cell_type": "code",
   "execution_count": 473,
   "metadata": {},
   "outputs": [
    {
     "data": {
      "text/plain": [
       "Index(['age', 'sex', 'weight', 'OP_date', 'Recur', 'Recur_1y', 'Recur_date',\n",
       "       'SBP', 'CA19.9', 'CRP', 'CEA', 'post.CEA', 'stage', 'smoking',\n",
       "       'obesity', 'post.CA19.9', 'post.CA19.9.binary', 'post.CA19.9.3grp'],\n",
       "      dtype='object')"
      ]
     },
     "execution_count": 473,
     "metadata": {},
     "output_type": "execute_result"
    }
   ],
   "source": [
    "data.columns"
   ]
  },
  {
   "cell_type": "markdown",
   "metadata": {},
   "source": [
    "#### 매우 근접한 feature\n",
    "- 'post.CA19.9', 'post.CA19.9.binary', 'post.CA19.9.3grp' 이 셋은 굉장히 연광성이 높음. 따라서 'post.CA19.9'(연속형)만 사용하겠음"
   ]
  },
  {
   "cell_type": "code",
   "execution_count": 474,
   "metadata": {},
   "outputs": [],
   "source": [
    "data.drop(columns=['post.CA19.9.binary', 'post.CA19.9.3grp'],inplace=True)"
   ]
  },
  {
   "cell_type": "markdown",
   "metadata": {},
   "source": [
    "### 목적에 따른 구분"
   ]
  },
  {
   "cell_type": "code",
   "execution_count": 475,
   "metadata": {},
   "outputs": [],
   "source": [
    "target=['OP_date', 'Recur', 'Recur_1y', 'Recur_date']\n",
    "feature=data.columns.difference(target)"
   ]
  },
  {
   "cell_type": "markdown",
   "metadata": {},
   "source": [
    "### 타입에 따른 분류 : feature 중에서"
   ]
  },
  {
   "cell_type": "code",
   "execution_count": 476,
   "metadata": {},
   "outputs": [],
   "source": [
    "category=[\"sex\",'stage', 'smoking','obesity']\n",
    "numeric=[col for col in feature if col not in category]"
   ]
  },
  {
   "cell_type": "markdown",
   "metadata": {},
   "source": [
    "### 시각화\n",
    "다중공선성 정도는 확인할 수 있겠다. 즉 변수끼리 연관성 여부를 간단히 확인"
   ]
  },
  {
   "cell_type": "code",
   "execution_count": 477,
   "metadata": {},
   "outputs": [],
   "source": [
    "import matplotlib.pyplot as plt\n",
    "import seaborn as sb\n",
    "plt.rcParams[\"font.family\"]=\"BM YEONSUNG\""
   ]
  },
  {
   "cell_type": "code",
   "execution_count": 478,
   "metadata": {},
   "outputs": [],
   "source": [
    "# plt.figure()\n",
    "# sb.pairplot(data[numeric])\n",
    "# plt.show()\n",
    "# plt.close()"
   ]
  },
  {
   "cell_type": "code",
   "execution_count": 479,
   "metadata": {},
   "outputs": [
    {
     "data": {
      "text/plain": [
       "['CA19.9', 'CEA', 'CRP', 'SBP', 'age', 'post.CA19.9', 'post.CEA', 'weight']"
      ]
     },
     "execution_count": 479,
     "metadata": {},
     "output_type": "execute_result"
    }
   ],
   "source": [
    "numeric"
   ]
  },
  {
   "cell_type": "markdown",
   "metadata": {},
   "source": [
    "#### PairPlot에서 관찰된 문제들\n",
    "- 1. \"CA19.9\" : 값이 굉장히 국소적으로 밀집됨\n",
    "- 2. 'post.CEA' : 마찬가지\n",
    "\n",
    "이들은 비모수적 처리를 할 가능성이 높음"
   ]
  },
  {
   "cell_type": "markdown",
   "metadata": {},
   "source": [
    "### Boxplot"
   ]
  },
  {
   "cell_type": "code",
   "execution_count": 480,
   "metadata": {},
   "outputs": [
    {
     "name": "stderr",
     "output_type": "stream",
     "text": [
      "c:\\Users\\SAMSUNG\\AppData\\Local\\Programs\\Python\\Python39\\lib\\site-packages\\seaborn\\_oldcore.py:1498: FutureWarning: is_categorical_dtype is deprecated and will be removed in a future version. Use isinstance(dtype, CategoricalDtype) instead\n",
      "  if pd.api.types.is_categorical_dtype(vector):\n",
      "c:\\Users\\SAMSUNG\\AppData\\Local\\Programs\\Python\\Python39\\lib\\site-packages\\seaborn\\_oldcore.py:1498: FutureWarning: is_categorical_dtype is deprecated and will be removed in a future version. Use isinstance(dtype, CategoricalDtype) instead\n",
      "  if pd.api.types.is_categorical_dtype(vector):\n",
      "c:\\Users\\SAMSUNG\\AppData\\Local\\Programs\\Python\\Python39\\lib\\site-packages\\seaborn\\_oldcore.py:1498: FutureWarning: is_categorical_dtype is deprecated and will be removed in a future version. Use isinstance(dtype, CategoricalDtype) instead\n",
      "  if pd.api.types.is_categorical_dtype(vector):\n",
      "c:\\Users\\SAMSUNG\\AppData\\Local\\Programs\\Python\\Python39\\lib\\site-packages\\seaborn\\_oldcore.py:1498: FutureWarning: is_categorical_dtype is deprecated and will be removed in a future version. Use isinstance(dtype, CategoricalDtype) instead\n",
      "  if pd.api.types.is_categorical_dtype(vector):\n",
      "c:\\Users\\SAMSUNG\\AppData\\Local\\Programs\\Python\\Python39\\lib\\site-packages\\seaborn\\_oldcore.py:1498: FutureWarning: is_categorical_dtype is deprecated and will be removed in a future version. Use isinstance(dtype, CategoricalDtype) instead\n",
      "  if pd.api.types.is_categorical_dtype(vector):\n",
      "c:\\Users\\SAMSUNG\\AppData\\Local\\Programs\\Python\\Python39\\lib\\site-packages\\seaborn\\_oldcore.py:1498: FutureWarning: is_categorical_dtype is deprecated and will be removed in a future version. Use isinstance(dtype, CategoricalDtype) instead\n",
      "  if pd.api.types.is_categorical_dtype(vector):\n",
      "c:\\Users\\SAMSUNG\\AppData\\Local\\Programs\\Python\\Python39\\lib\\site-packages\\seaborn\\_oldcore.py:1498: FutureWarning: is_categorical_dtype is deprecated and will be removed in a future version. Use isinstance(dtype, CategoricalDtype) instead\n",
      "  if pd.api.types.is_categorical_dtype(vector):\n",
      "c:\\Users\\SAMSUNG\\AppData\\Local\\Programs\\Python\\Python39\\lib\\site-packages\\seaborn\\_oldcore.py:1498: FutureWarning: is_categorical_dtype is deprecated and will be removed in a future version. Use isinstance(dtype, CategoricalDtype) instead\n",
      "  if pd.api.types.is_categorical_dtype(vector):\n"
     ]
    },
    {
     "data": {
      "image/png": "[encoded data removed]",
      "text/plain": [
       "<Figure size 800x800 with 8 Axes>"
      ]
     },
     "metadata": {},
     "output_type": "display_data"
    }
   ],
   "source": [
    "_,a=plt.subplots(4,2,figsize=(8,8))\n",
    "a=sum(list(map(list,a)),[])\n",
    "for i,j in enumerate(a):\n",
    "    sb.boxplot(data=data,y=numeric[i],ax=j)\n",
    "plt.show()\n",
    "plt.close()"
   ]
  },
  {
   "cell_type": "markdown",
   "metadata": {},
   "source": [
    "박스플롯을 본 결과 이전 pairplot에서 본 두개의 컬럼을 제외(값이 극단적으로 분포함을 이미 확인함)            \n",
    "추가로,         \n",
    "\"post CA19.9\"와 \"CEA\" 에서 너무 많은 이상치를 발견함"
   ]
  },
  {
   "cell_type": "markdown",
   "metadata": {},
   "source": [
    "## Data preprocessing"
   ]
  },
  {
   "cell_type": "markdown",
   "metadata": {},
   "source": [
    "### 이상치 처리\n",
    "* 위에서의 시각화 결과에 따른 feature 들 위주로 처리\n",
    "* 그 외의 feature들은 이상치 처리를 하지 않음(차후 모델평가 후 고려)"
   ]
  },
  {
   "cell_type": "markdown",
   "metadata": {},
   "source": [
    "#### CEA"
   ]
  },
  {
   "cell_type": "code",
   "execution_count": 481,
   "metadata": {},
   "outputs": [
    {
     "name": "stdout",
     "output_type": "stream",
     "text": [
      "이상치 개수: 23\n"
     ]
    }
   ],
   "source": [
    "iqr=data[\"CEA\"].quantile(0.75)-data[\"CEA\"].quantile(0.25)\n",
    "upper_idx=data[\"CEA\"]>data[\"CEA\"].quantile(0.5)+1.5*iqr\n",
    "lower_idx=data[\"CEA\"]<data[\"CEA\"].quantile(0.5)-1.5*iqr\n",
    "print(\"이상치 개수:\",data[upper_idx|lower_idx].count()[\"age\"])"
   ]
  },
  {
   "cell_type": "code",
   "execution_count": 482,
   "metadata": {},
   "outputs": [
    {
     "data": {
      "text/plain": [
       "0.3"
      ]
     },
     "execution_count": 482,
     "metadata": {},
     "output_type": "execute_result"
    }
   ],
   "source": [
    "# 최소값이 0보다 크므로 아래의 행동의 근거가 충분\n",
    "data[\"CEA\"].min()"
   ]
  },
  {
   "cell_type": "markdown",
   "metadata": {},
   "source": [
    "이상치가 upper, 즉 높은 값에만 존재함을 boxplot을 통해 확인했고 굉장히 많은 개수가 이상치에 분포되어있음"
   ]
  },
  {
   "cell_type": "code",
   "execution_count": 483,
   "metadata": {},
   "outputs": [
    {
     "name": "stderr",
     "output_type": "stream",
     "text": [
      "c:\\Users\\SAMSUNG\\AppData\\Local\\Programs\\Python\\Python39\\lib\\site-packages\\seaborn\\_oldcore.py:1498: FutureWarning: is_categorical_dtype is deprecated and will be removed in a future version. Use isinstance(dtype, CategoricalDtype) instead\n",
      "  if pd.api.types.is_categorical_dtype(vector):\n",
      "c:\\Users\\SAMSUNG\\AppData\\Local\\Programs\\Python\\Python39\\lib\\site-packages\\seaborn\\_oldcore.py:1119: FutureWarning: use_inf_as_na option is deprecated and will be removed in a future version. Convert inf values to NaN before operating instead.\n",
      "  with pd.option_context('mode.use_inf_as_na', True):\n"
     ]
    },
    {
     "data": {
      "text/plain": [
       "<Axes: xlabel='CEA', ylabel='Count'>"
      ]
     },
     "execution_count": 483,
     "metadata": {},
     "output_type": "execute_result"
    },
    {
     "name": "stderr",
     "output_type": "stream",
     "text": [
      "c:\\Users\\SAMSUNG\\AppData\\Local\\Programs\\Python\\Python39\\lib\\site-packages\\IPython\\core\\events.py:93: UserWarning: Glyph 8722 (\\N{MINUS SIGN}) missing from current font.\n",
      "  func(*args, **kwargs)\n",
      "c:\\Users\\SAMSUNG\\AppData\\Local\\Programs\\Python\\Python39\\lib\\site-packages\\IPython\\core\\pylabtools.py:152: UserWarning: Glyph 8722 (\\N{MINUS SIGN}) missing from current font.\n",
      "  fig.canvas.print_figure(bytes_io, **kw)\n"
     ]
    },
    {
     "data": {
      "image/png": "[encoded data removed]",
      "text/plain": [
       "<Figure size 800x400 with 1 Axes>"
      ]
     },
     "metadata": {},
     "output_type": "display_data"
    }
   ],
   "source": [
    "# 오른쪽으로 긴 꼬리 모양이므로 log 변환을 실시한 결과 원하는 모양이 나옴\n",
    "plt.figure(figsize=(8,4))\n",
    "sb.histplot(data[\"CEA\"].apply(lambda x: np.log(x)))"
   ]
  },
  {
   "cell_type": "code",
   "execution_count": 484,
   "metadata": {},
   "outputs": [],
   "source": [
    "# 변환해놓자.\n",
    "data[\"CEA\"]=data[\"CEA\"].apply(lambda x:np.log(x))"
   ]
  },
  {
   "cell_type": "markdown",
   "metadata": {},
   "source": [
    "#### post.CA19.9\n",
    "위의 `CEA`랑 분포가 굉장히 비슷하기 떄문에(이상치가 높은 값에만 존재, 오른쪽으로 긴 꼬리)           \n",
    "허나 여러 변환(boxcox,로그,제곱근 변환) 시도에도 좋은 모양이 나오지 않음            \n",
    "비모수적 방법을 이용해서 최대한 variance를 가져가던가 vs 이상치를 특정값으로 변환(? 굉장히 위험) vs 그대로 사용"
   ]
  },
  {
   "cell_type": "code",
   "execution_count": 485,
   "metadata": {},
   "outputs": [
    {
     "name": "stdout",
     "output_type": "stream",
     "text": [
      "이상치 개수: 18\n"
     ]
    }
   ],
   "source": [
    "iqr=data[\"post.CA19.9\"].quantile(0.75)-data[\"post.CA19.9\"].quantile(0.25)\n",
    "upper_idx=data[\"post.CA19.9\"]>data[\"post.CA19.9\"].quantile(0.5)+1.5*iqr\n",
    "lower_idx=data[\"post.CA19.9\"]<data[\"post.CA19.9\"].quantile(0.5)-1.5*iqr\n",
    "print(\"이상치 개수:\",data[upper_idx|lower_idx].count()[\"age\"])"
   ]
  },
  {
   "cell_type": "markdown",
   "metadata": {},
   "source": [
    "`drop `하기엔 너무 많은 양          \n",
    "따라서 변환을 시도해봄"
   ]
  },
  {
   "cell_type": "code",
   "execution_count": 486,
   "metadata": {},
   "outputs": [
    {
     "name": "stderr",
     "output_type": "stream",
     "text": [
      "c:\\Users\\SAMSUNG\\AppData\\Local\\Programs\\Python\\Python39\\lib\\site-packages\\seaborn\\_oldcore.py:1498: FutureWarning: is_categorical_dtype is deprecated and will be removed in a future version. Use isinstance(dtype, CategoricalDtype) instead\n",
      "  if pd.api.types.is_categorical_dtype(vector):\n",
      "c:\\Users\\SAMSUNG\\AppData\\Local\\Programs\\Python\\Python39\\lib\\site-packages\\seaborn\\_oldcore.py:1119: FutureWarning: use_inf_as_na option is deprecated and will be removed in a future version. Convert inf values to NaN before operating instead.\n",
      "  with pd.option_context('mode.use_inf_as_na', True):\n"
     ]
    },
    {
     "data": {
      "text/plain": [
       "<Axes: xlabel='post.CA19.9', ylabel='Count'>"
      ]
     },
     "execution_count": 486,
     "metadata": {},
     "output_type": "execute_result"
    },
    {
     "data": {
      "image/png": "[encoded data removed]",
      "text/plain": [
       "<Figure size 800x400 with 1 Axes>"
      ]
     },
     "metadata": {},
     "output_type": "display_data"
    }
   ],
   "source": [
    "# 오른쪽으로 긴 꼬리 모양이므로 boxcox(lambda=0.2) 변환을 실시한 결과 원하는 모양이 나옴\n",
    "plt.figure(figsize=(8,4))\n",
    "sb.histplot(data[\"post.CA19.9\"].apply(lambda x: (x**(1/5)-1))/(1/5))"
   ]
  },
  {
   "cell_type": "markdown",
   "metadata": {},
   "source": [
    "이상치를 제거한 data_set과 그렇지 않은 data_set2를 준비해서  모델간 비교를 해야함"
   ]
  },
  {
   "cell_type": "markdown",
   "metadata": {},
   "source": [
    "아래 코드로 drop 시킬것이나, 나머지 전처리가 다 끝나고 해야 편함."
   ]
  },
  {
   "cell_type": "code",
   "execution_count": 487,
   "metadata": {},
   "outputs": [],
   "source": [
    "# drop_data : 이상치 제거\n",
    "ix1=data[\"post.CA19.9\"]>=data[\"post.CA19.9\"].quantile(0.5)-1.5*iqr\n",
    "ix2=data[\"post.CA19.9\"]<=data[\"post.CA19.9\"].quantile(0.5)+1.5*iqr\n",
    "drop_data=data[ix1&ix2]"
   ]
  },
  {
   "cell_type": "markdown",
   "metadata": {},
   "source": [
    "#### CA19.9"
   ]
  },
  {
   "cell_type": "code",
   "execution_count": 488,
   "metadata": {},
   "outputs": [
    {
     "data": {
      "text/plain": [
       "count      156.000000\n",
       "mean      1158.631410\n",
       "std       6709.440806\n",
       "min          1.000000\n",
       "25%         10.400000\n",
       "50%         23.150000\n",
       "75%         61.725000\n",
       "max      48599.800000\n",
       "Name: CA19.9, dtype: float64"
      ]
     },
     "execution_count": 488,
     "metadata": {},
     "output_type": "execute_result"
    }
   ],
   "source": [
    "data[\"CA19.9\"].describe()"
   ]
  },
  {
   "cell_type": "code",
   "execution_count": 489,
   "metadata": {},
   "outputs": [
    {
     "name": "stderr",
     "output_type": "stream",
     "text": [
      "c:\\Users\\SAMSUNG\\AppData\\Local\\Programs\\Python\\Python39\\lib\\site-packages\\seaborn\\_oldcore.py:1498: FutureWarning: is_categorical_dtype is deprecated and will be removed in a future version. Use isinstance(dtype, CategoricalDtype) instead\n",
      "  if pd.api.types.is_categorical_dtype(vector):\n",
      "c:\\Users\\SAMSUNG\\AppData\\Local\\Programs\\Python\\Python39\\lib\\site-packages\\seaborn\\_oldcore.py:1119: FutureWarning: use_inf_as_na option is deprecated and will be removed in a future version. Convert inf values to NaN before operating instead.\n",
      "  with pd.option_context('mode.use_inf_as_na', True):\n"
     ]
    },
    {
     "data": {
      "text/plain": [
       "<Axes: xlabel='CA19.9', ylabel='Count'>"
      ]
     },
     "execution_count": 489,
     "metadata": {},
     "output_type": "execute_result"
    },
    {
     "data": {
      "image/png": "[encoded data removed]",
      "text/plain": [
       "<Figure size 700x400 with 1 Axes>"
      ]
     },
     "metadata": {},
     "output_type": "display_data"
    }
   ],
   "source": [
    "plt.figure(figsize=(7,4))\n",
    "sb.histplot(data[\"CA19.9\"],bins=12)"
   ]
  },
  {
   "cell_type": "code",
   "execution_count": 490,
   "metadata": {},
   "outputs": [
    {
     "name": "stdout",
     "output_type": "stream",
     "text": [
      "이상치의 개수: 22\n"
     ]
    }
   ],
   "source": [
    "iqr=data[\"CA19.9\"].quantile(0.75)-data[\"CA19.9\"].quantile(0.25)\n",
    "upper=data[\"CA19.9\"]>data[\"CA19.9\"].quantile(0.5)+1.5*iqr\n",
    "lower=data[\"CA19.9\"]<data[\"CA19.9\"].quantile(0.5)-1.5*iqr\n",
    "print(\"이상치의 개수:\",data[upper|lower].count()[\"age\"])"
   ]
  },
  {
   "cell_type": "code",
   "execution_count": 491,
   "metadata": {},
   "outputs": [
    {
     "name": "stderr",
     "output_type": "stream",
     "text": [
      "c:\\Users\\SAMSUNG\\AppData\\Local\\Programs\\Python\\Python39\\lib\\site-packages\\seaborn\\_oldcore.py:1498: FutureWarning: is_categorical_dtype is deprecated and will be removed in a future version. Use isinstance(dtype, CategoricalDtype) instead\n",
      "  if pd.api.types.is_categorical_dtype(vector):\n",
      "c:\\Users\\SAMSUNG\\AppData\\Local\\Programs\\Python\\Python39\\lib\\site-packages\\seaborn\\_oldcore.py:1119: FutureWarning: use_inf_as_na option is deprecated and will be removed in a future version. Convert inf values to NaN before operating instead.\n",
      "  with pd.option_context('mode.use_inf_as_na', True):\n"
     ]
    },
    {
     "data": {
      "text/plain": [
       "<Axes: xlabel='CA19.9', ylabel='Count'>"
      ]
     },
     "execution_count": 491,
     "metadata": {},
     "output_type": "execute_result"
    },
    {
     "data": {
      "image/png": "[encoded data removed]",
      "text/plain": [
       "<Figure size 800x400 with 1 Axes>"
      ]
     },
     "metadata": {},
     "output_type": "display_data"
    }
   ],
   "source": [
    "# 로그변환결과\n",
    "plt.figure(figsize=(8,4))\n",
    "sb.histplot(data[\"CA19.9\"].apply(lambda x: np.log(x)))"
   ]
  },
  {
   "cell_type": "code",
   "execution_count": 492,
   "metadata": {},
   "outputs": [],
   "source": [
    "data[\"CA19.9\"]=data[\"CA19.9\"].apply(lambda x:np.log(x))"
   ]
  },
  {
   "cell_type": "markdown",
   "metadata": {},
   "source": [
    "과정이 위와 같으므로 자세한 설명은 생략"
   ]
  },
  {
   "cell_type": "markdown",
   "metadata": {},
   "source": [
    "####  post.CEA"
   ]
  },
  {
   "cell_type": "code",
   "execution_count": 493,
   "metadata": {},
   "outputs": [
    {
     "name": "stderr",
     "output_type": "stream",
     "text": [
      "c:\\Users\\SAMSUNG\\AppData\\Local\\Programs\\Python\\Python39\\lib\\site-packages\\seaborn\\_oldcore.py:1498: FutureWarning: is_categorical_dtype is deprecated and will be removed in a future version. Use isinstance(dtype, CategoricalDtype) instead\n",
      "  if pd.api.types.is_categorical_dtype(vector):\n",
      "c:\\Users\\SAMSUNG\\AppData\\Local\\Programs\\Python\\Python39\\lib\\site-packages\\seaborn\\_oldcore.py:1119: FutureWarning: use_inf_as_na option is deprecated and will be removed in a future version. Convert inf values to NaN before operating instead.\n",
      "  with pd.option_context('mode.use_inf_as_na', True):\n"
     ]
    },
    {
     "data": {
      "text/plain": [
       "<Axes: xlabel='post.CEA', ylabel='Count'>"
      ]
     },
     "execution_count": 493,
     "metadata": {},
     "output_type": "execute_result"
    },
    {
     "name": "stderr",
     "output_type": "stream",
     "text": [
      "c:\\Users\\SAMSUNG\\AppData\\Local\\Programs\\Python\\Python39\\lib\\site-packages\\IPython\\core\\events.py:93: UserWarning: Glyph 8722 (\\N{MINUS SIGN}) missing from current font.\n",
      "  func(*args, **kwargs)\n"
     ]
    },
    {
     "name": "stderr",
     "output_type": "stream",
     "text": [
      "c:\\Users\\SAMSUNG\\AppData\\Local\\Programs\\Python\\Python39\\lib\\site-packages\\IPython\\core\\pylabtools.py:152: UserWarning: Glyph 8722 (\\N{MINUS SIGN}) missing from current font.\n",
      "  fig.canvas.print_figure(bytes_io, **kw)\n"
     ]
    },
    {
     "data": {
      "image/png": "[encoded data removed]",
      "text/plain": [
       "<Figure size 700x400 with 1 Axes>"
      ]
     },
     "metadata": {},
     "output_type": "display_data"
    }
   ],
   "source": [
    "plt.figure(figsize=(7,4))\n",
    "sb.histplot(data[\"post.CEA\"].apply(lambda x:np.log(x)),bins=12)"
   ]
  },
  {
   "cell_type": "markdown",
   "metadata": {},
   "source": [
    "다음과 같이 이상치를 모두 처리하였고 하나의 표로 정리하면 다음과 같다"
   ]
  },
  {
   "cell_type": "markdown",
   "metadata": {},
   "source": [
    "### 전처리 요약"
   ]
  },
  {
   "cell_type": "markdown",
   "metadata": {},
   "source": [
    "|구분|변수|전처리방법|비고|\n",
    "|--|--|--|--|\n",
    "|1|CEA|로그변환||\n",
    "|2|post.CEA|로그변환||\n",
    "|3|CA19.9|로그변환||\n",
    "|4|post.CA19.9|`실패`|데이터셋 분리 후 모델 평가 예정|\n"
   ]
  },
  {
   "cell_type": "markdown",
   "metadata": {},
   "source": [
    "## 변수 이해"
   ]
  },
  {
   "cell_type": "markdown",
   "metadata": {},
   "source": [
    "### Target\n",
    "|변수|Encoding|\n",
    "|--|--|\n",
    "|1년내 재발하지 않음&재발은 했음|1|\n",
    "|관찰시점까지 재발하지 않음|0|\n",
    "|1년내 재발|2|"
   ]
  },
  {
   "cell_type": "markdown",
   "metadata": {},
   "source": [
    "### 위의 Target 변수를 만듬"
   ]
  },
  {
   "cell_type": "code",
   "execution_count": 494,
   "metadata": {},
   "outputs": [],
   "source": [
    "data[\"target\"]=data[\"Recur\"]+data[\"Recur_1y\"]\n"
   ]
  },
  {
   "cell_type": "code",
   "execution_count": 495,
   "metadata": {},
   "outputs": [
    {
     "data": {
      "text/plain": [
       "target\n",
       "0    72\n",
       "2    54\n",
       "1    30\n",
       "Name: count, dtype: int64"
      ]
     },
     "execution_count": 495,
     "metadata": {},
     "output_type": "execute_result"
    }
   ],
   "source": [
    "data[\"target\"].value_counts()"
   ]
  },
  {
   "cell_type": "markdown",
   "metadata": {},
   "source": [
    "#### 소프트맥스 함수를 위해 One hot encoding을 실시해야함"
   ]
  },
  {
   "cell_type": "code",
   "execution_count": 496,
   "metadata": {},
   "outputs": [],
   "source": [
    "target_df=pd.get_dummies(data[\"target\"],dtype=\"int\").rename(columns=dict(zip([0,1,2],[f'target({x})' for x in [0,1,2]])))"
   ]
  },
  {
   "cell_type": "markdown",
   "metadata": {},
   "source": [
    "#### 데이터 프레임 변경(target 추가)"
   ]
  },
  {
   "cell_type": "code",
   "execution_count": 497,
   "metadata": {},
   "outputs": [],
   "source": [
    "use_df=pd.merge(target_df,data[feature],right_index=True,left_index=True)"
   ]
  },
  {
   "cell_type": "code",
   "execution_count": 498,
   "metadata": {},
   "outputs": [
    {
     "data": {
      "text/html": [
       "<div>\n",
       "<style scoped>\n",
       "    .dataframe tbody tr th:only-of-type {\n",
       "        vertical-align: middle;\n",
       "    }\n",
       "\n",
       "    .dataframe tbody tr th {\n",
       "        vertical-align: top;\n",
       "    }\n",
       "\n",
       "    .dataframe thead th {\n",
       "        text-align: right;\n",
       "    }\n",
       "</style>\n",
       "<table border=\"1\" class=\"dataframe\">\n",
       "  <thead>\n",
       "    <tr style=\"text-align: right;\">\n",
       "      <th></th>\n",
       "      <th>target(0)</th>\n",
       "      <th>target(1)</th>\n",
       "      <th>target(2)</th>\n",
       "      <th>CA19.9</th>\n",
       "      <th>CEA</th>\n",
       "      <th>CRP</th>\n",
       "      <th>SBP</th>\n",
       "      <th>age</th>\n",
       "      <th>obesity</th>\n",
       "      <th>post.CA19.9</th>\n",
       "      <th>post.CEA</th>\n",
       "      <th>sex</th>\n",
       "      <th>smoking</th>\n",
       "      <th>stage</th>\n",
       "      <th>weight</th>\n",
       "    </tr>\n",
       "  </thead>\n",
       "  <tbody>\n",
       "    <tr>\n",
       "      <th>0</th>\n",
       "      <td>0</td>\n",
       "      <td>1</td>\n",
       "      <td>0</td>\n",
       "      <td>8.409719</td>\n",
       "      <td>1.098612</td>\n",
       "      <td>0.1</td>\n",
       "      <td>144.286869</td>\n",
       "      <td>82</td>\n",
       "      <td>1</td>\n",
       "      <td>36.795194</td>\n",
       "      <td>5.1</td>\n",
       "      <td>1</td>\n",
       "      <td>1</td>\n",
       "      <td>3</td>\n",
       "      <td>73.994588</td>\n",
       "    </tr>\n",
       "    <tr>\n",
       "      <th>1</th>\n",
       "      <td>1</td>\n",
       "      <td>0</td>\n",
       "      <td>0</td>\n",
       "      <td>3.602777</td>\n",
       "      <td>0.095310</td>\n",
       "      <td>0.1</td>\n",
       "      <td>108.590964</td>\n",
       "      <td>50</td>\n",
       "      <td>0</td>\n",
       "      <td>32.765043</td>\n",
       "      <td>1.5</td>\n",
       "      <td>0</td>\n",
       "      <td>1</td>\n",
       "      <td>3</td>\n",
       "      <td>64.819694</td>\n",
       "    </tr>\n",
       "    <tr>\n",
       "      <th>2</th>\n",
       "      <td>1</td>\n",
       "      <td>0</td>\n",
       "      <td>0</td>\n",
       "      <td>3.602777</td>\n",
       "      <td>2.370244</td>\n",
       "      <td>0.1</td>\n",
       "      <td>5.629379</td>\n",
       "      <td>28</td>\n",
       "      <td>0</td>\n",
       "      <td>31.133072</td>\n",
       "      <td>12.4</td>\n",
       "      <td>1</td>\n",
       "      <td>1</td>\n",
       "      <td>3</td>\n",
       "      <td>63.204675</td>\n",
       "    </tr>\n",
       "    <tr>\n",
       "      <th>3</th>\n",
       "      <td>0</td>\n",
       "      <td>1</td>\n",
       "      <td>0</td>\n",
       "      <td>4.172848</td>\n",
       "      <td>0.262364</td>\n",
       "      <td>1.3</td>\n",
       "      <td>143.931300</td>\n",
       "      <td>35</td>\n",
       "      <td>1</td>\n",
       "      <td>36.134051</td>\n",
       "      <td>0.4</td>\n",
       "      <td>1</td>\n",
       "      <td>1</td>\n",
       "      <td>3</td>\n",
       "      <td>52.499192</td>\n",
       "    </tr>\n",
       "    <tr>\n",
       "      <th>4</th>\n",
       "      <td>0</td>\n",
       "      <td>1</td>\n",
       "      <td>0</td>\n",
       "      <td>3.642836</td>\n",
       "      <td>1.308333</td>\n",
       "      <td>10.7</td>\n",
       "      <td>172.653143</td>\n",
       "      <td>49</td>\n",
       "      <td>0</td>\n",
       "      <td>33.921657</td>\n",
       "      <td>0.4</td>\n",
       "      <td>1</td>\n",
       "      <td>1</td>\n",
       "      <td>3</td>\n",
       "      <td>72.766264</td>\n",
       "    </tr>\n",
       "    <tr>\n",
       "      <th>...</th>\n",
       "      <td>...</td>\n",
       "      <td>...</td>\n",
       "      <td>...</td>\n",
       "      <td>...</td>\n",
       "      <td>...</td>\n",
       "      <td>...</td>\n",
       "      <td>...</td>\n",
       "      <td>...</td>\n",
       "      <td>...</td>\n",
       "      <td>...</td>\n",
       "      <td>...</td>\n",
       "      <td>...</td>\n",
       "      <td>...</td>\n",
       "      <td>...</td>\n",
       "      <td>...</td>\n",
       "    </tr>\n",
       "    <tr>\n",
       "      <th>151</th>\n",
       "      <td>1</td>\n",
       "      <td>0</td>\n",
       "      <td>0</td>\n",
       "      <td>3.529297</td>\n",
       "      <td>2.862201</td>\n",
       "      <td>0.8</td>\n",
       "      <td>79.698126</td>\n",
       "      <td>54</td>\n",
       "      <td>0</td>\n",
       "      <td>35.861255</td>\n",
       "      <td>25.0</td>\n",
       "      <td>1</td>\n",
       "      <td>0</td>\n",
       "      <td>2</td>\n",
       "      <td>59.109922</td>\n",
       "    </tr>\n",
       "    <tr>\n",
       "      <th>152</th>\n",
       "      <td>1</td>\n",
       "      <td>0</td>\n",
       "      <td>0</td>\n",
       "      <td>1.916923</td>\n",
       "      <td>2.140066</td>\n",
       "      <td>3.0</td>\n",
       "      <td>134.097007</td>\n",
       "      <td>62</td>\n",
       "      <td>0</td>\n",
       "      <td>33.238574</td>\n",
       "      <td>1.0</td>\n",
       "      <td>1</td>\n",
       "      <td>0</td>\n",
       "      <td>1</td>\n",
       "      <td>75.948164</td>\n",
       "    </tr>\n",
       "    <tr>\n",
       "      <th>153</th>\n",
       "      <td>0</td>\n",
       "      <td>1</td>\n",
       "      <td>0</td>\n",
       "      <td>1.808289</td>\n",
       "      <td>0.875469</td>\n",
       "      <td>0.1</td>\n",
       "      <td>116.632122</td>\n",
       "      <td>51</td>\n",
       "      <td>1</td>\n",
       "      <td>31.965658</td>\n",
       "      <td>1.8</td>\n",
       "      <td>0</td>\n",
       "      <td>0</td>\n",
       "      <td>1</td>\n",
       "      <td>48.533056</td>\n",
       "    </tr>\n",
       "    <tr>\n",
       "      <th>154</th>\n",
       "      <td>1</td>\n",
       "      <td>0</td>\n",
       "      <td>0</td>\n",
       "      <td>0.470004</td>\n",
       "      <td>0.832909</td>\n",
       "      <td>1.2</td>\n",
       "      <td>151.178202</td>\n",
       "      <td>51</td>\n",
       "      <td>0</td>\n",
       "      <td>37.996578</td>\n",
       "      <td>0.6</td>\n",
       "      <td>0</td>\n",
       "      <td>0</td>\n",
       "      <td>1</td>\n",
       "      <td>44.724691</td>\n",
       "    </tr>\n",
       "    <tr>\n",
       "      <th>155</th>\n",
       "      <td>1</td>\n",
       "      <td>0</td>\n",
       "      <td>0</td>\n",
       "      <td>4.609162</td>\n",
       "      <td>0.875469</td>\n",
       "      <td>0.7</td>\n",
       "      <td>112.321208</td>\n",
       "      <td>58</td>\n",
       "      <td>0</td>\n",
       "      <td>36.624391</td>\n",
       "      <td>1.0</td>\n",
       "      <td>1</td>\n",
       "      <td>0</td>\n",
       "      <td>1</td>\n",
       "      <td>73.689101</td>\n",
       "    </tr>\n",
       "  </tbody>\n",
       "</table>\n",
       "<p>156 rows × 15 columns</p>\n",
       "</div>"
      ],
      "text/plain": [
       "     target(0)  target(1)  target(2)    CA19.9       CEA   CRP         SBP  \\\n",
       "0            0          1          0  8.409719  1.098612   0.1  144.286869   \n",
       "1            1          0          0  3.602777  0.095310   0.1  108.590964   \n",
       "2            1          0          0  3.602777  2.370244   0.1    5.629379   \n",
       "3            0          1          0  4.172848  0.262364   1.3  143.931300   \n",
       "4            0          1          0  3.642836  1.308333  10.7  172.653143   \n",
       "..         ...        ...        ...       ...       ...   ...         ...   \n",
       "151          1          0          0  3.529297  2.862201   0.8   79.698126   \n",
       "152          1          0          0  1.916923  2.140066   3.0  134.097007   \n",
       "153          0          1          0  1.808289  0.875469   0.1  116.632122   \n",
       "154          1          0          0  0.470004  0.832909   1.2  151.178202   \n",
       "155          1          0          0  4.609162  0.875469   0.7  112.321208   \n",
       "\n",
       "     age  obesity  post.CA19.9  post.CEA  sex  smoking  stage     weight  \n",
       "0     82        1    36.795194       5.1    1        1      3  73.994588  \n",
       "1     50        0    32.765043       1.5    0        1      3  64.819694  \n",
       "2     28        0    31.133072      12.4    1        1      3  63.204675  \n",
       "3     35        1    36.134051       0.4    1        1      3  52.499192  \n",
       "4     49        0    33.921657       0.4    1        1      3  72.766264  \n",
       "..   ...      ...          ...       ...  ...      ...    ...        ...  \n",
       "151   54        0    35.861255      25.0    1        0      2  59.109922  \n",
       "152   62        0    33.238574       1.0    1        0      1  75.948164  \n",
       "153   51        1    31.965658       1.8    0        0      1  48.533056  \n",
       "154   51        0    37.996578       0.6    0        0      1  44.724691  \n",
       "155   58        0    36.624391       1.0    1        0      1  73.689101  \n",
       "\n",
       "[156 rows x 15 columns]"
      ]
     },
     "execution_count": 498,
     "metadata": {},
     "output_type": "execute_result"
    }
   ],
   "source": [
    "use_df"
   ]
  },
  {
   "cell_type": "markdown",
   "metadata": {},
   "source": [
    "## feature selection"
   ]
  },
  {
   "cell_type": "markdown",
   "metadata": {},
   "source": [
    "### numeric"
   ]
  },
  {
   "cell_type": "markdown",
   "metadata": {},
   "source": [
    "- 1. PCA"
   ]
  },
  {
   "cell_type": "code",
   "execution_count": 499,
   "metadata": {},
   "outputs": [],
   "source": [
    "import sklearn.decomposition as skdec\n",
    "import sklearn.preprocessing as skpre"
   ]
  },
  {
   "cell_type": "code",
   "execution_count": 500,
   "metadata": {},
   "outputs": [
    {
     "data": {
      "text/html": [
       "<style>#sk-container-id-13 {color: black;}#sk-container-id-13 pre{padding: 0;}#sk-container-id-13 div.sk-toggleable {background-color: white;}#sk-container-id-13 label.sk-toggleable__label {cursor: pointer;display: block;width: 100%;margin-bottom: 0;padding: 0.3em;box-sizing: border-box;text-align: center;}#sk-container-id-13 label.sk-toggleable__label-arrow:before {content: \"▸\";float: left;margin-right: 0.25em;color: #696969;}#sk-container-id-13 label.sk-toggleable__label-arrow:hover:before {color: black;}#sk-container-id-13 div.sk-estimator:hover label.sk-toggleable__label-arrow:before {color: black;}#sk-container-id-13 div.sk-toggleable__content {max-height: 0;max-width: 0;overflow: hidden;text-align: left;background-color: #f0f8ff;}#sk-container-id-13 div.sk-toggleable__content pre {margin: 0.2em;color: black;border-radius: 0.25em;background-color: #f0f8ff;}#sk-container-id-13 input.sk-toggleable__control:checked~div.sk-toggleable__content {max-height: 200px;max-width: 100%;overflow: auto;}#sk-container-id-13 input.sk-toggleable__control:checked~label.sk-toggleable__label-arrow:before {content: \"▾\";}#sk-container-id-13 div.sk-estimator input.sk-toggleable__control:checked~label.sk-toggleable__label {background-color: #d4ebff;}#sk-container-id-13 div.sk-label input.sk-toggleable__control:checked~label.sk-toggleable__label {background-color: #d4ebff;}#sk-container-id-13 input.sk-hidden--visually {border: 0;clip: rect(1px 1px 1px 1px);clip: rect(1px, 1px, 1px, 1px);height: 1px;margin: -1px;overflow: hidden;padding: 0;position: absolute;width: 1px;}#sk-container-id-13 div.sk-estimator {font-family: monospace;background-color: #f0f8ff;border: 1px dotted black;border-radius: 0.25em;box-sizing: border-box;margin-bottom: 0.5em;}#sk-container-id-13 div.sk-estimator:hover {background-color: #d4ebff;}#sk-container-id-13 div.sk-parallel-item::after {content: \"\";width: 100%;border-bottom: 1px solid gray;flex-grow: 1;}#sk-container-id-13 div.sk-label:hover label.sk-toggleable__label {background-color: #d4ebff;}#sk-container-id-13 div.sk-serial::before {content: \"\";position: absolute;border-left: 1px solid gray;box-sizing: border-box;top: 0;bottom: 0;left: 50%;z-index: 0;}#sk-container-id-13 div.sk-serial {display: flex;flex-direction: column;align-items: center;background-color: white;padding-right: 0.2em;padding-left: 0.2em;position: relative;}#sk-container-id-13 div.sk-item {position: relative;z-index: 1;}#sk-container-id-13 div.sk-parallel {display: flex;align-items: stretch;justify-content: center;background-color: white;position: relative;}#sk-container-id-13 div.sk-item::before, #sk-container-id-13 div.sk-parallel-item::before {content: \"\";position: absolute;border-left: 1px solid gray;box-sizing: border-box;top: 0;bottom: 0;left: 50%;z-index: -1;}#sk-container-id-13 div.sk-parallel-item {display: flex;flex-direction: column;z-index: 1;position: relative;background-color: white;}#sk-container-id-13 div.sk-parallel-item:first-child::after {align-self: flex-end;width: 50%;}#sk-container-id-13 div.sk-parallel-item:last-child::after {align-self: flex-start;width: 50%;}#sk-container-id-13 div.sk-parallel-item:only-child::after {width: 0;}#sk-container-id-13 div.sk-dashed-wrapped {border: 1px dashed gray;margin: 0 0.4em 0.5em 0.4em;box-sizing: border-box;padding-bottom: 0.4em;background-color: white;}#sk-container-id-13 div.sk-label label {font-family: monospace;font-weight: bold;display: inline-block;line-height: 1.2em;}#sk-container-id-13 div.sk-label-container {text-align: center;}#sk-container-id-13 div.sk-container {/* jupyter's `normalize.less` sets `[hidden] { display: none; }` but bootstrap.min.css set `[hidden] { display: none !important; }` so we also need the `!important` here to be able to override the default hidden behavior on the sphinx rendered scikit-learn.org. See: https://github.com/scikit-learn/scikit-learn/issues/21755 */display: inline-block !important;position: relative;}#sk-container-id-13 div.sk-text-repr-fallback {display: none;}</style><div id=\"sk-container-id-13\" class=\"sk-top-container\"><div class=\"sk-text-repr-fallback\"><pre>PCA(n_components=4)</pre><b>In a Jupyter environment, please rerun this cell to show the HTML representation or trust the notebook. <br />On GitHub, the HTML representation is unable to render, please try loading this page with nbviewer.org.</b></div><div class=\"sk-container\" hidden><div class=\"sk-item\"><div class=\"sk-estimator sk-toggleable\"><input class=\"sk-toggleable__control sk-hidden--visually\" id=\"sk-estimator-id-13\" type=\"checkbox\" checked><label for=\"sk-estimator-id-13\" class=\"sk-toggleable__label sk-toggleable__label-arrow\">PCA</label><div class=\"sk-toggleable__content\"><pre>PCA(n_components=4)</pre></div></div></div></div></div>"
      ],
      "text/plain": [
       "PCA(n_components=4)"
      ]
     },
     "execution_count": 500,
     "metadata": {},
     "output_type": "execute_result"
    }
   ],
   "source": [
    "pca=skdec.PCA(n_components=4)\n",
    "pca.fit(use_df[numeric])"
   ]
  },
  {
   "cell_type": "code",
   "execution_count": 501,
   "metadata": {},
   "outputs": [],
   "source": [
    "pca_result=pd.DataFrame(pca.explained_variance_)\n",
    "pca_result[\"주성분\"]=[f'제{i+1} 주성분' for i in range(4)]"
   ]
  },
  {
   "cell_type": "code",
   "execution_count": 502,
   "metadata": {},
   "outputs": [
    {
     "data": {
      "text/html": [
       "<div>\n",
       "<style scoped>\n",
       "    .dataframe tbody tr th:only-of-type {\n",
       "        vertical-align: middle;\n",
       "    }\n",
       "\n",
       "    .dataframe tbody tr th {\n",
       "        vertical-align: top;\n",
       "    }\n",
       "\n",
       "    .dataframe thead th {\n",
       "        text-align: right;\n",
       "    }\n",
       "</style>\n",
       "<table border=\"1\" class=\"dataframe\">\n",
       "  <thead>\n",
       "    <tr style=\"text-align: right;\">\n",
       "      <th></th>\n",
       "      <th>0</th>\n",
       "      <th>주성분</th>\n",
       "    </tr>\n",
       "  </thead>\n",
       "  <tbody>\n",
       "    <tr>\n",
       "      <th>0</th>\n",
       "      <td>1490.520203</td>\n",
       "      <td>제1 주성분</td>\n",
       "    </tr>\n",
       "    <tr>\n",
       "      <th>1</th>\n",
       "      <td>525.864564</td>\n",
       "      <td>제2 주성분</td>\n",
       "    </tr>\n",
       "    <tr>\n",
       "      <th>2</th>\n",
       "      <td>199.200709</td>\n",
       "      <td>제3 주성분</td>\n",
       "    </tr>\n",
       "    <tr>\n",
       "      <th>3</th>\n",
       "      <td>137.394036</td>\n",
       "      <td>제4 주성분</td>\n",
       "    </tr>\n",
       "  </tbody>\n",
       "</table>\n",
       "</div>"
      ],
      "text/plain": [
       "             0     주성분\n",
       "0  1490.520203  제1 주성분\n",
       "1   525.864564  제2 주성분\n",
       "2   199.200709  제3 주성분\n",
       "3   137.394036  제4 주성분"
      ]
     },
     "execution_count": 502,
     "metadata": {},
     "output_type": "execute_result"
    }
   ],
   "source": [
    "pca_result"
   ]
  },
  {
   "cell_type": "code",
   "execution_count": 503,
   "metadata": {},
   "outputs": [],
   "source": [
    "test_df=pd.DataFrame(skpre.scale(use_df[numeric])).rename(\n",
    "    columns=dict(zip([x for x in range(len(numeric))],use_df[numeric].columns)))"
   ]
  },
  {
   "cell_type": "code",
   "execution_count": 504,
   "metadata": {},
   "outputs": [
    {
     "data": {
      "text/html": [
       "<style>#sk-container-id-14 {color: black;}#sk-container-id-14 pre{padding: 0;}#sk-container-id-14 div.sk-toggleable {background-color: white;}#sk-container-id-14 label.sk-toggleable__label {cursor: pointer;display: block;width: 100%;margin-bottom: 0;padding: 0.3em;box-sizing: border-box;text-align: center;}#sk-container-id-14 label.sk-toggleable__label-arrow:before {content: \"▸\";float: left;margin-right: 0.25em;color: #696969;}#sk-container-id-14 label.sk-toggleable__label-arrow:hover:before {color: black;}#sk-container-id-14 div.sk-estimator:hover label.sk-toggleable__label-arrow:before {color: black;}#sk-container-id-14 div.sk-toggleable__content {max-height: 0;max-width: 0;overflow: hidden;text-align: left;background-color: #f0f8ff;}#sk-container-id-14 div.sk-toggleable__content pre {margin: 0.2em;color: black;border-radius: 0.25em;background-color: #f0f8ff;}#sk-container-id-14 input.sk-toggleable__control:checked~div.sk-toggleable__content {max-height: 200px;max-width: 100%;overflow: auto;}#sk-container-id-14 input.sk-toggleable__control:checked~label.sk-toggleable__label-arrow:before {content: \"▾\";}#sk-container-id-14 div.sk-estimator input.sk-toggleable__control:checked~label.sk-toggleable__label {background-color: #d4ebff;}#sk-container-id-14 div.sk-label input.sk-toggleable__control:checked~label.sk-toggleable__label {background-color: #d4ebff;}#sk-container-id-14 input.sk-hidden--visually {border: 0;clip: rect(1px 1px 1px 1px);clip: rect(1px, 1px, 1px, 1px);height: 1px;margin: -1px;overflow: hidden;padding: 0;position: absolute;width: 1px;}#sk-container-id-14 div.sk-estimator {font-family: monospace;background-color: #f0f8ff;border: 1px dotted black;border-radius: 0.25em;box-sizing: border-box;margin-bottom: 0.5em;}#sk-container-id-14 div.sk-estimator:hover {background-color: #d4ebff;}#sk-container-id-14 div.sk-parallel-item::after {content: \"\";width: 100%;border-bottom: 1px solid gray;flex-grow: 1;}#sk-container-id-14 div.sk-label:hover label.sk-toggleable__label {background-color: #d4ebff;}#sk-container-id-14 div.sk-serial::before {content: \"\";position: absolute;border-left: 1px solid gray;box-sizing: border-box;top: 0;bottom: 0;left: 50%;z-index: 0;}#sk-container-id-14 div.sk-serial {display: flex;flex-direction: column;align-items: center;background-color: white;padding-right: 0.2em;padding-left: 0.2em;position: relative;}#sk-container-id-14 div.sk-item {position: relative;z-index: 1;}#sk-container-id-14 div.sk-parallel {display: flex;align-items: stretch;justify-content: center;background-color: white;position: relative;}#sk-container-id-14 div.sk-item::before, #sk-container-id-14 div.sk-parallel-item::before {content: \"\";position: absolute;border-left: 1px solid gray;box-sizing: border-box;top: 0;bottom: 0;left: 50%;z-index: -1;}#sk-container-id-14 div.sk-parallel-item {display: flex;flex-direction: column;z-index: 1;position: relative;background-color: white;}#sk-container-id-14 div.sk-parallel-item:first-child::after {align-self: flex-end;width: 50%;}#sk-container-id-14 div.sk-parallel-item:last-child::after {align-self: flex-start;width: 50%;}#sk-container-id-14 div.sk-parallel-item:only-child::after {width: 0;}#sk-container-id-14 div.sk-dashed-wrapped {border: 1px dashed gray;margin: 0 0.4em 0.5em 0.4em;box-sizing: border-box;padding-bottom: 0.4em;background-color: white;}#sk-container-id-14 div.sk-label label {font-family: monospace;font-weight: bold;display: inline-block;line-height: 1.2em;}#sk-container-id-14 div.sk-label-container {text-align: center;}#sk-container-id-14 div.sk-container {/* jupyter's `normalize.less` sets `[hidden] { display: none; }` but bootstrap.min.css set `[hidden] { display: none !important; }` so we also need the `!important` here to be able to override the default hidden behavior on the sphinx rendered scikit-learn.org. See: https://github.com/scikit-learn/scikit-learn/issues/21755 */display: inline-block !important;position: relative;}#sk-container-id-14 div.sk-text-repr-fallback {display: none;}</style><div id=\"sk-container-id-14\" class=\"sk-top-container\"><div class=\"sk-text-repr-fallback\"><pre>PCA(n_components=4)</pre><b>In a Jupyter environment, please rerun this cell to show the HTML representation or trust the notebook. <br />On GitHub, the HTML representation is unable to render, please try loading this page with nbviewer.org.</b></div><div class=\"sk-container\" hidden><div class=\"sk-item\"><div class=\"sk-estimator sk-toggleable\"><input class=\"sk-toggleable__control sk-hidden--visually\" id=\"sk-estimator-id-14\" type=\"checkbox\" checked><label for=\"sk-estimator-id-14\" class=\"sk-toggleable__label sk-toggleable__label-arrow\">PCA</label><div class=\"sk-toggleable__content\"><pre>PCA(n_components=4)</pre></div></div></div></div></div>"
      ],
      "text/plain": [
       "PCA(n_components=4)"
      ]
     },
     "execution_count": 504,
     "metadata": {},
     "output_type": "execute_result"
    }
   ],
   "source": [
    "pca2=skdec.PCA(n_components=4)\n",
    "pca2.fit(test_df)"
   ]
  },
  {
   "cell_type": "code",
   "execution_count": 505,
   "metadata": {},
   "outputs": [],
   "source": [
    "pca2_result=pd.DataFrame(pca2.explained_variance_)\n",
    "pca2_result[\"주성분\"]=[f'제{i+1} 주성분' for i in range(4)]"
   ]
  },
  {
   "cell_type": "code",
   "execution_count": 506,
   "metadata": {},
   "outputs": [
    {
     "data": {
      "text/html": [
       "<div>\n",
       "<style scoped>\n",
       "    .dataframe tbody tr th:only-of-type {\n",
       "        vertical-align: middle;\n",
       "    }\n",
       "\n",
       "    .dataframe tbody tr th {\n",
       "        vertical-align: top;\n",
       "    }\n",
       "\n",
       "    .dataframe thead th {\n",
       "        text-align: right;\n",
       "    }\n",
       "</style>\n",
       "<table border=\"1\" class=\"dataframe\">\n",
       "  <thead>\n",
       "    <tr style=\"text-align: right;\">\n",
       "      <th></th>\n",
       "      <th>0</th>\n",
       "      <th>주성분</th>\n",
       "    </tr>\n",
       "  </thead>\n",
       "  <tbody>\n",
       "    <tr>\n",
       "      <th>0</th>\n",
       "      <td>1.808193</td>\n",
       "      <td>제1 주성분</td>\n",
       "    </tr>\n",
       "    <tr>\n",
       "      <th>1</th>\n",
       "      <td>1.532269</td>\n",
       "      <td>제2 주성분</td>\n",
       "    </tr>\n",
       "    <tr>\n",
       "      <th>2</th>\n",
       "      <td>1.272832</td>\n",
       "      <td>제3 주성분</td>\n",
       "    </tr>\n",
       "    <tr>\n",
       "      <th>3</th>\n",
       "      <td>1.017208</td>\n",
       "      <td>제4 주성분</td>\n",
       "    </tr>\n",
       "  </tbody>\n",
       "</table>\n",
       "</div>"
      ],
      "text/plain": [
       "          0     주성분\n",
       "0  1.808193  제1 주성분\n",
       "1  1.532269  제2 주성분\n",
       "2  1.272832  제3 주성분\n",
       "3  1.017208  제4 주성분"
      ]
     },
     "execution_count": 506,
     "metadata": {},
     "output_type": "execute_result"
    }
   ],
   "source": [
    "pca2_result"
   ]
  },
  {
   "cell_type": "markdown",
   "metadata": {},
   "source": [
    "위의 근거로 주성분(차원축소)를 실행한 결과값을 쓰기에 무리가 있음\n",
    "* 참고\n",
    "numerical feature를 z-score scaling한 결과 eigen_value의 값이 1을 넘기는 현상이 발생            \n",
    "주성분이 원래 데이터의 variance를 가진다는 의미\n",
    ">결과가 왜곡될 가능성이 생길 수도\n",
    "* 참고 2\n",
    "vif 검사를 통해 다중공선성이 높은 변수를 탈락시키는 방법도 있으나.."
   ]
  },
  {
   "cell_type": "markdown",
   "metadata": {},
   "source": [
    "#### Standard scale"
   ]
  },
  {
   "cell_type": "code",
   "execution_count": 507,
   "metadata": {},
   "outputs": [],
   "source": [
    "use_df1=use_df.copy()\n",
    "use_df1[numeric]=skpre.minmax_scale(use_df[numeric])"
   ]
  },
  {
   "cell_type": "code",
   "execution_count": 508,
   "metadata": {},
   "outputs": [
    {
     "data": {
      "text/html": [
       "<div>\n",
       "<style scoped>\n",
       "    .dataframe tbody tr th:only-of-type {\n",
       "        vertical-align: middle;\n",
       "    }\n",
       "\n",
       "    .dataframe tbody tr th {\n",
       "        vertical-align: top;\n",
       "    }\n",
       "\n",
       "    .dataframe thead th {\n",
       "        text-align: right;\n",
       "    }\n",
       "</style>\n",
       "<table border=\"1\" class=\"dataframe\">\n",
       "  <thead>\n",
       "    <tr style=\"text-align: right;\">\n",
       "      <th></th>\n",
       "      <th>target(0)</th>\n",
       "      <th>target(1)</th>\n",
       "      <th>target(2)</th>\n",
       "      <th>CA19.9</th>\n",
       "      <th>CEA</th>\n",
       "      <th>CRP</th>\n",
       "      <th>SBP</th>\n",
       "      <th>age</th>\n",
       "      <th>obesity</th>\n",
       "      <th>post.CA19.9</th>\n",
       "      <th>post.CEA</th>\n",
       "      <th>sex</th>\n",
       "      <th>smoking</th>\n",
       "      <th>stage</th>\n",
       "      <th>weight</th>\n",
       "    </tr>\n",
       "  </thead>\n",
       "  <tbody>\n",
       "    <tr>\n",
       "      <th>0</th>\n",
       "      <td>0</td>\n",
       "      <td>1</td>\n",
       "      <td>0</td>\n",
       "      <td>0.779300</td>\n",
       "      <td>0.545700</td>\n",
       "      <td>0.0</td>\n",
       "      <td>0.689090</td>\n",
       "      <td>1.000000</td>\n",
       "      <td>1</td>\n",
       "      <td>0.042006</td>\n",
       "      <td>0.042230</td>\n",
       "      <td>1</td>\n",
       "      <td>1</td>\n",
       "      <td>3</td>\n",
       "      <td>0.618083</td>\n",
       "    </tr>\n",
       "    <tr>\n",
       "      <th>1</th>\n",
       "      <td>1</td>\n",
       "      <td>0</td>\n",
       "      <td>0</td>\n",
       "      <td>0.333857</td>\n",
       "      <td>0.307923</td>\n",
       "      <td>0.0</td>\n",
       "      <td>0.511691</td>\n",
       "      <td>0.438596</td>\n",
       "      <td>0</td>\n",
       "      <td>0.013955</td>\n",
       "      <td>0.011824</td>\n",
       "      <td>0</td>\n",
       "      <td>1</td>\n",
       "      <td>3</td>\n",
       "      <td>0.451267</td>\n",
       "    </tr>\n",
       "    <tr>\n",
       "      <th>2</th>\n",
       "      <td>1</td>\n",
       "      <td>0</td>\n",
       "      <td>0</td>\n",
       "      <td>0.333857</td>\n",
       "      <td>0.847070</td>\n",
       "      <td>0.0</td>\n",
       "      <td>0.000000</td>\n",
       "      <td>0.052632</td>\n",
       "      <td>0</td>\n",
       "      <td>0.002596</td>\n",
       "      <td>0.103885</td>\n",
       "      <td>1</td>\n",
       "      <td>1</td>\n",
       "      <td>3</td>\n",
       "      <td>0.421903</td>\n",
       "    </tr>\n",
       "  </tbody>\n",
       "</table>\n",
       "</div>"
      ],
      "text/plain": [
       "   target(0)  target(1)  target(2)    CA19.9       CEA  CRP       SBP  \\\n",
       "0          0          1          0  0.779300  0.545700  0.0  0.689090   \n",
       "1          1          0          0  0.333857  0.307923  0.0  0.511691   \n",
       "2          1          0          0  0.333857  0.847070  0.0  0.000000   \n",
       "\n",
       "        age  obesity  post.CA19.9  post.CEA  sex  smoking  stage    weight  \n",
       "0  1.000000        1     0.042006  0.042230    1        1      3  0.618083  \n",
       "1  0.438596        0     0.013955  0.011824    0        1      3  0.451267  \n",
       "2  0.052632        0     0.002596  0.103885    1        1      3  0.421903  "
      ]
     },
     "execution_count": 508,
     "metadata": {},
     "output_type": "execute_result"
    }
   ],
   "source": [
    "use_df1.head(3)"
   ]
  },
  {
   "cell_type": "markdown",
   "metadata": {},
   "source": [
    "### category\n",
    "-> 서열척도인가 아닌가는 구분이 필요"
   ]
  },
  {
   "cell_type": "code",
   "execution_count": 509,
   "metadata": {},
   "outputs": [],
   "source": [
    "ordinal=\"stage\" #암의 진행도\n",
    "non_ordinal=[x for x in category if x!=ordinal]"
   ]
  },
  {
   "cell_type": "code",
   "execution_count": 510,
   "metadata": {},
   "outputs": [
    {
     "name": "stdout",
     "output_type": "stream",
     "text": [
      "sex 의 category 개수 :  2\n",
      "smoking 의 category 개수 :  2\n",
      "obesity 의 category 개수 :  2\n"
     ]
    }
   ],
   "source": [
    "for col in non_ordinal:\n",
    "    print(col,\"의 category 개수 : \",use_df1[col].nunique())"
   ]
  },
  {
   "cell_type": "markdown",
   "metadata": {},
   "source": [
    "위의 근거로 One hot encoding이 필요없음"
   ]
  },
  {
   "cell_type": "markdown",
   "metadata": {},
   "source": [
    "## 데이터 분리"
   ]
  },
  {
   "cell_type": "code",
   "execution_count": 511,
   "metadata": {},
   "outputs": [],
   "source": [
    "import sklearn.model_selection as skmod\n",
    "np.random.seed(10)"
   ]
  },
  {
   "cell_type": "code",
   "execution_count": 512,
   "metadata": {},
   "outputs": [],
   "source": [
    "train1,test1=skmod.train_test_split(use_df1,train_size=0.7,random_state=10)"
   ]
  },
  {
   "cell_type": "markdown",
   "metadata": {},
   "source": [
    "## 모델 구축 및 학습"
   ]
  },
  {
   "cell_type": "code",
   "execution_count": 513,
   "metadata": {},
   "outputs": [],
   "source": [
    "import tensorflow.keras as keras"
   ]
  },
  {
   "cell_type": "markdown",
   "metadata": {},
   "source": [
    "### 모델 구축"
   ]
  },
  {
   "cell_type": "code",
   "execution_count": 514,
   "metadata": {},
   "outputs": [],
   "source": [
    "def ANN_model(x):\n",
    "    model=keras.Sequential()\n",
    "    model.add(keras.layers.Dense(len(feature),activation=\"relu\",input_shape=(len(feature),))) # 입력레이어\n",
    "    model.add(keras.layers.Dense(x,activation=\"relu\"))\n",
    "    model.add(keras.layers.Dense(3,activation=\"softmax\"))\n",
    "    model.compile(optimizer=keras.optimizers.Adam(),loss=\"categorical_crossentropy\",metrics=[\"acc\"])\n",
    "    return model"
   ]
  },
  {
   "cell_type": "code",
   "execution_count": 515,
   "metadata": {},
   "outputs": [],
   "source": [
    "ANN_models={}\n",
    "for x in range(3,len(feature),2):\n",
    "    ANN_models[x]=ANN_model(x)"
   ]
  },
  {
   "cell_type": "code",
   "execution_count": 516,
   "metadata": {},
   "outputs": [
    {
     "name": "stdout",
     "output_type": "stream",
     "text": [
      "Model: \"sequential_39\"\n",
      "_________________________________________________________________\n",
      " Layer (type)                Output Shape              Param #   \n",
      "=================================================================\n",
      " dense_105 (Dense)           (None, 12)                156       \n",
      "                                                                 \n",
      " dense_106 (Dense)           (None, 3)                 39        \n",
      "                                                                 \n",
      " dense_107 (Dense)           (None, 3)                 12        \n",
      "                                                                 \n",
      "=================================================================\n",
      "Total params: 207 (828.00 Byte)\n",
      "Trainable params: 207 (828.00 Byte)\n",
      "Non-trainable params: 0 (0.00 Byte)\n",
      "_________________________________________________________________\n"
     ]
    }
   ],
   "source": [
    "ANN_models[3].summary()"
   ]
  },
  {
   "cell_type": "markdown",
   "metadata": {},
   "source": [
    "### 학습"
   ]
  },
  {
   "cell_type": "code",
   "execution_count": 517,
   "metadata": {},
   "outputs": [
    {
     "data": {
      "text/html": [
       "<div>\n",
       "<style scoped>\n",
       "    .dataframe tbody tr th:only-of-type {\n",
       "        vertical-align: middle;\n",
       "    }\n",
       "\n",
       "    .dataframe tbody tr th {\n",
       "        vertical-align: top;\n",
       "    }\n",
       "\n",
       "    .dataframe thead th {\n",
       "        text-align: right;\n",
       "    }\n",
       "</style>\n",
       "<table border=\"1\" class=\"dataframe\">\n",
       "  <thead>\n",
       "    <tr style=\"text-align: right;\">\n",
       "      <th></th>\n",
       "      <th>target(0)</th>\n",
       "      <th>target(1)</th>\n",
       "      <th>target(2)</th>\n",
       "      <th>CA19.9</th>\n",
       "      <th>CEA</th>\n",
       "      <th>CRP</th>\n",
       "      <th>SBP</th>\n",
       "      <th>age</th>\n",
       "      <th>obesity</th>\n",
       "      <th>post.CA19.9</th>\n",
       "      <th>post.CEA</th>\n",
       "      <th>sex</th>\n",
       "      <th>smoking</th>\n",
       "      <th>stage</th>\n",
       "      <th>weight</th>\n",
       "    </tr>\n",
       "  </thead>\n",
       "  <tbody>\n",
       "    <tr>\n",
       "      <th>0</th>\n",
       "      <td>0</td>\n",
       "      <td>1</td>\n",
       "      <td>0</td>\n",
       "      <td>8.409719</td>\n",
       "      <td>1.098612</td>\n",
       "      <td>0.1</td>\n",
       "      <td>144.286869</td>\n",
       "      <td>82</td>\n",
       "      <td>1</td>\n",
       "      <td>36.795194</td>\n",
       "      <td>5.1</td>\n",
       "      <td>1</td>\n",
       "      <td>1</td>\n",
       "      <td>3</td>\n",
       "      <td>73.994588</td>\n",
       "    </tr>\n",
       "    <tr>\n",
       "      <th>1</th>\n",
       "      <td>1</td>\n",
       "      <td>0</td>\n",
       "      <td>0</td>\n",
       "      <td>3.602777</td>\n",
       "      <td>0.095310</td>\n",
       "      <td>0.1</td>\n",
       "      <td>108.590964</td>\n",
       "      <td>50</td>\n",
       "      <td>0</td>\n",
       "      <td>32.765043</td>\n",
       "      <td>1.5</td>\n",
       "      <td>0</td>\n",
       "      <td>1</td>\n",
       "      <td>3</td>\n",
       "      <td>64.819694</td>\n",
       "    </tr>\n",
       "    <tr>\n",
       "      <th>2</th>\n",
       "      <td>1</td>\n",
       "      <td>0</td>\n",
       "      <td>0</td>\n",
       "      <td>3.602777</td>\n",
       "      <td>2.370244</td>\n",
       "      <td>0.1</td>\n",
       "      <td>5.629379</td>\n",
       "      <td>28</td>\n",
       "      <td>0</td>\n",
       "      <td>31.133072</td>\n",
       "      <td>12.4</td>\n",
       "      <td>1</td>\n",
       "      <td>1</td>\n",
       "      <td>3</td>\n",
       "      <td>63.204675</td>\n",
       "    </tr>\n",
       "    <tr>\n",
       "      <th>3</th>\n",
       "      <td>0</td>\n",
       "      <td>1</td>\n",
       "      <td>0</td>\n",
       "      <td>4.172848</td>\n",
       "      <td>0.262364</td>\n",
       "      <td>1.3</td>\n",
       "      <td>143.931300</td>\n",
       "      <td>35</td>\n",
       "      <td>1</td>\n",
       "      <td>36.134051</td>\n",
       "      <td>0.4</td>\n",
       "      <td>1</td>\n",
       "      <td>1</td>\n",
       "      <td>3</td>\n",
       "      <td>52.499192</td>\n",
       "    </tr>\n",
       "    <tr>\n",
       "      <th>4</th>\n",
       "      <td>0</td>\n",
       "      <td>1</td>\n",
       "      <td>0</td>\n",
       "      <td>3.642836</td>\n",
       "      <td>1.308333</td>\n",
       "      <td>10.7</td>\n",
       "      <td>172.653143</td>\n",
       "      <td>49</td>\n",
       "      <td>0</td>\n",
       "      <td>33.921657</td>\n",
       "      <td>0.4</td>\n",
       "      <td>1</td>\n",
       "      <td>1</td>\n",
       "      <td>3</td>\n",
       "      <td>72.766264</td>\n",
       "    </tr>\n",
       "    <tr>\n",
       "      <th>...</th>\n",
       "      <td>...</td>\n",
       "      <td>...</td>\n",
       "      <td>...</td>\n",
       "      <td>...</td>\n",
       "      <td>...</td>\n",
       "      <td>...</td>\n",
       "      <td>...</td>\n",
       "      <td>...</td>\n",
       "      <td>...</td>\n",
       "      <td>...</td>\n",
       "      <td>...</td>\n",
       "      <td>...</td>\n",
       "      <td>...</td>\n",
       "      <td>...</td>\n",
       "      <td>...</td>\n",
       "    </tr>\n",
       "    <tr>\n",
       "      <th>151</th>\n",
       "      <td>1</td>\n",
       "      <td>0</td>\n",
       "      <td>0</td>\n",
       "      <td>3.529297</td>\n",
       "      <td>2.862201</td>\n",
       "      <td>0.8</td>\n",
       "      <td>79.698126</td>\n",
       "      <td>54</td>\n",
       "      <td>0</td>\n",
       "      <td>35.861255</td>\n",
       "      <td>25.0</td>\n",
       "      <td>1</td>\n",
       "      <td>0</td>\n",
       "      <td>2</td>\n",
       "      <td>59.109922</td>\n",
       "    </tr>\n",
       "    <tr>\n",
       "      <th>152</th>\n",
       "      <td>1</td>\n",
       "      <td>0</td>\n",
       "      <td>0</td>\n",
       "      <td>1.916923</td>\n",
       "      <td>2.140066</td>\n",
       "      <td>3.0</td>\n",
       "      <td>134.097007</td>\n",
       "      <td>62</td>\n",
       "      <td>0</td>\n",
       "      <td>33.238574</td>\n",
       "      <td>1.0</td>\n",
       "      <td>1</td>\n",
       "      <td>0</td>\n",
       "      <td>1</td>\n",
       "      <td>75.948164</td>\n",
       "    </tr>\n",
       "    <tr>\n",
       "      <th>153</th>\n",
       "      <td>0</td>\n",
       "      <td>1</td>\n",
       "      <td>0</td>\n",
       "      <td>1.808289</td>\n",
       "      <td>0.875469</td>\n",
       "      <td>0.1</td>\n",
       "      <td>116.632122</td>\n",
       "      <td>51</td>\n",
       "      <td>1</td>\n",
       "      <td>31.965658</td>\n",
       "      <td>1.8</td>\n",
       "      <td>0</td>\n",
       "      <td>0</td>\n",
       "      <td>1</td>\n",
       "      <td>48.533056</td>\n",
       "    </tr>\n",
       "    <tr>\n",
       "      <th>154</th>\n",
       "      <td>1</td>\n",
       "      <td>0</td>\n",
       "      <td>0</td>\n",
       "      <td>0.470004</td>\n",
       "      <td>0.832909</td>\n",
       "      <td>1.2</td>\n",
       "      <td>151.178202</td>\n",
       "      <td>51</td>\n",
       "      <td>0</td>\n",
       "      <td>37.996578</td>\n",
       "      <td>0.6</td>\n",
       "      <td>0</td>\n",
       "      <td>0</td>\n",
       "      <td>1</td>\n",
       "      <td>44.724691</td>\n",
       "    </tr>\n",
       "    <tr>\n",
       "      <th>155</th>\n",
       "      <td>1</td>\n",
       "      <td>0</td>\n",
       "      <td>0</td>\n",
       "      <td>4.609162</td>\n",
       "      <td>0.875469</td>\n",
       "      <td>0.7</td>\n",
       "      <td>112.321208</td>\n",
       "      <td>58</td>\n",
       "      <td>0</td>\n",
       "      <td>36.624391</td>\n",
       "      <td>1.0</td>\n",
       "      <td>1</td>\n",
       "      <td>0</td>\n",
       "      <td>1</td>\n",
       "      <td>73.689101</td>\n",
       "    </tr>\n",
       "  </tbody>\n",
       "</table>\n",
       "<p>156 rows × 15 columns</p>\n",
       "</div>"
      ],
      "text/plain": [
       "     target(0)  target(1)  target(2)    CA19.9       CEA   CRP         SBP  \\\n",
       "0            0          1          0  8.409719  1.098612   0.1  144.286869   \n",
       "1            1          0          0  3.602777  0.095310   0.1  108.590964   \n",
       "2            1          0          0  3.602777  2.370244   0.1    5.629379   \n",
       "3            0          1          0  4.172848  0.262364   1.3  143.931300   \n",
       "4            0          1          0  3.642836  1.308333  10.7  172.653143   \n",
       "..         ...        ...        ...       ...       ...   ...         ...   \n",
       "151          1          0          0  3.529297  2.862201   0.8   79.698126   \n",
       "152          1          0          0  1.916923  2.140066   3.0  134.097007   \n",
       "153          0          1          0  1.808289  0.875469   0.1  116.632122   \n",
       "154          1          0          0  0.470004  0.832909   1.2  151.178202   \n",
       "155          1          0          0  4.609162  0.875469   0.7  112.321208   \n",
       "\n",
       "     age  obesity  post.CA19.9  post.CEA  sex  smoking  stage     weight  \n",
       "0     82        1    36.795194       5.1    1        1      3  73.994588  \n",
       "1     50        0    32.765043       1.5    0        1      3  64.819694  \n",
       "2     28        0    31.133072      12.4    1        1      3  63.204675  \n",
       "3     35        1    36.134051       0.4    1        1      3  52.499192  \n",
       "4     49        0    33.921657       0.4    1        1      3  72.766264  \n",
       "..   ...      ...          ...       ...  ...      ...    ...        ...  \n",
       "151   54        0    35.861255      25.0    1        0      2  59.109922  \n",
       "152   62        0    33.238574       1.0    1        0      1  75.948164  \n",
       "153   51        1    31.965658       1.8    0        0      1  48.533056  \n",
       "154   51        0    37.996578       0.6    0        0      1  44.724691  \n",
       "155   58        0    36.624391       1.0    1        0      1  73.689101  \n",
       "\n",
       "[156 rows x 15 columns]"
      ]
     },
     "execution_count": 517,
     "metadata": {},
     "output_type": "execute_result"
    }
   ],
   "source": [
    "use_df"
   ]
  },
  {
   "cell_type": "code",
   "execution_count": 523,
   "metadata": {},
   "outputs": [
    {
     "name": "stdout",
     "output_type": "stream",
     "text": [
      "Epoch 1/120\n",
      "1/4 [======>.......................] - ETA: 0s - loss: 1.0567 - acc: 0.3125"
     ]
    },
    {
     "name": "stdout",
     "output_type": "stream",
     "text": [
      "4/4 [==============================] - 0s 52ms/step - loss: 1.0457 - acc: 0.4220 - val_loss: 1.0478 - val_acc: 0.4043\n",
      "Epoch 2/120\n",
      "4/4 [==============================] - 0s 18ms/step - loss: 1.0417 - acc: 0.4587 - val_loss: 1.0448 - val_acc: 0.4043\n",
      "Epoch 3/120\n",
      "4/4 [==============================] - 0s 18ms/step - loss: 1.0373 - acc: 0.4679 - val_loss: 1.0424 - val_acc: 0.4468\n",
      "Epoch 4/120\n",
      "4/4 [==============================] - 0s 22ms/step - loss: 1.0341 - acc: 0.5138 - val_loss: 1.0405 - val_acc: 0.4894\n",
      "Epoch 5/120\n",
      "4/4 [==============================] - 0s 14ms/step - loss: 1.0306 - acc: 0.5321 - val_loss: 1.0389 - val_acc: 0.4681\n",
      "Epoch 6/120\n",
      "4/4 [==============================] - 0s 13ms/step - loss: 1.0279 - acc: 0.5596 - val_loss: 1.0374 - val_acc: 0.4681\n",
      "Epoch 7/120\n",
      "4/4 [==============================] - 0s 12ms/step - loss: 1.0250 - acc: 0.5780 - val_loss: 1.0359 - val_acc: 0.4681\n",
      "Epoch 8/120\n",
      "4/4 [==============================] - 0s 14ms/step - loss: 1.0228 - acc: 0.5780 - val_loss: 1.0345 - val_acc: 0.4681\n",
      "Epoch 9/120\n",
      "4/4 [==============================] - 0s 13ms/step - loss: 1.0194 - acc: 0.5872 - val_loss: 1.0332 - val_acc: 0.4681\n",
      "Epoch 10/120\n",
      "4/4 [==============================] - 0s 14ms/step - loss: 1.0168 - acc: 0.5872 - val_loss: 1.0319 - val_acc: 0.4468\n",
      "Epoch 11/120\n",
      "4/4 [==============================] - 0s 12ms/step - loss: 1.0140 - acc: 0.5780 - val_loss: 1.0306 - val_acc: 0.4681\n",
      "Epoch 12/120\n",
      "4/4 [==============================] - 0s 15ms/step - loss: 1.0116 - acc: 0.5780 - val_loss: 1.0295 - val_acc: 0.4681\n",
      "Epoch 13/120\n",
      "4/4 [==============================] - 0s 12ms/step - loss: 1.0092 - acc: 0.5872 - val_loss: 1.0284 - val_acc: 0.4681\n",
      "Epoch 14/120\n",
      "4/4 [==============================] - 0s 15ms/step - loss: 1.0064 - acc: 0.5872 - val_loss: 1.0273 - val_acc: 0.4681\n",
      "Epoch 14: early stopping\n",
      "Epoch 1/120\n",
      "4/4 [==============================] - 0s 86ms/step - loss: 1.1784 - acc: 0.4037 - val_loss: 1.1521 - val_acc: 0.3617\n",
      "Epoch 2/120\n",
      "4/4 [==============================] - 0s 20ms/step - loss: 1.1680 - acc: 0.4037 - val_loss: 1.1443 - val_acc: 0.3617\n",
      "Epoch 3/120\n",
      "4/4 [==============================] - 0s 14ms/step - loss: 1.1576 - acc: 0.3670 - val_loss: 1.1378 - val_acc: 0.3617\n",
      "Epoch 4/120\n",
      "4/4 [==============================] - 0s 12ms/step - loss: 1.1491 - acc: 0.3670 - val_loss: 1.1321 - val_acc: 0.3617\n",
      "Epoch 5/120\n",
      "4/4 [==============================] - 0s 13ms/step - loss: 1.1406 - acc: 0.3670 - val_loss: 1.1268 - val_acc: 0.3617\n",
      "Epoch 6/120\n",
      "4/4 [==============================] - 0s 13ms/step - loss: 1.1328 - acc: 0.3578 - val_loss: 1.1218 - val_acc: 0.3617\n",
      "Epoch 7/120\n",
      "4/4 [==============================] - 0s 11ms/step - loss: 1.1256 - acc: 0.3670 - val_loss: 1.1170 - val_acc: 0.3617\n",
      "Epoch 8/120\n",
      "4/4 [==============================] - 0s 12ms/step - loss: 1.1191 - acc: 0.3853 - val_loss: 1.1122 - val_acc: 0.3617\n",
      "Epoch 9/120\n",
      "4/4 [==============================] - 0s 29ms/step - loss: 1.1124 - acc: 0.3945 - val_loss: 1.1069 - val_acc: 0.3830\n",
      "Epoch 10/120\n",
      "4/4 [==============================] - 0s 18ms/step - loss: 1.1061 - acc: 0.4037 - val_loss: 1.1014 - val_acc: 0.3617\n",
      "Epoch 11/120\n",
      "4/4 [==============================] - 0s 12ms/step - loss: 1.1008 - acc: 0.4312 - val_loss: 1.0956 - val_acc: 0.3830\n",
      "Epoch 12/120\n",
      "4/4 [==============================] - 0s 13ms/step - loss: 1.0949 - acc: 0.4404 - val_loss: 1.0904 - val_acc: 0.3830\n",
      "Epoch 13/120\n",
      "4/4 [==============================] - 0s 13ms/step - loss: 1.0897 - acc: 0.4495 - val_loss: 1.0860 - val_acc: 0.3830\n",
      "Epoch 14/120\n",
      "4/4 [==============================] - 0s 12ms/step - loss: 1.0848 - acc: 0.4495 - val_loss: 1.0817 - val_acc: 0.3830\n",
      "Epoch 15/120\n",
      "4/4 [==============================] - 0s 12ms/step - loss: 1.0804 - acc: 0.4771 - val_loss: 1.0772 - val_acc: 0.3830\n",
      "Epoch 16/120\n",
      "4/4 [==============================] - 0s 22ms/step - loss: 1.0748 - acc: 0.4771 - val_loss: 1.0731 - val_acc: 0.4043\n",
      "Epoch 17/120\n",
      "4/4 [==============================] - 0s 13ms/step - loss: 1.0706 - acc: 0.4954 - val_loss: 1.0692 - val_acc: 0.4043\n",
      "Epoch 18/120\n",
      "4/4 [==============================] - 0s 16ms/step - loss: 1.0657 - acc: 0.5046 - val_loss: 1.0659 - val_acc: 0.4255\n",
      "Epoch 19/120\n",
      "4/4 [==============================] - 0s 15ms/step - loss: 1.0627 - acc: 0.5046 - val_loss: 1.0631 - val_acc: 0.4468\n",
      "Epoch 20/120\n",
      "4/4 [==============================] - 0s 13ms/step - loss: 1.0590 - acc: 0.5138 - val_loss: 1.0612 - val_acc: 0.4468\n",
      "Epoch 21/120\n",
      "4/4 [==============================] - 0s 13ms/step - loss: 1.0556 - acc: 0.5138 - val_loss: 1.0591 - val_acc: 0.4468\n",
      "Epoch 22/120\n",
      "4/4 [==============================] - 0s 13ms/step - loss: 1.0523 - acc: 0.5229 - val_loss: 1.0576 - val_acc: 0.4468\n",
      "Epoch 23/120\n",
      "4/4 [==============================] - 0s 15ms/step - loss: 1.0494 - acc: 0.5321 - val_loss: 1.0560 - val_acc: 0.4468\n",
      "Epoch 24/120\n",
      "4/4 [==============================] - 0s 14ms/step - loss: 1.0454 - acc: 0.5413 - val_loss: 1.0541 - val_acc: 0.4468\n",
      "Epoch 25/120\n",
      "4/4 [==============================] - 0s 13ms/step - loss: 1.0419 - acc: 0.5413 - val_loss: 1.0522 - val_acc: 0.4468\n",
      "Epoch 26/120\n",
      "4/4 [==============================] - 0s 14ms/step - loss: 1.0388 - acc: 0.5413 - val_loss: 1.0499 - val_acc: 0.4468\n",
      "Epoch 27/120\n",
      "4/4 [==============================] - 0s 15ms/step - loss: 1.0354 - acc: 0.5413 - val_loss: 1.0475 - val_acc: 0.4468\n",
      "Epoch 28/120\n",
      "4/4 [==============================] - 0s 17ms/step - loss: 1.0315 - acc: 0.5413 - val_loss: 1.0452 - val_acc: 0.4468\n",
      "Epoch 29/120\n",
      "4/4 [==============================] - 0s 16ms/step - loss: 1.0277 - acc: 0.5413 - val_loss: 1.0429 - val_acc: 0.4468\n",
      "Epoch 29: early stopping\n",
      "Epoch 1/120\n",
      "4/4 [==============================] - 0s 75ms/step - loss: 1.0622 - acc: 0.4954 - val_loss: 1.0609 - val_acc: 0.4468\n",
      "Epoch 2/120\n",
      "4/4 [==============================] - 0s 29ms/step - loss: 1.0566 - acc: 0.5046 - val_loss: 1.0561 - val_acc: 0.4468\n",
      "Epoch 3/120\n",
      "4/4 [==============================] - 0s 22ms/step - loss: 1.0518 - acc: 0.5138 - val_loss: 1.0514 - val_acc: 0.4681\n",
      "Epoch 4/120\n",
      "4/4 [==============================] - 0s 24ms/step - loss: 1.0462 - acc: 0.5229 - val_loss: 1.0471 - val_acc: 0.4468\n",
      "Epoch 5/120\n",
      "4/4 [==============================] - 0s 23ms/step - loss: 1.0411 - acc: 0.5138 - val_loss: 1.0433 - val_acc: 0.4255\n",
      "Epoch 6/120\n",
      "4/4 [==============================] - 0s 23ms/step - loss: 1.0369 - acc: 0.5138 - val_loss: 1.0393 - val_acc: 0.4255\n",
      "Epoch 7/120\n",
      "4/4 [==============================] - 0s 22ms/step - loss: 1.0318 - acc: 0.5138 - val_loss: 1.0355 - val_acc: 0.4255\n",
      "Epoch 8/120\n",
      "4/4 [==============================] - 0s 23ms/step - loss: 1.0277 - acc: 0.5046 - val_loss: 1.0318 - val_acc: 0.4255\n",
      "Epoch 9/120\n",
      "4/4 [==============================] - 0s 27ms/step - loss: 1.0227 - acc: 0.5138 - val_loss: 1.0284 - val_acc: 0.4255\n",
      "Epoch 10/120\n",
      "4/4 [==============================] - 0s 24ms/step - loss: 1.0189 - acc: 0.5138 - val_loss: 1.0248 - val_acc: 0.4043\n",
      "Epoch 11/120\n",
      "4/4 [==============================] - 0s 25ms/step - loss: 1.0141 - acc: 0.5138 - val_loss: 1.0213 - val_acc: 0.4043\n",
      "Epoch 12/120\n",
      "4/4 [==============================] - 0s 24ms/step - loss: 1.0096 - acc: 0.5138 - val_loss: 1.0177 - val_acc: 0.4043\n",
      "Epoch 13/120\n",
      "4/4 [==============================] - 0s 21ms/step - loss: 1.0050 - acc: 0.5138 - val_loss: 1.0141 - val_acc: 0.4043\n",
      "Epoch 13: early stopping\n",
      "Epoch 1/120\n",
      "4/4 [==============================] - 0s 49ms/step - loss: 1.1122 - acc: 0.3028 - val_loss: 1.1212 - val_acc: 0.2766\n",
      "Epoch 2/120\n",
      "4/4 [==============================] - 0s 22ms/step - loss: 1.1028 - acc: 0.3394 - val_loss: 1.1157 - val_acc: 0.2979\n",
      "Epoch 3/120\n",
      "4/4 [==============================] - 0s 24ms/step - loss: 1.0958 - acc: 0.3578 - val_loss: 1.1097 - val_acc: 0.2979\n",
      "Epoch 4/120\n",
      "4/4 [==============================] - 0s 23ms/step - loss: 1.0877 - acc: 0.3670 - val_loss: 1.1050 - val_acc: 0.2979\n",
      "Epoch 5/120\n",
      "4/4 [==============================] - 0s 23ms/step - loss: 1.0802 - acc: 0.3578 - val_loss: 1.1003 - val_acc: 0.3191\n",
      "Epoch 6/120\n",
      "4/4 [==============================] - 0s 23ms/step - loss: 1.0733 - acc: 0.4128 - val_loss: 1.0964 - val_acc: 0.3191\n",
      "Epoch 7/120\n",
      "4/4 [==============================] - 0s 23ms/step - loss: 1.0668 - acc: 0.4312 - val_loss: 1.0920 - val_acc: 0.3404\n",
      "Epoch 8/120\n",
      "4/4 [==============================] - 0s 21ms/step - loss: 1.0604 - acc: 0.4679 - val_loss: 1.0888 - val_acc: 0.3830\n",
      "Epoch 9/120\n",
      "4/4 [==============================] - 0s 21ms/step - loss: 1.0544 - acc: 0.4679 - val_loss: 1.0852 - val_acc: 0.3830\n",
      "Epoch 10/120\n",
      "4/4 [==============================] - 0s 21ms/step - loss: 1.0484 - acc: 0.4587 - val_loss: 1.0825 - val_acc: 0.3830\n",
      "Epoch 11/120\n",
      "4/4 [==============================] - 0s 21ms/step - loss: 1.0429 - acc: 0.4679 - val_loss: 1.0793 - val_acc: 0.3830\n",
      "Epoch 12/120\n",
      "4/4 [==============================] - 0s 25ms/step - loss: 1.0373 - acc: 0.4679 - val_loss: 1.0760 - val_acc: 0.3830\n",
      "Epoch 13/120\n",
      "4/4 [==============================] - 0s 22ms/step - loss: 1.0324 - acc: 0.4679 - val_loss: 1.0725 - val_acc: 0.4043\n",
      "Epoch 14/120\n",
      "4/4 [==============================] - 0s 21ms/step - loss: 1.0273 - acc: 0.4679 - val_loss: 1.0694 - val_acc: 0.4468\n",
      "Epoch 15/120\n",
      "4/4 [==============================] - 0s 21ms/step - loss: 1.0222 - acc: 0.4954 - val_loss: 1.0661 - val_acc: 0.4468\n",
      "Epoch 16/120\n",
      "4/4 [==============================] - 0s 21ms/step - loss: 1.0174 - acc: 0.5138 - val_loss: 1.0620 - val_acc: 0.4468\n",
      "Epoch 17/120\n",
      "4/4 [==============================] - 0s 21ms/step - loss: 1.0116 - acc: 0.5321 - val_loss: 1.0575 - val_acc: 0.4468\n",
      "Epoch 18/120\n",
      "4/4 [==============================] - 0s 20ms/step - loss: 1.0062 - acc: 0.5505 - val_loss: 1.0510 - val_acc: 0.4894\n",
      "Epoch 19/120\n",
      "4/4 [==============================] - 0s 21ms/step - loss: 1.0003 - acc: 0.5780 - val_loss: 1.0451 - val_acc: 0.5106\n",
      "Epoch 20/120\n",
      "4/4 [==============================] - 0s 20ms/step - loss: 0.9943 - acc: 0.5872 - val_loss: 1.0401 - val_acc: 0.5319\n",
      "Epoch 21/120\n",
      "4/4 [==============================] - 0s 20ms/step - loss: 0.9885 - acc: 0.6055 - val_loss: 1.0352 - val_acc: 0.5319\n",
      "Epoch 22/120\n",
      "4/4 [==============================] - 0s 22ms/step - loss: 0.9827 - acc: 0.6055 - val_loss: 1.0311 - val_acc: 0.5106\n",
      "Epoch 23/120\n",
      "4/4 [==============================] - 0s 20ms/step - loss: 0.9768 - acc: 0.6147 - val_loss: 1.0278 - val_acc: 0.5106\n",
      "Epoch 24/120\n",
      "4/4 [==============================] - 0s 20ms/step - loss: 0.9715 - acc: 0.6147 - val_loss: 1.0237 - val_acc: 0.5106\n",
      "Epoch 25/120\n",
      "4/4 [==============================] - 0s 21ms/step - loss: 0.9664 - acc: 0.6147 - val_loss: 1.0195 - val_acc: 0.5532\n",
      "Epoch 26/120\n",
      "4/4 [==============================] - 0s 77ms/step - loss: 0.9617 - acc: 0.6422 - val_loss: 1.0154 - val_acc: 0.5532\n",
      "Epoch 27/120\n",
      "4/4 [==============================] - 0s 30ms/step - loss: 0.9565 - acc: 0.6514 - val_loss: 1.0125 - val_acc: 0.5532\n",
      "Epoch 28/120\n",
      "4/4 [==============================] - 0s 28ms/step - loss: 0.9524 - acc: 0.6514 - val_loss: 1.0097 - val_acc: 0.5745\n",
      "Epoch 29/120\n",
      "4/4 [==============================] - 0s 29ms/step - loss: 0.9465 - acc: 0.6514 - val_loss: 1.0081 - val_acc: 0.5745\n",
      "Epoch 30/120\n",
      "4/4 [==============================] - 0s 29ms/step - loss: 0.9416 - acc: 0.6514 - val_loss: 1.0070 - val_acc: 0.5745\n",
      "Epoch 31/120\n",
      "4/4 [==============================] - 0s 29ms/step - loss: 0.9377 - acc: 0.6514 - val_loss: 1.0062 - val_acc: 0.5745\n",
      "Epoch 32/120\n",
      "4/4 [==============================] - 0s 43ms/step - loss: 0.9313 - acc: 0.6606 - val_loss: 1.0042 - val_acc: 0.5745\n",
      "Epoch 33/120\n",
      "4/4 [==============================] - 0s 26ms/step - loss: 0.9263 - acc: 0.6697 - val_loss: 1.0031 - val_acc: 0.5745\n",
      "Epoch 34/120\n",
      "4/4 [==============================] - 0s 25ms/step - loss: 0.9211 - acc: 0.6697 - val_loss: 1.0012 - val_acc: 0.5957\n",
      "Epoch 35/120\n",
      "4/4 [==============================] - 0s 30ms/step - loss: 0.9161 - acc: 0.6881 - val_loss: 0.9989 - val_acc: 0.6170\n",
      "Epoch 36/120\n",
      "4/4 [==============================] - 0s 27ms/step - loss: 0.9106 - acc: 0.6881 - val_loss: 0.9969 - val_acc: 0.5957\n",
      "Epoch 37/120\n",
      "4/4 [==============================] - 0s 27ms/step - loss: 0.9060 - acc: 0.6972 - val_loss: 0.9945 - val_acc: 0.5745\n",
      "Epoch 38/120\n",
      "4/4 [==============================] - 0s 24ms/step - loss: 0.9011 - acc: 0.7064 - val_loss: 0.9912 - val_acc: 0.5745\n",
      "Epoch 39/120\n",
      "4/4 [==============================] - 0s 23ms/step - loss: 0.8966 - acc: 0.7064 - val_loss: 0.9891 - val_acc: 0.5745\n",
      "Epoch 40/120\n",
      "4/4 [==============================] - 0s 26ms/step - loss: 0.8915 - acc: 0.7064 - val_loss: 0.9881 - val_acc: 0.5745\n",
      "Epoch 41/120\n",
      "4/4 [==============================] - 0s 23ms/step - loss: 0.8871 - acc: 0.6972 - val_loss: 0.9873 - val_acc: 0.5745\n",
      "Epoch 42/120\n",
      "4/4 [==============================] - 0s 28ms/step - loss: 0.8822 - acc: 0.6972 - val_loss: 0.9850 - val_acc: 0.5745\n",
      "Epoch 43/120\n",
      "4/4 [==============================] - 0s 26ms/step - loss: 0.8776 - acc: 0.6972 - val_loss: 0.9830 - val_acc: 0.5745\n",
      "Epoch 44/120\n",
      "4/4 [==============================] - 0s 27ms/step - loss: 0.8732 - acc: 0.6972 - val_loss: 0.9813 - val_acc: 0.5745\n",
      "Epoch 45/120\n",
      "4/4 [==============================] - 0s 23ms/step - loss: 0.8688 - acc: 0.6972 - val_loss: 0.9792 - val_acc: 0.5745\n",
      "Epoch 45: early stopping\n",
      "Epoch 1/120\n",
      "4/4 [==============================] - 0s 54ms/step - loss: 1.0649 - acc: 0.5046 - val_loss: 1.0840 - val_acc: 0.4681\n",
      "Epoch 2/120\n",
      "4/4 [==============================] - 0s 28ms/step - loss: 1.0597 - acc: 0.5229 - val_loss: 1.0816 - val_acc: 0.4468\n",
      "Epoch 3/120\n",
      "4/4 [==============================] - 0s 21ms/step - loss: 1.0546 - acc: 0.5413 - val_loss: 1.0793 - val_acc: 0.4043\n",
      "Epoch 4/120\n",
      "4/4 [==============================] - 0s 22ms/step - loss: 1.0499 - acc: 0.5780 - val_loss: 1.0771 - val_acc: 0.4043\n",
      "Epoch 5/120\n",
      "4/4 [==============================] - 0s 77ms/step - loss: 1.0450 - acc: 0.6147 - val_loss: 1.0747 - val_acc: 0.4468\n",
      "Epoch 6/120\n",
      "4/4 [==============================] - 0s 34ms/step - loss: 1.0407 - acc: 0.6147 - val_loss: 1.0718 - val_acc: 0.5106\n",
      "Epoch 7/120\n",
      "4/4 [==============================] - 0s 29ms/step - loss: 1.0358 - acc: 0.6422 - val_loss: 1.0693 - val_acc: 0.5106\n",
      "Epoch 8/120\n",
      "4/4 [==============================] - 0s 24ms/step - loss: 1.0322 - acc: 0.6514 - val_loss: 1.0665 - val_acc: 0.5745\n",
      "Epoch 9/120\n",
      "4/4 [==============================] - 0s 28ms/step - loss: 1.0285 - acc: 0.6697 - val_loss: 1.0639 - val_acc: 0.5957\n",
      "Epoch 10/120\n",
      "4/4 [==============================] - 0s 26ms/step - loss: 1.0243 - acc: 0.6697 - val_loss: 1.0612 - val_acc: 0.6170\n",
      "Epoch 11/120\n",
      "4/4 [==============================] - 0s 23ms/step - loss: 1.0211 - acc: 0.6606 - val_loss: 1.0586 - val_acc: 0.6383\n",
      "Epoch 12/120\n",
      "4/4 [==============================] - 0s 22ms/step - loss: 1.0169 - acc: 0.6514 - val_loss: 1.0560 - val_acc: 0.6170\n",
      "Epoch 13/120\n",
      "4/4 [==============================] - 0s 22ms/step - loss: 1.0135 - acc: 0.6697 - val_loss: 1.0537 - val_acc: 0.6170\n",
      "Epoch 14/120\n",
      "4/4 [==============================] - 0s 22ms/step - loss: 1.0089 - acc: 0.6697 - val_loss: 1.0505 - val_acc: 0.5957\n",
      "Epoch 15/120\n",
      "4/4 [==============================] - 0s 23ms/step - loss: 1.0048 - acc: 0.6789 - val_loss: 1.0476 - val_acc: 0.6170\n",
      "Epoch 16/120\n",
      "4/4 [==============================] - 0s 21ms/step - loss: 1.0003 - acc: 0.6881 - val_loss: 1.0440 - val_acc: 0.5957\n",
      "Epoch 17/120\n",
      "4/4 [==============================] - 0s 23ms/step - loss: 0.9961 - acc: 0.6789 - val_loss: 1.0404 - val_acc: 0.5957\n",
      "Epoch 18/120\n",
      "4/4 [==============================] - 0s 22ms/step - loss: 0.9918 - acc: 0.6789 - val_loss: 1.0371 - val_acc: 0.6170\n",
      "Epoch 19/120\n",
      "4/4 [==============================] - 0s 21ms/step - loss: 0.9873 - acc: 0.6881 - val_loss: 1.0339 - val_acc: 0.6383\n",
      "Epoch 20/120\n",
      "4/4 [==============================] - 0s 21ms/step - loss: 0.9830 - acc: 0.6881 - val_loss: 1.0307 - val_acc: 0.6170\n",
      "Epoch 21/120\n",
      "4/4 [==============================] - 0s 22ms/step - loss: 0.9785 - acc: 0.6881 - val_loss: 1.0270 - val_acc: 0.6170\n",
      "Epoch 21: early stopping\n"
     ]
    }
   ],
   "source": [
    "results={}\n",
    "target_col=use_df.columns.difference(feature)\n",
    "for num in ANN_models:\n",
    "    results[num]=ANN_models[num].fit(x=train1[feature],y=train1[target_col]\n",
    "    ,validation_data=(test1[feature],test1[target_col]),epochs=120\n",
    "    ,callbacks=[keras.callbacks.EarlyStopping(monitor='val_acc',patience=10,verbose=1)])"
   ]
  },
  {
   "cell_type": "markdown",
   "metadata": {},
   "source": [
    "### 결과 확인"
   ]
  },
  {
   "cell_type": "markdown",
   "metadata": {},
   "source": [
    "전체"
   ]
  },
  {
   "cell_type": "code",
   "execution_count": 524,
   "metadata": {},
   "outputs": [
    {
     "data": {
      "text/plain": [
       "{3: <keras.src.callbacks.History at 0x188a5135280>,\n",
       " 5: <keras.src.callbacks.History at 0x188a09cfac0>,\n",
       " 7: <keras.src.callbacks.History at 0x188a096b7c0>,\n",
       " 9: <keras.src.callbacks.History at 0x188a09e7e80>,\n",
       " 11: <keras.src.callbacks.History at 0x188a3c01460>}"
      ]
     },
     "execution_count": 524,
     "metadata": {},
     "output_type": "execute_result"
    }
   ],
   "source": [
    "results"
   ]
  },
  {
   "cell_type": "code",
   "execution_count": 525,
   "metadata": {},
   "outputs": [
    {
     "data": {
      "text/html": [
       "<div>\n",
       "<style scoped>\n",
       "    .dataframe tbody tr th:only-of-type {\n",
       "        vertical-align: middle;\n",
       "    }\n",
       "\n",
       "    .dataframe tbody tr th {\n",
       "        vertical-align: top;\n",
       "    }\n",
       "\n",
       "    .dataframe thead th {\n",
       "        text-align: right;\n",
       "    }\n",
       "</style>\n",
       "<table border=\"1\" class=\"dataframe\">\n",
       "  <thead>\n",
       "    <tr style=\"text-align: right;\">\n",
       "      <th></th>\n",
       "      <th>은닉층</th>\n",
       "      <th>val_acc</th>\n",
       "    </tr>\n",
       "  </thead>\n",
       "  <tbody>\n",
       "    <tr>\n",
       "      <th>4</th>\n",
       "      <td>11</td>\n",
       "      <td>0.617021</td>\n",
       "    </tr>\n",
       "    <tr>\n",
       "      <th>3</th>\n",
       "      <td>9</td>\n",
       "      <td>0.574468</td>\n",
       "    </tr>\n",
       "    <tr>\n",
       "      <th>0</th>\n",
       "      <td>3</td>\n",
       "      <td>0.468085</td>\n",
       "    </tr>\n",
       "    <tr>\n",
       "      <th>1</th>\n",
       "      <td>5</td>\n",
       "      <td>0.446809</td>\n",
       "    </tr>\n",
       "    <tr>\n",
       "      <th>2</th>\n",
       "      <td>7</td>\n",
       "      <td>0.404255</td>\n",
       "    </tr>\n",
       "  </tbody>\n",
       "</table>\n",
       "</div>"
      ],
      "text/plain": [
       "   은닉층   val_acc\n",
       "4   11  0.617021\n",
       "3    9  0.574468\n",
       "0    3  0.468085\n",
       "1    5  0.446809\n",
       "2    7  0.404255"
      ]
     },
     "execution_count": 525,
     "metadata": {},
     "output_type": "execute_result"
    }
   ],
   "source": [
    "pd.DataFrame([{\"은닉층\":x,\"val_acc\":results[x].history[\"val_acc\"][-1]} for x in results]).sort_values(by=\"val_acc\",ascending=False)"
   ]
  },
  {
   "cell_type": "markdown",
   "metadata": {},
   "source": [
    "따라서 은닉층의 개수는 11개일때 최고의 정확도를 가짐"
   ]
  },
  {
   "cell_type": "markdown",
   "metadata": {},
   "source": [
    "### 시각화"
   ]
  },
  {
   "cell_type": "code",
   "execution_count": 526,
   "metadata": {},
   "outputs": [
    {
     "data": {
      "text/plain": [
       "dict_keys(['loss', 'acc', 'val_loss', 'val_acc'])"
      ]
     },
     "execution_count": 526,
     "metadata": {},
     "output_type": "execute_result"
    }
   ],
   "source": [
    "results[11].history.keys()"
   ]
  },
  {
   "cell_type": "code",
   "execution_count": 535,
   "metadata": {},
   "outputs": [
    {
     "name": "stderr",
     "output_type": "stream",
     "text": [
      "c:\\Users\\SAMSUNG\\AppData\\Local\\Programs\\Python\\Python39\\lib\\site-packages\\seaborn\\_oldcore.py:1498: FutureWarning: is_categorical_dtype is deprecated and will be removed in a future version. Use isinstance(dtype, CategoricalDtype) instead\n",
      "  if pd.api.types.is_categorical_dtype(vector):\n",
      "c:\\Users\\SAMSUNG\\AppData\\Local\\Programs\\Python\\Python39\\lib\\site-packages\\seaborn\\_oldcore.py:1498: FutureWarning: is_categorical_dtype is deprecated and will be removed in a future version. Use isinstance(dtype, CategoricalDtype) instead\n",
      "  if pd.api.types.is_categorical_dtype(vector):\n",
      "c:\\Users\\SAMSUNG\\AppData\\Local\\Programs\\Python\\Python39\\lib\\site-packages\\seaborn\\_oldcore.py:1119: FutureWarning: use_inf_as_na option is deprecated and will be removed in a future version. Convert inf values to NaN before operating instead.\n",
      "  with pd.option_context('mode.use_inf_as_na', True):\n",
      "c:\\Users\\SAMSUNG\\AppData\\Local\\Programs\\Python\\Python39\\lib\\site-packages\\seaborn\\_oldcore.py:1119: FutureWarning: use_inf_as_na option is deprecated and will be removed in a future version. Convert inf values to NaN before operating instead.\n",
      "  with pd.option_context('mode.use_inf_as_na', True):\n",
      "c:\\Users\\SAMSUNG\\AppData\\Local\\Programs\\Python\\Python39\\lib\\site-packages\\seaborn\\_oldcore.py:1498: FutureWarning: is_categorical_dtype is deprecated and will be removed in a future version. Use isinstance(dtype, CategoricalDtype) instead\n",
      "  if pd.api.types.is_categorical_dtype(vector):\n",
      "c:\\Users\\SAMSUNG\\AppData\\Local\\Programs\\Python\\Python39\\lib\\site-packages\\seaborn\\_oldcore.py:1498: FutureWarning: is_categorical_dtype is deprecated and will be removed in a future version. Use isinstance(dtype, CategoricalDtype) instead\n",
      "  if pd.api.types.is_categorical_dtype(vector):\n",
      "c:\\Users\\SAMSUNG\\AppData\\Local\\Programs\\Python\\Python39\\lib\\site-packages\\seaborn\\_oldcore.py:1119: FutureWarning: use_inf_as_na option is deprecated and will be removed in a future version. Convert inf values to NaN before operating instead.\n",
      "  with pd.option_context('mode.use_inf_as_na', True):\n",
      "c:\\Users\\SAMSUNG\\AppData\\Local\\Programs\\Python\\Python39\\lib\\site-packages\\seaborn\\_oldcore.py:1119: FutureWarning: use_inf_as_na option is deprecated and will be removed in a future version. Convert inf values to NaN before operating instead.\n",
      "  with pd.option_context('mode.use_inf_as_na', True):\n"
     ]
    },
    {
     "data": {
      "image/png": "[encoded data removed]",
      "text/plain": [
       "<Figure size 800x300 with 1 Axes>"
      ]
     },
     "metadata": {},
     "output_type": "display_data"
    }
   ],
   "source": [
    "plt.figure(figsize=(8,3))\n",
    "sb.lineplot(x=range(len(results[11].history[\"acc\"])),y=results[11].history[\"acc\"],label=\"훈련\")\n",
    "sb.lineplot(x=range(len(results[11].history[\"acc\"])),y=results[11].history[\"val_acc\"],label=\"검증\")\n",
    "plt.grid()"
   ]
  },
  {
   "cell_type": "code",
   "execution_count": null,
   "metadata": {},
   "outputs": [],
   "source": []
  }
 ],
 "metadata": {
  "kernelspec": {
   "display_name": "Python 3",
   "language": "python",
   "name": "python3"
  },
  "language_info": {
   "codemirror_mode": {
    "name": "ipython",
    "version": 3
   },
   "file_extension": ".py",
   "mimetype": "text/x-python",
   "name": "python",
   "nbconvert_exporter": "python",
   "pygments_lexer": "ipython3",
   "version": "3.9.13"
  },
  "orig_nbformat": 4
 },
 "nbformat": 4,
 "nbformat_minor": 2
}
