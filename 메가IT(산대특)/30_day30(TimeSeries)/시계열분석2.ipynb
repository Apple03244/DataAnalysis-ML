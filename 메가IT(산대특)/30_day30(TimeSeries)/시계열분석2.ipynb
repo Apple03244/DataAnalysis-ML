{
 "cells": [
  {
   "cell_type": "code",
   "execution_count": 1,
   "metadata": {},
   "outputs": [],
   "source": [
    "import pandas as pd\n",
    "import numpy as np\n",
    "import matplotlib.pyplot as plt\n",
    "import statsmodels.tsa as tsa\n",
    "import seaborn as sb\n",
    "import pmdarima as pm\n",
    "import statsmodels.graphics.tsaplots as tsaplots"
   ]
  },
  {
   "cell_type": "code",
   "execution_count": 2,
   "metadata": {},
   "outputs": [],
   "source": [
    "Data=pd.read_excel(\"https://data.hossam.kr/E06/kings.xlsx\")\n",
    "data=pd.DataFrame(Data)"
   ]
  },
  {
   "cell_type": "markdown",
   "metadata": {},
   "source": [
    "### 시계열분석 1에서 비정상성을 확인했으니 바로 진행하겠다."
   ]
  },
  {
   "cell_type": "markdown",
   "metadata": {},
   "source": [
    "## ACF,PACF 검정\n",
    "정상 시계열은 acf가 상대적으로 빠르게<br>\n",
    "비정상 시계열은 acf가 천천히 감소하며 종종 큰 양의 값을 가짐"
   ]
  },
  {
   "cell_type": "markdown",
   "metadata": {},
   "source": [
    "|구분|AR(p) 모델 적합|MA(q) 모델 적합|\n",
    "|--|--|--|\n",
    "|ACF plot|천천히 감소|첫 값으로부터 q개 뒤에 비연속성|\n",
    "|PACF plot|첫 값으로부터 p개 후 비연속성|천천히 감소|"
   ]
  },
  {
   "cell_type": "markdown",
   "metadata": {},
   "source": []
  }
 ],
 "metadata": {
  "kernelspec": {
   "display_name": "Python 3",
   "language": "python",
   "name": "python3"
  },
  "language_info": {
   "codemirror_mode": {
    "name": "ipython",
    "version": 3
   },
   "file_extension": ".py",
   "mimetype": "text/x-python",
   "name": "python",
   "nbconvert_exporter": "python",
   "pygments_lexer": "ipython3",
   "version": "3.11.3"
  },
  "orig_nbformat": 4
 },
 "nbformat": 4,
 "nbformat_minor": 2
}
