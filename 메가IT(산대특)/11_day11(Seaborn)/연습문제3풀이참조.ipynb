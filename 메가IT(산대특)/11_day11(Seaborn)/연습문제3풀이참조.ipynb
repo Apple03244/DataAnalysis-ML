{
 "cells": [
  {
   "cell_type": "markdown",
   "metadata": {},
   "source": [
    "#### Datetime 객체 이해"
   ]
  },
  {
   "cell_type": "code",
   "execution_count": 10,
   "metadata": {},
   "outputs": [
    {
     "data": {
      "text/plain": [
       "('2023년 07월 05일', datetime.datetime(2023, 7, 5, 0, 0))"
      ]
     },
     "execution_count": 10,
     "metadata": {},
     "output_type": "execute_result"
    }
   ],
   "source": [
    "import datetime as dt\n",
    "today=dt.datetime.now()\n",
    "temp=today.strftime(\"%Y년 %m월 %d일\")\n",
    "#반대는\n",
    "someday=dt.datetime.strptime(temp,\"%Y년 %m월 %d일\")\n",
    "temp,someday"
   ]
  },
  {
   "cell_type": "code",
   "execution_count": 12,
   "metadata": {},
   "outputs": [],
   "source": [
    "import pandas as pd"
   ]
  },
  {
   "cell_type": "code",
   "execution_count": 13,
   "metadata": {},
   "outputs": [],
   "source": [
    "#pd.DataFrame.query : 이걸로 검색하는 연습도 하면 좋겠구만"
   ]
  },
  {
   "cell_type": "code",
   "execution_count": 14,
   "metadata": {},
   "outputs": [],
   "source": [
    "#왜 그래프가 양쪽으로 찢어졌냐?\n",
    "#answer : \n",
    "#bar chart는 자동으로 x축을 0부터 시작하는 array로 바꿔서 그리고,\n",
    "#line plot은 받아온 x축 값 그래도 인식하기 때문에\n",
    "#같은 x축을 공유하려면 bar chart가 인식하고 있는 0부터 시작하는 index로 설정해야된다."
   ]
  },
  {
   "cell_type": "code",
   "execution_count": null,
   "metadata": {},
   "outputs": [],
   "source": []
  }
 ],
 "metadata": {
  "kernelspec": {
   "display_name": "Python 3",
   "language": "python",
   "name": "python3"
  },
  "language_info": {
   "codemirror_mode": {
    "name": "ipython",
    "version": 3
   },
   "file_extension": ".py",
   "mimetype": "text/x-python",
   "name": "python",
   "nbconvert_exporter": "python",
   "pygments_lexer": "ipython3",
   "version": "3.11.3"
  },
  "orig_nbformat": 4
 },
 "nbformat": 4,
 "nbformat_minor": 2
}
