{
 "cells": [
  {
   "cell_type": "markdown",
   "metadata": {},
   "source": [
    "주성분분석(PCA)\n",
    "================\n",
    "개요\n",
    "-----------------\n",
    "### 차원축소(Dimantionlity Reduction)\n",
    ">> 데이터의 전반적인 특징을 보존하면서 데이터의 변수 수를 줄이는 방법\n",
    "\n",
    "|방법|종류|\n",
    "|--|--|\n",
    "|특성선택|가장 중요한 특징들만 선택하고 기존의 데이터를 표현|\n",
    "|특성추출|기존 특성들을 사용하여 새로운 특성들을 만들어내는 것|\n",
    "\n",
    "### 주성분 분석\n",
    ">> 데이터의 복잡성을 줄여줌"
   ]
  },
  {
   "cell_type": "code",
   "execution_count": 21,
   "metadata": {},
   "outputs": [],
   "source": [
    "import pandas as pd\n",
    "import numpy as np\n",
    "import scipy as sp\n",
    "import matplotlib.pyplot as plt\n",
    "import seaborn as sb\n",
    "import sklearn.preprocessing as skp\n",
    "import statsmodels.stats.anova as anova\n",
    "import statsmodels.formula.api as smf\n",
    "import statsmodels"
   ]
  },
  {
   "cell_type": "code",
   "execution_count": 10,
   "metadata": {},
   "outputs": [],
   "source": [
    "D=pd.read_excel(\"https://data.hossam.kr/E04/boston.xlsx\")\n",
    "data=pd.DataFrame(D)"
   ]
  },
  {
   "cell_type": "code",
   "execution_count": 11,
   "metadata": {},
   "outputs": [],
   "source": [
    "data=data[data.columns[:-1]]"
   ]
  },
  {
   "cell_type": "code",
   "execution_count": 14,
   "metadata": {},
   "outputs": [],
   "source": [
    "x=data[data.columns.difference([\"MEDV\"])]\n",
    "y=data[\"MEDV\"]"
   ]
  },
  {
   "cell_type": "code",
   "execution_count": 22,
   "metadata": {},
   "outputs": [],
   "source": [
    "scale=skp.StandardScaler()\n",
    "std_x=scale.fit_transform(x)\n",
    "std_x"
   ]
  },
  {
   "cell_type": "markdown",
   "metadata": {},
   "source": [
    "데이터 정규화\n",
    "-----"
   ]
  },
  {
   "cell_type": "code",
   "execution_count": 31,
   "metadata": {},
   "outputs": [],
   "source": [
    "std_x_df=pd.DataFrame(std_x).rename(columns=dict(zip(range(13),x.columns)))"
   ]
  },
  {
   "cell_type": "markdown",
   "metadata": {},
   "source": [
    "PCA 분석\n",
    "----"
   ]
  },
  {
   "cell_type": "code",
   "execution_count": 32,
   "metadata": {},
   "outputs": [],
   "source": [
    "import sklearn.decomposition as sd"
   ]
  },
  {
   "cell_type": "code",
   "execution_count": 33,
   "metadata": {},
   "outputs": [],
   "source": [
    "pca=sd.PCA(n_components=6)\n",
    "pca_result=pca.fit_transform(std_x_df)"
   ]
  },
  {
   "cell_type": "code",
   "execution_count": 35,
   "metadata": {},
   "outputs": [
    {
     "data": {
      "text/html": [
       "<div>\n",
       "<style scoped>\n",
       "    .dataframe tbody tr th:only-of-type {\n",
       "        vertical-align: middle;\n",
       "    }\n",
       "\n",
       "    .dataframe tbody tr th {\n",
       "        vertical-align: top;\n",
       "    }\n",
       "\n",
       "    .dataframe thead th {\n",
       "        text-align: right;\n",
       "    }\n",
       "</style>\n",
       "<table border=\"1\" class=\"dataframe\">\n",
       "  <thead>\n",
       "    <tr style=\"text-align: right;\">\n",
       "      <th></th>\n",
       "      <th>0</th>\n",
       "      <th>1</th>\n",
       "      <th>2</th>\n",
       "      <th>3</th>\n",
       "      <th>4</th>\n",
       "      <th>5</th>\n",
       "    </tr>\n",
       "  </thead>\n",
       "  <tbody>\n",
       "    <tr>\n",
       "      <th>0</th>\n",
       "      <td>-2.098297</td>\n",
       "      <td>0.773113</td>\n",
       "      <td>0.342943</td>\n",
       "      <td>-0.891774</td>\n",
       "      <td>0.423070</td>\n",
       "      <td>-0.315338</td>\n",
       "    </tr>\n",
       "    <tr>\n",
       "      <th>1</th>\n",
       "      <td>-1.457252</td>\n",
       "      <td>0.591985</td>\n",
       "      <td>-0.695199</td>\n",
       "      <td>-0.487459</td>\n",
       "      <td>-0.195876</td>\n",
       "      <td>0.264223</td>\n",
       "    </tr>\n",
       "    <tr>\n",
       "      <th>2</th>\n",
       "      <td>-2.074598</td>\n",
       "      <td>0.599639</td>\n",
       "      <td>0.167122</td>\n",
       "      <td>-0.739204</td>\n",
       "      <td>-0.934534</td>\n",
       "      <td>0.448095</td>\n",
       "    </tr>\n",
       "    <tr>\n",
       "      <th>3</th>\n",
       "      <td>-2.611504</td>\n",
       "      <td>-0.006871</td>\n",
       "      <td>-0.100284</td>\n",
       "      <td>-0.343721</td>\n",
       "      <td>-1.104956</td>\n",
       "      <td>0.664649</td>\n",
       "    </tr>\n",
       "    <tr>\n",
       "      <th>4</th>\n",
       "      <td>-2.458185</td>\n",
       "      <td>0.097712</td>\n",
       "      <td>-0.075348</td>\n",
       "      <td>-0.427907</td>\n",
       "      <td>-1.065924</td>\n",
       "      <td>0.617047</td>\n",
       "    </tr>\n",
       "    <tr>\n",
       "      <th>...</th>\n",
       "      <td>...</td>\n",
       "      <td>...</td>\n",
       "      <td>...</td>\n",
       "      <td>...</td>\n",
       "      <td>...</td>\n",
       "      <td>...</td>\n",
       "    </tr>\n",
       "    <tr>\n",
       "      <th>501</th>\n",
       "      <td>-0.314968</td>\n",
       "      <td>0.724285</td>\n",
       "      <td>-0.860896</td>\n",
       "      <td>-0.434740</td>\n",
       "      <td>-1.121040</td>\n",
       "      <td>0.508064</td>\n",
       "    </tr>\n",
       "    <tr>\n",
       "      <th>502</th>\n",
       "      <td>-0.110513</td>\n",
       "      <td>0.759308</td>\n",
       "      <td>-1.255979</td>\n",
       "      <td>-0.309376</td>\n",
       "      <td>-0.891542</td>\n",
       "      <td>0.408208</td>\n",
       "    </tr>\n",
       "    <tr>\n",
       "      <th>503</th>\n",
       "      <td>-0.312360</td>\n",
       "      <td>1.155246</td>\n",
       "      <td>-0.408598</td>\n",
       "      <td>-0.786304</td>\n",
       "      <td>-1.595185</td>\n",
       "      <td>0.467947</td>\n",
       "    </tr>\n",
       "    <tr>\n",
       "      <th>504</th>\n",
       "      <td>-0.270519</td>\n",
       "      <td>1.041362</td>\n",
       "      <td>-0.585454</td>\n",
       "      <td>-0.678134</td>\n",
       "      <td>-1.416024</td>\n",
       "      <td>0.482259</td>\n",
       "    </tr>\n",
       "    <tr>\n",
       "      <th>505</th>\n",
       "      <td>-0.125803</td>\n",
       "      <td>0.761978</td>\n",
       "      <td>-1.294882</td>\n",
       "      <td>-0.288329</td>\n",
       "      <td>-0.890969</td>\n",
       "      <td>0.401474</td>\n",
       "    </tr>\n",
       "  </tbody>\n",
       "</table>\n",
       "<p>506 rows × 6 columns</p>\n",
       "</div>"
      ],
      "text/plain": [
       "            0         1         2         3         4         5\n",
       "0   -2.098297  0.773113  0.342943 -0.891774  0.423070 -0.315338\n",
       "1   -1.457252  0.591985 -0.695199 -0.487459 -0.195876  0.264223\n",
       "2   -2.074598  0.599639  0.167122 -0.739204 -0.934534  0.448095\n",
       "3   -2.611504 -0.006871 -0.100284 -0.343721 -1.104956  0.664649\n",
       "4   -2.458185  0.097712 -0.075348 -0.427907 -1.065924  0.617047\n",
       "..        ...       ...       ...       ...       ...       ...\n",
       "501 -0.314968  0.724285 -0.860896 -0.434740 -1.121040  0.508064\n",
       "502 -0.110513  0.759308 -1.255979 -0.309376 -0.891542  0.408208\n",
       "503 -0.312360  1.155246 -0.408598 -0.786304 -1.595185  0.467947\n",
       "504 -0.270519  1.041362 -0.585454 -0.678134 -1.416024  0.482259\n",
       "505 -0.125803  0.761978 -1.294882 -0.288329 -0.890969  0.401474\n",
       "\n",
       "[506 rows x 6 columns]"
      ]
     },
     "execution_count": 35,
     "metadata": {},
     "output_type": "execute_result"
    }
   ],
   "source": [
    "pd.DataFrame(pca_result)"
   ]
  },
  {
   "cell_type": "markdown",
   "metadata": {},
   "source": [
    "PCA를 이용한 독립변수 추출\n",
    "---"
   ]
  },
  {
   "cell_type": "code",
   "execution_count": 44,
   "metadata": {},
   "outputs": [],
   "source": [
    "model=pca.pca(n_components=std_x_df.shape[1])"
   ]
  },
  {
   "cell_type": "code",
   "execution_count": 45,
   "metadata": {},
   "outputs": [
    {
     "name": "stdout",
     "output_type": "stream",
     "text": [
      "[pca] >Extracting column labels from dataframe.\n",
      "[pca] >Extracting row labels from dataframe.\n",
      "[pca] >The PCA reduction is performed on the [13] columns of the input dataframe.\n",
      "[pca] >Fit using PCA.\n",
      "[pca] >Compute loadings and PCs.\n",
      "[pca] >Compute explained variance.\n",
      "[pca] >Outlier detection using Hotelling T2 test with alpha=[0.05] and n_components=[13]\n",
      "[pca] >Multiple test correction applied for Hotelling T2 test: [fdr_bh]\n",
      "[pca] >Outlier detection using SPE/DmodX with n_std=[3]\n"
     ]
    }
   ],
   "source": [
    "A=model.fit_transform(std_x_df)"
   ]
  },
  {
   "cell_type": "code",
   "execution_count": 63,
   "metadata": {},
   "outputs": [],
   "source": [
    "result=pd.DataFrame(A[\"topfeat\"])"
   ]
  },
  {
   "cell_type": "code",
   "execution_count": 64,
   "metadata": {},
   "outputs": [
    {
     "data": {
      "text/html": [
       "<div>\n",
       "<style scoped>\n",
       "    .dataframe tbody tr th:only-of-type {\n",
       "        vertical-align: middle;\n",
       "    }\n",
       "\n",
       "    .dataframe tbody tr th {\n",
       "        vertical-align: top;\n",
       "    }\n",
       "\n",
       "    .dataframe thead th {\n",
       "        text-align: right;\n",
       "    }\n",
       "</style>\n",
       "<table border=\"1\" class=\"dataframe\">\n",
       "  <thead>\n",
       "    <tr style=\"text-align: right;\">\n",
       "      <th></th>\n",
       "      <th>PC</th>\n",
       "      <th>feature</th>\n",
       "      <th>loading</th>\n",
       "      <th>type</th>\n",
       "    </tr>\n",
       "  </thead>\n",
       "  <tbody>\n",
       "    <tr>\n",
       "      <th>0</th>\n",
       "      <td>PC1</td>\n",
       "      <td>INDUS</td>\n",
       "      <td>0.346672</td>\n",
       "      <td>best</td>\n",
       "    </tr>\n",
       "    <tr>\n",
       "      <th>1</th>\n",
       "      <td>PC2</td>\n",
       "      <td>CHAS</td>\n",
       "      <td>0.454829</td>\n",
       "      <td>best</td>\n",
       "    </tr>\n",
       "    <tr>\n",
       "      <th>2</th>\n",
       "      <td>PC3</td>\n",
       "      <td>RM</td>\n",
       "      <td>0.593961</td>\n",
       "      <td>best</td>\n",
       "    </tr>\n",
       "    <tr>\n",
       "      <th>3</th>\n",
       "      <td>PC4</td>\n",
       "      <td>CHAS</td>\n",
       "      <td>0.815941</td>\n",
       "      <td>best</td>\n",
       "    </tr>\n",
       "    <tr>\n",
       "      <th>4</th>\n",
       "      <td>PC5</td>\n",
       "      <td>PTRATIO</td>\n",
       "      <td>-0.584002</td>\n",
       "      <td>best</td>\n",
       "    </tr>\n",
       "    <tr>\n",
       "      <th>5</th>\n",
       "      <td>PC6</td>\n",
       "      <td>B</td>\n",
       "      <td>-0.803455</td>\n",
       "      <td>best</td>\n",
       "    </tr>\n",
       "    <tr>\n",
       "      <th>6</th>\n",
       "      <td>PC7</td>\n",
       "      <td>CRIM</td>\n",
       "      <td>0.777607</td>\n",
       "      <td>best</td>\n",
       "    </tr>\n",
       "    <tr>\n",
       "      <th>7</th>\n",
       "      <td>PC8</td>\n",
       "      <td>AGE</td>\n",
       "      <td>-0.600823</td>\n",
       "      <td>best</td>\n",
       "    </tr>\n",
       "    <tr>\n",
       "      <th>8</th>\n",
       "      <td>PC9</td>\n",
       "      <td>INDUS</td>\n",
       "      <td>0.644416</td>\n",
       "      <td>best</td>\n",
       "    </tr>\n",
       "    <tr>\n",
       "      <th>9</th>\n",
       "      <td>PC10</td>\n",
       "      <td>LSTAT</td>\n",
       "      <td>-0.600711</td>\n",
       "      <td>best</td>\n",
       "    </tr>\n",
       "    <tr>\n",
       "      <th>10</th>\n",
       "      <td>PC11</td>\n",
       "      <td>DIS</td>\n",
       "      <td>-0.695693</td>\n",
       "      <td>best</td>\n",
       "    </tr>\n",
       "    <tr>\n",
       "      <th>11</th>\n",
       "      <td>PC12</td>\n",
       "      <td>NOX</td>\n",
       "      <td>0.804323</td>\n",
       "      <td>best</td>\n",
       "    </tr>\n",
       "    <tr>\n",
       "      <th>12</th>\n",
       "      <td>PC13</td>\n",
       "      <td>TAX</td>\n",
       "      <td>0.720233</td>\n",
       "      <td>best</td>\n",
       "    </tr>\n",
       "    <tr>\n",
       "      <th>13</th>\n",
       "      <td>PC13</td>\n",
       "      <td>RAD</td>\n",
       "      <td>-0.633490</td>\n",
       "      <td>weak</td>\n",
       "    </tr>\n",
       "    <tr>\n",
       "      <th>14</th>\n",
       "      <td>PC8</td>\n",
       "      <td>ZN</td>\n",
       "      <td>-0.402680</td>\n",
       "      <td>weak</td>\n",
       "    </tr>\n",
       "  </tbody>\n",
       "</table>\n",
       "</div>"
      ],
      "text/plain": [
       "      PC  feature   loading  type\n",
       "0    PC1    INDUS  0.346672  best\n",
       "1    PC2     CHAS  0.454829  best\n",
       "2    PC3       RM  0.593961  best\n",
       "3    PC4     CHAS  0.815941  best\n",
       "4    PC5  PTRATIO -0.584002  best\n",
       "5    PC6        B -0.803455  best\n",
       "6    PC7     CRIM  0.777607  best\n",
       "7    PC8      AGE -0.600823  best\n",
       "8    PC9    INDUS  0.644416  best\n",
       "9   PC10    LSTAT -0.600711  best\n",
       "10  PC11      DIS -0.695693  best\n",
       "11  PC12      NOX  0.804323  best\n",
       "12  PC13      TAX  0.720233  best\n",
       "13  PC13      RAD -0.633490  weak\n",
       "14   PC8       ZN -0.402680  weak"
      ]
     },
     "execution_count": 64,
     "metadata": {},
     "output_type": "execute_result"
    }
   ],
   "source": [
    "result"
   ]
  },
  {
   "cell_type": "code",
   "execution_count": 66,
   "metadata": {},
   "outputs": [
    {
     "data": {
      "text/plain": [
       "{'AGE',\n",
       " 'B',\n",
       " 'CHAS',\n",
       " 'CRIM',\n",
       " 'DIS',\n",
       " 'INDUS',\n",
       " 'LSTAT',\n",
       " 'NOX',\n",
       " 'PTRATIO',\n",
       " 'RM',\n",
       " 'TAX'}"
      ]
     },
     "execution_count": 66,
     "metadata": {},
     "output_type": "execute_result"
    }
   ],
   "source": [
    "set(result[result[\"type\"]=='best'][\"feature\"])"
   ]
  },
  {
   "cell_type": "code",
   "execution_count": 74,
   "metadata": {},
   "outputs": [],
   "source": [
    "pre_x_df=data[list(set(result[result[\"type\"]=='best'][\"feature\"]))]"
   ]
  },
  {
   "cell_type": "code",
   "execution_count": 92,
   "metadata": {},
   "outputs": [],
   "source": [
    "cols=\"+\".join(pre_x_df.columns)\n",
    "formula=f'MEDV~{cols}'"
   ]
  },
  {
   "cell_type": "code",
   "execution_count": 86,
   "metadata": {},
   "outputs": [
    {
     "data": {
      "text/plain": [
       "'MEDV~AGE+INDUS+DIS+NOX+B+CRIM+CHAS+RM+PTRATIO+TAX+LSTAT'"
      ]
     },
     "execution_count": 86,
     "metadata": {},
     "output_type": "execute_result"
    }
   ],
   "source": [
    "formula"
   ]
  },
  {
   "cell_type": "code",
   "execution_count": 71,
   "metadata": {},
   "outputs": [],
   "source": [
    "import statsmodels.api as sa"
   ]
  },
  {
   "cell_type": "code",
   "execution_count": 88,
   "metadata": {},
   "outputs": [],
   "source": [
    "model=smf.ols(formula,data=data)"
   ]
  },
  {
   "cell_type": "code",
   "execution_count": 90,
   "metadata": {},
   "outputs": [],
   "source": [
    "fianl=model.fit()"
   ]
  },
  {
   "cell_type": "code",
   "execution_count": 91,
   "metadata": {},
   "outputs": [
    {
     "data": {
      "text/html": [
       "<table class=\"simpletable\">\n",
       "<caption>OLS Regression Results</caption>\n",
       "<tr>\n",
       "  <th>Dep. Variable:</th>          <td>MEDV</td>       <th>  R-squared:         </th> <td>   0.725</td> \n",
       "</tr>\n",
       "<tr>\n",
       "  <th>Model:</th>                   <td>OLS</td>       <th>  Adj. R-squared:    </th> <td>   0.719</td> \n",
       "</tr>\n",
       "<tr>\n",
       "  <th>Method:</th>             <td>Least Squares</td>  <th>  F-statistic:       </th> <td>   118.4</td> \n",
       "</tr>\n",
       "<tr>\n",
       "  <th>Date:</th>             <td>Wed, 26 Jul 2023</td> <th>  Prob (F-statistic):</th> <td>9.42e-131</td>\n",
       "</tr>\n",
       "<tr>\n",
       "  <th>Time:</th>                 <td>13:53:52</td>     <th>  Log-Likelihood:    </th> <td> -1513.7</td> \n",
       "</tr>\n",
       "<tr>\n",
       "  <th>No. Observations:</th>      <td>   506</td>      <th>  AIC:               </th> <td>   3051.</td> \n",
       "</tr>\n",
       "<tr>\n",
       "  <th>Df Residuals:</th>          <td>   494</td>      <th>  BIC:               </th> <td>   3102.</td> \n",
       "</tr>\n",
       "<tr>\n",
       "  <th>Df Model:</th>              <td>    11</td>      <th>                     </th>     <td> </td>    \n",
       "</tr>\n",
       "<tr>\n",
       "  <th>Covariance Type:</th>      <td>nonrobust</td>    <th>                     </th>     <td> </td>    \n",
       "</tr>\n",
       "</table>\n",
       "<table class=\"simpletable\">\n",
       "<tr>\n",
       "      <td></td>         <th>coef</th>     <th>std err</th>      <th>t</th>      <th>P>|t|</th>  <th>[0.025</th>    <th>0.975]</th>  \n",
       "</tr>\n",
       "<tr>\n",
       "  <th>Intercept</th> <td>   30.5585</td> <td>    5.020</td> <td>    6.087</td> <td> 0.000</td> <td>   20.695</td> <td>   40.422</td>\n",
       "</tr>\n",
       "<tr>\n",
       "  <th>AGE</th>       <td>   -0.0083</td> <td>    0.013</td> <td>   -0.616</td> <td> 0.538</td> <td>   -0.035</td> <td>    0.018</td>\n",
       "</tr>\n",
       "<tr>\n",
       "  <th>INDUS</th>     <td>   -0.0722</td> <td>    0.061</td> <td>   -1.194</td> <td> 0.233</td> <td>   -0.191</td> <td>    0.047</td>\n",
       "</tr>\n",
       "<tr>\n",
       "  <th>DIS</th>       <td>   -1.2542</td> <td>    0.187</td> <td>   -6.698</td> <td> 0.000</td> <td>   -1.622</td> <td>   -0.886</td>\n",
       "</tr>\n",
       "<tr>\n",
       "  <th>NOX</th>       <td>  -15.8300</td> <td>    3.880</td> <td>   -4.079</td> <td> 0.000</td> <td>  -23.454</td> <td>   -8.206</td>\n",
       "</tr>\n",
       "<tr>\n",
       "  <th>B</th>         <td>    0.0086</td> <td>    0.003</td> <td>    3.112</td> <td> 0.002</td> <td>    0.003</td> <td>    0.014</td>\n",
       "</tr>\n",
       "<tr>\n",
       "  <th>CRIM</th>      <td>   -0.0619</td> <td>    0.032</td> <td>   -1.905</td> <td> 0.057</td> <td>   -0.126</td> <td>    0.002</td>\n",
       "</tr>\n",
       "<tr>\n",
       "  <th>CHAS</th>      <td>    3.1229</td> <td>    0.880</td> <td>    3.548</td> <td> 0.000</td> <td>    1.393</td> <td>    4.852</td>\n",
       "</tr>\n",
       "<tr>\n",
       "  <th>RM</th>        <td>    4.2847</td> <td>    0.420</td> <td>   10.206</td> <td> 0.000</td> <td>    3.460</td> <td>    5.110</td>\n",
       "</tr>\n",
       "<tr>\n",
       "  <th>PTRATIO</th>   <td>   -0.9655</td> <td>    0.124</td> <td>   -7.774</td> <td> 0.000</td> <td>   -1.210</td> <td>   -0.721</td>\n",
       "</tr>\n",
       "<tr>\n",
       "  <th>TAX</th>       <td>    0.0029</td> <td>    0.002</td> <td>    1.240</td> <td> 0.216</td> <td>   -0.002</td> <td>    0.007</td>\n",
       "</tr>\n",
       "<tr>\n",
       "  <th>LSTAT</th>     <td>   -0.5091</td> <td>    0.052</td> <td>   -9.786</td> <td> 0.000</td> <td>   -0.611</td> <td>   -0.407</td>\n",
       "</tr>\n",
       "</table>\n",
       "<table class=\"simpletable\">\n",
       "<tr>\n",
       "  <th>Omnibus:</th>       <td>192.416</td> <th>  Durbin-Watson:     </th> <td>   1.043</td> \n",
       "</tr>\n",
       "<tr>\n",
       "  <th>Prob(Omnibus):</th> <td> 0.000</td>  <th>  Jarque-Bera (JB):  </th> <td> 944.673</td> \n",
       "</tr>\n",
       "<tr>\n",
       "  <th>Skew:</th>          <td> 1.617</td>  <th>  Prob(JB):          </th> <td>7.36e-206</td>\n",
       "</tr>\n",
       "<tr>\n",
       "  <th>Kurtosis:</th>      <td> 8.861</td>  <th>  Cond. No.          </th> <td>1.45e+04</td> \n",
       "</tr>\n",
       "</table><br/><br/>Notes:<br/>[1] Standard Errors assume that the covariance matrix of the errors is correctly specified.<br/>[2] The condition number is large, 1.45e+04. This might indicate that there are<br/>strong multicollinearity or other numerical problems."
      ],
      "text/latex": [
       "\\begin{center}\n",
       "\\begin{tabular}{lclc}\n",
       "\\toprule\n",
       "\\textbf{Dep. Variable:}    &       MEDV       & \\textbf{  R-squared:         } &     0.725   \\\\\n",
       "\\textbf{Model:}            &       OLS        & \\textbf{  Adj. R-squared:    } &     0.719   \\\\\n",
       "\\textbf{Method:}           &  Least Squares   & \\textbf{  F-statistic:       } &     118.4   \\\\\n",
       "\\textbf{Date:}             & Wed, 26 Jul 2023 & \\textbf{  Prob (F-statistic):} & 9.42e-131   \\\\\n",
       "\\textbf{Time:}             &     13:53:52     & \\textbf{  Log-Likelihood:    } &   -1513.7   \\\\\n",
       "\\textbf{No. Observations:} &         506      & \\textbf{  AIC:               } &     3051.   \\\\\n",
       "\\textbf{Df Residuals:}     &         494      & \\textbf{  BIC:               } &     3102.   \\\\\n",
       "\\textbf{Df Model:}         &          11      & \\textbf{                     } &             \\\\\n",
       "\\textbf{Covariance Type:}  &    nonrobust     & \\textbf{                     } &             \\\\\n",
       "\\bottomrule\n",
       "\\end{tabular}\n",
       "\\begin{tabular}{lcccccc}\n",
       "                   & \\textbf{coef} & \\textbf{std err} & \\textbf{t} & \\textbf{P$> |$t$|$} & \\textbf{[0.025} & \\textbf{0.975]}  \\\\\n",
       "\\midrule\n",
       "\\textbf{Intercept} &      30.5585  &        5.020     &     6.087  &         0.000        &       20.695    &       40.422     \\\\\n",
       "\\textbf{AGE}       &      -0.0083  &        0.013     &    -0.616  &         0.538        &       -0.035    &        0.018     \\\\\n",
       "\\textbf{INDUS}     &      -0.0722  &        0.061     &    -1.194  &         0.233        &       -0.191    &        0.047     \\\\\n",
       "\\textbf{DIS}       &      -1.2542  &        0.187     &    -6.698  &         0.000        &       -1.622    &       -0.886     \\\\\n",
       "\\textbf{NOX}       &     -15.8300  &        3.880     &    -4.079  &         0.000        &      -23.454    &       -8.206     \\\\\n",
       "\\textbf{B}         &       0.0086  &        0.003     &     3.112  &         0.002        &        0.003    &        0.014     \\\\\n",
       "\\textbf{CRIM}      &      -0.0619  &        0.032     &    -1.905  &         0.057        &       -0.126    &        0.002     \\\\\n",
       "\\textbf{CHAS}      &       3.1229  &        0.880     &     3.548  &         0.000        &        1.393    &        4.852     \\\\\n",
       "\\textbf{RM}        &       4.2847  &        0.420     &    10.206  &         0.000        &        3.460    &        5.110     \\\\\n",
       "\\textbf{PTRATIO}   &      -0.9655  &        0.124     &    -7.774  &         0.000        &       -1.210    &       -0.721     \\\\\n",
       "\\textbf{TAX}       &       0.0029  &        0.002     &     1.240  &         0.216        &       -0.002    &        0.007     \\\\\n",
       "\\textbf{LSTAT}     &      -0.5091  &        0.052     &    -9.786  &         0.000        &       -0.611    &       -0.407     \\\\\n",
       "\\bottomrule\n",
       "\\end{tabular}\n",
       "\\begin{tabular}{lclc}\n",
       "\\textbf{Omnibus:}       & 192.416 & \\textbf{  Durbin-Watson:     } &     1.043  \\\\\n",
       "\\textbf{Prob(Omnibus):} &   0.000 & \\textbf{  Jarque-Bera (JB):  } &   944.673  \\\\\n",
       "\\textbf{Skew:}          &   1.617 & \\textbf{  Prob(JB):          } & 7.36e-206  \\\\\n",
       "\\textbf{Kurtosis:}      &   8.861 & \\textbf{  Cond. No.          } &  1.45e+04  \\\\\n",
       "\\bottomrule\n",
       "\\end{tabular}\n",
       "%\\caption{OLS Regression Results}\n",
       "\\end{center}\n",
       "\n",
       "Notes: \\newline\n",
       " [1] Standard Errors assume that the covariance matrix of the errors is correctly specified. \\newline\n",
       " [2] The condition number is large, 1.45e+04. This might indicate that there are \\newline\n",
       " strong multicollinearity or other numerical problems."
      ],
      "text/plain": [
       "<class 'statsmodels.iolib.summary.Summary'>\n",
       "\"\"\"\n",
       "                            OLS Regression Results                            \n",
       "==============================================================================\n",
       "Dep. Variable:                   MEDV   R-squared:                       0.725\n",
       "Model:                            OLS   Adj. R-squared:                  0.719\n",
       "Method:                 Least Squares   F-statistic:                     118.4\n",
       "Date:                Wed, 26 Jul 2023   Prob (F-statistic):          9.42e-131\n",
       "Time:                        13:53:52   Log-Likelihood:                -1513.7\n",
       "No. Observations:                 506   AIC:                             3051.\n",
       "Df Residuals:                     494   BIC:                             3102.\n",
       "Df Model:                          11                                         \n",
       "Covariance Type:            nonrobust                                         \n",
       "==============================================================================\n",
       "                 coef    std err          t      P>|t|      [0.025      0.975]\n",
       "------------------------------------------------------------------------------\n",
       "Intercept     30.5585      5.020      6.087      0.000      20.695      40.422\n",
       "AGE           -0.0083      0.013     -0.616      0.538      -0.035       0.018\n",
       "INDUS         -0.0722      0.061     -1.194      0.233      -0.191       0.047\n",
       "DIS           -1.2542      0.187     -6.698      0.000      -1.622      -0.886\n",
       "NOX          -15.8300      3.880     -4.079      0.000     -23.454      -8.206\n",
       "B              0.0086      0.003      3.112      0.002       0.003       0.014\n",
       "CRIM          -0.0619      0.032     -1.905      0.057      -0.126       0.002\n",
       "CHAS           3.1229      0.880      3.548      0.000       1.393       4.852\n",
       "RM             4.2847      0.420     10.206      0.000       3.460       5.110\n",
       "PTRATIO       -0.9655      0.124     -7.774      0.000      -1.210      -0.721\n",
       "TAX            0.0029      0.002      1.240      0.216      -0.002       0.007\n",
       "LSTAT         -0.5091      0.052     -9.786      0.000      -0.611      -0.407\n",
       "==============================================================================\n",
       "Omnibus:                      192.416   Durbin-Watson:                   1.043\n",
       "Prob(Omnibus):                  0.000   Jarque-Bera (JB):              944.673\n",
       "Skew:                           1.617   Prob(JB):                    7.36e-206\n",
       "Kurtosis:                       8.861   Cond. No.                     1.45e+04\n",
       "==============================================================================\n",
       "\n",
       "Notes:\n",
       "[1] Standard Errors assume that the covariance matrix of the errors is correctly specified.\n",
       "[2] The condition number is large, 1.45e+04. This might indicate that there are\n",
       "strong multicollinearity or other numerical problems.\n",
       "\"\"\""
      ]
     },
     "execution_count": 91,
     "metadata": {},
     "output_type": "execute_result"
    }
   ],
   "source": [
    "fianl.summary()"
   ]
  },
  {
   "cell_type": "code",
   "execution_count": null,
   "metadata": {},
   "outputs": [],
   "source": []
  }
 ],
 "metadata": {
  "kernelspec": {
   "display_name": "Python 3",
   "language": "python",
   "name": "python3"
  },
  "language_info": {
   "codemirror_mode": {
    "name": "ipython",
    "version": 3
   },
   "file_extension": ".py",
   "mimetype": "text/x-python",
   "name": "python",
   "nbconvert_exporter": "python",
   "pygments_lexer": "ipython3",
   "version": "3.11.3"
  },
  "orig_nbformat": 4
 },
 "nbformat": 4,
 "nbformat_minor": 2
}
