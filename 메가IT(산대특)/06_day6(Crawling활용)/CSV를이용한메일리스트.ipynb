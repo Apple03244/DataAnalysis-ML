{
 "cells": [
  {
   "cell_type": "code",
   "execution_count": 3,
   "metadata": {},
   "outputs": [],
   "source": [
    "import Sendmail as sm\n",
    "import datetime as dt"
   ]
  },
  {
   "cell_type": "code",
   "execution_count": 5,
   "metadata": {},
   "outputs": [],
   "source": [
    "today=dt.datetime.now()\n",
    "year=today.year\n",
    "month=today.month\n",
    "day=today.day"
   ]
  },
  {
   "cell_type": "code",
   "execution_count": 6,
   "metadata": {},
   "outputs": [],
   "source": [
    "fromAddr='dlwjdgns4128@naver.com'\n",
    "subjectTmpl=\"{name}님의 {yy}년 급여명세서입니다\""
   ]
  },
  {
   "cell_type": "code",
   "execution_count": 15,
   "metadata": {},
   "outputs": [
    {
     "ename": "FileNotFoundError",
     "evalue": "[Errno 2] No such file or directory: 'mail/content.text'",
     "output_type": "error",
     "traceback": [
      "\u001b[1;31m---------------------------------------------------------------------------\u001b[0m",
      "\u001b[1;31mFileNotFoundError\u001b[0m                         Traceback (most recent call last)",
      "Cell \u001b[1;32mIn[15], line 1\u001b[0m\n\u001b[1;32m----> 1\u001b[0m \u001b[39mwith\u001b[39;00m \u001b[39mopen\u001b[39;49m(\u001b[39m\"\u001b[39;49m\u001b[39mmail/content.text\u001b[39;49m\u001b[39m\"\u001b[39;49m,\u001b[39m\"\u001b[39;49m\u001b[39mr\u001b[39;49m\u001b[39m\"\u001b[39;49m,encoding\u001b[39m=\u001b[39;49m\u001b[39m'\u001b[39;49m\u001b[39mutf-8\u001b[39;49m\u001b[39m'\u001b[39;49m) \u001b[39mas\u001b[39;00m f:\n\u001b[0;32m      2\u001b[0m     contentTmpl\u001b[39m=\u001b[39mf\u001b[39m.\u001b[39mread()\n\u001b[0;32m      3\u001b[0m     \u001b[39mprint\u001b[39m(contentTmpl)\n",
      "File \u001b[1;32m~\\AppData\\Roaming\\Python\\Python311\\site-packages\\IPython\\core\\interactiveshell.py:284\u001b[0m, in \u001b[0;36m_modified_open\u001b[1;34m(file, *args, **kwargs)\u001b[0m\n\u001b[0;32m    277\u001b[0m \u001b[39mif\u001b[39;00m file \u001b[39min\u001b[39;00m {\u001b[39m0\u001b[39m, \u001b[39m1\u001b[39m, \u001b[39m2\u001b[39m}:\n\u001b[0;32m    278\u001b[0m     \u001b[39mraise\u001b[39;00m \u001b[39mValueError\u001b[39;00m(\n\u001b[0;32m    279\u001b[0m         \u001b[39mf\u001b[39m\u001b[39m\"\u001b[39m\u001b[39mIPython won\u001b[39m\u001b[39m'\u001b[39m\u001b[39mt let you open fd=\u001b[39m\u001b[39m{\u001b[39;00mfile\u001b[39m}\u001b[39;00m\u001b[39m by default \u001b[39m\u001b[39m\"\u001b[39m\n\u001b[0;32m    280\u001b[0m         \u001b[39m\"\u001b[39m\u001b[39mas it is likely to crash IPython. If you know what you are doing, \u001b[39m\u001b[39m\"\u001b[39m\n\u001b[0;32m    281\u001b[0m         \u001b[39m\"\u001b[39m\u001b[39myou can use builtins\u001b[39m\u001b[39m'\u001b[39m\u001b[39m open.\u001b[39m\u001b[39m\"\u001b[39m\n\u001b[0;32m    282\u001b[0m     )\n\u001b[1;32m--> 284\u001b[0m \u001b[39mreturn\u001b[39;00m io_open(file, \u001b[39m*\u001b[39;49margs, \u001b[39m*\u001b[39;49m\u001b[39m*\u001b[39;49mkwargs)\n",
      "\u001b[1;31mFileNotFoundError\u001b[0m: [Errno 2] No such file or directory: 'mail/content.text'"
     ]
    }
   ],
   "source": [
    "with open(\"mail/content.text\",\"r\",encoding='utf-8') as f:\n",
    "    contentTmpl=f.read()\n",
    "    print(contentTmpl)"
   ]
  },
  {
   "cell_type": "code",
   "execution_count": 12,
   "metadata": {},
   "outputs": [
    {
     "name": "stdout",
     "output_type": "stream",
     "text": [
      "['Python학생1,직접설정하세요,mail/document.pptx,mail/pay1.xlsx\\n', 'Python학생2,직접설정하세요,mail/document.pptx,mail/pay2.xlsx\\n', 'Python학생3,직접설정하세요,mail/document.pptx,mail/pay3.xlsx\\n', 'Python학생4,직접설정하세요,mail/document.pptx,mail/pay4.xlsx\\n', 'Python학생5,직접설정하세요,mail/document.pptx,mail/pay5.xlsx']\n"
     ]
    },
    {
     "ename": "NameError",
     "evalue": "name 'contentTmpl' is not defined",
     "output_type": "error",
     "traceback": [
      "\u001b[1;31m---------------------------------------------------------------------------\u001b[0m",
      "\u001b[1;31mNameError\u001b[0m                                 Traceback (most recent call last)",
      "Cell \u001b[1;32mIn[12], line 8\u001b[0m\n\u001b[0;32m      6\u001b[0m name,email,file1,file2\u001b[39m=\u001b[39mline\u001b[39m.\u001b[39mstrip()\u001b[39m.\u001b[39msplit(\u001b[39m\"\u001b[39m\u001b[39m,\u001b[39m\u001b[39m\"\u001b[39m)\n\u001b[0;32m      7\u001b[0m subject\u001b[39m=\u001b[39msubjectTmpl\u001b[39m.\u001b[39mformat(name\u001b[39m=\u001b[39mname,yy\u001b[39m=\u001b[39myear,mm\u001b[39m=\u001b[39mmonth)\n\u001b[1;32m----> 8\u001b[0m content\u001b[39m=\u001b[39mcontentTmpl\u001b[39m.\u001b[39mformat(name\u001b[39m=\u001b[39mname,yy\u001b[39m=\u001b[39myear,mm\u001b[39m=\u001b[39mmonth,dd\u001b[39m=\u001b[39mday)\n\u001b[0;32m      9\u001b[0m sm\u001b[39m.\u001b[39msendMail(fromAddr,email,subject,content,[file1,file2])\n",
      "\u001b[1;31mNameError\u001b[0m: name 'contentTmpl' is not defined"
     ]
    }
   ],
   "source": [
    "with open('mail/mail_list.csv',\"r\",encoding='euc-kr') as f:\n",
    "    csv=f.readlines()\n",
    "    print(csv)\n",
    "\n",
    "    for line in csv:\n",
    "        name,email,file1,file2=line.strip().split(\",\")\n",
    "        subject=subjectTmpl.format(name=name,yy=year,mm=month)\n",
    "        content=contentTmpl.format(name=name,yy=year,mm=month,dd=day)\n",
    "        sm.sendMail(fromAddr,email,subject,content,[file1,file2])"
   ]
  },
  {
   "cell_type": "code",
   "execution_count": null,
   "metadata": {},
   "outputs": [],
   "source": []
  }
 ],
 "metadata": {
  "kernelspec": {
   "display_name": "Python 3",
   "language": "python",
   "name": "python3"
  },
  "language_info": {
   "codemirror_mode": {
    "name": "ipython",
    "version": 3
   },
   "file_extension": ".py",
   "mimetype": "text/x-python",
   "name": "python",
   "nbconvert_exporter": "python",
   "pygments_lexer": "ipython3",
   "version": "3.11.3"
  },
  "orig_nbformat": 4
 },
 "nbformat": 4,
 "nbformat_minor": 2
}
