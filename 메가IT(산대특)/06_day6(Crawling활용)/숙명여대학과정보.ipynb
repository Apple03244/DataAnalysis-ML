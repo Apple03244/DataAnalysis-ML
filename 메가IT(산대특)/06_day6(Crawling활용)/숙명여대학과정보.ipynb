{
 "cells": [
  {
   "attachments": {},
   "cell_type": "markdown",
   "metadata": {},
   "source": [
    "#### 학과정보수집"
   ]
  },
  {
   "cell_type": "code",
   "execution_count": 1,
   "metadata": {},
   "outputs": [],
   "source": [
    "import requests\n",
    "import bs4\n",
    "import pandas as pd"
   ]
  },
  {
   "cell_type": "code",
   "execution_count": 2,
   "metadata": {},
   "outputs": [],
   "source": [
    "Session=requests.Session()\n",
    "Session.headers.update({\"Referer\":\"\",\n",
    "                        \"User-Agent\": 'Mozilla/5.0 (Windows NT 10.0; Win64; x64) AppleWebKit/537.36 (KHTML, like Gecko) Chrome/114.0.0.0 Safari/537.36}'})"
   ]
  },
  {
   "cell_type": "code",
   "execution_count": 3,
   "metadata": {},
   "outputs": [],
   "source": [
    "url=\"https://www.sookmyung.ac.kr/sookmyungkr/1057/subview.do\""
   ]
  },
  {
   "cell_type": "code",
   "execution_count": 4,
   "metadata": {},
   "outputs": [],
   "source": [
    "r=Session.get(url)\n",
    "if r.status_code!=200:\n",
    "    raise Exception(f'{r.status_code}{r.reason}')\n",
    "r.encoding='utf-8'"
   ]
  },
  {
   "cell_type": "code",
   "execution_count": 5,
   "metadata": {},
   "outputs": [],
   "source": [
    "soup=bs4.BeautifulSoup(r.text)"
   ]
  },
  {
   "cell_type": "code",
   "execution_count": 10,
   "metadata": {},
   "outputs": [
    {
     "data": {
      "text/plain": [
       "['https://www.sookmyung.ac.kr/sookmyungkr/1011/subview.do',\n",
       " 'https://www.sookmyung.ac.kr/sookmyungkr/1012/subview.do',\n",
       " 'https://www.sookmyung.ac.kr/sookmyungkr/1013/subview.do',\n",
       " 'https://www.sookmyung.ac.kr/sookmyungkr/1014/subview.do',\n",
       " 'https://www.sookmyung.ac.kr/sookmyungkr/1015/subview.do',\n",
       " 'https://www.sookmyung.ac.kr/sookmyungkr/1016/subview.do',\n",
       " 'https://www.sookmyung.ac.kr/sookmyungkr/1017/subview.do',\n",
       " 'https://www.sookmyung.ac.kr/sookmyungkr/1018/subview.do',\n",
       " 'https://www.sookmyung.ac.kr/sookmyungkr/1020/subview.do',\n",
       " 'https://www.sookmyung.ac.kr/sookmyungkr/1020/subview.do',\n",
       " 'https://www.sookmyung.ac.kr/sookmyungkr/1021/subview.do',\n",
       " 'https://www.sookmyung.ac.kr/sookmyungkr/1022/subview.do',\n",
       " 'https://www.sookmyung.ac.kr/sookmyungkr/1023/subview.do',\n",
       " 'https://www.sookmyung.ac.kr/sookmyungkr/1024/subview.do',\n",
       " 'https://www.sookmyung.ac.kr/sookmyungkr/1025/subview.do',\n",
       " 'https://www.sookmyung.ac.kr/sookmyungkr/1026/subview.do',\n",
       " 'https://www.sookmyung.ac.kr/sookmyungkr/1027/subview.do',\n",
       " 'https://www.sookmyung.ac.kr/sookmyungkr/1028/subview.do',\n",
       " 'https://www.sookmyung.ac.kr/sookmyungkr/1029/subview.do',\n",
       " 'https://www.sookmyung.ac.kr/sookmyungkr/1030/subview.do',\n",
       " 'https://www.sookmyung.ac.kr/sookmyungkr/1031/subview.do',\n",
       " 'https://www.sookmyung.ac.kr/sookmyungkr/1033/subview.do',\n",
       " 'https://www.sookmyung.ac.kr/sookmyungkr/1034/subview.do',\n",
       " 'https://www.sookmyung.ac.kr/sookmyungkr/1034/subview.do',\n",
       " 'https://www.sookmyung.ac.kr/sookmyungkr/1035/subview.do',\n",
       " 'https://www.sookmyung.ac.kr/sookmyungkr/1037/subview.do',\n",
       " 'https://www.sookmyung.ac.kr/sookmyungkr/1037/subview.do',\n",
       " 'https://www.sookmyung.ac.kr/sookmyungkr/1038/subview.do',\n",
       " 'https://www.sookmyung.ac.kr/sookmyungkr/1039/subview.do',\n",
       " 'https://www.sookmyung.ac.kr/sookmyungkr/1040/subview.do',\n",
       " 'https://www.sookmyung.ac.kr/sookmyungkr/1041/subview.do',\n",
       " 'https://www.sookmyung.ac.kr/sookmyungkr/1042/subview.do',\n",
       " 'https://www.sookmyung.ac.kr/sookmyungkr/1043/subview.do',\n",
       " 'https://www.sookmyung.ac.kr/sookmyungkr/1044/subview.do',\n",
       " 'https://www.sookmyung.ac.kr/sookmyungkr/1045/subview.do',\n",
       " 'https://www.sookmyung.ac.kr/sookmyungkr/1046/subview.do',\n",
       " 'https://www.sookmyung.ac.kr/sookmyungkr/1047/subview.do',\n",
       " 'https://www.sookmyung.ac.kr/sookmyungkr/1048/subview.do',\n",
       " 'https://www.sookmyung.ac.kr/sookmyungkr/1049/subview.do',\n",
       " 'https://www.sookmyung.ac.kr/sookmyungkr/1050/subview.do',\n",
       " 'https://www.sookmyung.ac.kr/sookmyungkr/1051/subview.do',\n",
       " 'https://www.sookmyung.ac.kr/sookmyungkr/1052/subview.do',\n",
       " 'https://www.sookmyung.ac.kr/sookmyungkr/1053/subview.do',\n",
       " 'https://www.sookmyung.ac.kr/sookmyungkr/1054/subview.do',\n",
       " 'https://www.sookmyung.ac.kr/sookmyungkr/1055/subview.do',\n",
       " 'https://www.sookmyung.ac.kr/sookmyungkr/1056/subview.do',\n",
       " 'https://www.sookmyung.ac.kr/sookmyungkr/1057/subview.do',\n",
       " 'https://www.sookmyung.ac.kr/sookmyungkr/1058/subview.do',\n",
       " 'https://www.sookmyung.ac.kr/sookmyungkr/1059/subview.do',\n",
       " 'https://www.sookmyung.ac.kr/sookmyungkr/1060/subview.do',\n",
       " 'https://www.sookmyung.ac.kr/sookmyungkr/1061/subview.do',\n",
       " 'https://www.sookmyung.ac.kr/sookmyungkr/1062/subview.do',\n",
       " 'https://www.sookmyung.ac.kr/sookmyungkr/1063/subview.do',\n",
       " 'https://www.sookmyung.ac.kr/sookmyungkr/1064/subview.do',\n",
       " 'https://www.sookmyung.ac.kr/sookmyungkr/1065/subview.do',\n",
       " 'https://www.sookmyung.ac.kr/sookmyungkr/1066/subview.do',\n",
       " 'https://www.sookmyung.ac.kr/sookmyungkr/1067/subview.do',\n",
       " 'https://www.sookmyung.ac.kr/sookmyungkr/1068/subview.do',\n",
       " 'https://www.sookmyung.ac.kr/sookmyungkr/1069/subview.do',\n",
       " 'https://www.sookmyung.ac.kr/sookmyungkr/1070/subview.do',\n",
       " 'https://www.sookmyung.ac.kr/sookmyungkr/1071/subview.do',\n",
       " 'https://www.sookmyung.ac.kr/sookmyungkr/1072/subview.do',\n",
       " 'https://www.sookmyung.ac.kr/sookmyungkr/1073/subview.do',\n",
       " 'https://www.sookmyung.ac.kr/sookmyungkr/1074/subview.do',\n",
       " 'https://www.sookmyung.ac.kr/sookmyungkr/1075/subview.do',\n",
       " 'https://www.sookmyung.ac.kr/sookmyungkr/1076/subview.do',\n",
       " 'https://www.sookmyung.ac.kr/sookmyungkr/1077/subview.do',\n",
       " 'https://www.sookmyung.ac.kr/sookmyungkr/1078/subview.do',\n",
       " 'https://www.sookmyung.ac.kr/sookmyungkr/1079/subview.do']"
      ]
     },
     "execution_count": 10,
     "metadata": {},
     "output_type": "execute_result"
    }
   ],
   "source": [
    "url_list=[]\n",
    "for x in soup.select(\".menuUIsub a\"):\n",
    "    if 'https://www.sookmyung.ac.kr' not in x.attrs['href']:\n",
    "        url_list.append('https://www.sookmyung.ac.kr'+x.attrs['href'])\n",
    "url_list"
   ]
  },
  {
   "attachments": {},
   "cell_type": "markdown",
   "metadata": {},
   "source": [
    "#### 데이터 추출"
   ]
  },
  {
   "cell_type": "code",
   "execution_count": 29,
   "metadata": {},
   "outputs": [],
   "source": [
    "class_list=[]\n",
    "\n",
    "r=Session.get(url)\n",
    "if r.status_code!=200:\n",
    "    raise Exception(f'{r.status_code}{r.reason}')\n",
    "r.encoding='utf-8'\n",
    "soup=bs4.BeautifulSoup(r.text)\n",
    "\n",
    "college_list=soup.select('.college_list')\n",
    "for item in college_list:\n",
    "    h5=item.select(\"h5\")\n",
    "    name=h5[0].text.strip()\n",
    "    view_ls=item.select(\".view\")\n",
    "    view=view_ls[0].attrs[\"href\"]\n",
    "\n",
    "    if view.find(\"https://www.sookmyung.ac.kr\")==-1:\n",
    "        view=\"https://www.sookmyung.ac.kr\"+view\n",
    "    \n",
    "    infoli=item.select(\".info\")\n",
    "    info=infoli[0].attrs['href']\n",
    "\n",
    "    homepageli=item.select('.homepage')\n",
    "    homepage=homepageli[0].attrs['href']\n",
    "\n",
    "    college_dict={'이름':name, \"상세페이지\":view, \"홈페이지\":homepage}\n",
    "    \n",
    "\n",
    "    r=Session.get(view)\n",
    "    if r.status_code!=200:\n",
    "        print(f'{r.status_code},{r.reason}')\n",
    "        continue\n",
    "    r.encoding='utf-8'\n",
    "    detailSoup=bs4.BeautifulSoup(r.text)\n",
    "\n",
    "    infols=detailSoup.select(\".college_info_data dl\")\n",
    "    for info in infols:\n",
    "        dt=info.select(\"dt\")[0].text.replace(\":\",\"\").strip()\n",
    "        dd=info.select(\"dd\")[0].text.replace(\":\",\"\").strip()\n",
    "        college_dict[dt]=dd\n",
    "\n",
    "    class_list.append(college_dict)\n",
    "data=pd.DataFrame(class_list)\n",
    "data.to_excel(\"학과정보수집.xlsx\")"
   ]
  },
  {
   "cell_type": "code",
   "execution_count": 30,
   "metadata": {},
   "outputs": [
    {
     "data": {
      "text/html": [
       "<div>\n",
       "<style scoped>\n",
       "    .dataframe tbody tr th:only-of-type {\n",
       "        vertical-align: middle;\n",
       "    }\n",
       "\n",
       "    .dataframe tbody tr th {\n",
       "        vertical-align: top;\n",
       "    }\n",
       "\n",
       "    .dataframe thead th {\n",
       "        text-align: right;\n",
       "    }\n",
       "</style>\n",
       "<table border=\"1\" class=\"dataframe\">\n",
       "  <thead>\n",
       "    <tr style=\"text-align: right;\">\n",
       "      <th></th>\n",
       "      <th>이름</th>\n",
       "      <th>상세페이지</th>\n",
       "      <th>홈페이지</th>\n",
       "      <th>전화</th>\n",
       "      <th>팩스</th>\n",
       "      <th>위치</th>\n",
       "      <th>이메일</th>\n",
       "    </tr>\n",
       "  </thead>\n",
       "  <tbody>\n",
       "    <tr>\n",
       "      <th>0</th>\n",
       "      <td>피아노과</td>\n",
       "      <td>https://www.sookmyung.ac.kr/sookmyungkr/1058/s...</td>\n",
       "      <td>http://music.sookmyung.ac.kr/30</td>\n",
       "      <td>02-710-9534</td>\n",
       "      <td>0303-0799-0342</td>\n",
       "      <td>음대201</td>\n",
       "      <td>ga9534@sookmyung.ac.kr</td>\n",
       "    </tr>\n",
       "    <tr>\n",
       "      <th>1</th>\n",
       "      <td>관현악과</td>\n",
       "      <td>https://www.sookmyung.ac.kr/sookmyungkr/1059/s...</td>\n",
       "      <td>http://music.sookmyung.ac.kr/29</td>\n",
       "      <td>02-710-9559</td>\n",
       "      <td>02-710-9558</td>\n",
       "      <td>음대201</td>\n",
       "      <td>gb9559@sookmyung.ac.kr</td>\n",
       "    </tr>\n",
       "    <tr>\n",
       "      <th>2</th>\n",
       "      <td>성악과</td>\n",
       "      <td>https://www.sookmyung.ac.kr/sookmyungkr/1060/s...</td>\n",
       "      <td>http://music.sookmyung.ac.kr/31</td>\n",
       "      <td>02-710-9533</td>\n",
       "      <td>02-2077-7371</td>\n",
       "      <td>음대201</td>\n",
       "      <td>gc9533@sookmyung.ac.kr</td>\n",
       "    </tr>\n",
       "    <tr>\n",
       "      <th>3</th>\n",
       "      <td>작곡과</td>\n",
       "      <td>https://www.sookmyung.ac.kr/sookmyungkr/1061/s...</td>\n",
       "      <td>http://music.sookmyung.ac.kr/32</td>\n",
       "      <td>02-710-9532</td>\n",
       "      <td>02-710-9558</td>\n",
       "      <td>음대201</td>\n",
       "      <td>gd9532@sookmyung.ac.kr</td>\n",
       "    </tr>\n",
       "  </tbody>\n",
       "</table>\n",
       "</div>"
      ],
      "text/plain": [
       "     이름                                              상세페이지  \\\n",
       "0  피아노과  https://www.sookmyung.ac.kr/sookmyungkr/1058/s...   \n",
       "1  관현악과  https://www.sookmyung.ac.kr/sookmyungkr/1059/s...   \n",
       "2   성악과  https://www.sookmyung.ac.kr/sookmyungkr/1060/s...   \n",
       "3   작곡과  https://www.sookmyung.ac.kr/sookmyungkr/1061/s...   \n",
       "\n",
       "                              홈페이지           전화              팩스     위치  \\\n",
       "0  http://music.sookmyung.ac.kr/30  02-710-9534  0303-0799-0342  음대201   \n",
       "1  http://music.sookmyung.ac.kr/29  02-710-9559     02-710-9558  음대201   \n",
       "2  http://music.sookmyung.ac.kr/31  02-710-9533    02-2077-7371  음대201   \n",
       "3  http://music.sookmyung.ac.kr/32  02-710-9532     02-710-9558  음대201   \n",
       "\n",
       "                      이메일  \n",
       "0  ga9534@sookmyung.ac.kr  \n",
       "1  gb9559@sookmyung.ac.kr  \n",
       "2  gc9533@sookmyung.ac.kr  \n",
       "3  gd9532@sookmyung.ac.kr  "
      ]
     },
     "metadata": {},
     "output_type": "display_data"
    }
   ],
   "source": [
    "display(data)"
   ]
  },
  {
   "cell_type": "code",
   "execution_count": null,
   "metadata": {},
   "outputs": [],
   "source": []
  }
 ],
 "metadata": {
  "kernelspec": {
   "display_name": "Python 3",
   "language": "python",
   "name": "python3"
  },
  "language_info": {
   "codemirror_mode": {
    "name": "ipython",
    "version": 3
   },
   "file_extension": ".py",
   "mimetype": "text/x-python",
   "name": "python",
   "nbconvert_exporter": "python",
   "pygments_lexer": "ipython3",
   "version": "3.11.3"
  },
  "orig_nbformat": 4
 },
 "nbformat": 4,
 "nbformat_minor": 2
}
