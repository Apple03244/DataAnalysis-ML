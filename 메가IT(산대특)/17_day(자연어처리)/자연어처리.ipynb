{
 "cells": [
  {
   "cell_type": "code",
   "execution_count": 1,
   "metadata": {},
   "outputs": [],
   "source": [
    "from konlpy.tag import Okt"
   ]
  },
  {
   "cell_type": "code",
   "execution_count": 2,
   "metadata": {},
   "outputs": [],
   "source": [
    "A='''또 하루 멀어져 간다.내뿜은 담배 연기처럼..작기만 한 내 기억 속에\n",
    ".무얼 채워 살고 있는지\n",
    ".점점 더 멀어져 간다\n",
    ".머물러 있는\n",
    ".청춘인 줄 알았는데\n",
    "비어 가는 내 가슴속엔\n",
    "더 아무것도 찾을 수 없네\n",
    "계절은 다시 돌아오지 만\n",
    "떠나간 내 사랑은 어디에\n",
    "내가 떠나보낸 것도 아닌데\n",
    "내가 떠나온 것도 아닌데\n",
    "조금씩 잊혀져 간다\n",
    "머물러 있는\n",
    "사랑인 줄 알았는데\n",
    "또 하루 멀어져 간다\n",
    "매일 이별하며 살고 있구나\n",
    "매일 이별하며 살고 있구나\n",
    "점점 더 멀어져 간다\n",
    "머물러 있는\n",
    "청춘인 줄 알았는데\n",
    "비어 가는 내 가슴속엔\n",
    "더 아무것도 찾을 수 없네\n",
    "계절은 다시 돌아오지만\n",
    "떠나간 내 사랑은 어디에\n",
    "내가 떠나보낸 것도 아닌데\n",
    "내가 떠나온 것도 아닌데\n",
    "조금씩 잊혀져 간다\n",
    "머물러 있는\n",
    "사랑인 줄 알았는데\n",
    "또 하루 멀어져 간다\n",
    "매일 이별하며 살고 있구나\n",
    "매일 이별하며 살고 있구나\n",
    "티모미터'''"
   ]
  },
  {
   "cell_type": "code",
   "execution_count": 3,
   "metadata": {},
   "outputs": [],
   "source": [
    "A=A.replace(\"\\n\",\"\")"
   ]
  },
  {
   "cell_type": "code",
   "execution_count": 4,
   "metadata": {},
   "outputs": [],
   "source": [
    "npl=Okt()"
   ]
  },
  {
   "cell_type": "code",
   "execution_count": 5,
   "metadata": {},
   "outputs": [],
   "source": [
    "noun=npl.nouns(A)"
   ]
  },
  {
   "cell_type": "code",
   "execution_count": 7,
   "metadata": {},
   "outputs": [
    {
     "data": {
      "text/plain": [
       "['또',\n",
       " '하루',\n",
       " '간다',\n",
       " '내뿜',\n",
       " '담배',\n",
       " '연기',\n",
       " '기만',\n",
       " '내',\n",
       " '기억',\n",
       " '속',\n",
       " '무얼',\n",
       " '살',\n",
       " '점점',\n",
       " '더',\n",
       " '간다',\n",
       " '청춘',\n",
       " '줄',\n",
       " '비어',\n",
       " '내',\n",
       " '가슴속',\n",
       " '더',\n",
       " '것',\n",
       " '수',\n",
       " '계절',\n",
       " '다시',\n",
       " '만',\n",
       " '내',\n",
       " '사랑',\n",
       " '어디',\n",
       " '내',\n",
       " '것',\n",
       " '것',\n",
       " '간다',\n",
       " '사랑',\n",
       " '줄',\n",
       " '또',\n",
       " '하루',\n",
       " '간다',\n",
       " '매일',\n",
       " '이별',\n",
       " '살',\n",
       " '매일',\n",
       " '이별',\n",
       " '살',\n",
       " '점점',\n",
       " '더',\n",
       " '간다',\n",
       " '청춘',\n",
       " '줄',\n",
       " '비어',\n",
       " '내',\n",
       " '가슴속',\n",
       " '더',\n",
       " '것',\n",
       " '수',\n",
       " '계절',\n",
       " '다시',\n",
       " '내',\n",
       " '사랑',\n",
       " '어디',\n",
       " '내',\n",
       " '것',\n",
       " '것',\n",
       " '간다',\n",
       " '사랑',\n",
       " '줄',\n",
       " '또',\n",
       " '하루',\n",
       " '간다',\n",
       " '매일',\n",
       " '이별',\n",
       " '살',\n",
       " '매일',\n",
       " '이별',\n",
       " '살',\n",
       " '티모']"
      ]
     },
     "execution_count": 7,
     "metadata": {},
     "output_type": "execute_result"
    }
   ],
   "source": [
    "noun"
   ]
  },
  {
   "cell_type": "code",
   "execution_count": 6,
   "metadata": {},
   "outputs": [
    {
     "data": {
      "text/plain": [
       "28"
      ]
     },
     "execution_count": 6,
     "metadata": {},
     "output_type": "execute_result"
    }
   ],
   "source": [
    "len(set(noun))"
   ]
  },
  {
   "cell_type": "code",
   "execution_count": 13,
   "metadata": {},
   "outputs": [],
   "source": [
    "import konlpy"
   ]
  },
  {
   "cell_type": "code",
   "execution_count": 14,
   "metadata": {},
   "outputs": [
    {
     "data": {
      "text/plain": [
       "['C:\\\\Users\\\\SAMSUNG/konlpy_data',\n",
       " 'C:\\\\konlpy_data',\n",
       " 'D:\\\\konlpy_data',\n",
       " 'E:\\\\konlpy_data',\n",
       " 'c:\\\\Users\\\\SAMSUNG\\\\AppData\\\\Local\\\\Programs\\\\Python\\\\Python311\\\\konlpy_data',\n",
       " 'c:\\\\Users\\\\SAMSUNG\\\\AppData\\\\Local\\\\Programs\\\\Python\\\\Python311\\\\lib\\\\konlpy_data',\n",
       " 'C:\\\\Users\\\\SAMSUNG\\\\AppData\\\\Roaming\\\\konlpy_data',\n",
       " 'C:\\\\Users\\\\SAMSUNG\\\\AppData\\\\Local\\\\Programs\\\\Python\\\\Python311\\\\Lib\\\\site-packages\\\\konlpy/data']"
      ]
     },
     "execution_count": 14,
     "metadata": {},
     "output_type": "execute_result"
    }
   ],
   "source": [
    "konlpy.data.path"
   ]
  },
  {
   "cell_type": "code",
   "execution_count": null,
   "metadata": {},
   "outputs": [],
   "source": []
  }
 ],
 "metadata": {
  "kernelspec": {
   "display_name": "Python 3",
   "language": "python",
   "name": "python3"
  },
  "language_info": {
   "codemirror_mode": {
    "name": "ipython",
    "version": 3
   },
   "file_extension": ".py",
   "mimetype": "text/x-python",
   "name": "python",
   "nbconvert_exporter": "python",
   "pygments_lexer": "ipython3",
   "version": "3.11.3"
  },
  "orig_nbformat": 4
 },
 "nbformat": 4,
 "nbformat_minor": 2
}
