{
 "cells": [
  {
   "cell_type": "code",
   "execution_count": 1,
   "metadata": {},
   "outputs": [],
   "source": [
    "from konlpy.tag import Okt"
   ]
  },
  {
   "cell_type": "code",
   "execution_count": 2,
   "metadata": {},
   "outputs": [],
   "source": [
    "A='''또 하루 멀어져 간다.내뿜은 담배 연기처럼..작기만 한 내 기억 속에\n",
    ".무얼 채워 살고 있는지\n",
    ".점점 더 멀어져 간다\n",
    ".머물러 있는\n",
    ".청춘인 줄 알았는데\n",
    "비어 가는 내 가슴속엔\n",
    "더 아무것도 찾을 수 없네\n",
    "계절은 다시 돌아오지 만\n",
    "떠나간 내 사랑은 어디에\n",
    "내가 떠나보낸 것도 아닌데\n",
    "내가 떠나온 것도 아닌데\n",
    "조금씩 잊혀져 간다\n",
    "머물러 있는\n",
    "사랑인 줄 알았는데\n",
    "또 하루 멀어져 간다\n",
    "매일 이별하며 살고 있구나\n",
    "매일 이별하며 살고 있구나\n",
    "점점 더 멀어져 간다\n",
    "머물러 있는\n",
    "청춘인 줄 알았는데\n",
    "비어 가는 내 가슴속엔\n",
    "더 아무것도 찾을 수 없네\n",
    "계절은 다시 돌아오지만\n",
    "떠나간 내 사랑은 어디에\n",
    "내가 떠나보낸 것도 아닌데\n",
    "내가 떠나온 것도 아닌데\n",
    "조금씩 잊혀져 간다\n",
    "머물러 있는\n",
    "사랑인 줄 알았는데\n",
    "또 하루 멀어져 간다\n",
    "매일 이별하며 살고 있구나\n",
    "매일 이별하며 살고 있구나\n",
    "티모미터'''"
   ]
  },
  {
   "cell_type": "code",
   "execution_count": 3,
   "metadata": {},
   "outputs": [],
   "source": [
    "A=A.replace(\"\\n\",\"\")"
   ]
  },
  {
   "cell_type": "code",
   "execution_count": 4,
   "metadata": {},
   "outputs": [],
   "source": [
    "npl=Okt()"
   ]
  },
  {
   "cell_type": "code",
   "execution_count": 5,
   "metadata": {},
   "outputs": [],
   "source": [
    "noun=npl.nouns(A)"
   ]
  },
  {
   "cell_type": "code",
   "execution_count": 8,
   "metadata": {},
   "outputs": [],
   "source": [
    "with open(\"./stopwords-ko.txt\",\"r\",encoding='utf-8') as f:\n",
    "    Notwords=list(map(lambda x:x.strip(),f.readlines()))"
   ]
  },
  {
   "cell_type": "code",
   "execution_count": 11,
   "metadata": {},
   "outputs": [],
   "source": [
    "import collections"
   ]
  },
  {
   "cell_type": "code",
   "execution_count": 13,
   "metadata": {},
   "outputs": [],
   "source": [
    "result={}\n",
    "for x in collections.Counter(noun):\n",
    "    if x not in Notwords:\n",
    "        result[x]=collections.Counter(noun)[x]"
   ]
  },
  {
   "cell_type": "code",
   "execution_count": 14,
   "metadata": {},
   "outputs": [
    {
     "data": {
      "text/plain": [
       "{'하루': 3,\n",
       " '간다': 7,\n",
       " '내뿜': 1,\n",
       " '담배': 1,\n",
       " '연기': 1,\n",
       " '기만': 1,\n",
       " '내': 7,\n",
       " '기억': 1,\n",
       " '속': 1,\n",
       " '무얼': 1,\n",
       " '살': 5,\n",
       " '점점': 2,\n",
       " '더': 4,\n",
       " '청춘': 2,\n",
       " '줄': 4,\n",
       " '비어': 2,\n",
       " '가슴속': 2,\n",
       " '수': 2,\n",
       " '계절': 2,\n",
       " '다시': 2,\n",
       " '만': 1,\n",
       " '사랑': 4,\n",
       " '매일': 4,\n",
       " '이별': 4,\n",
       " '티모': 1}"
      ]
     },
     "execution_count": 14,
     "metadata": {},
     "output_type": "execute_result"
    }
   ],
   "source": [
    "result"
   ]
  },
  {
   "cell_type": "code",
   "execution_count": null,
   "metadata": {},
   "outputs": [],
   "source": []
  }
 ],
 "metadata": {
  "kernelspec": {
   "display_name": "Python 3",
   "language": "python",
   "name": "python3"
  },
  "language_info": {
   "codemirror_mode": {
    "name": "ipython",
    "version": 3
   },
   "file_extension": ".py",
   "mimetype": "text/x-python",
   "name": "python",
   "nbconvert_exporter": "python",
   "pygments_lexer": "ipython3",
   "version": "3.11.3"
  },
  "orig_nbformat": 4
 },
 "nbformat": 4,
 "nbformat_minor": 2
}
