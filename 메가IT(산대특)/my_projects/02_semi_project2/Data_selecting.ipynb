{
 "cells": [
  {
   "cell_type": "code",
   "execution_count": 21,
   "metadata": {},
   "outputs": [],
   "source": [
    "import pandas as pd"
   ]
  },
  {
   "cell_type": "code",
   "execution_count": 22,
   "metadata": {},
   "outputs": [],
   "source": [
    "A=pd.read_excel(\"./제주관광공사_제주관광정보시스템(VISIT JEJU)_콘텐츠_20230315.xlsx\")"
   ]
  },
  {
   "cell_type": "code",
   "execution_count": 23,
   "metadata": {},
   "outputs": [],
   "source": [
    "data=pd.DataFrame(A)\n",
    "drop_cols=[data.columns[i] for i in sum([list(range(26,42)),\n",
    "                                         list(range(51,73))],[])]\n",
    "drop_cols.extend(sum([\n",
    "[\"웹사용여부\",\"모바일사용여부\",\"작성상태\",'사용여부','공개여부','트립어드바이저코드','템플릿여부'],\n",
    "[\"콘텐츠아이디\",\"연관콘텐츠\",\"외부검색어\",'번역요청일시'],\n",
    "[\"언어\",\"작성상태_1\",\"수정자\",\"수정일시\",\"우편번호\"],\n",
    "[\"웹사용여부\",\"모바일사용여부\",\"작성상태\",'사용여부','공개여부','트립어드바이저코드','템플릿여부']],[]))\n",
    "Use_data=data.drop(columns=drop_cols)"
   ]
  },
  {
   "cell_type": "code",
   "execution_count": 24,
   "metadata": {},
   "outputs": [
    {
     "data": {
      "text/plain": [
       "콘텐츠분류\n",
       "음식점      2443\n",
       "관광지      1518\n",
       "숙박       1320\n",
       "테마여행      779\n",
       "축제/행사     374\n",
       "쇼핑        362\n",
       "기타          3\n",
       "Name: count, dtype: int64"
      ]
     },
     "execution_count": 24,
     "metadata": {},
     "output_type": "execute_result"
    }
   ],
   "source": [
    "Use_data[\"콘텐츠분류\"].value_counts()"
   ]
  },
  {
   "cell_type": "code",
   "execution_count": 25,
   "metadata": {},
   "outputs": [],
   "source": [
    "Use_data=Use_data[(Use_data[\"지번주소\"].isna()==False)&(Use_data[\"도로명주소\"].isna()==False)]"
   ]
  },
  {
   "cell_type": "code",
   "execution_count": 26,
   "metadata": {},
   "outputs": [
    {
     "name": "stdout",
     "output_type": "stream",
     "text": [
      "6799 5339\n"
     ]
    }
   ],
   "source": [
    "print(len(data.index),len(Use_data.index))"
   ]
  },
  {
   "cell_type": "markdown",
   "metadata": {},
   "source": [
    "#### 숙박업 분류"
   ]
  },
  {
   "cell_type": "code",
   "execution_count": 27,
   "metadata": {},
   "outputs": [],
   "source": [
    "Stay=Use_data[Use_data[\"콘텐츠분류\"]==\"숙박\"]"
   ]
  },
  {
   "cell_type": "code",
   "execution_count": 28,
   "metadata": {},
   "outputs": [
    {
     "name": "stdout",
     "output_type": "stream",
     "text": [
      "1320 1287\n"
     ]
    }
   ],
   "source": [
    "print(len(data[data[\"콘텐츠분류\"]==\"숙박\"].index),len(Stay.index))"
   ]
  },
  {
   "cell_type": "code",
   "execution_count": 29,
   "metadata": {},
   "outputs": [],
   "source": [
    "Stay.to_excel(\"숙박.xlsx\")"
   ]
  },
  {
   "cell_type": "markdown",
   "metadata": {},
   "source": [
    "#### 음식점"
   ]
  },
  {
   "cell_type": "code",
   "execution_count": 30,
   "metadata": {},
   "outputs": [],
   "source": [
    "Eat=Use_data[Use_data[\"콘텐츠분류\"]==\"음식점\"]"
   ]
  },
  {
   "cell_type": "code",
   "execution_count": 31,
   "metadata": {},
   "outputs": [
    {
     "name": "stdout",
     "output_type": "stream",
     "text": [
      "2443 2081\n"
     ]
    }
   ],
   "source": [
    "print(len(data[data[\"콘텐츠분류\"]==\"음식점\"].index),len(Eat.index))"
   ]
  },
  {
   "cell_type": "code",
   "execution_count": 32,
   "metadata": {},
   "outputs": [],
   "source": [
    "Eat.to_excel(\"음식점.xlsx\")"
   ]
  },
  {
   "cell_type": "markdown",
   "metadata": {},
   "source": [
    "#### 관광지"
   ]
  },
  {
   "cell_type": "code",
   "execution_count": 33,
   "metadata": {},
   "outputs": [],
   "source": [
    "Attract=Use_data[Use_data[\"콘텐츠분류\"]==\"관광지\"]"
   ]
  },
  {
   "cell_type": "code",
   "execution_count": 34,
   "metadata": {},
   "outputs": [
    {
     "name": "stdout",
     "output_type": "stream",
     "text": [
      "1518 1420\n"
     ]
    }
   ],
   "source": [
    "print(len(data[data[\"콘텐츠분류\"]==\"관광지\"].index),len(Attract.index))"
   ]
  },
  {
   "cell_type": "code",
   "execution_count": 35,
   "metadata": {},
   "outputs": [],
   "source": [
    "Attract.to_excel(\"관광지.xlsx\")"
   ]
  },
  {
   "cell_type": "code",
   "execution_count": null,
   "metadata": {},
   "outputs": [],
   "source": []
  }
 ],
 "metadata": {
  "kernelspec": {
   "display_name": "Python 3",
   "language": "python",
   "name": "python3"
  },
  "language_info": {
   "codemirror_mode": {
    "name": "ipython",
    "version": 3
   },
   "file_extension": ".py",
   "mimetype": "text/x-python",
   "name": "python",
   "nbconvert_exporter": "python",
   "pygments_lexer": "ipython3",
   "version": "3.11.3"
  },
  "orig_nbformat": 4
 },
 "nbformat": 4,
 "nbformat_minor": 2
}
