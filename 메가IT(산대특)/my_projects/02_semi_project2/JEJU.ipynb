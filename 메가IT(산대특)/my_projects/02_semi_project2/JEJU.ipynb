{
 "cells": [
  {
   "cell_type": "markdown",
   "metadata": {},
   "source": [
    "# 카카오맵 크롤링"
   ]
  },
  {
   "cell_type": "markdown",
   "metadata": {},
   "source": [
    "## 셀리니움"
   ]
  },
  {
   "cell_type": "code",
   "execution_count": 2,
   "metadata": {},
   "outputs": [],
   "source": [
    "import pandas as pd"
   ]
  },
  {
   "cell_type": "code",
   "execution_count": 56,
   "metadata": {},
   "outputs": [],
   "source": [
    "def KAKAO(START,FINISH):\n",
    "\n",
    "    import bs4\n",
    "    import selenium\n",
    "    import chromedriver_autoinstaller\n",
    "    from selenium.webdriver.common.by import By\n",
    "    from selenium.webdriver.support.ui import WebDriverWait\n",
    "    from selenium.webdriver import Chrome\n",
    "    import time\n",
    "    from selenium.webdriver.common.keys import Keys\n",
    "    import datetime as dt\n",
    "\n",
    "    driver=Chrome()\n",
    "    time.sleep(3)\n",
    "    driver.get('https://map.kakao.com/')\n",
    "    try:\n",
    "        need_remove=WebDriverWait(driver,3).until(lambda x: x.find_element(By.CSS_SELECTOR,\".coach_layer.coach_layer_type1 .view_coach\"))\n",
    "        need_remove.click()\n",
    "    except:\n",
    "        pass\n",
    "    path_page=WebDriverWait(driver,3).until(lambda x: x.find_element(By.ID,\"search.tab2\"))\n",
    "    path_page.click()\n",
    "    try:  \n",
    "        need_remove2=WebDriverWait(driver,3).until(lambda x: x.find_element(By.CSS_SELECTOR,\".layer_body .desc_coach\"))\n",
    "        need_remove2.click()\n",
    "    except:\n",
    "        pass\n",
    "\n",
    "    start=WebDriverWait(driver,3).until(lambda x: x.find_element(By.CSS_SELECTOR,\".waypointWindow>input\"))\n",
    "    start.send_keys(Keys.ENTER)\n",
    "    start.click()\n",
    "    #_______________________________________________________________#\n",
    "    start2=WebDriverWait(driver,3).until(lambda x: x.find_element(By.CSS_SELECTOR,\".WaypointInput>input\"))\n",
    "    start2.send_keys(START) #출발지 입력\n",
    "    start2.send_keys(Keys.DOWN)\n",
    "    start2.send_keys(Keys.ENTER)\n",
    "    time.sleep(1)\n",
    "\n",
    "    finish=WebDriverWait(driver,3).until(lambda x: x.find_element(By.ID,\"info.route.waypointSuggest.input1\"))\n",
    "    finish.send_keys(\"메가스터디IT 강남점\") #도착지 입력\n",
    "    finish.send_keys(Keys.DOWN)\n",
    "    finish.send_keys(Keys.ENTER)\n",
    "    time.sleep(1)\n",
    "\n",
    "    texi=WebDriverWait(driver,3).until(lambda x: x.find_element(By.ID,\"cartab\"))\n",
    "    texi.click()\n",
    "    print(\"준비완료\")\n",
    "    #________________________<반복>________________________________________#\n",
    "    final={}\n",
    "    error=[]\n",
    "    for finishs in FINISH:\n",
    "        try:\n",
    "            refinish1=WebDriverWait(driver,3).until(lambda x: x.find_element(By.CSS_SELECTOR,\"#info .WaypointBoxView.dest .waypointWindow .valueBox\"))\n",
    "            refinish1.click()\n",
    "            refinish2=WebDriverWait(driver,3).until(lambda x: x.find_element(By.ID,\"info.route.waypointSuggest.input1\"))\n",
    "            refinish2.clear()\n",
    "            refinish2.send_keys(finishs)\n",
    "            refinish2.send_keys(Keys.ENTER)\n",
    "            time.sleep(1)\n",
    "            texi.click()\n",
    "            time.sleep(1)\n",
    "            soup=bs4.BeautifulSoup(driver.page_source)\n",
    "            datas=soup.select(\".contents\")[0]\n",
    "            info=dict.fromkeys(['time','distance','toll','taxi','oil'])\n",
    "            for key in info:\n",
    "                info[key]=datas.select(f\".{key}\")[0].text        \n",
    "            final[finishs]=info\n",
    "            time.sleep(1)\n",
    "        except:\n",
    "            error.append(finish)\n",
    "            continue\n",
    "    return final,error"
   ]
  },
  {
   "cell_type": "code",
   "execution_count": 22,
   "metadata": {},
   "outputs": [],
   "source": [
    "Data=pd.read_csv('./제주특별자치도_렌터카업체정보_20230619.csv',encoding='euc-kr')"
   ]
  },
  {
   "cell_type": "code",
   "execution_count": 23,
   "metadata": {},
   "outputs": [],
   "source": [
    "data=pd.DataFrame(Data)"
   ]
  },
  {
   "cell_type": "code",
   "execution_count": 24,
   "metadata": {},
   "outputs": [],
   "source": [
    "cols=data.columns[2]"
   ]
  },
  {
   "cell_type": "code",
   "execution_count": 25,
   "metadata": {},
   "outputs": [
    {
     "data": {
      "text/plain": [
       "'제주특별자치도 제주시 용문로 88'"
      ]
     },
     "execution_count": 25,
     "metadata": {},
     "output_type": "execute_result"
    }
   ],
   "source": [
    "data[cols][0]"
   ]
  },
  {
   "cell_type": "code",
   "execution_count": 54,
   "metadata": {},
   "outputs": [
    {
     "name": "stdout",
     "output_type": "stream",
     "text": [
      "준비완료\n"
     ]
    },
    {
     "ename": "ValueError",
     "evalue": "too many values to unpack (expected 2)",
     "output_type": "error",
     "traceback": [
      "\u001b[1;31m---------------------------------------------------------------------------\u001b[0m",
      "\u001b[1;31mValueError\u001b[0m                                Traceback (most recent call last)",
      "Cell \u001b[1;32mIn[54], line 1\u001b[0m\n\u001b[1;32m----> 1\u001b[0m test,error\u001b[39m=\u001b[39mKAKAO(\u001b[39m\"\u001b[39m\u001b[39m제주공항\u001b[39m\u001b[39m\"\u001b[39m,data[cols])\n",
      "\u001b[1;31mValueError\u001b[0m: too many values to unpack (expected 2)"
     ]
    }
   ],
   "source": [
    "test,error=KAKAO(\"제주공항\",data[cols])"
   ]
  },
  {
   "cell_type": "code",
   "execution_count": 42,
   "metadata": {},
   "outputs": [
    {
     "data": {
      "text/plain": [
       "Index(['제주특별자치도 제주시 용문로 88', '제주특별자치도 제주시 용마서길 34', '제주특별자치도 제주시 연미길 44',\n",
       "       '제주특별자치도 제주시 연미길 53', '제주특별자치도 제주시 공항로 5', '제주특별자치도 제주시 오광로 156',\n",
       "       '제주특별자치도 제주시 용해로 74', '제주특별자치도 제주시 월광로 154', '제주특별자치도 제주시 월성로4길 76-2',\n",
       "       '제주특별자치도 제주시 연미길 12', '제주특별자치도 제주시 용문로 8', '제주특별자치도 제주시 용문로 64',\n",
       "       '제주특별자치도 제주시 월성로4길 74-22', '제주특별자치도 제주시 다호5길 17', '제주특별자치도 제주시 억삼길 10',\n",
       "       '제주특별자치도 제주시 우정로 88', '제주특별자치도 제주시 공항로1길 38-1', '제주특별자치도 제주시 도리로 110',\n",
       "       '제주특별자치도 제주시 오일장중길 39', '제주특별자치도 제주시 성화로1길 5', '제주특별자치도 제주시 용문로 48',\n",
       "       '제주특별자치도 제주시 연미길 103', '제주특별자치도 제주시 오일장중길 27', '제주특별자치도 제주시 공항로1길 38',\n",
       "       '제주특별자치도 제주시 연동11길 12', '제주특별자치도 제주시 일주서로 7662',\n",
       "       '제주특별자치도 제주시 일주서로 7861', '제주특별자치도 제주시 일주서로 7667', '제주특별자치도 제주시 용해로 119',\n",
       "       '제주특별자치도 제주시 어영길 30', '제주특별자치도 제주시 연미길 42', '제주특별자치도 제주시 오일장중길 115',\n",
       "       '제주특별자치도 제주시 오도11길 19', '제주특별자치도 제주시 제성1길 30', '제주특별자치도 제주시 연미길 35',\n",
       "       '제주특별자치도 제주시 다호북길 111', '제주특별자치도 제주시 용해로 50', '제주특별자치도 제주시 신성마을길 112',\n",
       "       '제주특별자치도 제주시 다호북길 105', '제주특별자치도 제주시 오일장중길 100', '제주특별자치도 제주시 제성1길 67',\n",
       "       '제주특별자치도 제주시 오일장중길 128', '제주특별자치도 제주시 오일장서길 63', '제주특별자치도 제주시 다호북길 150',\n",
       "       '제주특별자치도 제주시 어영길 20', '제주특별자치도 제주시 오일장중길 117', '제주특별자치도 제주시 다호길 126',\n",
       "       '제주특별자치도 제주시 다호7길 28', '제주특별자치도 제주시 도령로 171-1', '제주특별자치도 제주시 오광로 24',\n",
       "       '제주특별자치도 제주시 서해안로 620-13', '제주특별자치도 제주시 제성1길 75', '제주특별자치도 제주시 연미3길 4',\n",
       "       '제주특별자치도 제주시 우도면 우도해안길 372', '제주특별자치도 제주시 선반로 93',\n",
       "       '제주특별자치도 제주시 용해로 58-7', '제주특별자치도 제주시 용해로 58-15', '제주특별자치도 제주시 오일장서길 75',\n",
       "       '제주특별자치도 제주시 제성1길 28-1', '제주특별자치도 제주시 오일장서길 68', '제주특별자치도 제주시 용해로 101',\n",
       "       '제주특별자치도 제주시 어영길10', '제주특별자치도 제주시 용해로 80-7', '제주특별자치도 제주시 용문로 26-7',\n",
       "       '제주특별자치도 제주시 용해로 92', '제주특별자치도 제주시 명신1길 19', '제주특별자치도 제주시 용문로 62',\n",
       "       '제주특별자치도 제주시 신대로 45', '제주특별자치도 제주시 다호길 130', '제주특별자치도 제주시 용문로 20',\n",
       "       '제주특별자치도 제주시 월성로4길 78', '제주특별자치도 제주시 일주서로 7581',\n",
       "       '제주특별자치도 제주시 월성로4길 74-12'],\n",
       "      dtype='object')"
      ]
     },
     "execution_count": 42,
     "metadata": {},
     "output_type": "execute_result"
    }
   ],
   "source": [
    "pd.DataFrame(test).columns"
   ]
  },
  {
   "cell_type": "code",
   "execution_count": 53,
   "metadata": {},
   "outputs": [
    {
     "name": "stdout",
     "output_type": "stream",
     "text": [
      "제주특별자치도 제주시 용문로 88\n",
      "제주특별자치도 제주시 용마서길 34\n",
      "제주특별자치도 제주시 연미길 44\n",
      "제주특별자치도 제주시 연미길 53\n",
      "제주특별자치도 제주시 공항로 5\n",
      "제주특별자치도 제주시 오광로 156\n",
      "제주특별자치도 제주시 용해로 74\n",
      "제주특별자치도 제주시 월광로 154\n",
      "제주특별자치도 제주시 월성로4길 76-2\n",
      "제주특별자치도 제주시 연미길 12\n",
      "제주특별자치도 제주시 용문로 8\n",
      "제주특별자치도 제주시 용문로 64\n",
      "제주특별자치도 제주시 월성로4길 74-22\n",
      "제주특별자치도 제주시 다호5길 17\n",
      "제주특별자치도 제주시 억삼길 10\n",
      "제주특별자치도 제주시 우정로 88\n",
      "제주특별자치도 제주시 공항로1길 38-1\n",
      "제주특별자치도 제주시 도리로 110\n",
      "제주특별자치도 제주시 오일장중길 39\n",
      "제주특별자치도 제주시 성화로1길 5\n",
      "제주특별자치도 제주시 용문로 48\n",
      "제주특별자치도 제주시 연미길 103\n",
      "제주특별자치도 제주시 오일장중길 27\n",
      "제주특별자치도 제주시 공항로1길 38\n",
      "제주특별자치도 제주시 월성로4길 76-2\n",
      "제주특별자치도 제주시 연동11길 12\n",
      "제주특별자치도 제주시 일주서로 7662\n",
      "제주특별자치도 제주시 일주서로 7861\n",
      "제주특별자치도 제주시 일주서로 7667\n",
      "제주특별자치도 제주시 용해로 119\n",
      "제주특별자치도 제주시 어영길 30\n",
      "제주특별자치도 제주시 연미길 42\n",
      "제주특별자치도 제주시 오일장중길 115\n",
      "제주특별자치도 제주시 오도11길 19\n",
      "제주특별자치도 제주시 제성1길 30\n",
      "제주특별자치도 제주시 연미길 35\n",
      "제주특별자치도 제주시 다호북길 111\n",
      "제주특별자치도 제주시 다호5길 17\n",
      "제주특별자치도 제주시 용해로 50\n",
      "제주특별자치도 제주시 신성마을길 112\n",
      "제주특별자치도 제주시 제성1길 30\n",
      "제주특별자치도 제주시 다호북길 105\n",
      "제주특별자치도 제주시 오일장중길 100\n",
      "제주특별자치도 제주시 제성1길 67\n",
      "제주특별자치도 제주시 오일장중길 128\n",
      "제주특별자치도 제주시 오일장중길 128\n",
      "제주특별자치도 제주시 오일장서길 63\n",
      "제주특별자치도 제주시 다호북길 150\n",
      "제주특별자치도 제주시 제성1길 67\n",
      "제주특별자치도 제주시 어영길 20\n",
      "제주특별자치도 제주시 오일장중길 117\n",
      "제주특별자치도 제주시 다호길 126\n",
      "제주특별자치도 제주시 연미길 53\n",
      "제주특별자치도 제주시 다호7길 28\n",
      "제주특별자치도 제주시 오일장중길 128\n",
      "제주특별자치도 제주시 신성마을길 112\n",
      "제주특별자치도 제주시 어영길 30\n",
      "제주특별자치도 제주시 오일장중길 117\n",
      "제주특별자치도 제주시 도령로 171-1\n",
      "제주특별자치도 제주시 연미길 103\n",
      "제주특별자치도 제주시 다호북길 111\n",
      "제주특별자치도 제주시 다호북길 111\n",
      "제주특별자치도 제주시 제성1길 67\n",
      "제주특별자치도 제주시 오일장중길 117\n",
      "제주특별자치도 제주시 오광로 24\n",
      "제주특별자치도 제주시 도령로 171-1\n",
      "제주특별자치도 제주시 서해안로 620-13\n",
      "제주특별자치도 제주시 제성1길 75\n",
      "제주특별자치도 제주시 오일장중길 117\n",
      "제주특별자치도 제주시 용문로 48\n",
      "제주특별자치도 제주시 오일장중길 117\n",
      "제주특별자치도 제주시 신성마을길 112\n",
      "제주특별자치도 제주시 연미3길 4\n",
      "제주특별자치도 제주시 제성1길 67\n",
      "제주특별자치도 제주시 다호5길 17\n",
      "제주특별자치도 제주시 우도면 우도해안길 372\n",
      "제주특별자치도 제주시 도령로 171-1\n",
      "제주특별자치도 제주시 용문로 48\n",
      "제주특별자치도 제주시 선반로 93\n",
      "제주특별자치도 제주시 용해로 58-7\n",
      "제주특별자치도 제주시 용해로 58-15\n",
      "제주특별자치도 제주시 도령로 171-1\n",
      "제주특별자치도 제주시 어영길 20\n",
      "제주특별자치도 제주시 오일장서길 63\n",
      "제주특별자치도 제주시 오일장서길 75\n",
      "제주특별자치도 제주시 일주서로 7861\n",
      "제주특별자치도 제주시 제성1길 28-1\n",
      "제주특별자치도 제주시 오일장서길 68\n",
      "제주특별자치도 제주시 어영길 20\n",
      "제주특별자치도 제주시 공항로1길 38-1\n",
      "제주특별자치도 제주시 다호5길 17\n",
      "제주특별자치도 제주시 다호북길 111\n",
      "제주특별자치도 제주시 용해로 101\n",
      "제주특별자치도 제주시 용해로 58-7\n",
      "제주특별자치도 제주시 오일장서길 63\n",
      "제주특별자치도 제주시 억삼길 10\n",
      "제주특별자치도 제주시 어영길10\n",
      "제주특별자치도 제주시 공항로 5\n",
      "제주특별자치도 제주시 제성1길 28-1\n",
      "제주특별자치도 제주시 다호5길 17\n",
      "제주특별자치도 제주시 용해로 80-7\n",
      "제주특별자치도 제주시 제성1길 75\n",
      "제주특별자치도 제주시 용문로 26-7\n",
      "제주특별자치도 제주시 오일장중길 128\n",
      "제주특별자치도 제주시 용해로 92\n",
      "제주특별자치도 제주시 명신1길 19\n",
      "제주특별자치도 제주시 용문로 62\n",
      "제주특별자치도 제주시 신대로 45\n",
      "제주특별자치도 제주시 다호길 130\n",
      "제주특별자치도 제주시 용문로 20\n",
      "제주특별자치도 제주시 월성로4길 78\n",
      "제주특별자치도 제주시 일주서로 7581\n",
      "제주특별자치도 제주시 월성로4길 74-12\n"
     ]
    }
   ],
   "source": [
    "error=[]\n",
    "for i in data[data.columns[2]]:\n",
    "    if i in pd.DataFrame(test).columns:\n",
    "        print(i)\n",
    "        error.append(i)    "
   ]
  },
  {
   "cell_type": "code",
   "execution_count": 50,
   "metadata": {},
   "outputs": [
    {
     "data": {
      "text/plain": [
       "[]"
      ]
     },
     "execution_count": 50,
     "metadata": {},
     "output_type": "execute_result"
    }
   ],
   "source": [
    "error"
   ]
  },
  {
   "cell_type": "code",
   "execution_count": 48,
   "metadata": {},
   "outputs": [
    {
     "data": {
      "text/plain": [
       "113"
      ]
     },
     "execution_count": 48,
     "metadata": {},
     "output_type": "execute_result"
    }
   ],
   "source": [
    "len(data)"
   ]
  },
  {
   "cell_type": "code",
   "execution_count": 49,
   "metadata": {},
   "outputs": [
    {
     "data": {
      "text/plain": [
       "73"
      ]
     },
     "execution_count": 49,
     "metadata": {},
     "output_type": "execute_result"
    }
   ],
   "source": [
    "len(pd.DataFrame(test).columns)"
   ]
  },
  {
   "cell_type": "code",
   "execution_count": null,
   "metadata": {},
   "outputs": [],
   "source": []
  }
 ],
 "metadata": {
  "kernelspec": {
   "display_name": "Python 3",
   "language": "python",
   "name": "python3"
  },
  "language_info": {
   "codemirror_mode": {
    "name": "ipython",
    "version": 3
   },
   "file_extension": ".py",
   "mimetype": "text/x-python",
   "name": "python",
   "nbconvert_exporter": "python",
   "pygments_lexer": "ipython3",
   "version": "3.11.3"
  },
  "orig_nbformat": 4
 },
 "nbformat": 4,
 "nbformat_minor": 2
}
