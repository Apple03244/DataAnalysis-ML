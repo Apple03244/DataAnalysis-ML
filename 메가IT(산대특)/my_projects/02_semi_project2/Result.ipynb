{
 "cells": [
  {
   "cell_type": "code",
   "execution_count": 64,
   "metadata": {},
   "outputs": [
    {
     "data": {
      "text/plain": [
       "'\\ndef Jeju(start:str=\"출발지\",finish:list=\"도착지들\"):\\n    import bs4\\n    import selenium\\n    import chromedriver_autoinstaller\\n    from selenium.webdriver.common.by import By\\n    from selenium.webdriver.support.ui import WebDriverWait\\n    from selenium.webdriver import Chrome\\n    import time\\n    from selenium.webdriver.common.keys import Keys\\n    import datetime as dt\\n    \\n    def kakao(x,y):\\n        driver=Chrome()\\n        time.sleep(3)\\n        driver.get(\\'https://map.kakao.com/\\')\\n        try:\\n            need_remove=WebDriverWait(driver,3).until(lambda x: x.find_element(By.CSS_SELECTOR,\".coach_layer.coach_layer_type1 .view_coach\"))\\n            need_remove.click()\\n        except:\\n            pass\\n        path_page=WebDriverWait(driver,3).until(lambda x: x.find_element(By.ID,\"search.tab2\"))\\n        path_page.click()\\n        try:  \\n            need_remove2=WebDriverWait(driver,3).until(lambda x: x.find_element(By.CSS_SELECTOR,\".layer_body .desc_coach\"))\\n            need_remove2.click()\\n        except:\\n            pass\\n        print(\"작업준비 끝, 출발지와 도착지(list))를 입력하세요\")\\n\\n        start=WebDriverWait(driver,3).until(lambda x: x.find_element(By.CSS_SELECTOR,\".waypointWindow>input\"))\\n        start.send_keys(Keys.ENTER)\\n        start.click()\\n        start2=WebDriverWait(driver,3).until(lambda x: x.find_element(By.CSS_SELECTOR,\".WaypointInput>input\"))\\n        start2.send_keys(x) #출발지 입력\\n        start2.send_keys(Keys.DOWN)\\n        start2.send_keys(Keys.ENTER)\\n        time.sleep(1)\\n\\n        finish=WebDriverWait(driver,3).until(lambda x: x.find_element(By.ID,\"info.route.waypointSuggest.input1\"))\\n        finish.send_keys(y) #도착지 입력\\n        finish.send_keys(Keys.DOWN)\\n        finish.send_keys(Keys.ENTER)\\n        time.sleep(1)\\n\\n        texi=WebDriverWait(driver,3).until(lambda x: x.find_element(By.ID,\"cartab\"))\\n        texi.click()\\n        print(\"준비완료\")\\n\\n        soup=bs4.BeautifulSoup(driver.page_source)\\n        #우리가 원하던 정보(시간,거리,통행료,택시비,주유비) -> contents class 안에 있음.\\n        #datas=soup.select(\".contents\")[0]\\n        #info=dict.fromkeys([\\'time\\',\\'distance\\',\\'toll\\',\\'taxi\\',\\'oil\\'])\\n        #for key in info:\\n            #info[key]=datas.select(f\".{key}\")[0].text\\n        return soup.select(\".contents\")\\n    \\n    Good={}\\n    Bad=[]\\n    for area in finish:\\n        try:\\n            Good[area]=kakao(start,area)\\n        except:\\n            Bad.append(area)\\n    return {\\'Good\\':Good,\"Bad\":Bad}'"
      ]
     },
     "execution_count": 64,
     "metadata": {},
     "output_type": "execute_result"
    }
   ],
   "source": [
    "'''\n",
    "def Jeju(start:str=\"출발지\",finish:list=\"도착지들\"):\n",
    "    import bs4\n",
    "    import selenium\n",
    "    import chromedriver_autoinstaller\n",
    "    from selenium.webdriver.common.by import By\n",
    "    from selenium.webdriver.support.ui import WebDriverWait\n",
    "    from selenium.webdriver import Chrome\n",
    "    import time\n",
    "    from selenium.webdriver.common.keys import Keys\n",
    "    import datetime as dt\n",
    "    \n",
    "    def kakao(x,y):\n",
    "        driver=Chrome()\n",
    "        time.sleep(3)\n",
    "        driver.get('https://map.kakao.com/')\n",
    "        try:\n",
    "            need_remove=WebDriverWait(driver,3).until(lambda x: x.find_element(By.CSS_SELECTOR,\".coach_layer.coach_layer_type1 .view_coach\"))\n",
    "            need_remove.click()\n",
    "        except:\n",
    "            pass\n",
    "        path_page=WebDriverWait(driver,3).until(lambda x: x.find_element(By.ID,\"search.tab2\"))\n",
    "        path_page.click()\n",
    "        try:  \n",
    "            need_remove2=WebDriverWait(driver,3).until(lambda x: x.find_element(By.CSS_SELECTOR,\".layer_body .desc_coach\"))\n",
    "            need_remove2.click()\n",
    "        except:\n",
    "            pass\n",
    "        print(\"작업준비 끝, 출발지와 도착지(list))를 입력하세요\")\n",
    "\n",
    "        start=WebDriverWait(driver,3).until(lambda x: x.find_element(By.CSS_SELECTOR,\".waypointWindow>input\"))\n",
    "        start.send_keys(Keys.ENTER)\n",
    "        start.click()\n",
    "        start2=WebDriverWait(driver,3).until(lambda x: x.find_element(By.CSS_SELECTOR,\".WaypointInput>input\"))\n",
    "        start2.send_keys(x) #출발지 입력\n",
    "        start2.send_keys(Keys.DOWN)\n",
    "        start2.send_keys(Keys.ENTER)\n",
    "        time.sleep(1)\n",
    "\n",
    "        finish=WebDriverWait(driver,3).until(lambda x: x.find_element(By.ID,\"info.route.waypointSuggest.input1\"))\n",
    "        finish.send_keys(y) #도착지 입력\n",
    "        finish.send_keys(Keys.DOWN)\n",
    "        finish.send_keys(Keys.ENTER)\n",
    "        time.sleep(1)\n",
    "\n",
    "        texi=WebDriverWait(driver,3).until(lambda x: x.find_element(By.ID,\"cartab\"))\n",
    "        texi.click()\n",
    "        print(\"준비완료\")\n",
    "\n",
    "        soup=bs4.BeautifulSoup(driver.page_source)\n",
    "        #우리가 원하던 정보(시간,거리,통행료,택시비,주유비) -> contents class 안에 있음.\n",
    "        #datas=soup.select(\".contents\")[0]\n",
    "        #info=dict.fromkeys(['time','distance','toll','taxi','oil'])\n",
    "        #for key in info:\n",
    "            #info[key]=datas.select(f\".{key}\")[0].text\n",
    "        return soup.select(\".contents\")\n",
    "    \n",
    "    Good={}\n",
    "    Bad=[]\n",
    "    for area in finish:\n",
    "        try:\n",
    "            Good[area]=kakao(start,area)\n",
    "        except:\n",
    "            Bad.append(area)\n",
    "    return {'Good':Good,\"Bad\":Bad}'''"
   ]
  },
  {
   "cell_type": "code",
   "execution_count": 5,
   "metadata": {},
   "outputs": [],
   "source": [
    "D=pd.read_csv('제주특별자치도_관광숙박업현황_20221122.csv',encoding='euc-kr')\n",
    "data=pd.DataFrame(D)"
   ]
  },
  {
   "cell_type": "code",
   "execution_count": 1,
   "metadata": {},
   "outputs": [],
   "source": [
    "def KAKAO(START,FINISH):\n",
    "\n",
    "    import bs4\n",
    "    import selenium\n",
    "    import chromedriver_autoinstaller\n",
    "    from selenium.webdriver.common.by import By\n",
    "    from selenium.webdriver.support.ui import WebDriverWait\n",
    "    from selenium.webdriver import Chrome\n",
    "    import time\n",
    "    from selenium.webdriver.common.keys import Keys\n",
    "    import datetime as dt\n",
    "\n",
    "    driver=Chrome()\n",
    "    time.sleep(3)\n",
    "    driver.get('https://map.kakao.com/')\n",
    "    try:\n",
    "        need_remove=WebDriverWait(driver,3).until(lambda x: x.find_element(By.CSS_SELECTOR,\".coach_layer.coach_layer_type1 .view_coach\"))\n",
    "        need_remove.click()\n",
    "    except:\n",
    "        pass\n",
    "    path_page=WebDriverWait(driver,3).until(lambda x: x.find_element(By.ID,\"search.tab2\"))\n",
    "    path_page.click()\n",
    "    try:  \n",
    "        need_remove2=WebDriverWait(driver,3).until(lambda x: x.find_element(By.CSS_SELECTOR,\".layer_body .desc_coach\"))\n",
    "        need_remove2.click()\n",
    "    except:\n",
    "        pass\n",
    "\n",
    "    start=WebDriverWait(driver,3).until(lambda x: x.find_element(By.CSS_SELECTOR,\".waypointWindow>input\"))\n",
    "    start.send_keys(Keys.ENTER)\n",
    "    start.click()\n",
    "    #_______________________________________________________________#\n",
    "    start2=WebDriverWait(driver,3).until(lambda x: x.find_element(By.CSS_SELECTOR,\".WaypointInput>input\"))\n",
    "    start2.send_keys(START) #출발지 입력\n",
    "    start2.send_keys(Keys.DOWN)\n",
    "    start2.send_keys(Keys.ENTER)\n",
    "    time.sleep(1)\n",
    "\n",
    "    finish=WebDriverWait(driver,3).until(lambda x: x.find_element(By.ID,\"info.route.waypointSuggest.input1\"))\n",
    "    finish.send_keys(\"메가스터디IT 강남점\") #도착지 입력\n",
    "    finish.send_keys(Keys.DOWN)\n",
    "    finish.send_keys(Keys.ENTER)\n",
    "    time.sleep(1)\n",
    "\n",
    "    texi=WebDriverWait(driver,3).until(lambda x: x.find_element(By.ID,\"cartab\"))\n",
    "    texi.click()\n",
    "    print(\"준비완료\")\n",
    "    #________________________<반복>________________________________________#\n",
    "    final={}\n",
    "    for finishs in FINISH:\n",
    "        try:\n",
    "            refinish1=WebDriverWait(driver,3).until(lambda x: x.find_element(By.CSS_SELECTOR,\"#info .WaypointBoxView.dest .waypointWindow .valueBox\"))\n",
    "            refinish1.click()\n",
    "            refinish2=WebDriverWait(driver,3).until(lambda x: x.find_element(By.ID,\"info.route.waypointSuggest.input1\"))\n",
    "            refinish2.clear()\n",
    "            refinish2.send_keys(finishs)\n",
    "            refinish2.send_keys(Keys.ENTER)\n",
    "            time.sleep(1)\n",
    "            texi.click()\n",
    "            time.sleep(1)\n",
    "            soup=bs4.BeautifulSoup(driver.page_source)\n",
    "            datas=soup.select(\".contents\")[0]\n",
    "            info=dict.fromkeys(['time','distance','toll','taxi','oil'])\n",
    "            for key in info:\n",
    "                info[key]=datas.select(f\".{key}\")[0].text        \n",
    "            final[finishs]=info\n",
    "            time.sleep(1)\n",
    "        except:\n",
    "            continue\n",
    "    return final"
   ]
  },
  {
   "cell_type": "code",
   "execution_count": 63,
   "metadata": {},
   "outputs": [
    {
     "name": "stdout",
     "output_type": "stream",
     "text": [
      "준비완료\n"
     ]
    },
    {
     "data": {
      "text/plain": [
       "{'오렌지렌트카': {'time': '7시간 50분',\n",
       "  'distance': '556.7km',\n",
       "  'toll': '통행료 약 21,600원',\n",
       "  'taxi': '택시비 약 523,900원',\n",
       "  'oil': '주유비 약 67,053원'},\n",
       " '제주 오렌지렌트카': {'time': '7시간 50분',\n",
       "  'distance': '556.7km',\n",
       "  'toll': '통행료 약 21,600원',\n",
       "  'taxi': '택시비 약 523,900원',\n",
       "  'oil': '주유비 약 67,053원'}}"
      ]
     },
     "execution_count": 63,
     "metadata": {},
     "output_type": "execute_result"
    }
   ],
   "source": [
    "KAKAO(\"제주공항\",[\"오렌지렌트카\",\"제주 오렌지렌트카\"])"
   ]
  },
  {
   "cell_type": "code",
   "execution_count": null,
   "metadata": {},
   "outputs": [],
   "source": []
  }
 ],
 "metadata": {
  "kernelspec": {
   "display_name": "Python 3",
   "language": "python",
   "name": "python3"
  },
  "language_info": {
   "codemirror_mode": {
    "name": "ipython",
    "version": 3
   },
   "file_extension": ".py",
   "mimetype": "text/x-python",
   "name": "python",
   "nbconvert_exporter": "python",
   "pygments_lexer": "ipython3",
   "version": "3.11.3"
  },
  "orig_nbformat": 4
 },
 "nbformat": 4,
 "nbformat_minor": 2
}
