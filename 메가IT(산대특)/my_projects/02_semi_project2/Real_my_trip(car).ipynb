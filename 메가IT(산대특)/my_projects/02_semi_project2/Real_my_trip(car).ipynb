{
 "cells": [
  {
   "cell_type": "code",
   "execution_count": 1,
   "metadata": {},
   "outputs": [],
   "source": [
    "url='https://www.myrealtrip.com/rentacar/products?city[code]=JEJU&city[label]=%EC%A0%9C%EC%A3%BC&pickupDate=2023-07-20&returnDate=2023-07-26&pickupTime=10%3A00&returnTime=10%3A00&birthday=1996-07-13&oneYearCareer=true&delivery=false'"
   ]
  },
  {
   "cell_type": "code",
   "execution_count": 2,
   "metadata": {},
   "outputs": [],
   "source": [
    "import numpy as np\n",
    "import pandas as pd\n",
    "import chromedriver_autoinstaller\n",
    "import selenium\n",
    "from selenium.webdriver.common.by import  By\n",
    "from selenium.webdriver.support.ui import WebDriverWait\n",
    "from selenium.webdriver import Chrome\n",
    "import time\n",
    "import bs4"
   ]
  },
  {
   "cell_type": "code",
   "execution_count": 3,
   "metadata": {},
   "outputs": [],
   "source": [
    "driver=Chrome()"
   ]
  },
  {
   "cell_type": "code",
   "execution_count": 9,
   "metadata": {},
   "outputs": [],
   "source": [
    "driver.get('https://www.myrealtrip.com/rentacar/products?city[code]=JEJU&city[label]=%EC%A0%9C%EC%A3%BC&pickupDate=2023-07-20&returnDate=2023-07-26&pickupTime=10%3A00&returnTime=10%3A00&birthday=1996-07-13&oneYearCareer=true&delivery=false')"
   ]
  },
  {
   "cell_type": "code",
   "execution_count": 5,
   "metadata": {},
   "outputs": [],
   "source": [
    "driver.get(url)\n",
    "time.sleep(2)"
   ]
  },
  {
   "cell_type": "code",
   "execution_count": 10,
   "metadata": {},
   "outputs": [],
   "source": [
    "#인기도순\n",
    "favor=WebDriverWait(driver,3).until(lambda x:x.find_element(By.CSS_SELECTOR,\".mrt-listcontrol-sort-btn>button\"))\n",
    "favor.click()"
   ]
  },
  {
   "cell_type": "code",
   "execution_count": 11,
   "metadata": {},
   "outputs": [],
   "source": [
    "#페이지목록들\n",
    "favor=WebDriverWait(driver,3).until(lambda x:x.find_element(By.CSS_SELECTOR,\".mrt-listcontrol-sort-btn>button\"))"
   ]
  },
  {
   "cell_type": "code",
   "execution_count": 12,
   "metadata": {},
   "outputs": [],
   "source": [
    "test=bs4.BeautifulSoup(driver.page_source)"
   ]
  },
  {
   "cell_type": "code",
   "execution_count": 13,
   "metadata": {},
   "outputs": [
    {
     "data": {
      "text/plain": [
       "'에이스렌트카4.2(31)'"
      ]
     },
     "execution_count": 13,
     "metadata": {},
     "output_type": "execute_result"
    }
   ],
   "source": [
    "test.select(\".css-1ss105e--RentcarProductCard--Box.ecg2jpc3  .css-128tmvz--AgencyScore--AgencyReviewContainer.eznkoah1\")[0].text"
   ]
  },
  {
   "cell_type": "code",
   "execution_count": 19,
   "metadata": {},
   "outputs": [],
   "source": [
    "name1=list(map(lambda x:x.text,test.select('.e1my0ywb0.css-1xcggqg--Text--StyledSpan--AgencyName--Name.e1sa4xv80')))"
   ]
  },
  {
   "cell_type": "markdown",
   "metadata": {},
   "source": [
    "### 5페이지로 눌러놓기"
   ]
  },
  {
   "cell_type": "code",
   "execution_count": 14,
   "metadata": {},
   "outputs": [],
   "source": [
    "#페이지(이전 페이지)\n",
    "page=WebDriverWait(driver,3).until(lambda x:x.find_element(By.CSS_SELECTOR,\".css-13fjuep\"))"
   ]
  },
  {
   "cell_type": "code",
   "execution_count": 30,
   "metadata": {},
   "outputs": [],
   "source": [
    "page.click()"
   ]
  },
  {
   "cell_type": "code",
   "execution_count": 16,
   "metadata": {},
   "outputs": [],
   "source": [
    "result={\"rank\": [],\n",
    "        \"error\":[]}\n",
    "i=0\n",
    "while True:\n",
    "    try:\n",
    "        favor=WebDriverWait(driver,3).until(lambda x:x.find_element(By.CSS_SELECTOR,\".mrt-listcontrol-sort-btn>button\"))        \n",
    "        test=bs4.BeautifulSoup(driver.page_source)\n",
    "        name1=list(map(lambda x:x.text,test.select('.e1my0ywb0.css-1xcggqg--Text--StyledSpan--AgencyName--Name.e1sa4xv80')))\n",
    "        result[\"rank\"].extend(name1)\n",
    "        page=WebDriverWait(driver,3).until(lambda x:x.find_element(By.CSS_SELECTOR,\".css-13fjuep\"))\n",
    "        page.click()\n",
    "    except:\n",
    "        result[\"error\"].append(i)\n",
    "    i+=1\n",
    "    if i>=8:\n",
    "        break"
   ]
  },
  {
   "cell_type": "code",
   "execution_count": 19,
   "metadata": {},
   "outputs": [
    {
     "data": {
      "text/plain": [
       "128"
      ]
     },
     "execution_count": 19,
     "metadata": {},
     "output_type": "execute_result"
    }
   ],
   "source": [
    "len(result[\"rank\"])"
   ]
  },
  {
   "cell_type": "code",
   "execution_count": 25,
   "metadata": {},
   "outputs": [
    {
     "data": {
      "text/plain": [
       "[]"
      ]
     },
     "execution_count": 25,
     "metadata": {},
     "output_type": "execute_result"
    }
   ],
   "source": [
    "result[\"error\"]"
   ]
  },
  {
   "cell_type": "code",
   "execution_count": 23,
   "metadata": {},
   "outputs": [],
   "source": [
    "A=pd.DataFrame(data=result[\"rank\"], index=range(len(result[\"rank\"])))"
   ]
  },
  {
   "cell_type": "code",
   "execution_count": 24,
   "metadata": {},
   "outputs": [
    {
     "data": {
      "text/plain": [
       "제주공항렌트카    32\n",
       "레츠고렌트카     24\n",
       "퍼시픽렌트카     24\n",
       "제주OK렌터카    16\n",
       "KD렌트카       8\n",
       "메트로렌트카      8\n",
       "바로렌트카       8\n",
       "제주마음렌트카     8\n",
       "Name: count, dtype: int64"
      ]
     },
     "execution_count": 24,
     "metadata": {},
     "output_type": "execute_result"
    }
   ],
   "source": [
    "A.value_counts()"
   ]
  },
  {
   "cell_type": "code",
   "execution_count": null,
   "metadata": {},
   "outputs": [],
   "source": []
  }
 ],
 "metadata": {
  "kernelspec": {
   "display_name": "Python 3",
   "language": "python",
   "name": "python3"
  },
  "language_info": {
   "codemirror_mode": {
    "name": "ipython",
    "version": 3
   },
   "file_extension": ".py",
   "mimetype": "text/x-python",
   "name": "python",
   "nbconvert_exporter": "python",
   "pygments_lexer": "ipython3",
   "version": "3.11.3"
  },
  "orig_nbformat": 4
 },
 "nbformat": 4,
 "nbformat_minor": 2
}
