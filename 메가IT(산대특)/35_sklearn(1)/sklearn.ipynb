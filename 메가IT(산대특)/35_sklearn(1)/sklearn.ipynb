{
 "cells": [
  {
   "cell_type": "code",
   "execution_count": 1,
   "metadata": {},
   "outputs": [],
   "source": [
    "import pandas as pd"
   ]
  },
  {
   "cell_type": "code",
   "execution_count": 2,
   "metadata": {},
   "outputs": [],
   "source": [
    "D=pd.read_excel(\"http://data.hossam.kr/F02/fish.xlsx\")\n",
    "data=pd.DataFrame((D))"
   ]
  },
  {
   "cell_type": "markdown",
   "metadata": {},
   "source": [
    "# 데이터 분리"
   ]
  },
  {
   "cell_type": "code",
   "execution_count": 3,
   "metadata": {},
   "outputs": [],
   "source": [
    "import sklearn.preprocessing as skpre\n",
    "from sklearn.model_selection import train_test_split"
   ]
  },
  {
   "cell_type": "markdown",
   "metadata": {},
   "source": [
    "## 분리하기 전에 독립변수를 좀 살펴보자"
   ]
  },
  {
   "cell_type": "code",
   "execution_count": 4,
   "metadata": {},
   "outputs": [],
   "source": [
    "import matplotlib.pyplot as plt\n",
    "import seaborn as sb\n",
    "plt.rcParams[\"font.family\"]=\"BM YEONSUNG\""
   ]
  },
  {
   "cell_type": "code",
   "execution_count": 5,
   "metadata": {},
   "outputs": [
    {
     "data": {
      "image/png": "[encoded data removed]",
      "text/plain": [
       "<Figure size 640x480 with 1 Axes>"
      ]
     },
     "metadata": {},
     "output_type": "display_data"
    }
   ],
   "source": [
    "plt.figure()\n",
    "sb.histplot(data[\"길이\"],bins=7)\n",
    "plt.show()\n",
    "plt.close()"
   ]
  },
  {
   "cell_type": "code",
   "execution_count": 6,
   "metadata": {},
   "outputs": [
    {
     "data": {
      "text/html": [
       "<div>\n",
       "<style scoped>\n",
       "    .dataframe tbody tr th:only-of-type {\n",
       "        vertical-align: middle;\n",
       "    }\n",
       "\n",
       "    .dataframe tbody tr th {\n",
       "        vertical-align: top;\n",
       "    }\n",
       "\n",
       "    .dataframe thead th {\n",
       "        text-align: right;\n",
       "    }\n",
       "</style>\n",
       "<table border=\"1\" class=\"dataframe\">\n",
       "  <thead>\n",
       "    <tr style=\"text-align: right;\">\n",
       "      <th></th>\n",
       "      <th>길이</th>\n",
       "      <th>무게</th>\n",
       "    </tr>\n",
       "  </thead>\n",
       "  <tbody>\n",
       "    <tr>\n",
       "      <th>count</th>\n",
       "      <td>56.000000</td>\n",
       "      <td>56.000000</td>\n",
       "    </tr>\n",
       "    <tr>\n",
       "      <th>mean</th>\n",
       "      <td>27.892857</td>\n",
       "      <td>382.239286</td>\n",
       "    </tr>\n",
       "    <tr>\n",
       "      <th>std</th>\n",
       "      <td>9.021668</td>\n",
       "      <td>347.617717</td>\n",
       "    </tr>\n",
       "    <tr>\n",
       "      <th>min</th>\n",
       "      <td>8.400000</td>\n",
       "      <td>5.900000</td>\n",
       "    </tr>\n",
       "    <tr>\n",
       "      <th>25%</th>\n",
       "      <td>21.825000</td>\n",
       "      <td>120.000000</td>\n",
       "    </tr>\n",
       "    <tr>\n",
       "      <th>50%</th>\n",
       "      <td>25.300000</td>\n",
       "      <td>207.500000</td>\n",
       "    </tr>\n",
       "    <tr>\n",
       "      <th>75%</th>\n",
       "      <td>36.625000</td>\n",
       "      <td>692.500000</td>\n",
       "    </tr>\n",
       "    <tr>\n",
       "      <th>max</th>\n",
       "      <td>44.000000</td>\n",
       "      <td>1100.000000</td>\n",
       "    </tr>\n",
       "  </tbody>\n",
       "</table>\n",
       "</div>"
      ],
      "text/plain": [
       "              길이           무게\n",
       "count  56.000000    56.000000\n",
       "mean   27.892857   382.239286\n",
       "std     9.021668   347.617717\n",
       "min     8.400000     5.900000\n",
       "25%    21.825000   120.000000\n",
       "50%    25.300000   207.500000\n",
       "75%    36.625000   692.500000\n",
       "max    44.000000  1100.000000"
      ]
     },
     "execution_count": 6,
     "metadata": {},
     "output_type": "execute_result"
    }
   ],
   "source": [
    "data.describe()"
   ]
  },
  {
   "cell_type": "markdown",
   "metadata": {},
   "source": [
    "### 단순선형회귀니까 일단 진행하자"
   ]
  },
  {
   "cell_type": "code",
   "execution_count": 7,
   "metadata": {},
   "outputs": [],
   "source": [
    "# 테스트 사이즈 0.3\n",
    "train_data,test_data=train_test_split(data,random_state=10,train_size=0.7)"
   ]
  },
  {
   "cell_type": "code",
   "execution_count": 8,
   "metadata": {},
   "outputs": [],
   "source": [
    "feature=\"길이\"\n",
    "target=\"무게\""
   ]
  },
  {
   "cell_type": "markdown",
   "metadata": {},
   "source": [
    "### 지도학습"
   ]
  },
  {
   "cell_type": "code",
   "execution_count": 9,
   "metadata": {},
   "outputs": [],
   "source": [
    "import sklearn.linear_model as sklin #linear_regression 할거임\n",
    "import sklearn.pipeline as skpip\n",
    "import numpy as np\n",
    "import statsmodels.api as sm"
   ]
  },
  {
   "cell_type": "code",
   "execution_count": 10,
   "metadata": {},
   "outputs": [],
   "source": [
    "model=sklin.LinearRegression(fit_intercept=False)"
   ]
  },
  {
   "cell_type": "code",
   "execution_count": 11,
   "metadata": {},
   "outputs": [],
   "source": [
    "#단순선형\n",
    "fit=model.fit(X=sm.add_constant(train_data[[feature]]),y=train_data[[target]])"
   ]
  },
  {
   "cell_type": "code",
   "execution_count": 12,
   "metadata": {},
   "outputs": [],
   "source": [
    "model2=sklin.LinearRegression(fit_intercept=False)"
   ]
  },
  {
   "cell_type": "code",
   "execution_count": 13,
   "metadata": {},
   "outputs": [],
   "source": [
    "degree=2 #2차식이라고 예측\n",
    "d2_x=sm.add_constant(np.column_stack([train_data[[feature]]**i for i in range(1,degree+1)]))"
   ]
  },
  {
   "cell_type": "code",
   "execution_count": 14,
   "metadata": {},
   "outputs": [
    {
     "data": {
      "text/plain": [
       "array([[1.00000e+00, 4.30000e+01, 1.84900e+03],\n",
       "       [1.00000e+00, 3.90000e+01, 1.52100e+03],\n",
       "       [1.00000e+00, 2.10000e+01, 4.41000e+02],\n",
       "       [1.00000e+00, 3.45000e+01, 1.19025e+03],\n",
       "       [1.00000e+00, 4.00000e+01, 1.60000e+03],\n",
       "       [1.00000e+00, 2.20000e+01, 4.84000e+02],\n",
       "       [1.00000e+00, 1.74000e+01, 3.02760e+02],\n",
       "       [1.00000e+00, 1.37000e+01, 1.87690e+02],\n",
       "       [1.00000e+00, 2.10000e+01, 4.41000e+02],\n",
       "       [1.00000e+00, 4.00000e+01, 1.60000e+03],\n",
       "       [1.00000e+00, 2.30000e+01, 5.29000e+02],\n",
       "       [1.00000e+00, 2.75000e+01, 7.56250e+02],\n",
       "       [1.00000e+00, 4.20000e+01, 1.76400e+03],\n",
       "       [1.00000e+00, 2.25000e+01, 5.06250e+02],\n",
       "       [1.00000e+00, 3.50000e+01, 1.22500e+03],\n",
       "       [1.00000e+00, 1.80000e+01, 3.24000e+02],\n",
       "       [1.00000e+00, 2.13000e+01, 4.53690e+02],\n",
       "       [1.00000e+00, 2.20000e+01, 4.84000e+02],\n",
       "       [1.00000e+00, 3.90000e+01, 1.52100e+03],\n",
       "       [1.00000e+00, 2.75000e+01, 7.56250e+02],\n",
       "       [1.00000e+00, 2.40000e+01, 5.76000e+02],\n",
       "       [1.00000e+00, 2.10000e+01, 4.41000e+02],\n",
       "       [1.00000e+00, 3.60000e+01, 1.29600e+03],\n",
       "       [1.00000e+00, 2.20000e+01, 4.84000e+02],\n",
       "       [1.00000e+00, 4.35000e+01, 1.89225e+03],\n",
       "       [1.00000e+00, 3.65000e+01, 1.33225e+03],\n",
       "       [1.00000e+00, 3.70000e+01, 1.36900e+03],\n",
       "       [1.00000e+00, 4.30000e+01, 1.84900e+03],\n",
       "       [1.00000e+00, 4.40000e+01, 1.93600e+03],\n",
       "       [1.00000e+00, 1.96000e+01, 3.84160e+02],\n",
       "       [1.00000e+00, 4.00000e+01, 1.60000e+03],\n",
       "       [1.00000e+00, 2.65000e+01, 7.02250e+02],\n",
       "       [1.00000e+00, 2.40000e+01, 5.76000e+02],\n",
       "       [1.00000e+00, 2.56000e+01, 6.55360e+02],\n",
       "       [1.00000e+00, 4.00000e+01, 1.60000e+03],\n",
       "       [1.00000e+00, 8.40000e+00, 7.05600e+01],\n",
       "       [1.00000e+00, 2.20000e+01, 4.84000e+02],\n",
       "       [1.00000e+00, 3.00000e+01, 9.00000e+02],\n",
       "       [1.00000e+00, 2.00000e+01, 4.00000e+02]])"
      ]
     },
     "execution_count": 14,
     "metadata": {},
     "output_type": "execute_result"
    }
   ],
   "source": [
    "d2_x"
   ]
  },
  {
   "cell_type": "code",
   "execution_count": 15,
   "metadata": {},
   "outputs": [
    {
     "data": {
      "text/plain": [
       "(39, 3)"
      ]
     },
     "execution_count": 15,
     "metadata": {},
     "output_type": "execute_result"
    }
   ],
   "source": [
    "d2_x.shape"
   ]
  },
  {
   "cell_type": "code",
   "execution_count": 16,
   "metadata": {},
   "outputs": [],
   "source": [
    "fit2=model2.fit(X=d2_x,y=train_data[[target]])"
   ]
  },
  {
   "cell_type": "code",
   "execution_count": 18,
   "metadata": {},
   "outputs": [
    {
     "data": {
      "text/plain": [
       "3"
      ]
     },
     "execution_count": 18,
     "metadata": {},
     "output_type": "execute_result"
    }
   ],
   "source": [
    "fit2.n_features_in_"
   ]
  },
  {
   "cell_type": "markdown",
   "metadata": {},
   "source": [
    "#### 상수항 추가-테스트 데이터"
   ]
  },
  {
   "cell_type": "code",
   "execution_count": 19,
   "metadata": {},
   "outputs": [],
   "source": [
    "import statsmodels.api as sm"
   ]
  },
  {
   "cell_type": "code",
   "execution_count": 20,
   "metadata": {},
   "outputs": [],
   "source": [
    "test_d1_x=sm.add_constant(test_data[[feature]])\n",
    "test_d2_x=sm.add_constant(np.column_stack([test_data[[feature]]**i for i in range(1,degree+1)]))"
   ]
  },
  {
   "cell_type": "code",
   "execution_count": 21,
   "metadata": {},
   "outputs": [],
   "source": [
    "pre_1_y=fit.predict(test_d1_x)\n",
    "pre_2_y=fit2.predict(test_d2_x)"
   ]
  },
  {
   "cell_type": "code",
   "execution_count": 22,
   "metadata": {},
   "outputs": [
    {
     "data": {
      "text/plain": [
       "array([370.39416491, -42.74972907, 377.83819903, 284.78777246,\n",
       "       199.18138001, 173.12726057, 805.87016126, -87.41393383,\n",
       "       228.95751652, 269.89970421, 396.44828435, 575.10510337,\n",
       "       191.73734589, 422.50240379,  61.46674869,  50.3006975 ,\n",
       "       731.42982001])"
      ]
     },
     "execution_count": 22,
     "metadata": {},
     "output_type": "execute_result"
    }
   ],
   "source": [
    "pre_1_y.squeeze()"
   ]
  },
  {
   "cell_type": "markdown",
   "metadata": {},
   "source": [
    "### 시각화"
   ]
  },
  {
   "cell_type": "code",
   "execution_count": 23,
   "metadata": {},
   "outputs": [
    {
     "data": {
      "text/plain": [
       "<Axes: xlabel='길이', ylabel='무게'>"
      ]
     },
     "execution_count": 23,
     "metadata": {},
     "output_type": "execute_result"
    },
    {
     "data": {
      "image/png": "[encoded data removed]",
      "text/plain": [
       "<Figure size 640x480 with 1 Axes>"
      ]
     },
     "metadata": {},
     "output_type": "display_data"
    }
   ],
   "source": [
    "plt.figure()\n",
    "sb.scatterplot(x=test_data[feature],y=test_data[target],label='실제',color=\"green\")\n",
    "sb.lineplot(x=test_data[feature],y=pre_1_y.squeeze(),label='단순선형')\n",
    "sb.lineplot(x=test_data[feature],y=pre_2_y.squeeze(),label='다항',color=\"red\")"
   ]
  },
  {
   "cell_type": "code",
   "execution_count": null,
   "metadata": {},
   "outputs": [],
   "source": []
  }
 ],
 "metadata": {
  "kernelspec": {
   "display_name": "Python 3",
   "language": "python",
   "name": "python3"
  },
  "language_info": {
   "codemirror_mode": {
    "name": "ipython",
    "version": 3
   },
   "file_extension": ".py",
   "mimetype": "text/x-python",
   "name": "python",
   "nbconvert_exporter": "python",
   "pygments_lexer": "ipython3",
   "version": "3.11.3"
  },
  "orig_nbformat": 4
 },
 "nbformat": 4,
 "nbformat_minor": 2
}
