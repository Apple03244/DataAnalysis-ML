{
 "cells": [
  {
   "cell_type": "markdown",
   "metadata": {},
   "source": [
    "# 지도 시각화"
   ]
  },
  {
   "cell_type": "code",
   "execution_count": 39,
   "metadata": {},
   "outputs": [],
   "source": [
    "import pandas as pd\n",
    "import folium\n",
    "import numpy as np\n",
    "import os\n",
    "import bs4\n",
    "import requests\n",
    "from IPython.display import SVG"
   ]
  },
  {
   "cell_type": "code",
   "execution_count": 40,
   "metadata": {},
   "outputs": [],
   "source": [
    "D=pd.read_excel('https://data.hossam.kr/D04/clinic.xlsx')\n",
    "data=pd.DataFrame(D)"
   ]
  },
  {
   "cell_type": "markdown",
   "metadata": {},
   "source": [
    "### 서울시 지도 다운로드"
   ]
  },
  {
   "cell_type": "code",
   "execution_count": 41,
   "metadata": {},
   "outputs": [],
   "source": [
    "if os.path.exists(\"./SEOUL_SIG.html\"):\n",
    "    with open(\"./SEOUL_SIG.html\",\"r\",encoding='utf-8') as f:\n",
    "        M=f.read()"
   ]
  },
  {
   "cell_type": "markdown",
   "metadata": {},
   "source": [
    "### 데이터 확인"
   ]
  },
  {
   "cell_type": "code",
   "execution_count": 42,
   "metadata": {},
   "outputs": [
    {
     "data": {
      "text/plain": [
       "Index(['기준일', '검체채취\\n가능여부', '시도', '시군구', '의료기관명', '주소', '평일 운영시간', '토요일 운영시간',\n",
       "       '일요일/공휴일\\n운영시간', '대표 전화번호'],\n",
       "      dtype='object')"
      ]
     },
     "execution_count": 42,
     "metadata": {},
     "output_type": "execute_result"
    }
   ],
   "source": [
    "data.columns"
   ]
  },
  {
   "cell_type": "code",
   "execution_count": 43,
   "metadata": {},
   "outputs": [],
   "source": [
    "data.drop(columns=[\"기준일\",'대표 전화번호'],axis=1,inplace=True)"
   ]
  },
  {
   "cell_type": "markdown",
   "metadata": {},
   "source": [
    "### 데이터 확인(Nan)"
   ]
  },
  {
   "cell_type": "code",
   "execution_count": 44,
   "metadata": {},
   "outputs": [
    {
     "data": {
      "text/plain": [
       "검체채취\\n가능여부       0\n",
       "시도               0\n",
       "시군구              0\n",
       "의료기관명            0\n",
       "주소               0\n",
       "평일 운영시간          0\n",
       "토요일 운영시간         0\n",
       "일요일/공휴일\\n운영시간    0\n",
       "dtype: int64"
      ]
     },
     "execution_count": 44,
     "metadata": {},
     "output_type": "execute_result"
    }
   ],
   "source": [
    "data.isna().sum()"
   ]
  },
  {
   "cell_type": "code",
   "execution_count": 45,
   "metadata": {},
   "outputs": [],
   "source": [
    "#서울\n",
    "Seoul=data[data[\"시도\"]==\"서울\"]"
   ]
  },
  {
   "cell_type": "code",
   "execution_count": 46,
   "metadata": {},
   "outputs": [
    {
     "data": {
      "text/plain": [
       "검체채취\\n가능여부\n",
       "○    71\n",
       "Name: count, dtype: int64"
      ]
     },
     "execution_count": 46,
     "metadata": {},
     "output_type": "execute_result"
    }
   ],
   "source": [
    "# 이것도 필요없는 데이터\n",
    "Seoul[Seoul.columns[0]].value_counts()"
   ]
  },
  {
   "cell_type": "code",
   "execution_count": 47,
   "metadata": {},
   "outputs": [
    {
     "name": "stderr",
     "output_type": "stream",
     "text": [
      "C:\\Users\\SAMSUNG\\AppData\\Local\\Temp\\ipykernel_33136\\526171706.py:1: SettingWithCopyWarning: \n",
      "A value is trying to be set on a copy of a slice from a DataFrame\n",
      "\n",
      "See the caveats in the documentation: https://pandas.pydata.org/pandas-docs/stable/user_guide/indexing.html#returning-a-view-versus-a-copy\n",
      "  Seoul.drop(columns=['검체채취\\n가능여부'],inplace=True)\n"
     ]
    }
   ],
   "source": [
    "Seoul.drop(columns=['검체채취\\n가능여부'],inplace=True)"
   ]
  },
  {
   "cell_type": "code",
   "execution_count": 48,
   "metadata": {},
   "outputs": [
    {
     "data": {
      "text/plain": [
       "시도               object\n",
       "시군구              object\n",
       "의료기관명            object\n",
       "주소               object\n",
       "평일 운영시간          object\n",
       "토요일 운영시간         object\n",
       "일요일/공휴일\\n운영시간    object\n",
       "dtype: object"
      ]
     },
     "execution_count": 48,
     "metadata": {},
     "output_type": "execute_result"
    }
   ],
   "source": [
    "Seoul.dtypes"
   ]
  },
  {
   "cell_type": "markdown",
   "metadata": {},
   "source": [
    "### 구분 만들기"
   ]
  },
  {
   "cell_type": "code",
   "execution_count": 49,
   "metadata": {},
   "outputs": [],
   "source": [
    "# 평일, 토요일, 일요일/공휴일\n",
    "temp=Seoul.columns[-3:]"
   ]
  },
  {
   "cell_type": "code",
   "execution_count": 50,
   "metadata": {},
   "outputs": [],
   "source": [
    "area=dict(zip(Seoul[\"시군구\"].unique(),range(Seoul[\"시군구\"].nunique())))"
   ]
  },
  {
   "cell_type": "code",
   "execution_count": 52,
   "metadata": {},
   "outputs": [],
   "source": [
    "cols=['의료기관명','시군구_구분']"
   ]
  },
  {
   "cell_type": "markdown",
   "metadata": {},
   "source": [
    "### 그전에!! 전처리(활동안되는 병원을 어떻게 구분할것인가)"
   ]
  },
  {
   "cell_type": "code",
   "execution_count": 53,
   "metadata": {},
   "outputs": [
    {
     "name": "stderr",
     "output_type": "stream",
     "text": [
      "C:\\Users\\SAMSUNG\\AppData\\Local\\Temp\\ipykernel_33136\\4200122408.py:1: SettingWithCopyWarning: \n",
      "A value is trying to be set on a copy of a slice from a DataFrame.\n",
      "Try using .loc[row_indexer,col_indexer] = value instead\n",
      "\n",
      "See the caveats in the documentation: https://pandas.pydata.org/pandas-docs/stable/user_guide/indexing.html#returning-a-view-versus-a-copy\n",
      "  Seoul[\"시군구_구분\"]=Seoul[\"시군구\"].apply(lambda x:area[x])\n"
     ]
    }
   ],
   "source": [
    "Seoul[\"시군구_구분\"]=Seoul[\"시군구\"].apply(lambda x:area[x])"
   ]
  },
  {
   "cell_type": "markdown",
   "metadata": {},
   "source": [
    "### 결과 도출 데이터 프레임"
   ]
  },
  {
   "cell_type": "code",
   "execution_count": 55,
   "metadata": {},
   "outputs": [],
   "source": [
    "result=pd.DataFrame(index=area.values(),data=area.keys())\n",
    "result.index.rename(\"시군구_구분\",inplace=True)\n",
    "result.rename(columns={0:\"시군구\"},inplace=True)"
   ]
  },
  {
   "cell_type": "code",
   "execution_count": 16,
   "metadata": {},
   "outputs": [],
   "source": [
    "for col in temp:\n",
    "    result=pd.merge(result,\n",
    "                    pd.DataFrame(Seoul[Seoul[col].str.find(\"~\")!=-1][cols].groupby(\"시군구_구분\").count()).rename(columns={\"의료기관명\":col}),\n",
    "                    how=\"left\",\n",
    "                    left_index=True, right_index=True)"
   ]
  },
  {
   "cell_type": "code",
   "execution_count": 58,
   "metadata": {},
   "outputs": [],
   "source": [
    "result.rename(columns=dict(zip(result.columns[1:],[\"평일\",\"토요일\",\"공휴일\"])),inplace=True)"
   ]
  },
  {
   "cell_type": "code",
   "execution_count": 59,
   "metadata": {},
   "outputs": [
    {
     "data": {
      "text/html": [
       "<div>\n",
       "<style scoped>\n",
       "    .dataframe tbody tr th:only-of-type {\n",
       "        vertical-align: middle;\n",
       "    }\n",
       "\n",
       "    .dataframe tbody tr th {\n",
       "        vertical-align: top;\n",
       "    }\n",
       "\n",
       "    .dataframe thead th {\n",
       "        text-align: right;\n",
       "    }\n",
       "</style>\n",
       "<table border=\"1\" class=\"dataframe\">\n",
       "  <thead>\n",
       "    <tr style=\"text-align: right;\">\n",
       "      <th></th>\n",
       "      <th>시군구</th>\n",
       "    </tr>\n",
       "    <tr>\n",
       "      <th>시군구_구분</th>\n",
       "      <th></th>\n",
       "    </tr>\n",
       "  </thead>\n",
       "  <tbody>\n",
       "    <tr>\n",
       "      <th>0</th>\n",
       "      <td>강남구</td>\n",
       "    </tr>\n",
       "    <tr>\n",
       "      <th>1</th>\n",
       "      <td>강동구</td>\n",
       "    </tr>\n",
       "    <tr>\n",
       "      <th>2</th>\n",
       "      <td>강북구</td>\n",
       "    </tr>\n",
       "    <tr>\n",
       "      <th>3</th>\n",
       "      <td>강서구</td>\n",
       "    </tr>\n",
       "    <tr>\n",
       "      <th>4</th>\n",
       "      <td>관악구</td>\n",
       "    </tr>\n",
       "    <tr>\n",
       "      <th>5</th>\n",
       "      <td>광진구</td>\n",
       "    </tr>\n",
       "    <tr>\n",
       "      <th>6</th>\n",
       "      <td>구로구</td>\n",
       "    </tr>\n",
       "    <tr>\n",
       "      <th>7</th>\n",
       "      <td>금천구</td>\n",
       "    </tr>\n",
       "    <tr>\n",
       "      <th>8</th>\n",
       "      <td>노원구</td>\n",
       "    </tr>\n",
       "    <tr>\n",
       "      <th>9</th>\n",
       "      <td>도봉구</td>\n",
       "    </tr>\n",
       "    <tr>\n",
       "      <th>10</th>\n",
       "      <td>동대문구</td>\n",
       "    </tr>\n",
       "    <tr>\n",
       "      <th>11</th>\n",
       "      <td>동작구</td>\n",
       "    </tr>\n",
       "    <tr>\n",
       "      <th>12</th>\n",
       "      <td>마포구</td>\n",
       "    </tr>\n",
       "    <tr>\n",
       "      <th>13</th>\n",
       "      <td>서대문구</td>\n",
       "    </tr>\n",
       "    <tr>\n",
       "      <th>14</th>\n",
       "      <td>중구</td>\n",
       "    </tr>\n",
       "    <tr>\n",
       "      <th>15</th>\n",
       "      <td>서초구</td>\n",
       "    </tr>\n",
       "    <tr>\n",
       "      <th>16</th>\n",
       "      <td>성동구</td>\n",
       "    </tr>\n",
       "    <tr>\n",
       "      <th>17</th>\n",
       "      <td>성북구</td>\n",
       "    </tr>\n",
       "    <tr>\n",
       "      <th>18</th>\n",
       "      <td>송파구</td>\n",
       "    </tr>\n",
       "    <tr>\n",
       "      <th>19</th>\n",
       "      <td>양천구</td>\n",
       "    </tr>\n",
       "    <tr>\n",
       "      <th>20</th>\n",
       "      <td>영등포구</td>\n",
       "    </tr>\n",
       "    <tr>\n",
       "      <th>21</th>\n",
       "      <td>용산구</td>\n",
       "    </tr>\n",
       "    <tr>\n",
       "      <th>22</th>\n",
       "      <td>은평구</td>\n",
       "    </tr>\n",
       "    <tr>\n",
       "      <th>23</th>\n",
       "      <td>종로구</td>\n",
       "    </tr>\n",
       "    <tr>\n",
       "      <th>24</th>\n",
       "      <td>중랑구</td>\n",
       "    </tr>\n",
       "  </tbody>\n",
       "</table>\n",
       "</div>"
      ],
      "text/plain": [
       "         시군구\n",
       "시군구_구분      \n",
       "0        강남구\n",
       "1        강동구\n",
       "2        강북구\n",
       "3        강서구\n",
       "4        관악구\n",
       "5        광진구\n",
       "6        구로구\n",
       "7        금천구\n",
       "8        노원구\n",
       "9        도봉구\n",
       "10      동대문구\n",
       "11       동작구\n",
       "12       마포구\n",
       "13      서대문구\n",
       "14        중구\n",
       "15       서초구\n",
       "16       성동구\n",
       "17       성북구\n",
       "18       송파구\n",
       "19       양천구\n",
       "20      영등포구\n",
       "21       용산구\n",
       "22       은평구\n",
       "23       종로구\n",
       "24       중랑구"
      ]
     },
     "execution_count": 59,
     "metadata": {},
     "output_type": "execute_result"
    }
   ],
   "source": [
    "result"
   ]
  },
  {
   "cell_type": "code",
   "execution_count": 18,
   "metadata": {},
   "outputs": [],
   "source": [
    "result[\"Sum\"]=result[result.columns[-3:]].sum(axis=1)"
   ]
  },
  {
   "cell_type": "code",
   "execution_count": 19,
   "metadata": {},
   "outputs": [
    {
     "data": {
      "text/html": [
       "<div>\n",
       "<style scoped>\n",
       "    .dataframe tbody tr th:only-of-type {\n",
       "        vertical-align: middle;\n",
       "    }\n",
       "\n",
       "    .dataframe tbody tr th {\n",
       "        vertical-align: top;\n",
       "    }\n",
       "\n",
       "    .dataframe thead th {\n",
       "        text-align: right;\n",
       "    }\n",
       "</style>\n",
       "<table border=\"1\" class=\"dataframe\">\n",
       "  <thead>\n",
       "    <tr style=\"text-align: right;\">\n",
       "      <th></th>\n",
       "      <th>시군구</th>\n",
       "      <th>평일</th>\n",
       "      <th>토요일</th>\n",
       "      <th>공휴일</th>\n",
       "      <th>Sum</th>\n",
       "    </tr>\n",
       "    <tr>\n",
       "      <th>시군구_구분</th>\n",
       "      <th></th>\n",
       "      <th></th>\n",
       "      <th></th>\n",
       "      <th></th>\n",
       "      <th></th>\n",
       "    </tr>\n",
       "  </thead>\n",
       "  <tbody>\n",
       "    <tr>\n",
       "      <th>0</th>\n",
       "      <td>강남구</td>\n",
       "      <td>3</td>\n",
       "      <td>3</td>\n",
       "      <td>2</td>\n",
       "      <td>8</td>\n",
       "    </tr>\n",
       "    <tr>\n",
       "      <th>1</th>\n",
       "      <td>강동구</td>\n",
       "      <td>4</td>\n",
       "      <td>3</td>\n",
       "      <td>1</td>\n",
       "      <td>8</td>\n",
       "    </tr>\n",
       "    <tr>\n",
       "      <th>2</th>\n",
       "      <td>강북구</td>\n",
       "      <td>1</td>\n",
       "      <td>1</td>\n",
       "      <td>1</td>\n",
       "      <td>3</td>\n",
       "    </tr>\n",
       "    <tr>\n",
       "      <th>3</th>\n",
       "      <td>강서구</td>\n",
       "      <td>1</td>\n",
       "      <td>1</td>\n",
       "      <td>1</td>\n",
       "      <td>3</td>\n",
       "    </tr>\n",
       "    <tr>\n",
       "      <th>4</th>\n",
       "      <td>관악구</td>\n",
       "      <td>2</td>\n",
       "      <td>2</td>\n",
       "      <td>1</td>\n",
       "      <td>5</td>\n",
       "    </tr>\n",
       "    <tr>\n",
       "      <th>5</th>\n",
       "      <td>광진구</td>\n",
       "      <td>2</td>\n",
       "      <td>2</td>\n",
       "      <td>1</td>\n",
       "      <td>5</td>\n",
       "    </tr>\n",
       "    <tr>\n",
       "      <th>6</th>\n",
       "      <td>구로구</td>\n",
       "      <td>3</td>\n",
       "      <td>2</td>\n",
       "      <td>1</td>\n",
       "      <td>6</td>\n",
       "    </tr>\n",
       "    <tr>\n",
       "      <th>7</th>\n",
       "      <td>금천구</td>\n",
       "      <td>2</td>\n",
       "      <td>2</td>\n",
       "      <td>2</td>\n",
       "      <td>6</td>\n",
       "    </tr>\n",
       "    <tr>\n",
       "      <th>8</th>\n",
       "      <td>노원구</td>\n",
       "      <td>3</td>\n",
       "      <td>1</td>\n",
       "      <td>1</td>\n",
       "      <td>5</td>\n",
       "    </tr>\n",
       "    <tr>\n",
       "      <th>9</th>\n",
       "      <td>도봉구</td>\n",
       "      <td>2</td>\n",
       "      <td>1</td>\n",
       "      <td>1</td>\n",
       "      <td>4</td>\n",
       "    </tr>\n",
       "    <tr>\n",
       "      <th>10</th>\n",
       "      <td>동대문구</td>\n",
       "      <td>5</td>\n",
       "      <td>3</td>\n",
       "      <td>3</td>\n",
       "      <td>11</td>\n",
       "    </tr>\n",
       "    <tr>\n",
       "      <th>11</th>\n",
       "      <td>동작구</td>\n",
       "      <td>3</td>\n",
       "      <td>3</td>\n",
       "      <td>2</td>\n",
       "      <td>8</td>\n",
       "    </tr>\n",
       "    <tr>\n",
       "      <th>12</th>\n",
       "      <td>마포구</td>\n",
       "      <td>1</td>\n",
       "      <td>1</td>\n",
       "      <td>1</td>\n",
       "      <td>3</td>\n",
       "    </tr>\n",
       "    <tr>\n",
       "      <th>13</th>\n",
       "      <td>서대문구</td>\n",
       "      <td>2</td>\n",
       "      <td>2</td>\n",
       "      <td>2</td>\n",
       "      <td>6</td>\n",
       "    </tr>\n",
       "    <tr>\n",
       "      <th>14</th>\n",
       "      <td>중구</td>\n",
       "      <td>3</td>\n",
       "      <td>3</td>\n",
       "      <td>3</td>\n",
       "      <td>9</td>\n",
       "    </tr>\n",
       "    <tr>\n",
       "      <th>15</th>\n",
       "      <td>서초구</td>\n",
       "      <td>3</td>\n",
       "      <td>2</td>\n",
       "      <td>1</td>\n",
       "      <td>6</td>\n",
       "    </tr>\n",
       "    <tr>\n",
       "      <th>16</th>\n",
       "      <td>성동구</td>\n",
       "      <td>3</td>\n",
       "      <td>2</td>\n",
       "      <td>1</td>\n",
       "      <td>6</td>\n",
       "    </tr>\n",
       "    <tr>\n",
       "      <th>17</th>\n",
       "      <td>성북구</td>\n",
       "      <td>2</td>\n",
       "      <td>2</td>\n",
       "      <td>1</td>\n",
       "      <td>5</td>\n",
       "    </tr>\n",
       "    <tr>\n",
       "      <th>18</th>\n",
       "      <td>송파구</td>\n",
       "      <td>3</td>\n",
       "      <td>2</td>\n",
       "      <td>2</td>\n",
       "      <td>7</td>\n",
       "    </tr>\n",
       "    <tr>\n",
       "      <th>19</th>\n",
       "      <td>양천구</td>\n",
       "      <td>4</td>\n",
       "      <td>3</td>\n",
       "      <td>2</td>\n",
       "      <td>9</td>\n",
       "    </tr>\n",
       "    <tr>\n",
       "      <th>20</th>\n",
       "      <td>영등포구</td>\n",
       "      <td>5</td>\n",
       "      <td>3</td>\n",
       "      <td>1</td>\n",
       "      <td>9</td>\n",
       "    </tr>\n",
       "    <tr>\n",
       "      <th>21</th>\n",
       "      <td>용산구</td>\n",
       "      <td>2</td>\n",
       "      <td>2</td>\n",
       "      <td>1</td>\n",
       "      <td>5</td>\n",
       "    </tr>\n",
       "    <tr>\n",
       "      <th>22</th>\n",
       "      <td>은평구</td>\n",
       "      <td>5</td>\n",
       "      <td>2</td>\n",
       "      <td>2</td>\n",
       "      <td>9</td>\n",
       "    </tr>\n",
       "    <tr>\n",
       "      <th>23</th>\n",
       "      <td>종로구</td>\n",
       "      <td>4</td>\n",
       "      <td>2</td>\n",
       "      <td>1</td>\n",
       "      <td>7</td>\n",
       "    </tr>\n",
       "    <tr>\n",
       "      <th>24</th>\n",
       "      <td>중랑구</td>\n",
       "      <td>3</td>\n",
       "      <td>3</td>\n",
       "      <td>2</td>\n",
       "      <td>8</td>\n",
       "    </tr>\n",
       "  </tbody>\n",
       "</table>\n",
       "</div>"
      ],
      "text/plain": [
       "         시군구  평일  토요일  공휴일  Sum\n",
       "시군구_구분                         \n",
       "0        강남구   3    3    2    8\n",
       "1        강동구   4    3    1    8\n",
       "2        강북구   1    1    1    3\n",
       "3        강서구   1    1    1    3\n",
       "4        관악구   2    2    1    5\n",
       "5        광진구   2    2    1    5\n",
       "6        구로구   3    2    1    6\n",
       "7        금천구   2    2    2    6\n",
       "8        노원구   3    1    1    5\n",
       "9        도봉구   2    1    1    4\n",
       "10      동대문구   5    3    3   11\n",
       "11       동작구   3    3    2    8\n",
       "12       마포구   1    1    1    3\n",
       "13      서대문구   2    2    2    6\n",
       "14        중구   3    3    3    9\n",
       "15       서초구   3    2    1    6\n",
       "16       성동구   3    2    1    6\n",
       "17       성북구   2    2    1    5\n",
       "18       송파구   3    2    2    7\n",
       "19       양천구   4    3    2    9\n",
       "20      영등포구   5    3    1    9\n",
       "21       용산구   2    2    1    5\n",
       "22       은평구   5    2    2    9\n",
       "23       종로구   4    2    1    7\n",
       "24       중랑구   3    3    2    8"
      ]
     },
     "execution_count": 19,
     "metadata": {},
     "output_type": "execute_result"
    }
   ],
   "source": [
    "result"
   ]
  },
  {
   "cell_type": "code",
   "execution_count": 20,
   "metadata": {},
   "outputs": [
    {
     "data": {
      "text/plain": [
       "시군구    0\n",
       "평일     0\n",
       "토요일    0\n",
       "공휴일    0\n",
       "Sum    0\n",
       "dtype: int64"
      ]
     },
     "execution_count": 20,
     "metadata": {},
     "output_type": "execute_result"
    }
   ],
   "source": [
    "result.isna().sum()"
   ]
  },
  {
   "cell_type": "code",
   "execution_count": 21,
   "metadata": {},
   "outputs": [
    {
     "data": {
      "text/plain": [
       "count    25.000000\n",
       "mean      6.440000\n",
       "std       2.142429\n",
       "min       3.000000\n",
       "25%       5.000000\n",
       "50%       6.000000\n",
       "75%       8.000000\n",
       "max      11.000000\n",
       "Name: Sum, dtype: float64"
      ]
     },
     "execution_count": 21,
     "metadata": {},
     "output_type": "execute_result"
    }
   ],
   "source": [
    "result[\"Sum\"].describe()"
   ]
  },
  {
   "cell_type": "markdown",
   "metadata": {},
   "source": [
    "### 지도 매핑"
   ]
  },
  {
   "cell_type": "markdown",
   "metadata": {},
   "source": [
    "SVG 파일 만들기.."
   ]
  },
  {
   "cell_type": "markdown",
   "metadata": {},
   "source": [
    "한줄씩 추출 -> 맵 상의 색 하얀색으로 초기화"
   ]
  },
  {
   "cell_type": "code",
   "execution_count": 62,
   "metadata": {},
   "outputs": [],
   "source": [
    "if os.path.exists(\"./SEOUL_SIG.html\"):\n",
    "    with open(\"./SEOUL_SIG.html\",\"r\",encoding='utf-8') as f:\n",
    "        SIG=f.readlines()"
   ]
  },
  {
   "cell_type": "code",
   "execution_count": 63,
   "metadata": {},
   "outputs": [],
   "source": [
    "pre_html=[]\n",
    "for raw in SIG:\n",
    "    if 'fill:' in raw:\n",
    "        try:\n",
    "            pre_html.append(raw.replace(raw[raw.index('#'):raw.index(';')],\"#ffffff\"))\n",
    "        except:\n",
    "            pre_html.append(raw)    \n",
    "    else:\n",
    "        pre_html.append(raw)"
   ]
  },
  {
   "cell_type": "markdown",
   "metadata": {},
   "source": [
    "#### 색 규칙을 위한 처리"
   ]
  },
  {
   "cell_type": "code",
   "execution_count": 24,
   "metadata": {},
   "outputs": [
    {
     "data": {
      "text/html": [
       "<div>\n",
       "<style scoped>\n",
       "    .dataframe tbody tr th:only-of-type {\n",
       "        vertical-align: middle;\n",
       "    }\n",
       "\n",
       "    .dataframe tbody tr th {\n",
       "        vertical-align: top;\n",
       "    }\n",
       "\n",
       "    .dataframe thead th {\n",
       "        text-align: right;\n",
       "    }\n",
       "</style>\n",
       "<table border=\"1\" class=\"dataframe\">\n",
       "  <thead>\n",
       "    <tr style=\"text-align: right;\">\n",
       "      <th></th>\n",
       "      <th>Sum</th>\n",
       "    </tr>\n",
       "  </thead>\n",
       "  <tbody>\n",
       "    <tr>\n",
       "      <th>count</th>\n",
       "      <td>25.000000</td>\n",
       "    </tr>\n",
       "    <tr>\n",
       "      <th>mean</th>\n",
       "      <td>6.440000</td>\n",
       "    </tr>\n",
       "    <tr>\n",
       "      <th>std</th>\n",
       "      <td>2.142429</td>\n",
       "    </tr>\n",
       "    <tr>\n",
       "      <th>min</th>\n",
       "      <td>3.000000</td>\n",
       "    </tr>\n",
       "    <tr>\n",
       "      <th>25%</th>\n",
       "      <td>5.000000</td>\n",
       "    </tr>\n",
       "    <tr>\n",
       "      <th>50%</th>\n",
       "      <td>6.000000</td>\n",
       "    </tr>\n",
       "    <tr>\n",
       "      <th>75%</th>\n",
       "      <td>8.000000</td>\n",
       "    </tr>\n",
       "    <tr>\n",
       "      <th>max</th>\n",
       "      <td>11.000000</td>\n",
       "    </tr>\n",
       "  </tbody>\n",
       "</table>\n",
       "</div>"
      ],
      "text/plain": [
       "             Sum\n",
       "count  25.000000\n",
       "mean    6.440000\n",
       "std     2.142429\n",
       "min     3.000000\n",
       "25%     5.000000\n",
       "50%     6.000000\n",
       "75%     8.000000\n",
       "max    11.000000"
      ]
     },
     "execution_count": 24,
     "metadata": {},
     "output_type": "execute_result"
    }
   ],
   "source": [
    "dsc=pd.DataFrame(result[\"Sum\"].describe())\n",
    "dsc"
   ]
  },
  {
   "cell_type": "code",
   "execution_count": 25,
   "metadata": {},
   "outputs": [],
   "source": [
    "#색 놀이\n",
    "color_rules=dict(zip(range(5),['#F5F6CE','#F3F781','#F7FE2E',\"#D7DF01\",'#393B0B']))"
   ]
  },
  {
   "cell_type": "code",
   "execution_count": 26,
   "metadata": {},
   "outputs": [],
   "source": [
    "#기준정하기\n",
    "score_rules={\n",
    "4:result[result[\"Sum\"]<=dsc[\"Sum\"].loc['25%']][\"시군구\"].values,\n",
    "3:result[result[\"Sum\"]<=dsc[\"Sum\"].loc['50%']][\"시군구\"].values,\n",
    "2:result[result[\"Sum\"]<=dsc[\"Sum\"].loc['75%']][\"시군구\"].values,\n",
    "1:result[result[\"Sum\"]>dsc[\"Sum\"].loc['75%']][\"시군구\"].values,\n",
    "0:result[result[\"Sum\"]==dsc[\"Sum\"].loc['max']][\"시군구\"].values}\n",
    "#주의! 1을 먼저 매핑해야 0번이 의미있다."
   ]
  },
  {
   "cell_type": "markdown",
   "metadata": {},
   "source": [
    "#### id 값 처리"
   ]
  },
  {
   "cell_type": "code",
   "execution_count": 65,
   "metadata": {},
   "outputs": [],
   "source": [
    "Msoup=bs4.BeautifulSoup(M)"
   ]
  },
  {
   "cell_type": "code",
   "execution_count": 66,
   "metadata": {},
   "outputs": [],
   "source": [
    "id_dict={}\n",
    "for x in Msoup.select(\".TEXT\"):\n",
    "    id_dict[x.text]=\"#\"+x[\"id\"][1:]+\" {\\n\""
   ]
  },
  {
   "cell_type": "code",
   "execution_count": 67,
   "metadata": {},
   "outputs": [
    {
     "data": {
      "text/plain": [
       "{'종로구': '#CD11110 {\\n',\n",
       " '중구': '#CD11140 {\\n',\n",
       " '용산구': '#CD11170 {\\n',\n",
       " '성동구': '#CD11200 {\\n',\n",
       " '광진구': '#CD11215 {\\n',\n",
       " '동대문구': '#CD11230 {\\n',\n",
       " '중랑구': '#CD11260 {\\n',\n",
       " '성북구': '#CD11290 {\\n',\n",
       " '강북구': '#CD11305 {\\n',\n",
       " '도봉구': '#CD11320 {\\n',\n",
       " '노원구': '#CD11350 {\\n',\n",
       " '은평구': '#CD11380 {\\n',\n",
       " '서대문구': '#CD11410 {\\n',\n",
       " '마포구': '#CD11440 {\\n',\n",
       " '양천구': '#CD11470 {\\n',\n",
       " '강서구': '#CD11500 {\\n',\n",
       " '구로구': '#CD11530 {\\n',\n",
       " '금천구': '#CD11545 {\\n',\n",
       " '영등포구': '#CD11560 {\\n',\n",
       " '동작구': '#CD11590 {\\n',\n",
       " '관악구': '#CD11620 {\\n',\n",
       " '서초구': '#CD11650 {\\n',\n",
       " '강남구': '#CD11680 {\\n',\n",
       " '송파구': '#CD11710 {\\n',\n",
       " '강동구': '#CD11740 {\\n'}"
      ]
     },
     "execution_count": 67,
     "metadata": {},
     "output_type": "execute_result"
    }
   ],
   "source": [
    "id_dict"
   ]
  },
  {
   "cell_type": "code",
   "execution_count": 29,
   "metadata": {},
   "outputs": [
    {
     "data": {
      "text/plain": [
       "['<style>\\n',\n",
       " '.OUTLINE {\\n',\n",
       " '    stroke-linejoin:round;\\n',\n",
       " '    stroke: #ffffff;\\n',\n",
       " '    stroke-width: 2;\\n',\n",
       " '}\\n',\n",
       " '#CD11110 {\\n',\n",
       " '    fill: #ffffff;\\n',\n",
       " '}\\n',\n",
       " '#CD11140 {\\n',\n",
       " '    fill: #ffffff;\\n',\n",
       " '}\\n',\n",
       " '#CD11170 {\\n',\n",
       " '    fill: #ffffff;\\n',\n",
       " '}\\n',\n",
       " '#CD11200 {\\n',\n",
       " '    fill: #ffffff;\\n',\n",
       " '}\\n',\n",
       " '#CD11215 {\\n',\n",
       " '    fill: #ffffff;\\n',\n",
       " '}\\n',\n",
       " '#CD11230 {\\n',\n",
       " '    fill: #ffffff;\\n',\n",
       " '}\\n',\n",
       " '#CD11260 {\\n',\n",
       " '    fill: #ffffff;\\n',\n",
       " '}\\n',\n",
       " '#CD11290 {\\n',\n",
       " '    fill: #ffffff;\\n',\n",
       " '}\\n',\n",
       " '#CD11305 {\\n',\n",
       " '    fill: #ffffff;\\n',\n",
       " '}\\n',\n",
       " '#CD11320 {\\n',\n",
       " '    fill: #ffffff;\\n',\n",
       " '}\\n',\n",
       " '#CD11350 {\\n',\n",
       " '    fill: #ffffff;\\n',\n",
       " '}\\n',\n",
       " '#CD11380 {\\n',\n",
       " '    fill: #ffffff;\\n',\n",
       " '}\\n',\n",
       " '#CD11410 {\\n',\n",
       " '    fill: #ffffff;\\n',\n",
       " '}\\n',\n",
       " '#CD11440 {\\n',\n",
       " '    fill: #ffffff;\\n',\n",
       " '}\\n',\n",
       " '#CD11470 {\\n',\n",
       " '    fill: #ffffff;\\n',\n",
       " '}\\n',\n",
       " '#CD11500 {\\n',\n",
       " '    fill: #ffffff;\\n',\n",
       " '}\\n',\n",
       " '#CD11530 {\\n',\n",
       " '    fill: #ffffff;\\n',\n",
       " '}\\n',\n",
       " '#CD11545 {\\n',\n",
       " '    fill: #ffffff;\\n',\n",
       " '}\\n',\n",
       " '#CD11560 {\\n',\n",
       " '    fill: #ffffff;\\n',\n",
       " '}\\n',\n",
       " '#CD11590 {\\n',\n",
       " '    fill: #ffffff;\\n',\n",
       " '}\\n',\n",
       " '#CD11620 {\\n',\n",
       " '    fill: #ffffff;\\n',\n",
       " '}\\n',\n",
       " '#CD11650 {\\n',\n",
       " '    fill: #ffffff;\\n',\n",
       " '}\\n',\n",
       " '#CD11680 {\\n',\n",
       " '    fill: #ffffff;\\n',\n",
       " '}\\n',\n",
       " '#CD11710 {\\n',\n",
       " '    fill: #ffffff;\\n',\n",
       " '}\\n',\n",
       " '#CD11740 {\\n',\n",
       " '    fill: #ffffff;\\n',\n",
       " '}\\n',\n",
       " '.LINE {\\n',\n",
       " '    stroke-linejoin:round;\\n',\n",
       " '    stroke: #ffffff;\\n',\n",
       " '    stroke-width: 1;\\n',\n",
       " '    fill: none;\\n',\n",
       " '}\\n',\n",
       " '.POINT {\\n',\n",
       " '    stroke: #ffffff;\\n',\n",
       " '    stroke-width: 1;\\n',\n",
       " '    fill: #ffffff;\\n',\n",
       " '}\\n',\n",
       " '.TEXT {\\n',\n",
       " '    fill: #ffffff;\\n',\n",
       " '    font-size: 16px;\\n',\n",
       " '    text-anchor: middle;\\n',\n",
       " '    alignment-baseline: middle;\\n',\n",
       " '}\\n',\n",
       " '</style>\\n',\n",
       " '<svg style=\\'background:#eaeaea;overflow:visible\\' height=\"656\" width=\"800\" xmlns=\"http://www.w3.org/2000/svg\">\\n',\n",
       " '<defs>\\n',\n",
       " '    <filter id=\"dropshadow\">\\n',\n",
       " '        <feGaussianBlur in=\"SourceAlpha\" stdDeviation=\"7\" />\\n',\n",
       " '        <feOffset dx=\"0\" dy=\"0\" result=\"offsetblur\" />\\n',\n",
       " '        <feMerge>\\n',\n",
       " '            <feMergeNode />\\n',\n",
       " '            <feMergeNode in=\"SourceGraphic\" />\\n',\n",
       " '        </feMerge>\\n',\n",
       " '    </filter>\\n',\n",
       " '    <filter id=\"dropshadow2\">\\n',\n",
       " '        <feGaussianBlur in=\"SourceAlpha\" stdDeviation=\"1.4\" />\\n',\n",
       " '        <feOffset dx=\"1\" dy=\"1\" result=\"offsetblur\" />\\n',\n",
       " '        <feMerge>\\n',\n",
       " '            <feMergeNode />\\n',\n",
       " '            <feMergeNode in=\"SourceGraphic\" />\\n',\n",
       " '        </feMerge>\\n',\n",
       " '    </filter>\\n',\n",
       " '</defs> \\n',\n",
       " '<g filter=\"url(#dropshadow)\"><path id=\"CD11110\" class=\"OUTLINE\" d=\"M 455 297 l 4 -2 1 0 1 0 3 -1 4 5 7 3 2 6 0 8 -11 2 -11 1 -8 0 -9 1 -8 1 -9 1 -9 -2 -10 -1 -9 1 -4 3 -2 3 -6 -6 -3 -4 -5 -6 -4 -5 -2 -5 5 -3 0 -6 0 -10 0 -9 1 -9 -3 -4 -2 0 -2 0 -1 -4 0 -9 -5 -9 1 -10 -1 -11 -1 -6 2 -6 5 -2 7 -3 10 -2 2 -1 3 0 1 0 4 -2 8 -1 3 6 4 1 3 8 3 10 1 6 3 5 0 9 0 7 -1 5 -6 3 -6 4 -1 5 6 4 5 3 5 4 9 1 10 0 4 4 3 4 5 10 1 3 z \" />\\n',\n",
       " '<path id=\"CD11140\" class=\"OUTLINE\" d=\"M 477 316 l 0 9 5 5 -1 3 -4 5 -4 5 -5 4 -4 7 -3 4 -4 3 -4 10 -2 -1 -3 -7 -2 -5 -2 1 -1 0 -2 -1 -3 1 0 0 -3 1 -4 2 -5 -5 -6 -3 -10 -3 -4 -1 -3 -1 -2 2 -4 -1 -3 -1 -9 0 -2 2 -4 3 0 -7 1 -4 -2 -2 0 -1 6 -3 6 -4 -1 -2 -2 -5 2 -3 4 -3 9 -1 10 1 9 2 9 -1 8 -1 9 -1 8 0 11 -1 z \" />\\n',\n",
       " '<path id=\"CD11170\" class=\"OUTLINE\" d=\"M 394 349 l 3 1 4 1 2 -2 3 1 4 1 10 3 6 3 5 5 4 -2 3 -1 0 0 3 -1 2 1 1 0 2 -1 2 5 3 7 2 1 5 9 6 2 2 9 -4 5 -4 5 -5 6 -3 4 -5 4 -5 5 -5 4 -5 3 -8 8 -5 8 -7 3 -7 -1 -10 -4 -3 -1 -6 -3 -6 -5 -5 -3 -6 -3 -9 -3 1 -5 0 -10 -2 -8 -6 -11 5 -2 4 -1 5 -4 5 -6 2 -5 3 -6 6 -5 0 -3 -2 -3 4 -3 2 -2 z \" />\\n',\n",
       " '<path id=\"CD11200\" class=\"OUTLINE\" d=\"M 511 315 l 7 4 6 6 4 4 6 5 2 0 15 3 4 0 -5 20 -3 5 -5 12 -3 7 -10 20 -7 -4 -5 -3 -4 -4 -10 -3 -10 0 -7 0 -12 0 -8 4 -2 -9 -6 -2 -5 -9 4 -10 4 -3 3 -4 4 -7 5 -4 4 -5 4 -5 1 -3 -5 -5 0 -9 6 1 11 -1 5 -2 2 -1 6 0 z \" />\\n',\n",
       " '<path id=\"CD11215\" class=\"OUTLINE\" d=\"M 605 315 l 1 1 -1 4 -1 7 -2 9 3 6 4 4 3 -3 9 -1 3 3 -4 10 -2 10 -2 5 -2 4 -4 5 -5 5 -5 4 -11 12 -3 3 -3 2 -8 5 -6 3 -5 1 -5 -1 -5 -1 -6 -2 -12 -5 -7 -4 13 -27 5 -12 3 -5 5 -20 3 -8 4 -5 4 -9 7 1 11 3 9 -3 4 -3 4 -2 z \" />\\n',\n",
       " '<path id=\"CD11230\" class=\"OUTLINE\" d=\"M 554 245 l 2 10 -2 5 -3 6 2 9 1 6 3 9 3 6 2 3 1 11 3 5 -4 9 -4 5 -3 8 -4 0 -15 -3 -2 0 -6 -5 -4 -4 -6 -6 -7 -4 -4 -2 -6 0 -2 1 -5 2 -11 1 -6 -1 0 -8 -2 -6 6 -4 6 -5 4 -6 3 -4 4 -5 2 -3 6 -8 4 -2 8 -3 4 -5 7 -1 7 -2 4 -6 7 -2 z \" />\\n',\n",
       " '<path id=\"CD11260\" class=\"OUTLINE\" d=\"M 621 218 l 5 3 1 6 0 10 2 8 -3 8 -3 5 0 3 3 4 -1 6 -4 2 -5 9 0 5 -4 6 -4 3 -4 5 -3 10 -4 2 -4 3 -9 3 -11 -3 -7 -1 -3 -5 -1 -11 -2 -3 -3 -6 -3 -9 -1 -6 -2 -9 3 -6 2 -5 -2 -10 0 -8 2 -11 6 -3 4 -1 9 -4 9 1 10 1 6 -2 9 -1 z \" />\\n',\n",
       " '<path id=\"CD11290\" class=\"OUTLINE\" d=\"M 455 297 l -3 -2 -1 -3 -5 -10 -3 -4 -4 -4 -10 0 -9 -1 -5 -4 -5 -3 -6 -4 1 -5 6 -4 6 -3 1 -5 0 -7 0 -9 -3 -5 -1 -6 -3 -10 -3 -8 -4 -1 -3 -6 9 -5 4 -3 4 1 5 4 6 4 3 2 4 5 5 5 7 3 5 2 -1 3 0 0 0 2 1 3 5 6 9 3 4 3 5 3 8 -1 6 4 9 -4 4 -6 4 -4 4 -4 4 -6 4 -3 5 4 4 5 5 5 5 4 9 0 9 -2 -2 11 0 8 -7 1 -7 2 -4 6 -7 2 -7 1 -4 5 -8 3 -4 2 -6 8 -2 3 -4 5 -3 4 -4 6 -6 5 -6 4 -7 -3 -4 -5 -3 1 -1 0 -1 0 z \" />\\n',\n",
       " '<path id=\"CD11305\" class=\"OUTLINE\" d=\"M 448 87 l 2 0 1 0 0 0 4 4 3 7 4 5 4 7 3 5 1 2 -2 4 -2 6 -2 9 -2 8 -1 5 0 4 2 4 5 3 3 0 2 -1 3 2 7 5 3 3 7 6 2 6 5 4 3 7 6 6 7 6 3 6 -4 3 -4 6 -4 4 -4 4 -4 6 -9 4 -6 -4 -8 1 -5 -3 -4 -3 -9 -3 -4 -6 -2 -3 0 -2 0 0 1 -3 -5 -2 -7 -3 -5 -5 -4 -5 -3 -2 -6 -4 -5 -4 -4 -1 3 -4 0 -6 -3 -4 1 -3 2 -3 -2 -4 -3 -7 -4 -9 4 -1 7 -7 4 -8 6 -4 2 -5 0 -13 -1 -7 2 -5 6 -5 7 -2 z \" />\\n',\n",
       " '<path id=\"CD11320\" class=\"OUTLINE\" d=\"M 463 157 l -2 -4 0 -4 1 -5 2 -8 2 -9 2 -6 2 -4 -1 -2 -3 -5 -4 -7 -4 -5 -3 -7 -1 -9 0 -8 4 -11 8 -8 10 1 9 0 3 4 1 6 3 5 9 -1 4 -2 4 -1 4 4 5 0 5 13 0 9 -1 5 -4 12 0 8 3 9 2 9 3 10 1 9 2 7 -2 13 -3 -4 -2 -3 -2 3 -5 5 -1 6 -4 9 -1 7 -6 -6 -3 -7 -5 -4 -2 -6 -7 -6 -3 -3 -7 -5 -3 -2 -2 1 -3 0 z \" />\\n',\n",
       " '<path id=\"CD11350\" class=\"OUTLINE\" d=\"M 619 183 l 1 7 -3 7 -6 5 -3 7 1 8 -9 1 -6 2 -10 -1 -9 -1 -9 4 -4 1 -6 3 -9 2 -9 0 -5 -4 -5 -5 -4 -5 -5 -4 -3 -6 -7 -6 1 -7 4 -9 1 -6 5 -5 2 -3 2 3 3 4 2 -13 -2 -7 -1 -9 -3 -10 -2 -9 -3 -9 0 -8 4 -12 1 -5 0 -9 6 -4 5 -2 4 -4 4 -6 6 0 3 1 4 0 5 -1 4 -2 7 -1 5 8 5 5 5 0 3 -1 5 4 -3 10 -2 7 -1 2 1 3 3 7 2 8 -2 11 -2 5 -3 4 0 4 2 6 1 6 0 10 3 5 7 0 5 -2 5 0 4 4 4 3 z \" />\\n',\n",
       " '<path id=\"CD11380\" class=\"OUTLINE\" d=\"M 368 148 l 3 2 1 3 2 11 2 9 2 8 3 5 0 5 -3 3 -5 5 -7 3 -5 2 -2 6 1 6 1 11 -1 10 -7 6 -4 3 -4 7 0 7 -5 2 -9 4 -4 4 -3 5 -3 7 -5 4 -3 4 -8 -1 0 -3 -1 0 -3 -2 -3 2 -4 5 -4 5 -5 5 -1 5 -9 -8 -12 -9 -1 -2 -6 -6 -4 -5 6 -9 1 2 -2 5 2 5 8 0 9 -1 3 -6 1 -4 2 -5 -1 -9 2 -8 -2 -10 2 -10 4 -7 3 -4 2 -6 2 -9 -1 -10 5 -4 0 -1 -1 -5 1 -4 1 -4 0 -5 -5 -3 -5 -5 0 -1 1 1 5 3 6 4 11 -1 10 -3 3 -3 4 -2 9 -4 4 -5 3 -5 5 -2 6 -2 3 4 z \" />\\n',\n",
       " '<path id=\"CD11410\" class=\"OUTLINE\" d=\"M 365 255 l 1 4 2 0 2 0 3 4 -1 9 0 9 0 10 0 6 -5 3 2 5 4 5 5 6 3 4 6 6 2 5 1 2 -6 4 -6 3 -3 3 -8 0 -10 1 -11 1 -7 2 -10 -4 -7 -6 -2 -10 -6 -3 -6 -2 -4 -2 -8 -4 -5 -5 -7 -5 1 -5 5 -5 4 -5 4 -5 3 -2 3 2 1 0 0 3 8 1 3 -4 5 -4 3 -7 3 -5 4 -4 9 -4 5 -2 0 -7 4 -7 4 -3 7 -6 5 9 z \" />\\n',\n",
       " '<path id=\"CD11440\" class=\"OUTLINE\" d=\"M 263 289 l 12 9 9 8 7 5 5 5 8 4 4 2 6 2 6 3 2 10 7 6 10 4 7 -2 11 -1 10 -1 8 0 3 -3 0 1 2 2 -1 4 0 7 2 3 0 3 -6 5 -3 6 -2 5 -5 6 -5 4 -4 1 -5 2 -7 -4 -5 -4 -5 -3 -5 -2 -4 1 -4 2 -6 -4 -11 0 -12 0 -5 -2 -6 -7 -6 -6 -8 -4 -8 -4 -5 -4 -5 -3 -11 -7 -8 -5 -4 -2 -6 -4 -4 -4 -4 -3 -6 -6 -1 -3 8 -4 4 -2 4 -2 10 -2 10 -2 3 -2 0 -1 -1 -6 0 -5 4 -5 5 -4 4 5 6 6 z \" />\\n',\n",
       " '<path id=\"CD11470\" class=\"OUTLINE\" d=\"M 240 363 l 8 -1 5 5 2 5 4 8 4 9 -2 3 2 2 0 2 -8 3 -5 4 -3 4 -2 12 0 4 -2 7 -4 6 -1 8 -2 6 -1 -1 -4 -2 -10 -2 -6 -2 -4 -5 -8 -1 -8 2 -4 4 -7 3 -4 3 -5 1 -3 -1 -4 -5 -4 -4 -4 -2 -3 -12 2 -9 1 -7 4 -5 0 -4 -4 -4 -4 -6 -2 -11 4 -7 3 -7 5 -2 1 6 5 5 2 6 3 9 3 7 3 4 12 1 7 -2 11 -1 7 -2 1 -8 0 -7 -1 -9 0 -10 2 -8 5 2 5 4 z \" />\\n',\n",
       " '<path id=\"CD11500\" class=\"OUTLINE\" d=\"M 134 254 l 3 3 6 4 4 4 4 6 4 3 6 4 5 4 6 4 5 3 4 4 6 5 3 2 6 5 9 6 1 3 6 6 4 3 4 4 6 4 4 2 8 5 11 7 -4 8 3 9 -8 1 -8 -2 -5 -4 -5 -2 -2 8 0 10 1 9 0 7 -1 8 -7 2 -11 1 -7 2 -12 -1 -3 -4 -3 -7 -3 -9 -2 -6 -5 -5 -1 -6 -5 2 -3 7 -10 2 -9 -1 -7 -4 -3 -2 0 1 -9 5 -2 5 -6 2 -2 -6 -4 -5 -5 -4 -7 -2 -9 -2 -7 -4 -4 1 -1 -2 -2 -2 1 -1 -3 -2 -2 -7 8 -4 2 -5 6 -2 -1 -5 -2 -5 0 -3 2 1 0 1 5 -3 3 -3 -1 -2 2 -1 1 -5 8 -4 1 -1 1 1 2 -5 2 -6 1 3 1 2 2 -9 2 -4 2 2 1 -4 5 -5 0 -6 -3 -5 -1 -6 0 -5 3 -4 4 -6 4 2 z \" />\\n',\n",
       " '<path id=\"CD11530\" class=\"OUTLINE\" d=\"M 245 419 l 6 7 4 4 5 2 4 4 4 9 -1 9 2 9 1 6 1 5 3 7 5 5 4 3 -3 5 -4 5 -10 1 -7 -3 -4 -5 -5 -4 -5 -3 -2 0 -2 1 -3 -5 -4 -2 3 -2 0 -1 -3 0 -3 2 -1 -5 -2 -6 -2 1 -1 1 1 1 -4 4 -5 3 -4 5 -4 4 -6 6 -9 2 -2 4 -1 10 -6 0 -8 -1 -5 -4 -4 0 -4 2 -9 0 -5 1 -8 1 2 -4 4 -5 2 -8 2 -5 3 -4 -2 -5 -3 -1 -8 -5 -1 -7 6 -3 4 -6 2 -4 2 -6 5 -6 4 2 4 4 4 5 3 1 5 -1 4 -3 7 -3 4 -4 8 -2 8 1 4 5 6 2 10 2 4 2 1 1 2 -6 1 -8 4 -6 2 -7 z \" />\\n',\n",
       " '<path id=\"CD11545\" class=\"OUTLINE\" d=\"M 241 486 l 2 -1 2 0 5 3 5 4 4 5 7 3 10 -1 11 -1 6 1 3 10 -3 8 3 6 3 6 1 6 4 8 8 3 3 4 5 4 2 6 -7 7 -2 5 -3 6 -8 1 -5 4 -4 7 -9 -1 -4 -4 -3 -4 -2 -9 -3 -5 -2 -3 1 -3 -1 -3 -3 -4 -6 -3 -4 -6 -1 -9 -4 -4 -1 -4 2 -2 -2 -3 -3 -5 -4 -6 -2 -4 -4 -9 -3 -8 -1 -4 1 -2 z \" />\\n',\n",
       " '<path id=\"CD11560\" class=\"OUTLINE\" d=\"M 249 345 l 5 3 5 4 8 4 8 4 6 6 6 7 5 2 12 0 11 0 6 4 4 -2 4 -1 5 2 5 3 5 4 7 4 6 11 2 8 0 10 -1 5 -11 2 -8 1 -9 1 -8 2 -2 5 -3 8 -2 3 -3 10 -2 8 -9 2 -3 1 -4 7 -4 5 -3 5 -4 6 -4 -3 -5 -5 -3 -7 -1 -5 -1 -6 -2 -9 1 -9 -4 -9 -4 -4 -5 -2 -4 -4 -6 -7 2 -12 3 -4 5 -4 8 -3 0 -2 -2 -2 2 -3 -4 -9 -4 -8 -2 -5 -5 -5 -3 -9 z \" />\\n',\n",
       " '<path id=\"CD11590\" class=\"OUTLINE\" d=\"M 367 426 l 6 3 5 3 6 5 6 3 3 1 10 4 7 1 -3 4 0 0 4 5 2 8 -2 11 0 6 -1 11 0 8 0 9 -5 -2 -14 0 -3 -2 -5 -4 -6 -10 0 -11 -2 -6 -7 3 -3 1 -2 -2 -7 -3 -9 1 -7 0 -11 -2 -6 -1 -6 7 -6 1 -10 4 -4 3 -2 1 -12 3 4 -6 3 -5 4 -5 4 -7 3 -1 9 -2 2 -8 3 -10 2 -3 3 -8 2 -5 8 -2 9 -1 8 -1 11 -2 z \" />\\n',\n",
       " '<path id=\"CD11620\" class=\"OUTLINE\" d=\"M 323 470 l 6 1 11 2 7 0 9 -1 7 3 2 2 3 -1 7 -3 2 6 0 11 6 10 5 4 3 2 14 0 5 2 2 8 4 6 3 4 0 11 1 5 -9 4 -7 2 -3 1 -5 4 -5 7 -8 5 -2 7 -1 5 -5 2 -9 2 -9 1 -10 2 -4 2 -2 0 -3 -5 -2 -6 -5 -4 -5 -7 -4 -4 -2 -6 -5 -4 -3 -4 -8 -3 -4 -8 -1 -6 -3 -6 -3 -6 3 -8 -3 -10 -6 -1 -11 1 4 -5 3 -5 12 -3 2 -1 4 -3 10 -4 6 -1 z \" />\\n',\n",
       " '<path id=\"CD11650\" class=\"OUTLINE\" d=\"M 460 413 l 1 0 2 -3 6 9 1 6 0 1 3 9 5 15 5 13 6 17 7 10 6 -1 5 5 1 3 4 9 7 13 3 5 6 -2 4 0 6 -1 9 -2 8 -4 5 -3 2 -2 11 0 4 8 2 3 5 6 2 7 4 4 1 7 -5 8 -6 10 0 6 -6 4 -4 4 -5 0 -4 -1 -4 0 -2 6 -2 8 -1 4 -1 2 1 3 -4 0 -10 2 -9 0 -8 0 -7 -4 -4 -6 -5 -5 -4 -2 -5 -4 1 -5 2 -4 -1 -8 0 -5 -2 -4 2 -5 0 -1 -3 -4 -2 -9 -2 -6 -5 0 -2 7 -3 6 -6 4 -8 2 -4 1 -2 0 -6 -3 -3 -3 0 0 -1 -2 -3 -6 -2 -8 -8 -2 -5 3 1 3 0 1 -4 4 -6 3 -4 3 -1 -5 0 -11 -3 -4 -4 -6 -2 -8 0 -9 0 -8 1 -11 0 -6 2 -11 -2 -8 -4 -5 0 0 3 -4 7 -3 5 -8 8 -8 5 -3 5 -4 5 -5 5 -4 3 -4 z \" />\\n',\n",
       " '<path id=\"CD11680\" class=\"OUTLINE\" d=\"M 503 387 l 10 3 4 4 5 3 7 4 7 4 12 5 0 10 0 4 1 13 1 6 1 10 6 2 7 1 6 2 3 2 12 4 5 2 5 3 6 3 5 4 5 5 3 6 3 5 3 5 4 7 2 2 5 10 3 4 4 5 -10 11 -2 6 -4 0 -3 -4 -9 -2 -4 0 0 2 -1 1 -3 3 -11 3 -1 -7 -4 -4 -2 -7 -5 -6 -2 -3 -4 -8 -11 0 -2 2 -5 3 -8 4 -9 2 -6 1 -4 0 -6 2 -3 -5 -7 -13 -4 -9 -1 -3 -5 -5 -6 1 -7 -10 -6 -17 -5 -13 -5 -15 -3 -9 0 -1 -1 -6 -6 -9 -2 3 -1 0 -7 -6 5 -6 4 -5 4 -5 8 -4 12 0 7 0 z \" />\\n',\n",
       " '<path id=\"CD11710\" class=\"OUTLINE\" d=\"M 621 374 l 6 2 4 2 4 4 0 8 -2 5 -1 3 0 7 5 2 8 5 5 3 8 4 3 2 5 3 5 2 -4 3 0 6 -3 10 4 5 5 3 10 0 9 3 5 5 -1 4 -2 7 -3 9 -4 3 -5 4 -5 5 -2 6 -3 7 -5 5 -10 0 -6 0 0 8 -4 5 -6 -2 -2 -1 -1 4 -4 -5 -3 -4 -5 -10 -2 -2 -4 -7 -3 -5 -3 -5 -3 -6 -5 -5 -5 -4 -6 -3 -5 -3 -5 -2 -12 -4 -3 -2 -6 -2 -7 -1 -6 -2 -1 -10 -1 -6 -1 -13 0 -4 0 -10 6 2 5 1 5 1 5 -1 6 -3 8 -5 3 -2 3 -3 11 -12 5 -4 5 -5 4 -5 z \" />\\n',\n",
       " '<path id=\"CD11740\" class=\"OUTLINE\" d=\"M 726 320 l 1 7 3 9 0 9 1 9 1 10 1 5 -1 -1 -5 -1 -3 0 -4 2 -11 0 -8 1 -5 6 -4 5 -4 6 -2 4 -1 8 -4 7 -3 2 1 1 -1 2 -6 7 -1 8 -5 -2 -5 -3 -3 -2 -8 -4 -5 -3 -8 -5 -5 -2 0 -7 1 -3 2 -5 0 -8 -4 -4 -4 -2 -6 -2 -7 0 2 -4 2 -5 2 -10 4 -10 1 -1 4 -6 7 -6 5 -3 6 -3 8 -3 4 -1 5 0 11 0 9 -4 7 -5 8 -6 11 -6 11 0 0 7 3 6 z \" />\\n',\n",
       " '</g><g filter=\"url(#dropshadow2)\"></g><g filter=\"url(#dropshadow2)\"><text id=\"LCD11110\" class=\"TEXT\" x=\"399\" y=\"277\">종로구</text>\\n',\n",
       " '<text id=\"LCD11140\" class=\"TEXT\" x=\"433\" y=\"338\">중구</text>\\n',\n",
       " '<text id=\"LCD11170\" class=\"TEXT\" x=\"407\" y=\"395\">용산구</text>\\n',\n",
       " '<text id=\"LCD11200\" class=\"TEXT\" x=\"505\" y=\"356\">성동구</text>\\n',\n",
       " '<text id=\"LCD11215\" class=\"TEXT\" x=\"577\" y=\"365\">광진구</text>\\n',\n",
       " '<text id=\"LCD11230\" class=\"TEXT\" x=\"528\" y=\"294\">동대문구</text>\\n',\n",
       " '<text id=\"LCD11260\" class=\"TEXT\" x=\"589\" y=\"270\">중랑구</text>\\n',\n",
       " '<text id=\"LCD11290\" class=\"TEXT\" x=\"466\" y=\"258\">성북구</text>\\n',\n",
       " '<text id=\"LCD11305\" class=\"TEXT\" x=\"459\" y=\"181\">강북구</text>\\n',\n",
       " '<text id=\"LCD11320\" class=\"TEXT\" x=\"494\" y=\"125\">도봉구</text>\\n',\n",
       " '<text id=\"LCD11350\" class=\"TEXT\" x=\"560\" y=\"153\">노원구</text>\\n',\n",
       " '<text id=\"LCD11380\" class=\"TEXT\" x=\"323\" y=\"218\">은평구</text>\\n',\n",
       " '<text id=\"LCD11410\" class=\"TEXT\" x=\"342\" y=\"302\">서대문구</text>\\n',\n",
       " '<text id=\"LCD11440\" class=\"TEXT\" x=\"293\" y=\"339\">마포구</text>\\n',\n",
       " '<text id=\"LCD11470\" class=\"TEXT\" x=\"209\" y=\"421\">양천구</text>\\n',\n",
       " '<text id=\"LCD11500\" class=\"TEXT\" x=\"156\" y=\"334\">강서구</text>\\n',\n",
       " '<text id=\"LCD11530\" class=\"TEXT\" x=\"199\" y=\"470\">구로구</text>\\n',\n",
       " '<text id=\"LCD11545\" class=\"TEXT\" x=\"279\" y=\"537\">금천구</text>\\n',\n",
       " '<text id=\"LCD11560\" class=\"TEXT\" x=\"295\" y=\"413\">영등포구</text>\\n',\n",
       " '<text id=\"LCD11590\" class=\"TEXT\" x=\"361\" y=\"461\">동작구</text>\\n',\n",
       " '<text id=\"LCD11620\" class=\"TEXT\" x=\"353\" y=\"529\">관악구</text>\\n',\n",
       " '<text id=\"LCD11650\" class=\"TEXT\" x=\"481\" y=\"515\">서초구</text>\\n',\n",
       " '<text id=\"LCD11680\" class=\"TEXT\" x=\"533\" y=\"464\">강남구</text>\\n',\n",
       " '<text id=\"LCD11710\" class=\"TEXT\" x=\"624\" y=\"448\">송파구</text>\\n',\n",
       " '<text id=\"LCD11740\" class=\"TEXT\" x=\"675\" y=\"358\">강동구</text>\\n',\n",
       " '</g></svg>\\n']"
      ]
     },
     "execution_count": 29,
     "metadata": {},
     "output_type": "execute_result"
    }
   ],
   "source": [
    "pre_html"
   ]
  },
  {
   "cell_type": "code",
   "execution_count": 30,
   "metadata": {},
   "outputs": [
    {
     "data": {
      "text/plain": [
       "{'종로구': '#CD11110 {\\n',\n",
       " '중구': '#CD11140 {\\n',\n",
       " '용산구': '#CD11170 {\\n',\n",
       " '성동구': '#CD11200 {\\n',\n",
       " '광진구': '#CD11215 {\\n',\n",
       " '동대문구': '#CD11230 {\\n',\n",
       " '중랑구': '#CD11260 {\\n',\n",
       " '성북구': '#CD11290 {\\n',\n",
       " '강북구': '#CD11305 {\\n',\n",
       " '도봉구': '#CD11320 {\\n',\n",
       " '노원구': '#CD11350 {\\n',\n",
       " '은평구': '#CD11380 {\\n',\n",
       " '서대문구': '#CD11410 {\\n',\n",
       " '마포구': '#CD11440 {\\n',\n",
       " '양천구': '#CD11470 {\\n',\n",
       " '강서구': '#CD11500 {\\n',\n",
       " '구로구': '#CD11530 {\\n',\n",
       " '금천구': '#CD11545 {\\n',\n",
       " '영등포구': '#CD11560 {\\n',\n",
       " '동작구': '#CD11590 {\\n',\n",
       " '관악구': '#CD11620 {\\n',\n",
       " '서초구': '#CD11650 {\\n',\n",
       " '강남구': '#CD11680 {\\n',\n",
       " '송파구': '#CD11710 {\\n',\n",
       " '강동구': '#CD11740 {\\n'}"
      ]
     },
     "execution_count": 30,
     "metadata": {},
     "output_type": "execute_result"
    }
   ],
   "source": [
    "id_dict"
   ]
  },
  {
   "cell_type": "code",
   "execution_count": 31,
   "metadata": {},
   "outputs": [
    {
     "data": {
      "text/plain": [
       "array(['강북구', '강서구', '관악구', '광진구', '구로구', '금천구', '노원구', '도봉구', '마포구',\n",
       "       '서대문구', '서초구', '성동구', '성북구', '용산구'], dtype=object)"
      ]
     },
     "execution_count": 31,
     "metadata": {},
     "output_type": "execute_result"
    }
   ],
   "source": [
    "score_rules[3]"
   ]
  },
  {
   "cell_type": "code",
   "execution_count": 32,
   "metadata": {},
   "outputs": [
    {
     "data": {
      "text/plain": [
       "{0: '#F5F6CE', 1: '#F3F781', 2: '#F7FE2E', 3: '#D7DF01', 4: '#393B0B'}"
      ]
     },
     "execution_count": 32,
     "metadata": {},
     "output_type": "execute_result"
    }
   ],
   "source": [
    "color_rules"
   ]
  },
  {
   "cell_type": "code",
   "execution_count": 33,
   "metadata": {},
   "outputs": [],
   "source": [
    "for num in [1,0,2,3,4]: #매핑 순서\n",
    "    for area in score_rules[num]: #지역\n",
    "        for i in range(len(pre_html)):\n",
    "            if pre_html[i]==id_dict[area]:\n",
    "                pre_html[i+1]=f'    fill: {color_rules[num]};\\n' #이쁘게 바꿨겠죠?"
   ]
  },
  {
   "cell_type": "code",
   "execution_count": 34,
   "metadata": {},
   "outputs": [],
   "source": [
    "with open(\"./MySeoul.html\",\"w\") as f:\n",
    "    for html in pre_html:\n",
    "        f.write(html)"
   ]
  },
  {
   "cell_type": "code",
   "execution_count": 35,
   "metadata": {},
   "outputs": [
    {
     "data": {
      "text/plain": [
       "'#393B0B'"
      ]
     },
     "execution_count": 35,
     "metadata": {},
     "output_type": "execute_result"
    }
   ],
   "source": [
    "color_rules[4]"
   ]
  },
  {
   "cell_type": "code",
   "execution_count": 36,
   "metadata": {},
   "outputs": [
    {
     "name": "stdout",
     "output_type": "stream",
     "text": [
      "#CD11680 {\n",
      "\n"
     ]
    }
   ],
   "source": [
    "for i in range(len(pre_html)):\n",
    "            if pre_html[i]==id_dict[\"강남구\"]:\n",
    "                print(pre_html[i])"
   ]
  },
  {
   "cell_type": "code",
   "execution_count": null,
   "metadata": {},
   "outputs": [],
   "source": []
  }
 ],
 "metadata": {
  "kernelspec": {
   "display_name": "Python 3",
   "language": "python",
   "name": "python3"
  },
  "language_info": {
   "codemirror_mode": {
    "name": "ipython",
    "version": 3
   },
   "file_extension": ".py",
   "mimetype": "text/x-python",
   "name": "python",
   "nbconvert_exporter": "python",
   "pygments_lexer": "ipython3",
   "version": "3.11.3"
  },
  "orig_nbformat": 4
 },
 "nbformat": 4,
 "nbformat_minor": 2
}
