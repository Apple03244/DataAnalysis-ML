{
 "cells": [
  {
   "cell_type": "code",
   "execution_count": 2,
   "metadata": {},
   "outputs": [],
   "source": [
    "import pandas as pd\n",
    "import numpy as np\n",
    "import matplotlib.pyplot as plt\n",
    "import seaborn as sb"
   ]
  },
  {
   "cell_type": "code",
   "execution_count": 3,
   "metadata": {},
   "outputs": [],
   "source": [
    "plt.rcParams[\"font.family\"] = 'BM YEONSUNG'\n",
    "#plt.rcParams[\"font.family\"] = 'AppleGothic'\n",
    "plt.rcParams[\"font.size\"] = 10\n",
    "plt.rcParams[\"figure.figsize\"] = (10, 5)\n",
    "plt.rcParams[\"axes.unicode_minus\"] = False"
   ]
  },
  {
   "attachments": {},
   "cell_type": "markdown",
   "metadata": {},
   "source": [
    "## 문제 1."
   ]
  },
  {
   "cell_type": "code",
   "execution_count": 127,
   "metadata": {},
   "outputs": [],
   "source": [
    "D=pd.read_excel('https://data.hossam.kr/D02/kings_life.xlsx')\n",
    "data=pd.DataFrame(D)"
   ]
  },
  {
   "attachments": {},
   "cell_type": "markdown",
   "metadata": {},
   "source": [
    "데이터 탐색"
   ]
  },
  {
   "cell_type": "code",
   "execution_count": 128,
   "metadata": {},
   "outputs": [
    {
     "data": {
      "text/plain": [
       "왕     object\n",
       "수명     int64\n",
       "dtype: object"
      ]
     },
     "execution_count": 128,
     "metadata": {},
     "output_type": "execute_result"
    }
   ],
   "source": [
    "data.dtypes"
   ]
  },
  {
   "cell_type": "code",
   "execution_count": 129,
   "metadata": {},
   "outputs": [],
   "source": [
    "data.rename(columns=dict(zip(data.columns,[\"K\",\"Y\"])),inplace=True)"
   ]
  },
  {
   "attachments": {},
   "cell_type": "markdown",
   "metadata": {},
   "source": [
    "기술통계량"
   ]
  },
  {
   "cell_type": "code",
   "execution_count": 130,
   "metadata": {},
   "outputs": [
    {
     "data": {
      "text/plain": [
       "45.0"
      ]
     },
     "execution_count": 130,
     "metadata": {},
     "output_type": "execute_result"
    }
   ],
   "source": [
    "data[\"Y\"].median()"
   ]
  },
  {
   "cell_type": "code",
   "execution_count": 131,
   "metadata": {},
   "outputs": [
    {
     "data": {
      "text/plain": [
       "min     16.000000\n",
       "mean    46.037037\n",
       "max     82.000000\n",
       "std     16.173296\n",
       "Name: Y, dtype: float64"
      ]
     },
     "execution_count": 131,
     "metadata": {},
     "output_type": "execute_result"
    }
   ],
   "source": [
    "data[\"Y\"].agg([\"min\",\"mean\",\"max\",\"std\"])"
   ]
  },
  {
   "attachments": {},
   "cell_type": "markdown",
   "metadata": {},
   "source": [
    "boxplot"
   ]
  },
  {
   "cell_type": "code",
   "execution_count": 132,
   "metadata": {},
   "outputs": [
    {
     "data": {
      "image/png": "[encoded data removed]",
      "text/plain": [
       "<Figure size 700x500 with 1 Axes>"
      ]
     },
     "metadata": {},
     "output_type": "display_data"
    }
   ],
   "source": [
    "plt.rcParams[\"figure.figsize\"]=(7,5)\n",
    "plt.figure()\n",
    "plt.boxplot(x=data[\"Y\"])\n",
    "plt.show()"
   ]
  },
  {
   "attachments": {},
   "cell_type": "markdown",
   "metadata": {},
   "source": [
    "1. 중앙값 - 평군값의 차이가 작음 "
   ]
  },
  {
   "cell_type": "markdown",
   "metadata": {},
   "source": [
    "### 문제 2"
   ]
  },
  {
   "cell_type": "code",
   "execution_count": 133,
   "metadata": {},
   "outputs": [],
   "source": [
    "D=pd.read_excel('https://data.hossam.kr/D02/stock.xlsx')\n",
    "data=pd.DataFrame(D)"
   ]
  },
  {
   "cell_type": "code",
   "execution_count": 134,
   "metadata": {},
   "outputs": [
    {
     "data": {
      "text/html": [
       "<div>\n",
       "<style scoped>\n",
       "    .dataframe tbody tr th:only-of-type {\n",
       "        vertical-align: middle;\n",
       "    }\n",
       "\n",
       "    .dataframe tbody tr th {\n",
       "        vertical-align: top;\n",
       "    }\n",
       "\n",
       "    .dataframe thead tr th {\n",
       "        text-align: left;\n",
       "    }\n",
       "\n",
       "    .dataframe thead tr:last-of-type th {\n",
       "        text-align: right;\n",
       "    }\n",
       "</style>\n",
       "<table border=\"1\" class=\"dataframe\">\n",
       "  <thead>\n",
       "    <tr>\n",
       "      <th></th>\n",
       "      <th colspan=\"4\" halign=\"left\">주가</th>\n",
       "    </tr>\n",
       "    <tr>\n",
       "      <th></th>\n",
       "      <th>min</th>\n",
       "      <th>mean</th>\n",
       "      <th>max</th>\n",
       "      <th>std</th>\n",
       "    </tr>\n",
       "    <tr>\n",
       "      <th>구분</th>\n",
       "      <th></th>\n",
       "      <th></th>\n",
       "      <th></th>\n",
       "      <th></th>\n",
       "    </tr>\n",
       "  </thead>\n",
       "  <tbody>\n",
       "    <tr>\n",
       "      <th>F</th>\n",
       "      <td>120</td>\n",
       "      <td>155.166667</td>\n",
       "      <td>235</td>\n",
       "      <td>27.764704</td>\n",
       "    </tr>\n",
       "    <tr>\n",
       "      <th>K</th>\n",
       "      <td>102</td>\n",
       "      <td>150.833333</td>\n",
       "      <td>173</td>\n",
       "      <td>21.425700</td>\n",
       "    </tr>\n",
       "  </tbody>\n",
       "</table>\n",
       "</div>"
      ],
      "text/plain": [
       "     주가                            \n",
       "    min        mean  max        std\n",
       "구분                                 \n",
       "F   120  155.166667  235  27.764704\n",
       "K   102  150.833333  173  21.425700"
      ]
     },
     "execution_count": 134,
     "metadata": {},
     "output_type": "execute_result"
    }
   ],
   "source": [
    "data[\"구분\"]=data.구분.astype(\"category\")\n",
    "data.groupby([\"구분\"]).agg([\"min\",\"mean\",\"max\",\"std\"])"
   ]
  },
  {
   "cell_type": "code",
   "execution_count": 135,
   "metadata": {},
   "outputs": [
    {
     "data": {
      "image/png": "[encoded data removed]",
      "text/plain": [
       "<Figure size 1000x500 with 2 Axes>"
      ]
     },
     "metadata": {},
     "output_type": "display_data"
    }
   ],
   "source": [
    "plt.rcParams[\"figure.figsize\"]=(10,5)\n",
    "f,(a0,a1)=plt.subplots(1,2)\n",
    "sb.boxplot(y=data.query(\"구분=='K'\")[\"주가\"],ax=a0)\n",
    "a0.title.set_text(\"K\")\n",
    "a0.set_ylim(100,240)\n",
    "sb.boxplot(y=data.query(\"구분=='F'\")[\"주가\"],ax=a1)\n",
    "a1.title.set_text(\"F\")\n",
    "a1.set_ylim(100,240)\n",
    "plt.show()"
   ]
  },
  {
   "attachments": {},
   "cell_type": "markdown",
   "metadata": {},
   "source": [
    "### 문제3."
   ]
  },
  {
   "cell_type": "code",
   "execution_count": 136,
   "metadata": {},
   "outputs": [],
   "source": [
    "D=pd.read_excel(\"https://data.hossam.kr/D02/grape.xlsx\")\n",
    "data=pd.DataFrame(D)"
   ]
  },
  {
   "cell_type": "code",
   "execution_count": 137,
   "metadata": {},
   "outputs": [],
   "source": [
    "data.set_index(\"비료종류\",inplace=True)"
   ]
  },
  {
   "cell_type": "code",
   "execution_count": 1,
   "metadata": {},
   "outputs": [
    {
     "ename": "NameError",
     "evalue": "name 'data' is not defined",
     "output_type": "error",
     "traceback": [
      "\u001b[1;31m---------------------------------------------------------------------------\u001b[0m",
      "\u001b[1;31mNameError\u001b[0m                                 Traceback (most recent call last)",
      "Cell \u001b[1;32mIn[1], line 1\u001b[0m\n\u001b[1;32m----> 1\u001b[0m data\u001b[39m.\u001b[39mloc[\u001b[39m\"\u001b[39m\u001b[39mA\u001b[39m\u001b[39m\"\u001b[39m][\u001b[39m\"\u001b[39m\u001b[39m수확량\u001b[39m\u001b[39m\"\u001b[39m]\u001b[39m.\u001b[39mdiscribe\n",
      "\u001b[1;31mNameError\u001b[0m: name 'data' is not defined"
     ]
    }
   ],
   "source": [
    "data.loc[\"A\"][\"수확량\"].discribe"
   ]
  },
  {
   "cell_type": "code",
   "execution_count": 139,
   "metadata": {},
   "outputs": [
    {
     "data": {
      "image/png": "[encoded data removed]",
      "text/plain": [
       "<Figure size 1000x500 with 2 Axes>"
      ]
     },
     "metadata": {},
     "output_type": "display_data"
    }
   ],
   "source": [
    "plt.rcParams[\"figure.figsize\"]=(10,5)\n",
    "f,(a0,a1)=plt.subplots(1,2)\n",
    "sb.boxplot(y=data.loc[\"A\"][\"수확량\"],ax=a0)\n",
    "a0.title.set_text(\"A\")\n",
    "sb.boxplot(y=data.loc[\"B\"][\"수확량\"],ax=a1)\n",
    "a1.title.set_text(\"B\")\n",
    "plt.show()"
   ]
  },
  {
   "attachments": {},
   "cell_type": "markdown",
   "metadata": {},
   "source": [
    "### 문제4"
   ]
  },
  {
   "cell_type": "code",
   "execution_count": 140,
   "metadata": {},
   "outputs": [],
   "source": [
    "D=pd.read_excel('https://data.hossam.kr/D02/analysis_grade.xlsx')\n",
    "data=pd.DataFrame(D)"
   ]
  },
  {
   "cell_type": "code",
   "execution_count": 141,
   "metadata": {},
   "outputs": [],
   "source": [
    "data['학과']=data.학과.astype(\"category\")"
   ]
  },
  {
   "cell_type": "code",
   "execution_count": 142,
   "metadata": {},
   "outputs": [
    {
     "data": {
      "text/html": [
       "<div>\n",
       "<style scoped>\n",
       "    .dataframe tbody tr th:only-of-type {\n",
       "        vertical-align: middle;\n",
       "    }\n",
       "\n",
       "    .dataframe tbody tr th {\n",
       "        vertical-align: top;\n",
       "    }\n",
       "\n",
       "    .dataframe thead tr th {\n",
       "        text-align: left;\n",
       "    }\n",
       "\n",
       "    .dataframe thead tr:last-of-type th {\n",
       "        text-align: right;\n",
       "    }\n",
       "</style>\n",
       "<table border=\"1\" class=\"dataframe\">\n",
       "  <thead>\n",
       "    <tr>\n",
       "      <th></th>\n",
       "      <th colspan=\"8\" halign=\"left\">점수</th>\n",
       "    </tr>\n",
       "    <tr>\n",
       "      <th></th>\n",
       "      <th>count</th>\n",
       "      <th>mean</th>\n",
       "      <th>std</th>\n",
       "      <th>min</th>\n",
       "      <th>25%</th>\n",
       "      <th>50%</th>\n",
       "      <th>75%</th>\n",
       "      <th>max</th>\n",
       "    </tr>\n",
       "    <tr>\n",
       "      <th>학과</th>\n",
       "      <th></th>\n",
       "      <th></th>\n",
       "      <th></th>\n",
       "      <th></th>\n",
       "      <th></th>\n",
       "      <th></th>\n",
       "      <th></th>\n",
       "      <th></th>\n",
       "    </tr>\n",
       "  </thead>\n",
       "  <tbody>\n",
       "    <tr>\n",
       "      <th>A</th>\n",
       "      <td>20.0</td>\n",
       "      <td>43.750000</td>\n",
       "      <td>20.229928</td>\n",
       "      <td>10.0</td>\n",
       "      <td>29.50</td>\n",
       "      <td>42.5</td>\n",
       "      <td>55.00</td>\n",
       "      <td>78.0</td>\n",
       "    </tr>\n",
       "    <tr>\n",
       "      <th>C</th>\n",
       "      <td>12.0</td>\n",
       "      <td>56.166667</td>\n",
       "      <td>14.689720</td>\n",
       "      <td>41.0</td>\n",
       "      <td>50.25</td>\n",
       "      <td>52.5</td>\n",
       "      <td>54.25</td>\n",
       "      <td>90.0</td>\n",
       "    </tr>\n",
       "  </tbody>\n",
       "</table>\n",
       "</div>"
      ],
      "text/plain": [
       "      점수                                                      \n",
       "   count       mean        std   min    25%   50%    75%   max\n",
       "학과                                                            \n",
       "A   20.0  43.750000  20.229928  10.0  29.50  42.5  55.00  78.0\n",
       "C   12.0  56.166667  14.689720  41.0  50.25  52.5  54.25  90.0"
      ]
     },
     "execution_count": 142,
     "metadata": {},
     "output_type": "execute_result"
    }
   ],
   "source": [
    "data.groupby('학과').describe()"
   ]
  },
  {
   "cell_type": "code",
   "execution_count": 143,
   "metadata": {},
   "outputs": [
    {
     "data": {
      "image/png": "[encoded data removed]",
      "text/plain": [
       "<Figure size 1000x500 with 2 Axes>"
      ]
     },
     "metadata": {},
     "output_type": "display_data"
    }
   ],
   "source": [
    "plt.rcParams[\"figure.figsize\"]=(10,5)\n",
    "f,(a0,a1)=plt.subplots(1,2)\n",
    "sb.boxplot(y=data.query(\"학과=='A'\")[\"점수\"],ax=a0)\n",
    "a0.title.set_text(\"A\")\n",
    "sb.boxplot(y=data.query(\"학과=='C'\")[\"점수\"],ax=a1)\n",
    "a1.title.set_text(\"B\")\n",
    "plt.show()"
   ]
  },
  {
   "cell_type": "markdown",
   "metadata": {},
   "source": [
    "### 문제 5."
   ]
  },
  {
   "cell_type": "code",
   "execution_count": 5,
   "metadata": {},
   "outputs": [],
   "source": [
    "D=pd.read_excel(\"https://data.hossam.kr/D02/stat_comp_grade.xlsx\")\n",
    "data=pd.DataFrame(D)"
   ]
  },
  {
   "cell_type": "code",
   "execution_count": 6,
   "metadata": {},
   "outputs": [
    {
     "data": {
      "text/html": [
       "<div>\n",
       "<style scoped>\n",
       "    .dataframe tbody tr th:only-of-type {\n",
       "        vertical-align: middle;\n",
       "    }\n",
       "\n",
       "    .dataframe tbody tr th {\n",
       "        vertical-align: top;\n",
       "    }\n",
       "\n",
       "    .dataframe thead tr th {\n",
       "        text-align: left;\n",
       "    }\n",
       "\n",
       "    .dataframe thead tr:last-of-type th {\n",
       "        text-align: right;\n",
       "    }\n",
       "</style>\n",
       "<table border=\"1\" class=\"dataframe\">\n",
       "  <thead>\n",
       "    <tr>\n",
       "      <th></th>\n",
       "      <th colspan=\"8\" halign=\"left\">중간고사</th>\n",
       "      <th colspan=\"8\" halign=\"left\">기말고사</th>\n",
       "    </tr>\n",
       "    <tr>\n",
       "      <th></th>\n",
       "      <th>count</th>\n",
       "      <th>mean</th>\n",
       "      <th>std</th>\n",
       "      <th>min</th>\n",
       "      <th>25%</th>\n",
       "      <th>50%</th>\n",
       "      <th>75%</th>\n",
       "      <th>max</th>\n",
       "      <th>count</th>\n",
       "      <th>mean</th>\n",
       "      <th>std</th>\n",
       "      <th>min</th>\n",
       "      <th>25%</th>\n",
       "      <th>50%</th>\n",
       "      <th>75%</th>\n",
       "      <th>max</th>\n",
       "    </tr>\n",
       "    <tr>\n",
       "      <th>전공</th>\n",
       "      <th></th>\n",
       "      <th></th>\n",
       "      <th></th>\n",
       "      <th></th>\n",
       "      <th></th>\n",
       "      <th></th>\n",
       "      <th></th>\n",
       "      <th></th>\n",
       "      <th></th>\n",
       "      <th></th>\n",
       "      <th></th>\n",
       "      <th></th>\n",
       "      <th></th>\n",
       "      <th></th>\n",
       "      <th></th>\n",
       "      <th></th>\n",
       "    </tr>\n",
       "  </thead>\n",
       "  <tbody>\n",
       "    <tr>\n",
       "      <th>COMP</th>\n",
       "      <td>8.0</td>\n",
       "      <td>65.625000</td>\n",
       "      <td>18.423103</td>\n",
       "      <td>31.0</td>\n",
       "      <td>58.0</td>\n",
       "      <td>70.5</td>\n",
       "      <td>77.0</td>\n",
       "      <td>87.0</td>\n",
       "      <td>8.0</td>\n",
       "      <td>74.875000</td>\n",
       "      <td>18.795421</td>\n",
       "      <td>40.0</td>\n",
       "      <td>65.25</td>\n",
       "      <td>81.5</td>\n",
       "      <td>86.25</td>\n",
       "      <td>96.0</td>\n",
       "    </tr>\n",
       "    <tr>\n",
       "      <th>STAT</th>\n",
       "      <td>12.0</td>\n",
       "      <td>64.833333</td>\n",
       "      <td>21.225342</td>\n",
       "      <td>34.0</td>\n",
       "      <td>47.0</td>\n",
       "      <td>67.5</td>\n",
       "      <td>80.5</td>\n",
       "      <td>94.0</td>\n",
       "      <td>12.0</td>\n",
       "      <td>76.166667</td>\n",
       "      <td>13.953386</td>\n",
       "      <td>53.0</td>\n",
       "      <td>67.50</td>\n",
       "      <td>78.5</td>\n",
       "      <td>85.25</td>\n",
       "      <td>95.0</td>\n",
       "    </tr>\n",
       "  </tbody>\n",
       "</table>\n",
       "</div>"
      ],
      "text/plain": [
       "      중간고사                                                      기말고사  \\\n",
       "     count       mean        std   min   25%   50%   75%   max count   \n",
       "전공                                                                     \n",
       "COMP   8.0  65.625000  18.423103  31.0  58.0  70.5  77.0  87.0   8.0   \n",
       "STAT  12.0  64.833333  21.225342  34.0  47.0  67.5  80.5  94.0  12.0   \n",
       "\n",
       "                                                            \n",
       "           mean        std   min    25%   50%    75%   max  \n",
       "전공                                                          \n",
       "COMP  74.875000  18.795421  40.0  65.25  81.5  86.25  96.0  \n",
       "STAT  76.166667  13.953386  53.0  67.50  78.5  85.25  95.0  "
      ]
     },
     "execution_count": 6,
     "metadata": {},
     "output_type": "execute_result"
    }
   ],
   "source": [
    "data.groupby(\"전공\").describe()"
   ]
  },
  {
   "cell_type": "code",
   "execution_count": 7,
   "metadata": {},
   "outputs": [],
   "source": [
    "#문제1\n",
    "data['전공']=data[\"전공\"].apply(lambda x: 1 if x==\"STAT\" else 2)"
   ]
  },
  {
   "cell_type": "code",
   "execution_count": 8,
   "metadata": {},
   "outputs": [
    {
     "name": "stdout",
     "output_type": "stream",
     "text": [
      "              전공       중간고사\n",
      "count  20.000000  20.000000\n",
      "mean    1.400000  65.150000\n",
      "std     0.502625  19.647619\n",
      "min     1.000000  31.000000\n",
      "25%     1.000000  48.500000\n",
      "50%     1.000000  67.500000\n",
      "75%     2.000000  78.500000\n",
      "max     2.000000  94.000000\n",
      "              전공       기말고사\n",
      "count  20.000000  20.000000\n",
      "mean    1.400000  75.650000\n",
      "std     0.502625  15.597824\n",
      "min     1.000000  40.000000\n",
      "25%     1.000000  66.000000\n",
      "50%     1.000000  79.000000\n",
      "75%     2.000000  85.250000\n",
      "max     2.000000  96.000000\n"
     ]
    }
   ],
   "source": [
    "#문제2\n",
    "print(data.filter([\"전공\",'중간고사']).describe())\n",
    "print(data.filter([\"전공\",'기말고사']).describe())"
   ]
  },
  {
   "attachments": {},
   "cell_type": "markdown",
   "metadata": {},
   "source": [
    "1. 기말고사 평균-중간고사 평균>13\n",
    "2. 중간고사 std > 기말고사 std"
   ]
  },
  {
   "cell_type": "code",
   "execution_count": 9,
   "metadata": {},
   "outputs": [],
   "source": [
    "#문제3.\n",
    "ct1,rg1=np.histogram(data.filter([\"중간고사\"]),bins=4)\n",
    "ct2,rg2=np.histogram(data.filter([\"기말고사\"]),bins=4)"
   ]
  },
  {
   "cell_type": "code",
   "execution_count": 10,
   "metadata": {},
   "outputs": [],
   "source": [
    "Rg1=[f\"{rg1[i]}~{rg1[i+1]}\" for i in range(len(rg1)-1)]\n",
    "Rg2=[f\"{rg2[i]}~{rg2[i+1]}\" for i in range(len(rg2)-1)]"
   ]
  },
  {
   "cell_type": "code",
   "execution_count": 11,
   "metadata": {},
   "outputs": [
    {
     "data": {
      "image/png": "[encoded data removed]",
      "text/plain": [
       "<Figure size 1000x300 with 2 Axes>"
      ]
     },
     "metadata": {},
     "output_type": "display_data"
    }
   ],
   "source": [
    "#문제3.\n",
    "plt.rcParams[\"figure.figsize\"]=(10,3)\n",
    "f,(a0,a1)=plt.subplots(1,2)\n",
    "sb.histplot(data=data.filter([\"중간고사\"]),\n",
    "            bins=4,ax=a0)\n",
    "a0.grid()\n",
    "a0.title.set_text(\"1\")\n",
    "a1.grid()\n",
    "sb.histplot(data=data.filter([\"기말고사\"]),\n",
    "            bins=4,ax=a1,palette=\"pastel\")\n",
    "a1.title.set_text(\"2\")\n",
    "plt.show()"
   ]
  },
  {
   "cell_type": "code",
   "execution_count": 19,
   "metadata": {},
   "outputs": [
    {
     "name": "stderr",
     "output_type": "stream",
     "text": [
      "C:\\Users\\SAMSUNG\\AppData\\Local\\Temp\\ipykernel_2728\\4154601363.py:9: UserWarning: Ignoring `palette` because no `hue` variable has been assigned.\n",
      "  sb.histplot(data=data.loc[data[\"전공\"]==1][\"기말고사\"],\n",
      "C:\\Users\\SAMSUNG\\AppData\\Local\\Temp\\ipykernel_2728\\4154601363.py:18: UserWarning: Ignoring `palette` because no `hue` variable has been assigned.\n",
      "  sb.histplot(data=data.loc[data[\"전공\"]==2][\"기말고사\"],\n"
     ]
    },
    {
     "data": {
      "image/png": "[encoded data removed]",
      "text/plain": [
       "<Figure size 1000x600 with 4 Axes>"
      ]
     },
     "metadata": {},
     "output_type": "display_data"
    }
   ],
   "source": [
    "#문제4.\n",
    "plt.rcParams[\"figure.figsize\"]=(10,6)\n",
    "f,((a0,a1),(b0,b1))=plt.subplots(2,2)\n",
    "a0.grid()\n",
    "sb.histplot(data=data.loc[data[\"전공\"]==1][\"중간고사\"],\n",
    "            bins=3,ax=a0)\n",
    "a0.title.set_text(\"1\")\n",
    "a1.grid()\n",
    "sb.histplot(data=data.loc[data[\"전공\"]==1][\"기말고사\"],\n",
    "            bins=3,ax=a1,palette=\"pastel\")\n",
    "a1.title.set_text(\"1\")\n",
    "\n",
    "b0.grid()\n",
    "sb.histplot(data=data.loc[data[\"전공\"]==2][\"중간고사\"],\n",
    "            bins=4,ax=b0)\n",
    "b0.title.set_text(\"2\")\n",
    "b1.grid()\n",
    "sb.histplot(data=data.loc[data[\"전공\"]==2][\"기말고사\"],\n",
    "            bins=4,ax=b1,palette=\"pastel\")\n",
    "b1.title.set_text(\"2\")\n",
    "\n",
    "\n",
    "plt.show()"
   ]
  },
  {
   "cell_type": "code",
   "execution_count": null,
   "metadata": {},
   "outputs": [],
   "source": []
  }
 ],
 "metadata": {
  "kernelspec": {
   "display_name": "Python 3",
   "language": "python",
   "name": "python3"
  },
  "language_info": {
   "codemirror_mode": {
    "name": "ipython",
    "version": 3
   },
   "file_extension": ".py",
   "mimetype": "text/x-python",
   "name": "python",
   "nbconvert_exporter": "python",
   "pygments_lexer": "ipython3",
   "version": "3.11.3"
  },
  "orig_nbformat": 4
 },
 "nbformat": 4,
 "nbformat_minor": 2
}
