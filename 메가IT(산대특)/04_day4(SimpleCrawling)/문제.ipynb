{
 "cells": [
  {
   "attachments": {},
   "cell_type": "markdown",
   "metadata": {},
   "source": [
    "#연구과제 1"
   ]
  },
  {
   "cell_type": "code",
   "execution_count": 2,
   "metadata": {},
   "outputs": [],
   "source": [
    "#1.\n",
    "def soluton(x,y):\n",
    "    return 8900*x+751000*y"
   ]
  },
  {
   "cell_type": "code",
   "execution_count": 3,
   "metadata": {},
   "outputs": [],
   "source": [
    "#2.\n",
    "def solution2(x,y):\n",
    "    return soluton(x*(0.95),y*(0.9))"
   ]
  },
  {
   "attachments": {},
   "cell_type": "markdown",
   "metadata": {},
   "source": [
    "#연구과제 2"
   ]
  },
  {
   "cell_type": "code",
   "execution_count": 4,
   "metadata": {},
   "outputs": [],
   "source": [
    "def solutoin3(x:int,y:float):\n",
    "    bmi=x/(y**2)\n",
    "    if bmi<20:\n",
    "        return \"저체중\"\n",
    "    elif bmi<=24:\n",
    "        return  \"정상\"\n",
    "    elif bmi<=29:\n",
    "        return \"과체중\"\n",
    "    else:\n",
    "        return \"비만\""
   ]
  },
  {
   "cell_type": "code",
   "execution_count": 5,
   "metadata": {},
   "outputs": [],
   "source": [
    "def solution4(x:str):\n",
    "    sp=x.split(\" \")\n",
    "    return \" \".join(sp[::-1])"
   ]
  },
  {
   "cell_type": "code",
   "execution_count": 52,
   "metadata": {},
   "outputs": [],
   "source": [
    "def solution5(x):\n",
    "    result=dict.fromkeys(['위치','이름','확장자'])\n",
    "    result[\"이름\"]=x.split(\"\\\\\")[-1].split(\".\")[0]\n",
    "    result[\"확장자\"]=x.split(\"\\\\\")[-1].split(\".\")[-1]\n",
    "    result['위치']=\"\\\\\".join(x.split(\"\\\\\")[:-1])\n",
    "    return result\n"
   ]
  },
  {
   "cell_type": "code",
   "execution_count": 11,
   "metadata": {},
   "outputs": [],
   "source": [
    "score=[82,74,93,65,32,71,90,88,74]\n",
    "def solution6(x:list):\n",
    "    x.sort(reverse=True)\n",
    "    return sum(x[:3])/3"
   ]
  },
  {
   "cell_type": "code",
   "execution_count": 17,
   "metadata": {},
   "outputs": [],
   "source": [
    "def solution7(x):\n",
    "    if x//10==0:\n",
    "        print(\"어린이\")\n",
    "    elif x//10>=6:\n",
    "        print(\"노년층\")\n",
    "    else:\n",
    "        print(f'{(x//10)*10}대입니다')\n",
    "     "
   ]
  },
  {
   "cell_type": "code",
   "execution_count": 18,
   "metadata": {},
   "outputs": [
    {
     "name": "stdout",
     "output_type": "stream",
     "text": [
      "30대입니다\n"
     ]
    }
   ],
   "source": [
    "solution7(39)"
   ]
  },
  {
   "cell_type": "code",
   "execution_count": 20,
   "metadata": {},
   "outputs": [],
   "source": [
    "def solution8(x,y):\n",
    "    #x:키 , y:몸무게\n",
    "    temp=x-110\n",
    "    if x>150:\n",
    "        temp*=0.9\n",
    "    obesity=(y-temp)/temp\n",
    "    result=\"\"\n",
    "    if obesity<=0.2:\n",
    "        result=\"정상\"\n",
    "    elif obesity<30:\n",
    "        result=\"경도비만\"\n",
    "    elif obesity<50:\n",
    "        result=\"중등도 비만(위험)\"\n",
    "    else:(\n",
    "        result=\"고도비만(매우위험)\"\n",
    "    return result\n",
    ")"
   ]
  },
  {
   "cell_type": "code",
   "execution_count": 24,
   "metadata": {},
   "outputs": [
    {
     "data": {
      "text/plain": [
       "2550"
      ]
     },
     "execution_count": 24,
     "metadata": {},
     "output_type": "execute_result"
    }
   ],
   "source": [
    "#문제 9\n",
    "sum(range(0,101,2))"
   ]
  },
  {
   "cell_type": "code",
   "execution_count": 3,
   "metadata": {},
   "outputs": [],
   "source": [
    "#문제 9_1\n",
    "def solution9(x):\n",
    "    result=0\n",
    "    for i in range(x+1):\n",
    "        result+=(1-i%2)*i\n",
    "    return result"
   ]
  },
  {
   "cell_type": "code",
   "execution_count": 4,
   "metadata": {},
   "outputs": [
    {
     "data": {
      "text/plain": [
       "2550"
      ]
     },
     "execution_count": 4,
     "metadata": {},
     "output_type": "execute_result"
    }
   ],
   "source": [
    "solution9(100)"
   ]
  },
  {
   "cell_type": "code",
   "execution_count": 36,
   "metadata": {},
   "outputs": [],
   "source": [
    "#문제 10\n",
    "from collections import Counter\n",
    "def solution10(x):\n",
    "    return dict(Counter(x))"
   ]
  },
  {
   "cell_type": "code",
   "execution_count": 1,
   "metadata": {},
   "outputs": [],
   "source": [
    "#문제 10\n",
    "def soltuion10_1(x):\n",
    "    result=dict.fromkeys(x,0)\n",
    "    for i in result:\n",
    "        result[i]=x.count(i)\n",
    "    return result"
   ]
  },
  {
   "cell_type": "code",
   "execution_count": 10,
   "metadata": {},
   "outputs": [],
   "source": [
    "#문제 11\n",
    "def solution11(x : int):\n",
    "    result=1\n",
    "    for i in range(1,x+1):\n",
    "        result*=i\n",
    "    return result"
   ]
  },
  {
   "cell_type": "code",
   "execution_count": 13,
   "metadata": {},
   "outputs": [],
   "source": [
    "def soltuion12():\n",
    "    return {\"경우\":[[a,6-a] for a in range(1,6)],\"경우의 수\": len([[a,6-a] for a in range(1,6)])}"
   ]
  },
  {
   "cell_type": "code",
   "execution_count": 42,
   "metadata": {},
   "outputs": [],
   "source": [
    "def soltuion13(i,j):\n",
    "    return [number for number in [num for num in range(max(i,j),101) if num%i==0] if number%j==0]"
   ]
  },
  {
   "cell_type": "code",
   "execution_count": 44,
   "metadata": {},
   "outputs": [],
   "source": [
    "def soltuion14(x:dict):\n",
    "    return sum([dict[x] for x in [\"월\",\"화\",\"수\",\"목\",\"금\"]])*9500+sum([dict[x] for x in [\"토\",\"일\"]])*13000"
   ]
  },
  {
   "cell_type": "code",
   "execution_count": 46,
   "metadata": {},
   "outputs": [],
   "source": [
    "def soltuion15(items:list):\n",
    "    return round(sum(map(lambda x:x[\"수량\"]*x[\"단가\"],items))*(0.9),2)"
   ]
  },
  {
   "cell_type": "code",
   "execution_count": 11,
   "metadata": {},
   "outputs": [
    {
     "name": "stdout",
     "output_type": "stream",
     "text": [
      "*****\n",
      "****\n",
      "***\n",
      "**\n",
      "*\n"
     ]
    }
   ],
   "source": [
    "#보너스\n",
    "\n",
    "for i in range(5):\n",
    "    star=\"\"\n",
    "    for j in range(5,i,-1):\n",
    "        star+=\"*\"\n",
    "    print(star)"
   ]
  },
  {
   "cell_type": "code",
   "execution_count": 8,
   "metadata": {},
   "outputs": [
    {
     "data": {
      "text/plain": [
       "[]"
      ]
     },
     "execution_count": 8,
     "metadata": {},
     "output_type": "execute_result"
    }
   ],
   "source": []
  },
  {
   "cell_type": "code",
   "execution_count": null,
   "metadata": {},
   "outputs": [],
   "source": []
  }
 ],
 "metadata": {
  "kernelspec": {
   "display_name": "Python 3",
   "language": "python",
   "name": "python3"
  },
  "language_info": {
   "codemirror_mode": {
    "name": "ipython",
    "version": 3
   },
   "file_extension": ".py",
   "mimetype": "text/x-python",
   "name": "python",
   "nbconvert_exporter": "python",
   "pygments_lexer": "ipython3",
   "version": "3.11.3"
  },
  "orig_nbformat": 4
 },
 "nbformat": 4,
 "nbformat_minor": 2
}
