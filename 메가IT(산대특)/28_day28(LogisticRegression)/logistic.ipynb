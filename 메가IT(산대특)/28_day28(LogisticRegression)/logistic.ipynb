{
 "cells": [
  {
   "cell_type": "markdown",
   "metadata": {},
   "source": [
    "Logistic Regression\n",
    "============"
   ]
  },
  {
   "cell_type": "markdown",
   "metadata": {},
   "source": [
    "## 가정\n",
    "판변 분석에서 사용하는 동일한 개념의 분포 가정은 필수가 아니나,     \n",
    "독립변수의 형태에 따라 전처리가 필요함 (dummy 화)"
   ]
  },
  {
   "cell_type": "markdown",
   "metadata": {},
   "source": [
    "## Comfusion matrix"
   ]
  },
  {
   "cell_type": "markdown",
   "metadata": {},
   "source": [
    "|예측/실제|Predict:True|Predict:False|\n",
    "|---|---|---|\n",
    "|<b>Actual:Positive</b>|TP|FP(False_Pasitive)|\n",
    "|<b>Actual:Negative</b>|FN(False_Negative)|TN|"
   ]
  },
  {
   "cell_type": "markdown",
   "metadata": {},
   "source": [
    "+ FN : Type_1_error\n",
    "\n",
    "+ FP : Type_2_error"
   ]
  },
  {
   "cell_type": "markdown",
   "metadata": {},
   "source": [
    "## 용어정리\n",
    "\n",
    "1. Accuracy : $TP+TN\\over ALL$\n",
    "\n",
    "2. Precision : $TP\\over TP+FP$\n",
    "\n",
    "3. Recall : $TP\\over TP+FN$\n",
    "\n",
    "4. Fallout(FPR) : $FN\\over TN+FN$\n",
    "\n",
    "5. Specify(TFR) : $TN\\over TN+FN$"
   ]
  },
  {
   "cell_type": "markdown",
   "metadata": {},
   "source": [
    "Logistic Regression\n",
    "----------------"
   ]
  },
  {
   "cell_type": "code",
   "execution_count": 2,
   "metadata": {},
   "outputs": [],
   "source": [
    "import pandas as pd\n",
    "import numpy as np\n",
    "import statsmodels.api as sm\n",
    "import sklearn.model_selection as sms\n",
    "import sklearn.metrics as skm"
   ]
  },
  {
   "cell_type": "code",
   "execution_count": 3,
   "metadata": {},
   "outputs": [],
   "source": [
    "import seaborn as sb\n",
    "import matplotlib.pyplot as plt"
   ]
  },
  {
   "cell_type": "code",
   "execution_count": 4,
   "metadata": {},
   "outputs": [],
   "source": [
    "plt.rcParams[\"font.family\"]=\"BM YEONSUNG\"\n",
    "plt.rcParams[\"figure.figsize\"]=(8,5)"
   ]
  },
  {
   "cell_type": "code",
   "execution_count": 5,
   "metadata": {},
   "outputs": [],
   "source": [
    "Data=pd.read_excel(\"https://data.hossam.kr/E05/gradeuate.xlsx\")"
   ]
  },
  {
   "cell_type": "code",
   "execution_count": 6,
   "metadata": {},
   "outputs": [],
   "source": [
    "data=pd.DataFrame(Data)"
   ]
  },
  {
   "cell_type": "code",
   "execution_count": 10,
   "metadata": {},
   "outputs": [],
   "source": [
    "train_data,test_data=sms.train_test_split(data,test_size=0.3,random_state=1)"
   ]
  },
  {
   "cell_type": "markdown",
   "metadata": {},
   "source": [
    "### 테스트 데이터 만들어서 학습시키기"
   ]
  },
  {
   "cell_type": "code",
   "execution_count": 11,
   "metadata": {},
   "outputs": [],
   "source": [
    "train_y=train_data[\"합격여부\"]\n",
    "test_y=test_data[\"합격여부\"]"
   ]
  },
  {
   "cell_type": "code",
   "execution_count": 14,
   "metadata": {},
   "outputs": [],
   "source": [
    "train_x=sm.add_constant(train_data[train_data.columns.difference([\"합격여부\"])])\n",
    "test_x=sm.add_constant(test_data[train_data.columns.difference([\"합격여부\"])])"
   ]
  },
  {
   "cell_type": "code",
   "execution_count": 15,
   "metadata": {},
   "outputs": [],
   "source": [
    "model=sm.Logit(endog=train_y,exog=train_x)"
   ]
  },
  {
   "cell_type": "code",
   "execution_count": 28,
   "metadata": {},
   "outputs": [
    {
     "name": "stdout",
     "output_type": "stream",
     "text": [
      "Optimization terminated successfully.\n",
      "         Current function value: 0.581986\n",
      "         Iterations 5\n"
     ]
    }
   ],
   "source": [
    "result=model.fit()"
   ]
  },
  {
   "cell_type": "code",
   "execution_count": 52,
   "metadata": {},
   "outputs": [
    {
     "data": {
      "text/html": [
       "<table class=\"simpletable\">\n",
       "<caption>Logit Regression Results</caption>\n",
       "<tr>\n",
       "  <th>Dep. Variable:</th>         <td>합격여부</td>       <th>  No. Observations:  </th>  <td>   280</td>  \n",
       "</tr>\n",
       "<tr>\n",
       "  <th>Model:</th>                 <td>Logit</td>      <th>  Df Residuals:      </th>  <td>   276</td>  \n",
       "</tr>\n",
       "<tr>\n",
       "  <th>Method:</th>                 <td>MLE</td>       <th>  Df Model:          </th>  <td>     3</td>  \n",
       "</tr>\n",
       "<tr>\n",
       "  <th>Date:</th>            <td>Mon, 31 Jul 2023</td> <th>  Pseudo R-squ.:     </th>  <td>0.06918</td> \n",
       "</tr>\n",
       "<tr>\n",
       "  <th>Time:</th>                <td>11:50:28</td>     <th>  Log-Likelihood:    </th> <td> -162.96</td> \n",
       "</tr>\n",
       "<tr>\n",
       "  <th>converged:</th>             <td>True</td>       <th>  LL-Null:           </th> <td> -175.07</td> \n",
       "</tr>\n",
       "<tr>\n",
       "  <th>Covariance Type:</th>     <td>nonrobust</td>    <th>  LLR p-value:       </th> <td>2.243e-05</td>\n",
       "</tr>\n",
       "</table>\n",
       "<table class=\"simpletable\">\n",
       "<tr>\n",
       "    <td></td>       <th>coef</th>     <th>std err</th>      <th>z</th>      <th>P>|z|</th>  <th>[0.025</th>    <th>0.975]</th>  \n",
       "</tr>\n",
       "<tr>\n",
       "  <th>const</th> <td>   -3.2137</td> <td>    1.332</td> <td>   -2.412</td> <td> 0.016</td> <td>   -5.825</td> <td>   -0.603</td>\n",
       "</tr>\n",
       "<tr>\n",
       "  <th>병원경력</th>  <td>   -0.5199</td> <td>    0.150</td> <td>   -3.464</td> <td> 0.001</td> <td>   -0.814</td> <td>   -0.226</td>\n",
       "</tr>\n",
       "<tr>\n",
       "  <th>필기점수</th>  <td>    0.0016</td> <td>    0.001</td> <td>    1.232</td> <td> 0.218</td> <td>   -0.001</td> <td>    0.004</td>\n",
       "</tr>\n",
       "<tr>\n",
       "  <th>학부성적</th>  <td>    0.8184</td> <td>    0.398</td> <td>    2.058</td> <td> 0.040</td> <td>    0.039</td> <td>    1.598</td>\n",
       "</tr>\n",
       "</table>"
      ],
      "text/latex": [
       "\\begin{center}\n",
       "\\begin{tabular}{lclc}\n",
       "\\toprule\n",
       "\\textbf{Dep. Variable:}   &       합격여부       & \\textbf{  No. Observations:  } &      280    \\\\\n",
       "\\textbf{Model:}           &      Logit       & \\textbf{  Df Residuals:      } &      276    \\\\\n",
       "\\textbf{Method:}          &       MLE        & \\textbf{  Df Model:          } &        3    \\\\\n",
       "\\textbf{Date:}            & Mon, 31 Jul 2023 & \\textbf{  Pseudo R-squ.:     } &  0.06918    \\\\\n",
       "\\textbf{Time:}            &     11:50:28     & \\textbf{  Log-Likelihood:    } &   -162.96   \\\\\n",
       "\\textbf{converged:}       &       True       & \\textbf{  LL-Null:           } &   -175.07   \\\\\n",
       "\\textbf{Covariance Type:} &    nonrobust     & \\textbf{  LLR p-value:       } & 2.243e-05   \\\\\n",
       "\\bottomrule\n",
       "\\end{tabular}\n",
       "\\begin{tabular}{lcccccc}\n",
       "               & \\textbf{coef} & \\textbf{std err} & \\textbf{z} & \\textbf{P$> |$z$|$} & \\textbf{[0.025} & \\textbf{0.975]}  \\\\\n",
       "\\midrule\n",
       "\\textbf{const} &      -3.2137  &        1.332     &    -2.412  &         0.016        &       -5.825    &       -0.603     \\\\\n",
       "\\textbf{병원경력}  &      -0.5199  &        0.150     &    -3.464  &         0.001        &       -0.814    &       -0.226     \\\\\n",
       "\\textbf{필기점수}  &       0.0016  &        0.001     &     1.232  &         0.218        &       -0.001    &        0.004     \\\\\n",
       "\\textbf{학부성적}  &       0.8184  &        0.398     &     2.058  &         0.040        &        0.039    &        1.598     \\\\\n",
       "\\bottomrule\n",
       "\\end{tabular}\n",
       "%\\caption{Logit Regression Results}\n",
       "\\end{center}"
      ],
      "text/plain": [
       "<class 'statsmodels.iolib.summary.Summary'>\n",
       "\"\"\"\n",
       "                           Logit Regression Results                           \n",
       "==============================================================================\n",
       "Dep. Variable:                   합격여부   No. Observations:                  280\n",
       "Model:                          Logit   Df Residuals:                      276\n",
       "Method:                           MLE   Df Model:                            3\n",
       "Date:                Mon, 31 Jul 2023   Pseudo R-squ.:                 0.06918\n",
       "Time:                        11:50:28   Log-Likelihood:                -162.96\n",
       "converged:                       True   LL-Null:                       -175.07\n",
       "Covariance Type:            nonrobust   LLR p-value:                 2.243e-05\n",
       "==============================================================================\n",
       "                 coef    std err          z      P>|z|      [0.025      0.975]\n",
       "------------------------------------------------------------------------------\n",
       "const         -3.2137      1.332     -2.412      0.016      -5.825      -0.603\n",
       "병원경력          -0.5199      0.150     -3.464      0.001      -0.814      -0.226\n",
       "필기점수           0.0016      0.001      1.232      0.218      -0.001       0.004\n",
       "학부성적           0.8184      0.398      2.058      0.040       0.039       1.598\n",
       "==============================================================================\n",
       "\"\"\""
      ]
     },
     "execution_count": 52,
     "metadata": {},
     "output_type": "execute_result"
    }
   ],
   "source": [
    "result.summary()"
   ]
  },
  {
   "cell_type": "markdown",
   "metadata": {},
   "source": [
    "#### Confusion_Matrix"
   ]
  },
  {
   "cell_type": "markdown",
   "metadata": {},
   "source": [
    "방법 1"
   ]
  },
  {
   "cell_type": "code",
   "execution_count": 92,
   "metadata": {},
   "outputs": [
    {
     "data": {
      "text/html": [
       "<div>\n",
       "<style scoped>\n",
       "    .dataframe tbody tr th:only-of-type {\n",
       "        vertical-align: middle;\n",
       "    }\n",
       "\n",
       "    .dataframe tbody tr th {\n",
       "        vertical-align: top;\n",
       "    }\n",
       "\n",
       "    .dataframe thead th {\n",
       "        text-align: right;\n",
       "    }\n",
       "</style>\n",
       "<table border=\"1\" class=\"dataframe\">\n",
       "  <thead>\n",
       "    <tr style=\"text-align: right;\">\n",
       "      <th></th>\n",
       "      <th>True</th>\n",
       "      <th>False</th>\n",
       "    </tr>\n",
       "  </thead>\n",
       "  <tbody>\n",
       "    <tr>\n",
       "      <th>Positive</th>\n",
       "      <td>176.0</td>\n",
       "      <td>15.0</td>\n",
       "    </tr>\n",
       "    <tr>\n",
       "      <th>Negative</th>\n",
       "      <td>72.0</td>\n",
       "      <td>17.0</td>\n",
       "    </tr>\n",
       "  </tbody>\n",
       "</table>\n",
       "</div>"
      ],
      "text/plain": [
       "           True  False\n",
       "Positive  176.0   15.0\n",
       "Negative   72.0   17.0"
      ]
     },
     "execution_count": 92,
     "metadata": {},
     "output_type": "execute_result"
    }
   ],
   "source": [
    "confu_matrix=pd.DataFrame(result.pred_table())\n",
    "confu_matrix.index=['Positive','Negative']\n",
    "confu_matrix.columns=[\"True\",\"False\"]\n",
    "confu_matrix"
   ]
  },
  {
   "cell_type": "markdown",
   "metadata": {},
   "source": [
    "방법 2"
   ]
  },
  {
   "cell_type": "code",
   "execution_count": 64,
   "metadata": {},
   "outputs": [
    {
     "data": {
      "text/plain": [
       "array([[176,  15],\n",
       "       [ 72,  17]], dtype=int64)"
      ]
     },
     "execution_count": 64,
     "metadata": {},
     "output_type": "execute_result"
    }
   ],
   "source": [
    "skm.confusion_matrix(train_y,result.predict(train_x).apply(lambda x: True if x>=0.5 else False))"
   ]
  },
  {
   "cell_type": "code",
   "execution_count": 66,
   "metadata": {},
   "outputs": [
    {
     "data": {
      "text/plain": [
       "0.0691847196354698"
      ]
     },
     "execution_count": 66,
     "metadata": {},
     "output_type": "execute_result"
    }
   ],
   "source": [
    "result.prsquared"
   ]
  },
  {
   "cell_type": "markdown",
   "metadata": {},
   "source": [
    "### 시각화 (ROC_AUC_CURVE)"
   ]
  },
  {
   "cell_type": "code",
   "execution_count": 74,
   "metadata": {},
   "outputs": [],
   "source": [
    "auc=skm.roc_auc_score(train_y,result.predict(train_x).apply(lambda x: True if x>=0.5 else False))"
   ]
  },
  {
   "cell_type": "code",
   "execution_count": 71,
   "metadata": {},
   "outputs": [],
   "source": [
    "data=skm.roc_curve(train_y,result.predict(train_x).apply(lambda x: True if x>=0.5 else False)) #->fpr,tpr,_"
   ]
  },
  {
   "cell_type": "code",
   "execution_count": 84,
   "metadata": {},
   "outputs": [
    {
     "data": {
      "image/png": "[encoded data removed]",
      "text/plain": [
       "<Figure size 800x500 with 1 Axes>"
      ]
     },
     "metadata": {},
     "output_type": "display_data"
    }
   ],
   "source": [
    "plt.figure()\n",
    "sb.lineplot(x=data[0],y=data[1])\n",
    "plt.grid()\n",
    "plt.title(\"AUC:{:.4f}\".format(auc))\n",
    "plt.show()\n",
    "plt.close()"
   ]
  },
  {
   "cell_type": "code",
   "execution_count": null,
   "metadata": {},
   "outputs": [],
   "source": []
  }
 ],
 "metadata": {
  "kernelspec": {
   "display_name": "Python 3",
   "language": "python",
   "name": "python3"
  },
  "language_info": {
   "codemirror_mode": {
    "name": "ipython",
    "version": 3
   },
   "file_extension": ".py",
   "mimetype": "text/x-python",
   "name": "python",
   "nbconvert_exporter": "python",
   "pygments_lexer": "ipython3",
   "version": "3.11.3"
  },
  "orig_nbformat": 4
 },
 "nbformat": 4,
 "nbformat_minor": 2
}
