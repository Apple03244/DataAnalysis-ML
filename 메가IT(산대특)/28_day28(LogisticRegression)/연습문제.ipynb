{
 "cells": [
  {
   "cell_type": "code",
   "execution_count": 1,
   "metadata": {},
   "outputs": [],
   "source": [
    "import pandas as pd\n",
    "import numpy as np\n",
    "import scipy as sp\n",
    "import matplotlib.pyplot as plt\n",
    "import sklearn.metrics as skm\n",
    "import statsmodels.api as sm\n",
    "import statsmodels.formula.api as smf\n",
    "import seaborn as sb\n",
    "from pca import pca\n",
    "import sklearn.preprocessing as skp"
   ]
  },
  {
   "cell_type": "markdown",
   "metadata": {},
   "source": [
    "# 연습문제 1"
   ]
  },
  {
   "cell_type": "markdown",
   "metadata": {},
   "source": [
    "## 정규화"
   ]
  },
  {
   "cell_type": "code",
   "execution_count": 2,
   "metadata": {},
   "outputs": [],
   "source": [
    "Data=pd.read_excel('https://data.hossam.kr/E05/indian_diabetes.xlsx')\n",
    "data=pd.DataFrame(Data)"
   ]
  },
  {
   "cell_type": "code",
   "execution_count": 3,
   "metadata": {},
   "outputs": [],
   "source": [
    "y=data[\"Outcome\"]\n",
    "x=data[data.columns.difference([\"Outcome\"])]"
   ]
  },
  {
   "cell_type": "markdown",
   "metadata": {},
   "source": [
    "## 데이터 확인"
   ]
  },
  {
   "cell_type": "code",
   "execution_count": 4,
   "metadata": {},
   "outputs": [],
   "source": [
    "scale=skp.StandardScaler()\n",
    "std_x=scale.fit_transform(x)"
   ]
  },
  {
   "cell_type": "code",
   "execution_count": 5,
   "metadata": {},
   "outputs": [],
   "source": [
    "std_x=pd.DataFrame(data=std_x,columns=x.columns)"
   ]
  },
  {
   "cell_type": "code",
   "execution_count": 6,
   "metadata": {},
   "outputs": [
    {
     "data": {
      "text/html": [
       "<div>\n",
       "<style scoped>\n",
       "    .dataframe tbody tr th:only-of-type {\n",
       "        vertical-align: middle;\n",
       "    }\n",
       "\n",
       "    .dataframe tbody tr th {\n",
       "        vertical-align: top;\n",
       "    }\n",
       "\n",
       "    .dataframe thead th {\n",
       "        text-align: right;\n",
       "    }\n",
       "</style>\n",
       "<table border=\"1\" class=\"dataframe\">\n",
       "  <thead>\n",
       "    <tr style=\"text-align: right;\">\n",
       "      <th></th>\n",
       "      <th>Age</th>\n",
       "      <th>BMI</th>\n",
       "      <th>BloodPressure</th>\n",
       "      <th>DiabetesPedigreeFunction</th>\n",
       "      <th>Glucose</th>\n",
       "      <th>Insulin</th>\n",
       "      <th>Pregnancies</th>\n",
       "      <th>SkinThickness</th>\n",
       "    </tr>\n",
       "  </thead>\n",
       "  <tbody>\n",
       "    <tr>\n",
       "      <th>0</th>\n",
       "      <td>1.425995</td>\n",
       "      <td>0.204013</td>\n",
       "      <td>0.149641</td>\n",
       "      <td>0.468492</td>\n",
       "      <td>0.848324</td>\n",
       "      <td>-0.692891</td>\n",
       "      <td>0.639947</td>\n",
       "      <td>0.907270</td>\n",
       "    </tr>\n",
       "    <tr>\n",
       "      <th>1</th>\n",
       "      <td>-0.190672</td>\n",
       "      <td>-0.684422</td>\n",
       "      <td>-0.160546</td>\n",
       "      <td>-0.365061</td>\n",
       "      <td>-1.123396</td>\n",
       "      <td>-0.692891</td>\n",
       "      <td>-0.844885</td>\n",
       "      <td>0.530902</td>\n",
       "    </tr>\n",
       "  </tbody>\n",
       "</table>\n",
       "</div>"
      ],
      "text/plain": [
       "        Age       BMI  BloodPressure  DiabetesPedigreeFunction   Glucose  \\\n",
       "0  1.425995  0.204013       0.149641                  0.468492  0.848324   \n",
       "1 -0.190672 -0.684422      -0.160546                 -0.365061 -1.123396   \n",
       "\n",
       "    Insulin  Pregnancies  SkinThickness  \n",
       "0 -0.692891     0.639947       0.907270  \n",
       "1 -0.692891    -0.844885       0.530902  "
      ]
     },
     "execution_count": 6,
     "metadata": {},
     "output_type": "execute_result"
    }
   ],
   "source": [
    "std_x.head(2)"
   ]
  },
  {
   "cell_type": "markdown",
   "metadata": {},
   "source": [
    "## PCA검사"
   ]
  },
  {
   "cell_type": "code",
   "execution_count": 7,
   "metadata": {},
   "outputs": [
    {
     "name": "stdout",
     "output_type": "stream",
     "text": [
      "[pca] >Extracting column labels from dataframe.\n",
      "[pca] >Extracting row labels from dataframe.\n",
      "[pca] >The PCA reduction is performed on the [8] columns of the input dataframe.\n",
      "[pca] >Fit using PCA.\n",
      "[pca] >Compute loadings and PCs.\n",
      "[pca] >Compute explained variance.\n",
      "[pca] >Outlier detection using Hotelling T2 test with alpha=[0.05] and n_components=[8]\n",
      "[pca] >Multiple test correction applied for Hotelling T2 test: [fdr_bh]\n",
      "[pca] >Outlier detection using SPE/DmodX with n_std=[3]\n"
     ]
    }
   ],
   "source": [
    "model=pca(n_components=len(std_x.columns))\n",
    "A=model.fit_transform(std_x)"
   ]
  },
  {
   "cell_type": "code",
   "execution_count": 8,
   "metadata": {},
   "outputs": [],
   "source": [
    "ft=pd.DataFrame(A[\"topfeat\"])[pd.DataFrame(A[\"topfeat\"])[\"type\"]==\"best\"][\"feature\"]"
   ]
  },
  {
   "cell_type": "code",
   "execution_count": 9,
   "metadata": {},
   "outputs": [],
   "source": [
    "pre_std_x=std_x[ft]"
   ]
  },
  {
   "cell_type": "markdown",
   "metadata": {},
   "source": [
    "## Logistic Regression"
   ]
  },
  {
   "cell_type": "markdown",
   "metadata": {},
   "source": [
    "#### pre_x에 constant 추가"
   ]
  },
  {
   "cell_type": "code",
   "execution_count": 10,
   "metadata": {},
   "outputs": [
    {
     "data": {
      "text/html": [
       "<div>\n",
       "<style scoped>\n",
       "    .dataframe tbody tr th:only-of-type {\n",
       "        vertical-align: middle;\n",
       "    }\n",
       "\n",
       "    .dataframe tbody tr th {\n",
       "        vertical-align: top;\n",
       "    }\n",
       "\n",
       "    .dataframe thead th {\n",
       "        text-align: right;\n",
       "    }\n",
       "</style>\n",
       "<table border=\"1\" class=\"dataframe\">\n",
       "  <thead>\n",
       "    <tr style=\"text-align: right;\">\n",
       "      <th></th>\n",
       "      <th>const</th>\n",
       "      <th>BMI</th>\n",
       "      <th>Age</th>\n",
       "      <th>BloodPressure</th>\n",
       "      <th>DiabetesPedigreeFunction</th>\n",
       "      <th>SkinThickness</th>\n",
       "      <th>BMI</th>\n",
       "      <th>Age</th>\n",
       "      <th>SkinThickness</th>\n",
       "    </tr>\n",
       "  </thead>\n",
       "  <tbody>\n",
       "    <tr>\n",
       "      <th>0</th>\n",
       "      <td>1.0</td>\n",
       "      <td>0.204013</td>\n",
       "      <td>1.425995</td>\n",
       "      <td>0.149641</td>\n",
       "      <td>0.468492</td>\n",
       "      <td>0.907270</td>\n",
       "      <td>0.204013</td>\n",
       "      <td>1.425995</td>\n",
       "      <td>0.907270</td>\n",
       "    </tr>\n",
       "    <tr>\n",
       "      <th>1</th>\n",
       "      <td>1.0</td>\n",
       "      <td>-0.684422</td>\n",
       "      <td>-0.190672</td>\n",
       "      <td>-0.160546</td>\n",
       "      <td>-0.365061</td>\n",
       "      <td>0.530902</td>\n",
       "      <td>-0.684422</td>\n",
       "      <td>-0.190672</td>\n",
       "      <td>0.530902</td>\n",
       "    </tr>\n",
       "    <tr>\n",
       "      <th>2</th>\n",
       "      <td>1.0</td>\n",
       "      <td>-1.103255</td>\n",
       "      <td>-0.105584</td>\n",
       "      <td>-0.263941</td>\n",
       "      <td>0.604397</td>\n",
       "      <td>-1.288212</td>\n",
       "      <td>-1.103255</td>\n",
       "      <td>-0.105584</td>\n",
       "      <td>-1.288212</td>\n",
       "    </tr>\n",
       "    <tr>\n",
       "      <th>3</th>\n",
       "      <td>1.0</td>\n",
       "      <td>-0.494043</td>\n",
       "      <td>-1.041549</td>\n",
       "      <td>-0.160546</td>\n",
       "      <td>-0.920763</td>\n",
       "      <td>0.154533</td>\n",
       "      <td>-0.494043</td>\n",
       "      <td>-1.041549</td>\n",
       "      <td>0.154533</td>\n",
       "    </tr>\n",
       "    <tr>\n",
       "      <th>4</th>\n",
       "      <td>1.0</td>\n",
       "      <td>1.409746</td>\n",
       "      <td>-0.020496</td>\n",
       "      <td>-1.504687</td>\n",
       "      <td>5.484909</td>\n",
       "      <td>0.907270</td>\n",
       "      <td>1.409746</td>\n",
       "      <td>-0.020496</td>\n",
       "      <td>0.907270</td>\n",
       "    </tr>\n",
       "    <tr>\n",
       "      <th>...</th>\n",
       "      <td>...</td>\n",
       "      <td>...</td>\n",
       "      <td>...</td>\n",
       "      <td>...</td>\n",
       "      <td>...</td>\n",
       "      <td>...</td>\n",
       "      <td>...</td>\n",
       "      <td>...</td>\n",
       "      <td>...</td>\n",
       "    </tr>\n",
       "    <tr>\n",
       "      <th>763</th>\n",
       "      <td>1.0</td>\n",
       "      <td>0.115169</td>\n",
       "      <td>2.532136</td>\n",
       "      <td>0.356432</td>\n",
       "      <td>-0.908682</td>\n",
       "      <td>1.722735</td>\n",
       "      <td>0.115169</td>\n",
       "      <td>2.532136</td>\n",
       "      <td>1.722735</td>\n",
       "    </tr>\n",
       "    <tr>\n",
       "      <th>764</th>\n",
       "      <td>1.0</td>\n",
       "      <td>0.610154</td>\n",
       "      <td>-0.531023</td>\n",
       "      <td>0.046245</td>\n",
       "      <td>-0.398282</td>\n",
       "      <td>0.405445</td>\n",
       "      <td>0.610154</td>\n",
       "      <td>-0.531023</td>\n",
       "      <td>0.405445</td>\n",
       "    </tr>\n",
       "    <tr>\n",
       "      <th>765</th>\n",
       "      <td>1.0</td>\n",
       "      <td>-0.735190</td>\n",
       "      <td>-0.275760</td>\n",
       "      <td>0.149641</td>\n",
       "      <td>-0.685193</td>\n",
       "      <td>0.154533</td>\n",
       "      <td>-0.735190</td>\n",
       "      <td>-0.275760</td>\n",
       "      <td>0.154533</td>\n",
       "    </tr>\n",
       "    <tr>\n",
       "      <th>766</th>\n",
       "      <td>1.0</td>\n",
       "      <td>-0.240205</td>\n",
       "      <td>1.170732</td>\n",
       "      <td>-0.470732</td>\n",
       "      <td>-0.371101</td>\n",
       "      <td>-1.288212</td>\n",
       "      <td>-0.240205</td>\n",
       "      <td>1.170732</td>\n",
       "      <td>-1.288212</td>\n",
       "    </tr>\n",
       "    <tr>\n",
       "      <th>767</th>\n",
       "      <td>1.0</td>\n",
       "      <td>-0.202129</td>\n",
       "      <td>-0.871374</td>\n",
       "      <td>0.046245</td>\n",
       "      <td>-0.473785</td>\n",
       "      <td>0.656358</td>\n",
       "      <td>-0.202129</td>\n",
       "      <td>-0.871374</td>\n",
       "      <td>0.656358</td>\n",
       "    </tr>\n",
       "  </tbody>\n",
       "</table>\n",
       "<p>768 rows × 9 columns</p>\n",
       "</div>"
      ],
      "text/plain": [
       "     const       BMI       Age  BloodPressure  DiabetesPedigreeFunction  \\\n",
       "0      1.0  0.204013  1.425995       0.149641                  0.468492   \n",
       "1      1.0 -0.684422 -0.190672      -0.160546                 -0.365061   \n",
       "2      1.0 -1.103255 -0.105584      -0.263941                  0.604397   \n",
       "3      1.0 -0.494043 -1.041549      -0.160546                 -0.920763   \n",
       "4      1.0  1.409746 -0.020496      -1.504687                  5.484909   \n",
       "..     ...       ...       ...            ...                       ...   \n",
       "763    1.0  0.115169  2.532136       0.356432                 -0.908682   \n",
       "764    1.0  0.610154 -0.531023       0.046245                 -0.398282   \n",
       "765    1.0 -0.735190 -0.275760       0.149641                 -0.685193   \n",
       "766    1.0 -0.240205  1.170732      -0.470732                 -0.371101   \n",
       "767    1.0 -0.202129 -0.871374       0.046245                 -0.473785   \n",
       "\n",
       "     SkinThickness       BMI       Age  SkinThickness  \n",
       "0         0.907270  0.204013  1.425995       0.907270  \n",
       "1         0.530902 -0.684422 -0.190672       0.530902  \n",
       "2        -1.288212 -1.103255 -0.105584      -1.288212  \n",
       "3         0.154533 -0.494043 -1.041549       0.154533  \n",
       "4         0.907270  1.409746 -0.020496       0.907270  \n",
       "..             ...       ...       ...            ...  \n",
       "763       1.722735  0.115169  2.532136       1.722735  \n",
       "764       0.405445  0.610154 -0.531023       0.405445  \n",
       "765       0.154533 -0.735190 -0.275760       0.154533  \n",
       "766      -1.288212 -0.240205  1.170732      -1.288212  \n",
       "767       0.656358 -0.202129 -0.871374       0.656358  \n",
       "\n",
       "[768 rows x 9 columns]"
      ]
     },
     "execution_count": 10,
     "metadata": {},
     "output_type": "execute_result"
    }
   ],
   "source": [
    "# 왜 안될까?\n",
    "pre_std_x_add=sm.add_constant(pre_std_x)\n",
    "pre_std_x_add"
   ]
  },
  {
   "cell_type": "code",
   "execution_count": 11,
   "metadata": {},
   "outputs": [],
   "source": [
    "pre_x_add=sm.add_constant(x)"
   ]
  },
  {
   "cell_type": "code",
   "execution_count": 12,
   "metadata": {},
   "outputs": [
    {
     "name": "stdout",
     "output_type": "stream",
     "text": [
      "Optimization terminated successfully.\n",
      "         Current function value: 0.470993\n",
      "         Iterations 6\n"
     ]
    }
   ],
   "source": [
    "model=sm.Logit(endog=y,exog=pre_x_add)\n",
    "result=model.fit()"
   ]
  },
  {
   "cell_type": "code",
   "execution_count": 13,
   "metadata": {},
   "outputs": [
    {
     "data": {
      "text/plain": [
       "array([[445.,  55.],\n",
       "       [112., 156.]])"
      ]
     },
     "execution_count": 13,
     "metadata": {},
     "output_type": "execute_result"
    }
   ],
   "source": [
    "result.pred_table()"
   ]
  },
  {
   "cell_type": "code",
   "execution_count": 14,
   "metadata": {},
   "outputs": [
    {
     "data": {
      "text/html": [
       "<table class=\"simpletable\">\n",
       "<caption>Logit Regression Results</caption>\n",
       "<tr>\n",
       "  <th>Dep. Variable:</th>        <td>Outcome</td>     <th>  No. Observations:  </th>  <td>   768</td>  \n",
       "</tr>\n",
       "<tr>\n",
       "  <th>Model:</th>                 <td>Logit</td>      <th>  Df Residuals:      </th>  <td>   759</td>  \n",
       "</tr>\n",
       "<tr>\n",
       "  <th>Method:</th>                 <td>MLE</td>       <th>  Df Model:          </th>  <td>     8</td>  \n",
       "</tr>\n",
       "<tr>\n",
       "  <th>Date:</th>            <td>Tue, 01 Aug 2023</td> <th>  Pseudo R-squ.:     </th>  <td>0.2718</td>  \n",
       "</tr>\n",
       "<tr>\n",
       "  <th>Time:</th>                <td>10:02:07</td>     <th>  Log-Likelihood:    </th> <td> -361.72</td> \n",
       "</tr>\n",
       "<tr>\n",
       "  <th>converged:</th>             <td>True</td>       <th>  LL-Null:           </th> <td> -496.74</td> \n",
       "</tr>\n",
       "<tr>\n",
       "  <th>Covariance Type:</th>     <td>nonrobust</td>    <th>  LLR p-value:       </th> <td>9.652e-54</td>\n",
       "</tr>\n",
       "</table>\n",
       "<table class=\"simpletable\">\n",
       "<tr>\n",
       "              <td></td>                <th>coef</th>     <th>std err</th>      <th>z</th>      <th>P>|z|</th>  <th>[0.025</th>    <th>0.975]</th>  \n",
       "</tr>\n",
       "<tr>\n",
       "  <th>const</th>                    <td>   -8.4047</td> <td>    0.717</td> <td>  -11.728</td> <td> 0.000</td> <td>   -9.809</td> <td>   -7.000</td>\n",
       "</tr>\n",
       "<tr>\n",
       "  <th>Age</th>                      <td>    0.0149</td> <td>    0.009</td> <td>    1.593</td> <td> 0.111</td> <td>   -0.003</td> <td>    0.033</td>\n",
       "</tr>\n",
       "<tr>\n",
       "  <th>BMI</th>                      <td>    0.0897</td> <td>    0.015</td> <td>    5.945</td> <td> 0.000</td> <td>    0.060</td> <td>    0.119</td>\n",
       "</tr>\n",
       "<tr>\n",
       "  <th>BloodPressure</th>            <td>   -0.0133</td> <td>    0.005</td> <td>   -2.540</td> <td> 0.011</td> <td>   -0.024</td> <td>   -0.003</td>\n",
       "</tr>\n",
       "<tr>\n",
       "  <th>DiabetesPedigreeFunction</th> <td>    0.9452</td> <td>    0.299</td> <td>    3.160</td> <td> 0.002</td> <td>    0.359</td> <td>    1.531</td>\n",
       "</tr>\n",
       "<tr>\n",
       "  <th>Glucose</th>                  <td>    0.0352</td> <td>    0.004</td> <td>    9.481</td> <td> 0.000</td> <td>    0.028</td> <td>    0.042</td>\n",
       "</tr>\n",
       "<tr>\n",
       "  <th>Insulin</th>                  <td>   -0.0012</td> <td>    0.001</td> <td>   -1.322</td> <td> 0.186</td> <td>   -0.003</td> <td>    0.001</td>\n",
       "</tr>\n",
       "<tr>\n",
       "  <th>Pregnancies</th>              <td>    0.1232</td> <td>    0.032</td> <td>    3.840</td> <td> 0.000</td> <td>    0.060</td> <td>    0.186</td>\n",
       "</tr>\n",
       "<tr>\n",
       "  <th>SkinThickness</th>            <td>    0.0006</td> <td>    0.007</td> <td>    0.090</td> <td> 0.929</td> <td>   -0.013</td> <td>    0.014</td>\n",
       "</tr>\n",
       "</table>"
      ],
      "text/latex": [
       "\\begin{center}\n",
       "\\begin{tabular}{lclc}\n",
       "\\toprule\n",
       "\\textbf{Dep. Variable:}           &     Outcome      & \\textbf{  No. Observations:  } &      768    \\\\\n",
       "\\textbf{Model:}                   &      Logit       & \\textbf{  Df Residuals:      } &      759    \\\\\n",
       "\\textbf{Method:}                  &       MLE        & \\textbf{  Df Model:          } &        8    \\\\\n",
       "\\textbf{Date:}                    & Tue, 01 Aug 2023 & \\textbf{  Pseudo R-squ.:     } &   0.2718    \\\\\n",
       "\\textbf{Time:}                    &     10:02:07     & \\textbf{  Log-Likelihood:    } &   -361.72   \\\\\n",
       "\\textbf{converged:}               &       True       & \\textbf{  LL-Null:           } &   -496.74   \\\\\n",
       "\\textbf{Covariance Type:}         &    nonrobust     & \\textbf{  LLR p-value:       } & 9.652e-54   \\\\\n",
       "\\bottomrule\n",
       "\\end{tabular}\n",
       "\\begin{tabular}{lcccccc}\n",
       "                                  & \\textbf{coef} & \\textbf{std err} & \\textbf{z} & \\textbf{P$> |$z$|$} & \\textbf{[0.025} & \\textbf{0.975]}  \\\\\n",
       "\\midrule\n",
       "\\textbf{const}                    &      -8.4047  &        0.717     &   -11.728  &         0.000        &       -9.809    &       -7.000     \\\\\n",
       "\\textbf{Age}                      &       0.0149  &        0.009     &     1.593  &         0.111        &       -0.003    &        0.033     \\\\\n",
       "\\textbf{BMI}                      &       0.0897  &        0.015     &     5.945  &         0.000        &        0.060    &        0.119     \\\\\n",
       "\\textbf{BloodPressure}            &      -0.0133  &        0.005     &    -2.540  &         0.011        &       -0.024    &       -0.003     \\\\\n",
       "\\textbf{DiabetesPedigreeFunction} &       0.9452  &        0.299     &     3.160  &         0.002        &        0.359    &        1.531     \\\\\n",
       "\\textbf{Glucose}                  &       0.0352  &        0.004     &     9.481  &         0.000        &        0.028    &        0.042     \\\\\n",
       "\\textbf{Insulin}                  &      -0.0012  &        0.001     &    -1.322  &         0.186        &       -0.003    &        0.001     \\\\\n",
       "\\textbf{Pregnancies}              &       0.1232  &        0.032     &     3.840  &         0.000        &        0.060    &        0.186     \\\\\n",
       "\\textbf{SkinThickness}            &       0.0006  &        0.007     &     0.090  &         0.929        &       -0.013    &        0.014     \\\\\n",
       "\\bottomrule\n",
       "\\end{tabular}\n",
       "%\\caption{Logit Regression Results}\n",
       "\\end{center}"
      ],
      "text/plain": [
       "<class 'statsmodels.iolib.summary.Summary'>\n",
       "\"\"\"\n",
       "                           Logit Regression Results                           \n",
       "==============================================================================\n",
       "Dep. Variable:                Outcome   No. Observations:                  768\n",
       "Model:                          Logit   Df Residuals:                      759\n",
       "Method:                           MLE   Df Model:                            8\n",
       "Date:                Tue, 01 Aug 2023   Pseudo R-squ.:                  0.2718\n",
       "Time:                        10:02:07   Log-Likelihood:                -361.72\n",
       "converged:                       True   LL-Null:                       -496.74\n",
       "Covariance Type:            nonrobust   LLR p-value:                 9.652e-54\n",
       "============================================================================================\n",
       "                               coef    std err          z      P>|z|      [0.025      0.975]\n",
       "--------------------------------------------------------------------------------------------\n",
       "const                       -8.4047      0.717    -11.728      0.000      -9.809      -7.000\n",
       "Age                          0.0149      0.009      1.593      0.111      -0.003       0.033\n",
       "BMI                          0.0897      0.015      5.945      0.000       0.060       0.119\n",
       "BloodPressure               -0.0133      0.005     -2.540      0.011      -0.024      -0.003\n",
       "DiabetesPedigreeFunction     0.9452      0.299      3.160      0.002       0.359       1.531\n",
       "Glucose                      0.0352      0.004      9.481      0.000       0.028       0.042\n",
       "Insulin                     -0.0012      0.001     -1.322      0.186      -0.003       0.001\n",
       "Pregnancies                  0.1232      0.032      3.840      0.000       0.060       0.186\n",
       "SkinThickness                0.0006      0.007      0.090      0.929      -0.013       0.014\n",
       "============================================================================================\n",
       "\"\"\""
      ]
     },
     "execution_count": 14,
     "metadata": {},
     "output_type": "execute_result"
    }
   ],
   "source": [
    "result.summary()"
   ]
  },
  {
   "cell_type": "markdown",
   "metadata": {},
   "source": [
    "# 문제 2"
   ]
  },
  {
   "cell_type": "code",
   "execution_count": 15,
   "metadata": {},
   "outputs": [],
   "source": [
    "D=pd.read_excel('https://data.hossam.kr/E05/titanic.xlsx')\n",
    "data=pd.DataFrame(D)"
   ]
  },
  {
   "cell_type": "code",
   "execution_count": 16,
   "metadata": {},
   "outputs": [
    {
     "name": "stdout",
     "output_type": "stream",
     "text": [
      "<class 'pandas.core.frame.DataFrame'>\n",
      "RangeIndex: 891 entries, 0 to 890\n",
      "Data columns (total 12 columns):\n",
      " #   Column       Non-Null Count  Dtype  \n",
      "---  ------       --------------  -----  \n",
      " 0   PassengerId  891 non-null    int64  \n",
      " 1   Survived     891 non-null    int64  \n",
      " 2   Pclass       891 non-null    int64  \n",
      " 3   Name         891 non-null    object \n",
      " 4   Sex          891 non-null    object \n",
      " 5   Age          714 non-null    float64\n",
      " 6   SibSp        891 non-null    int64  \n",
      " 7   Parch        891 non-null    int64  \n",
      " 8   Ticket       891 non-null    object \n",
      " 9   Fare         891 non-null    float64\n",
      " 10  Cabin        204 non-null    object \n",
      " 11  Embarked     889 non-null    object \n",
      "dtypes: float64(2), int64(5), object(5)\n",
      "memory usage: 83.7+ KB\n"
     ]
    }
   ],
   "source": [
    "data.info()"
   ]
  },
  {
   "cell_type": "markdown",
   "metadata": {},
   "source": [
    "### 데이터 preprocessing"
   ]
  },
  {
   "cell_type": "code",
   "execution_count": 17,
   "metadata": {},
   "outputs": [
    {
     "name": "stdout",
     "output_type": "stream",
     "text": [
      "Cabin\n",
      "B96 B98        4\n",
      "G6             4\n",
      "C23 C25 C27    4\n",
      "C22 C26        3\n",
      "F33            3\n",
      "              ..\n",
      "E34            1\n",
      "C7             1\n",
      "C54            1\n",
      "E36            1\n",
      "C148           1\n",
      "Name: count, Length: 147, dtype: int64 147\n",
      "Ticket\n",
      "347082      7\n",
      "CA. 2343    7\n",
      "1601        7\n",
      "3101295     6\n",
      "CA 2144     6\n",
      "           ..\n",
      "9234        1\n",
      "19988       1\n",
      "2693        1\n",
      "PC 17612    1\n",
      "370376      1\n",
      "Name: count, Length: 681, dtype: int64\n"
     ]
    }
   ],
   "source": [
    "print(data[\"Cabin\"].value_counts(),data[\"Cabin\"].nunique())\n",
    "print(data[\"Ticket\"].value_counts())"
   ]
  },
  {
   "cell_type": "code",
   "execution_count": 18,
   "metadata": {},
   "outputs": [
    {
     "data": {
      "text/plain": [
       "<Axes: xlabel='Age', ylabel='Count'>"
      ]
     },
     "execution_count": 18,
     "metadata": {},
     "output_type": "execute_result"
    },
    {
     "data": {
      "image/png": "[encoded data removed]",
      "text/plain": [
       "<Figure size 640x480 with 1 Axes>"
      ]
     },
     "metadata": {},
     "output_type": "display_data"
    }
   ],
   "source": [
    "plt.figure()\n",
    "sb.histplot(data[\"Age\"],bins=8)"
   ]
  },
  {
   "cell_type": "code",
   "execution_count": 19,
   "metadata": {},
   "outputs": [],
   "source": [
    "data[\"Age\"].fillna(round(data[\"Age\"].median()),inplace=True)"
   ]
  },
  {
   "cell_type": "markdown",
   "metadata": {},
   "source": [
    "### Categorical Data"
   ]
  },
  {
   "cell_type": "code",
   "execution_count": 20,
   "metadata": {},
   "outputs": [],
   "source": [
    "data=data.loc[data[\"Embarked\"].dropna().index]"
   ]
  },
  {
   "cell_type": "code",
   "execution_count": 21,
   "metadata": {},
   "outputs": [],
   "source": [
    "cols=[]\n",
    "for x in data[\"Sex\"].unique():\n",
    "    for y in data[\"Embarked\"].unique():\n",
    "        cols.append([x,y])"
   ]
  },
  {
   "cell_type": "code",
   "execution_count": 22,
   "metadata": {},
   "outputs": [],
   "source": [
    "mkdf=pd.DataFrame(index=data.index,columns=list(map(lambda x:f\"{x[0]}:{x[1]}\",cols)))"
   ]
  },
  {
   "cell_type": "code",
   "execution_count": 23,
   "metadata": {},
   "outputs": [],
   "source": [
    "for i in data.index:\n",
    "    for col in cols:\n",
    "        if [data.loc[i,\"Sex\"],data.loc[i,\"Embarked\"]]==col:\n",
    "            mkdf.loc[i,f\"{col[0]}:{col[1]}\"]=True"
   ]
  },
  {
   "cell_type": "code",
   "execution_count": 24,
   "metadata": {},
   "outputs": [],
   "source": [
    "mkdf.fillna(False,inplace=True)"
   ]
  },
  {
   "cell_type": "code",
   "execution_count": 25,
   "metadata": {},
   "outputs": [],
   "source": [
    "data=pd.merge(data,mkdf,left_index=True,right_index=True)"
   ]
  },
  {
   "cell_type": "code",
   "execution_count": 26,
   "metadata": {},
   "outputs": [],
   "source": [
    "data.drop(columns=['Sex','Embarked'],axis=1,inplace=True)\n",
    "data.drop(\"male:S\",axis=1,inplace=True)"
   ]
  },
  {
   "cell_type": "markdown",
   "metadata": {},
   "source": [
    "### 필요없는 데이터 삭제"
   ]
  },
  {
   "cell_type": "code",
   "execution_count": 27,
   "metadata": {},
   "outputs": [],
   "source": [
    "data.drop(columns=[\"Ticket\",\"Name\",\"PassengerId\"],inplace=True)\n",
    "data.drop(\"Cabin\",inplace=True,axis=1)"
   ]
  },
  {
   "cell_type": "markdown",
   "metadata": {},
   "source": [
    "### Logistic Regression"
   ]
  },
  {
   "cell_type": "code",
   "execution_count": 28,
   "metadata": {},
   "outputs": [],
   "source": [
    "y=data[[\"Survived\"]]\n",
    "x=data[data.columns.difference([\"Survived\"])]"
   ]
  },
  {
   "cell_type": "code",
   "execution_count": 29,
   "metadata": {},
   "outputs": [],
   "source": [
    "x=sm.add_constant(x,has_constant=\"add\")"
   ]
  },
  {
   "cell_type": "code",
   "execution_count": 35,
   "metadata": {},
   "outputs": [
    {
     "data": {
      "text/html": [
       "<div>\n",
       "<style scoped>\n",
       "    .dataframe tbody tr th:only-of-type {\n",
       "        vertical-align: middle;\n",
       "    }\n",
       "\n",
       "    .dataframe tbody tr th {\n",
       "        vertical-align: top;\n",
       "    }\n",
       "\n",
       "    .dataframe thead th {\n",
       "        text-align: right;\n",
       "    }\n",
       "</style>\n",
       "<table border=\"1\" class=\"dataframe\">\n",
       "  <thead>\n",
       "    <tr style=\"text-align: right;\">\n",
       "      <th></th>\n",
       "      <th>const</th>\n",
       "      <th>Age</th>\n",
       "      <th>Fare</th>\n",
       "      <th>Parch</th>\n",
       "      <th>Pclass</th>\n",
       "      <th>SibSp</th>\n",
       "      <th>female:C</th>\n",
       "      <th>female:Q</th>\n",
       "      <th>female:S</th>\n",
       "      <th>male:C</th>\n",
       "      <th>male:Q</th>\n",
       "    </tr>\n",
       "  </thead>\n",
       "  <tbody>\n",
       "    <tr>\n",
       "      <th>0</th>\n",
       "      <td>1.0</td>\n",
       "      <td>22.0</td>\n",
       "      <td>7.2500</td>\n",
       "      <td>0</td>\n",
       "      <td>3</td>\n",
       "      <td>1</td>\n",
       "      <td>0</td>\n",
       "      <td>0</td>\n",
       "      <td>0</td>\n",
       "      <td>0</td>\n",
       "      <td>0</td>\n",
       "    </tr>\n",
       "    <tr>\n",
       "      <th>1</th>\n",
       "      <td>1.0</td>\n",
       "      <td>38.0</td>\n",
       "      <td>71.2833</td>\n",
       "      <td>0</td>\n",
       "      <td>1</td>\n",
       "      <td>1</td>\n",
       "      <td>1</td>\n",
       "      <td>0</td>\n",
       "      <td>0</td>\n",
       "      <td>0</td>\n",
       "      <td>0</td>\n",
       "    </tr>\n",
       "    <tr>\n",
       "      <th>2</th>\n",
       "      <td>1.0</td>\n",
       "      <td>26.0</td>\n",
       "      <td>7.9250</td>\n",
       "      <td>0</td>\n",
       "      <td>3</td>\n",
       "      <td>0</td>\n",
       "      <td>0</td>\n",
       "      <td>0</td>\n",
       "      <td>1</td>\n",
       "      <td>0</td>\n",
       "      <td>0</td>\n",
       "    </tr>\n",
       "    <tr>\n",
       "      <th>3</th>\n",
       "      <td>1.0</td>\n",
       "      <td>35.0</td>\n",
       "      <td>53.1000</td>\n",
       "      <td>0</td>\n",
       "      <td>1</td>\n",
       "      <td>1</td>\n",
       "      <td>0</td>\n",
       "      <td>0</td>\n",
       "      <td>1</td>\n",
       "      <td>0</td>\n",
       "      <td>0</td>\n",
       "    </tr>\n",
       "    <tr>\n",
       "      <th>4</th>\n",
       "      <td>1.0</td>\n",
       "      <td>35.0</td>\n",
       "      <td>8.0500</td>\n",
       "      <td>0</td>\n",
       "      <td>3</td>\n",
       "      <td>0</td>\n",
       "      <td>0</td>\n",
       "      <td>0</td>\n",
       "      <td>0</td>\n",
       "      <td>0</td>\n",
       "      <td>0</td>\n",
       "    </tr>\n",
       "    <tr>\n",
       "      <th>...</th>\n",
       "      <td>...</td>\n",
       "      <td>...</td>\n",
       "      <td>...</td>\n",
       "      <td>...</td>\n",
       "      <td>...</td>\n",
       "      <td>...</td>\n",
       "      <td>...</td>\n",
       "      <td>...</td>\n",
       "      <td>...</td>\n",
       "      <td>...</td>\n",
       "      <td>...</td>\n",
       "    </tr>\n",
       "    <tr>\n",
       "      <th>886</th>\n",
       "      <td>1.0</td>\n",
       "      <td>27.0</td>\n",
       "      <td>13.0000</td>\n",
       "      <td>0</td>\n",
       "      <td>2</td>\n",
       "      <td>0</td>\n",
       "      <td>0</td>\n",
       "      <td>0</td>\n",
       "      <td>0</td>\n",
       "      <td>0</td>\n",
       "      <td>0</td>\n",
       "    </tr>\n",
       "    <tr>\n",
       "      <th>887</th>\n",
       "      <td>1.0</td>\n",
       "      <td>19.0</td>\n",
       "      <td>30.0000</td>\n",
       "      <td>0</td>\n",
       "      <td>1</td>\n",
       "      <td>0</td>\n",
       "      <td>0</td>\n",
       "      <td>0</td>\n",
       "      <td>1</td>\n",
       "      <td>0</td>\n",
       "      <td>0</td>\n",
       "    </tr>\n",
       "    <tr>\n",
       "      <th>888</th>\n",
       "      <td>1.0</td>\n",
       "      <td>28.0</td>\n",
       "      <td>23.4500</td>\n",
       "      <td>2</td>\n",
       "      <td>3</td>\n",
       "      <td>1</td>\n",
       "      <td>0</td>\n",
       "      <td>0</td>\n",
       "      <td>1</td>\n",
       "      <td>0</td>\n",
       "      <td>0</td>\n",
       "    </tr>\n",
       "    <tr>\n",
       "      <th>889</th>\n",
       "      <td>1.0</td>\n",
       "      <td>26.0</td>\n",
       "      <td>30.0000</td>\n",
       "      <td>0</td>\n",
       "      <td>1</td>\n",
       "      <td>0</td>\n",
       "      <td>0</td>\n",
       "      <td>0</td>\n",
       "      <td>0</td>\n",
       "      <td>1</td>\n",
       "      <td>0</td>\n",
       "    </tr>\n",
       "    <tr>\n",
       "      <th>890</th>\n",
       "      <td>1.0</td>\n",
       "      <td>32.0</td>\n",
       "      <td>7.7500</td>\n",
       "      <td>0</td>\n",
       "      <td>3</td>\n",
       "      <td>0</td>\n",
       "      <td>0</td>\n",
       "      <td>0</td>\n",
       "      <td>0</td>\n",
       "      <td>0</td>\n",
       "      <td>1</td>\n",
       "    </tr>\n",
       "  </tbody>\n",
       "</table>\n",
       "<p>889 rows × 11 columns</p>\n",
       "</div>"
      ],
      "text/plain": [
       "     const   Age     Fare  Parch  Pclass  SibSp  female:C  female:Q  female:S  \\\n",
       "0      1.0  22.0   7.2500      0       3      1         0         0         0   \n",
       "1      1.0  38.0  71.2833      0       1      1         1         0         0   \n",
       "2      1.0  26.0   7.9250      0       3      0         0         0         1   \n",
       "3      1.0  35.0  53.1000      0       1      1         0         0         1   \n",
       "4      1.0  35.0   8.0500      0       3      0         0         0         0   \n",
       "..     ...   ...      ...    ...     ...    ...       ...       ...       ...   \n",
       "886    1.0  27.0  13.0000      0       2      0         0         0         0   \n",
       "887    1.0  19.0  30.0000      0       1      0         0         0         1   \n",
       "888    1.0  28.0  23.4500      2       3      1         0         0         1   \n",
       "889    1.0  26.0  30.0000      0       1      0         0         0         0   \n",
       "890    1.0  32.0   7.7500      0       3      0         0         0         0   \n",
       "\n",
       "     male:C  male:Q  \n",
       "0         0       0  \n",
       "1         0       0  \n",
       "2         0       0  \n",
       "3         0       0  \n",
       "4         0       0  \n",
       "..      ...     ...  \n",
       "886       0       0  \n",
       "887       0       0  \n",
       "888       0       0  \n",
       "889       1       0  \n",
       "890       0       1  \n",
       "\n",
       "[889 rows x 11 columns]"
      ]
     },
     "execution_count": 35,
     "metadata": {},
     "output_type": "execute_result"
    }
   ],
   "source": [
    "x"
   ]
  },
  {
   "cell_type": "code",
   "execution_count": 30,
   "metadata": {},
   "outputs": [],
   "source": [
    "x[x.columns[-5:]]=x[x.columns[-5:]].astype(\"int\")"
   ]
  },
  {
   "cell_type": "code",
   "execution_count": 31,
   "metadata": {},
   "outputs": [],
   "source": [
    "model=sm.Logit(endog=y,exog=x)"
   ]
  },
  {
   "cell_type": "code",
   "execution_count": 32,
   "metadata": {},
   "outputs": [
    {
     "name": "stdout",
     "output_type": "stream",
     "text": [
      "Optimization terminated successfully.\n",
      "         Current function value: 0.440373\n",
      "         Iterations 7\n"
     ]
    }
   ],
   "source": [
    "fit=model.fit()"
   ]
  },
  {
   "cell_type": "code",
   "execution_count": 34,
   "metadata": {},
   "outputs": [
    {
     "data": {
      "text/plain": [
       "array([[471.,  78.],\n",
       "       [ 98., 242.]])"
      ]
     },
     "execution_count": 34,
     "metadata": {},
     "output_type": "execute_result"
    }
   ],
   "source": [
    "fit.pred_table()"
   ]
  },
  {
   "cell_type": "code",
   "execution_count": null,
   "metadata": {},
   "outputs": [],
   "source": []
  }
 ],
 "metadata": {
  "kernelspec": {
   "display_name": "Python 3",
   "language": "python",
   "name": "python3"
  },
  "language_info": {
   "codemirror_mode": {
    "name": "ipython",
    "version": 3
   },
   "file_extension": ".py",
   "mimetype": "text/x-python",
   "name": "python",
   "nbconvert_exporter": "python",
   "pygments_lexer": "ipython3",
   "version": "3.11.3"
  },
  "orig_nbformat": 4
 },
 "nbformat": 4,
 "nbformat_minor": 2
}
