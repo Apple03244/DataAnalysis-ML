{
 "cells": [
  {
   "cell_type": "code",
   "execution_count": null,
   "metadata": {},
   "outputs": [],
   "source": [
    "import requests as rq\n",
    "import json as js\n",
    "import pandas as pd\n",
    "#반복구문 만들자\n",
    "session=rq.Session()\n",
    "session.headers.update({\n",
    "    \"Authorization\" : \"KakaoAK 4fd65a1fc1d9de84fb9809d081f3fc8c\"\n",
    "})\n",
    "temp=dict(zip([\"query\",\"page\",\"size\"],['은혼',1,50]))"
   ]
  },
  {
   "cell_type": "code",
   "execution_count": null,
   "metadata": {},
   "outputs": [],
   "source": [
    "#반복문 시작\n",
    "final=[]\n",
    "isend=False\n",
    "while (not isend):\n",
    "    http=f'https://dapi.kakao.com/v3/search/book?query={temp[\"query\"]}&page={temp[\"page\"]}&size={temp[\"size\"]}'\n",
    "    result=session.get(url=http)\n",
    "    if result.status_code!=200:\n",
    "        raise Exception(f'{result.status_code} {result.reason}')\n",
    "    result.encoding='utf-8'\n",
    "    data=js.loads(result.text)\n",
    "    final.extend(data['documents'])\n",
    "    temp['page']+=1\n",
    "    isend=data['meta']['is_end']"
   ]
  },
  {
   "cell_type": "code",
   "execution_count": null,
   "metadata": {},
   "outputs": [],
   "source": [
    "result=pd.DataFrame(final)['price'].sum()\n",
    "print(result)"
   ]
  },
  {
   "cell_type": "code",
   "execution_count": null,
   "metadata": {},
   "outputs": [],
   "source": []
  }
 ],
 "metadata": {
  "kernelspec": {
   "display_name": "Python 3",
   "language": "python",
   "name": "python3"
  },
  "language_info": {
   "codemirror_mode": {
    "name": "ipython",
    "version": 3
   },
   "file_extension": ".py",
   "mimetype": "text/x-python",
   "name": "python",
   "nbconvert_exporter": "python",
   "pygments_lexer": "ipython3",
   "version": "3.11.3"
  },
  "orig_nbformat": 4
 },
 "nbformat": 4,
 "nbformat_minor": 2
}
